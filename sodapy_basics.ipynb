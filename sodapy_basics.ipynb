{
 "cells": [
  {
   "cell_type": "markdown",
   "metadata": {},
   "source": [
    "# sodapy basics tutorial using NYC Open Data \n",
    "Mark Bauer"
   ]
  },
  {
   "cell_type": "markdown",
   "metadata": {},
   "source": [
    "Table of Contents\n",
    "=================\n",
    "\n",
    "   * [1. Introduction](#1-Introduction)\n",
    "       \n",
    "       \n",
    "   * [2. sodapy](#2-sodapy)\n",
    "       * [2.1 Using sodapy](#21-Using-sodapy)\n",
    "       * [2.2 sodapy Methods](#22-sodapy-Methods)\n",
    "       \n",
    "       \n",
    "   * [3. Importing Libraries](#3-Data-Inspection)\n",
    "   \n",
    "   \n",
    "   * [4. Socrata Class](#4-Socrata-Class)\n",
    "   \n",
    "\n",
    "   * [5. sodapy Methods](#5-sodapy-Methods)\n",
    "       * [5.1 .datasets()](#51-datasets())\n",
    "       * [5.2 .get()](#52-get())\n",
    "       * [5.3 .get_metadata()](#53-get_metadata())\n",
    "       \n",
    "          \n",
    "   * [6. Conclusion](#10-Conclusion)"
   ]
  },
  {
   "cell_type": "markdown",
   "metadata": {},
   "source": [
    "# 1. Introduction  \n",
    "This notebook demonstrates how to use sodapy, the python client for the Socrata Open Data API (SODA), and reviews various methods to retrieve data from Socrata Open Data. The data in these examples are from NYC Open Data. "
   ]
  },
  {
   "cell_type": "markdown",
   "metadata": {},
   "source": [
    "# 2. sodapy"
   ]
  },
  {
   "cell_type": "markdown",
   "metadata": {},
   "source": [
    "## 2.1 Using sodapy"
   ]
  },
  {
   "cell_type": "markdown",
   "metadata": {},
   "source": [
    "In order use sodapy, a source domain (i.e. the Socrata open data source you are trying to connect to) needs to be passed to the Socrata class. Additionally, if a user wants to query a specific data set on Socrata open data, then the data set identifier (i.e. the data set id on the given source domain) needs to be passed as well. Below, we identify NYC Open Data's source domain: `data.cityofnewyork.us` and the data set identifier for the NYC 311 data set: `erm2-nwe9`. The screenshot below displays where we retrieve this information."
   ]
  },
  {
   "cell_type": "markdown",
   "metadata": {},
   "source": [
    "![nyc-311-api-docs](images/nyc-311-api-docs.png)  \n",
    "\n",
    "Source: https://dev.socrata.com/foundry/data.cityofnewyork.us/erm2-nwe9"
   ]
  },
  {
   "cell_type": "markdown",
   "metadata": {},
   "source": [
    "## 2.2 sodapy Methods"
   ]
  },
  {
   "cell_type": "markdown",
   "metadata": {},
   "source": [
    "![socrata-methods](images/socrata-methods.png)\n",
    "\n",
    "Source: https://github.com/xmunoz/sodapy#datasetslimit0-offset0"
   ]
  },
  {
   "cell_type": "markdown",
   "metadata": {},
   "source": [
    "# We will be focusing on three sodapy methods:\n",
    "## -  `.datasets()`\n",
    "Returns the list of datasets associated with a particular domain.\n",
    "\n",
    "## - `.get()`\n",
    "Read data from the requested resource. Options for content_type are json, csv, and xml.\n",
    "\n",
    "## - `.get_metadata()`\n",
    "Retrieve the metadata for a particular dataset."
   ]
  },
  {
   "cell_type": "markdown",
   "metadata": {},
   "source": [
    "# 3. Importing Libraries"
   ]
  },
  {
   "cell_type": "code",
   "execution_count": 1,
   "metadata": {},
   "outputs": [],
   "source": [
    "# importing libraries\n",
    "import pandas as pd\n",
    "from sodapy import Socrata"
   ]
  },
  {
   "cell_type": "code",
   "execution_count": 2,
   "metadata": {},
   "outputs": [],
   "source": [
    "%reload_ext watermark"
   ]
  },
  {
   "cell_type": "code",
   "execution_count": 3,
   "metadata": {},
   "outputs": [
    {
     "name": "stdout",
     "output_type": "stream",
     "text": [
      "Mark Bauer \n",
      "last updated: 2021-02-01 11:16:42 \n",
      "\n",
      "CPython 3.7.1\n",
      "IPython 7.18.1\n",
      "\n",
      "pandas 1.0.0\n",
      "sodapy 2.0.0\n"
     ]
    }
   ],
   "source": [
    "%watermark -a \"Mark Bauer\" -u -t -d -v -p pandas,sodapy"
   ]
  },
  {
   "cell_type": "markdown",
   "metadata": {},
   "source": [
    "Documention for installing watermark: https://github.com/rasbt/watermark"
   ]
  },
  {
   "cell_type": "markdown",
   "metadata": {},
   "source": [
    "# 4. Socrata Class "
   ]
  },
  {
   "cell_type": "markdown",
   "metadata": {},
   "source": [
    "We assign this information to `socrata_domain` and `socrata_dataset_identifier` variables below."
   ]
  },
  {
   "cell_type": "code",
   "execution_count": 4,
   "metadata": {},
   "outputs": [],
   "source": [
    "socrata_domain = 'data.cityofnewyork.us'\n",
    "socrata_dataset_identifier = 'erm2-nwe9'"
   ]
  },
  {
   "cell_type": "code",
   "execution_count": 5,
   "metadata": {},
   "outputs": [
    {
     "name": "stderr",
     "output_type": "stream",
     "text": [
      "WARNING:root:Requests made without an app_token will be subject to strict throttling limits.\n"
     ]
    }
   ],
   "source": [
    "# The main class that interacts with the SODA API.\n",
    "\n",
    "# The required arguments are:\n",
    "#     domain: the domain you wish you to access\n",
    "#     app_token: your Socrata application token\n",
    "# Simple requests are possible without an app_token, though these\n",
    "# requests will be rate-limited.\n",
    "\n",
    "client = Socrata(socrata_domain, None, timeout=100)"
   ]
  },
  {
   "cell_type": "code",
   "execution_count": 6,
   "metadata": {},
   "outputs": [
    {
     "name": "stdout",
     "output_type": "stream",
     "text": [
      "<sodapy.Socrata object at 0x11ef53cf8>\n"
     ]
    }
   ],
   "source": [
    "print(client)"
   ]
  },
  {
   "cell_type": "code",
   "execution_count": 7,
   "metadata": {},
   "outputs": [
    {
     "data": {
      "text/plain": [
       "sodapy.Socrata"
      ]
     },
     "execution_count": 7,
     "metadata": {},
     "output_type": "execute_result"
    }
   ],
   "source": [
    "type(client)"
   ]
  },
  {
   "cell_type": "code",
   "execution_count": 8,
   "metadata": {},
   "outputs": [
    {
     "name": "stdout",
     "output_type": "stream",
     "text": [
      "Domain: data.cityofnewyork.us\n",
      "Session: <requests.sessions.Session object at 0x11ef53ef0>\n",
      "URI Prefix: https://\n"
     ]
    }
   ],
   "source": [
    "print(\"Domain: {domain:}\\nSession: {session:}\\nURI Prefix: {uri_prefix:}\".format(**client.__dict__))"
   ]
  },
  {
   "cell_type": "markdown",
   "metadata": {},
   "source": [
    "# 5. sodapy Methods"
   ]
  },
  {
   "cell_type": "markdown",
   "metadata": {},
   "source": [
    "## 5.1  `.datasets()`"
   ]
  },
  {
   "cell_type": "markdown",
   "metadata": {},
   "source": [
    "`datasets` method: Returns the list of datasets associated with a particular domain.\n",
    "WARNING: Large limits (>1000) will return megabytes of data,\n",
    "which can be slow on low-bandwidth networks, and is also a lot of\n",
    "data to hold in memory."
   ]
  },
  {
   "cell_type": "code",
   "execution_count": 9,
   "metadata": {},
   "outputs": [
    {
     "name": "stdout",
     "output_type": "stream",
     "text": [
      "<class 'list'>\n"
     ]
    }
   ],
   "source": [
    "print(type(client.datasets()))"
   ]
  },
  {
   "cell_type": "code",
   "execution_count": 10,
   "metadata": {
    "scrolled": false
   },
   "outputs": [
    {
     "name": "stdout",
     "output_type": "stream",
     "text": [
      "<class 'dict'>\n"
     ]
    }
   ],
   "source": [
    "print(type(client.datasets()[0]))"
   ]
  },
  {
   "cell_type": "code",
   "execution_count": 11,
   "metadata": {},
   "outputs": [
    {
     "data": {
      "text/plain": [
       "dict_keys(['resource', 'classification', 'metadata', 'permalink', 'link', 'owner', 'creator'])"
      ]
     },
     "execution_count": 11,
     "metadata": {},
     "output_type": "execute_result"
    }
   ],
   "source": [
    "client.datasets()[0].keys()"
   ]
  },
  {
   "cell_type": "code",
   "execution_count": 12,
   "metadata": {
    "scrolled": false
   },
   "outputs": [
    {
     "data": {
      "text/plain": [
       "dict_items([('resource', {'name': 'DOB Job Application Filings', 'id': 'ic3t-wcy2', 'parent_fxf': [], 'description': 'This dataset contains all job applications submitted through the Borough Offices, through eFiling, or through the HUB, which have a \"Latest Action Date\" since January 1, 2000. This dataset does not include jobs submitted through DOB NOW. See the DOB NOW: Build – Job Application Filings dataset for DOB NOW jobs.', 'attribution': 'Department of Buildings (DOB)', 'attribution_link': None, 'contact_email': None, 'type': 'dataset', 'updatedAt': '2021-01-29T21:18:02.000Z', 'createdAt': '2013-04-18T15:18:56.000Z', 'metadata_updated_at': '2020-06-23T02:08:44.000Z', 'data_updated_at': '2021-01-29T21:18:02.000Z', 'page_views': {'page_views_last_week': 534, 'page_views_last_month': 2498, 'page_views_total': 2263269, 'page_views_last_week_log': 9.06339508128851, 'page_views_last_month_log': 11.287135186086704, 'page_views_total_log': 21.109977272543865}, 'columns_name': ['Horizontal Enlrgmt', 'SPECIAL_ACTION_STATUS', 'JOB_NO_GOOD_COUNT', 'Proposed Occupancy', 'State', 'Sprinkler', 'Job Status Descrp', \"Applicant's First Name\", 'Zoning Dist3', 'GIS_LATITUDE', 'Equipment', 'Special District 1', 'GIS_COUNCIL_DISTRICT', 'Fuel Storage', 'eFiling Filed', 'Loft Board', 'Little e', 'Borough', 'Standpipe', 'Job Status', 'Fire Suppression', 'Non-Profit', 'City Owned', 'House #', 'Block', 'Job Type', 'Landmarked', 'Fuel Burning', 'WITHDRAWAL_FLAG', 'Plumbing', 'Boiler', 'Other', 'Site Fill', 'SPECIAL_ACTION_DATE', 'Job #', 'Community - Board', 'Applicant Professional Title', 'Assigned', 'Approved', 'Existing Zoning Sqft', 'Existing Height', 'Special District 2', \"Owner's Last Name\", \"Owner'sPhone #\", 'GIS_NTA_NAME', \"Applicant's Last Name\", 'Doc #', 'Cluster', 'Mechanical', 'Vertical Enlrgmt', 'Owner Type', 'Fire Alarm', 'Pre- Filing Date', 'Paid', 'Fully Permitted', 'Proposed Zoning Sqft', 'Street Frontage', 'Zoning Dist2', \"Owner's Business Name\", \"Owner'sHouse Street Name\", 'City ', 'JOB_S1_NO', 'BUILDING_CLASS', 'Street Name', 'Building Type', 'Adult Estab', 'Other Description', 'Applicant License #', 'Existing Dwelling Units', 'TOTAL_CONSTRUCTION_FLOOR_AREA', 'Initial Cost', 'Total Est. Fee', 'GIS_BIN', 'GIS_CENSUS_TRACT', 'GIS_LONGITUDE', 'SIGNOFF_DATE', 'DOBRunDate', 'Zip', \"Owner's House Number\", \"Owner's First Name\", 'Zoning Dist1', 'ExistingNo. of Stories', 'Proposed Height', 'Proposed Dwelling Units', 'Lot', 'Bin #', 'Latest Action Date', 'Fully Paid', 'Enlargement SQ Footage', 'Existing Occupancy', 'Proposed No. of Stories', 'PC Filed', 'Fee Status', 'Curb Cut', 'Professional Cert', 'Job Description'], 'columns_field_name': ['horizontal_enlrgmt', 'special_action_status', 'job_no_good_count', 'proposed_occupancy', 'state', 'sprinkler', 'job_status_descrp', 'applicant_s_first_name', 'zoning_dist3', 'gis_latitude', 'equipment', 'special_district_1', 'gis_council_district', 'fuel_storage', 'efiling_filed', 'loft_board', 'little_e', 'borough', 'standpipe', 'job_status', 'fire_suppression', 'non_profit', 'city_owned', 'house__', 'block', 'job_type', 'landmarked', 'fuel_burning', 'withdrawal_flag', 'plumbing', 'boiler', 'other', 'site_fill', 'special_action_date', 'job__', 'community___board', 'applicant_professional_title', 'assigned', 'approved', 'existing_zoning_sqft', 'existing_height', 'special_district_2', 'owner_s_last_name', 'owner_sphone__', 'gis_nta_name', 'applicant_s_last_name', 'doc__', 'cluster', 'mechanical', 'vertical_enlrgmt', 'owner_type', 'fire_alarm', 'pre__filing_date', 'paid', 'fully_permitted', 'proposed_zoning_sqft', 'street_frontage', 'zoning_dist2', 'owner_s_business_name', 'owner_shouse_street_name', 'city_', 'job_s1_no', 'building_class', 'street_name', 'building_type', 'adult_estab', 'other_description', 'applicant_license__', 'existing_dwelling_units', 'total_construction_floor_area', 'initial_cost', 'total_est__fee', 'gis_bin', 'gis_census_tract', 'gis_longitude', 'signoff_date', 'dobrundate', 'zip', 'owner_s_house_number', 'owner_s_first_name', 'zoning_dist1', 'existingno_of_stories', 'proposed_height', 'proposed_dwelling_units', 'lot', 'bin__', 'latest_action_date', 'fully_paid', 'enlargement_sq_footage', 'existing_occupancy', 'proposed_no_of_stories', 'pc_filed', 'fee_status', 'curb_cut', 'professional_cert', 'job_description'], 'columns_datatype': ['Text', 'Text', 'Text', 'Text', 'Text', 'Text', 'Text', 'Text', 'Text', 'Text', 'Text', 'Text', 'Text', 'Text', 'Text', 'Text', 'Text', 'Text', 'Text', 'Text', 'Text', 'Text', 'Text', 'Text', 'Text', 'Text', 'Text', 'Text', 'Text', 'Text', 'Text', 'Text', 'Text', 'Text', 'Text', 'Text', 'Text', 'Text', 'Text', 'Number', 'Number', 'Text', 'Text', 'Text', 'Text', 'Text', 'Text', 'Text', 'Text', 'Text', 'Text', 'Text', 'Text', 'Text', 'Text', 'Number', 'Number', 'Text', 'Text', 'Text', 'Text', 'Text', 'Text', 'Text', 'Text', 'Text', 'Text', 'Text', 'Text', 'Text', 'Text', 'Text', 'Text', 'Text', 'Text', 'Text', 'Text', 'Text', 'Text', 'Text', 'Text', 'Number', 'Number', 'Text', 'Text', 'Text', 'Text', 'Text', 'Number', 'Text', 'Number', 'Text', 'Text', 'Text', 'Text', 'Text'], 'columns_description': ['Horizontal Enlrgmt', 'Special Action Status', 'Job No Good Count', 'Proposed Occupancy', 'State', 'Sprinkler  Work Type? (X=Yes, Blank=No)', 'Status code description', 'First Name of Applicant', 'Zoning Distr 3', 'Latitude', 'Equipment  Work Type? (X=Yes, Blank=No)', 'Special Distr 1', 'Council District', 'Fuel Storage  Work Type? (X=Yes, Blank=No)', 'Application Filed electronically, rather than manually', 'Loft Board', 'Hazardous', '1= Manhattan, 2= Bronx, 3 = Brooklyn, 4 = Queens, 5 = Staten Island', 'Standpipe Work Type? (X=Yes, Blank=No)', 'DOB Status code of job (A-Pre Filed, I-Sign Off, P- Approved, R-Permit Entire) Complete List - http://www.nyc.gov/html/dob/downloads/pdf/bisjobstatus.pdf', 'Fire Suppression  Work Type? (X=Yes, Blank=No)', 'Non-Profit', 'City Owned', 'House Number of Residence or Commercial Property', 'Tax block assigned by Department of Finance', 'Job Type, based on DOB Job Code (NB-New Building, A1, A2, A3- Alterations 1-3, SG-Sign, etc.)', 'L code indicates that the building has been assigned landmark status', 'Fuel Burning  Work Type? (X=Yes, Blank=No)', 'Withdrawal Indicator', 'Plumbing Work Type? (X=Yes, Blank=No)', 'Boiler  Work Type? (X=Yes, Blank=No)', 'Other? (X=Yes, Blank=No)', 'Site Fill', 'Special Action Date', 'Number assigned by DOB to Job Filing', '3-digit identifier: Borough code = first position, last 2 = community board', \"Applicant's Professional Title\", 'Date when job is assigned to plan examiner', 'Date when job is approved', 'Existing Zoning Sqft', 'Existing Height', 'Special District 2', 'Last Name of property owner', \"Owner's  Phone #\", 'NTA Name', 'Last Name of Applicant', 'Document Number', 'Cluster', 'Mechanical  Work Type? (X=Yes, Blank=No)', 'Vertical Enlrgmt', 'Owner Type', 'Fire Alarm  Work Type? (X=Yes, Blank=No)', 'Date when job is prefiled', 'Date when job is paid', 'Date when job is fully permitted', 'Proposed Zoning Sqft', 'Street Frontage', 'Zoning Distr 2', 'Business Name of Property Owner', 'House Street Name of Property Owner', 'City ', 'JOB_S1_NO', 'Building Class', 'Street Name where Property is located', '1-2-3 Family  or Other', 'Adult Estab', 'Other Description', 'Number assigned to the skilled trade person/contractor or licensed professional', 'Existing Dwelling Units', 'Total  Construction Floor Area', ' Estimated cost of job', 'Estimated fee of job', 'BIN', 'Census Tract', 'Longitude', 'Sign-off Date', 'Date when query is run and pushed to Open Data. Could be used to differentiate report dates.', 'Zip', 'House Number of Property Owner', 'First Name of property owner', 'Zoning Distr 1', 'ExistingNo. of Stories', 'Proposed Height', 'Proposed Dwelling Units', 'Tax lot assigned by Department of Finance', 'Number assigned by City Planning to a specific building', 'Latest status date', 'Date when job is paid and entered', 'Enlargement SQ Footage', 'Existing Occupancy', 'Proposed No. of Stories', 'Application Filed electronically, rather than manually', 'Type of Fee', 'Curb Cut  Work Type? (X=Yes, Blank=No)', \"Job is Professionally Certified by Licensed Professional instead of having it reviewed by Department of Building's Plan Examiners\", 'Job Description'], 'columns_format': [{'align': 'right'}, {'align': 'right'}, {'align': 'right'}, {'align': 'right'}, {'align': 'right'}, {'align': 'right'}, {'align': 'right'}, {'align': 'right'}, {'align': 'right'}, {'align': 'right'}, {'align': 'right'}, {'align': 'right'}, {'align': 'right'}, {'align': 'right'}, {'align': 'right'}, {'align': 'right'}, {'align': 'right'}, {'align': 'right'}, {'align': 'right'}, {'align': 'right'}, {'align': 'right'}, {'align': 'right'}, {'align': 'right'}, {'align': 'right'}, {'align': 'right'}, {'align': 'right'}, {'align': 'right'}, {'align': 'right'}, {'align': 'right'}, {'align': 'right'}, {'align': 'right'}, {'align': 'right'}, {'align': 'right'}, {'align': 'right'}, {'align': 'right'}, {'align': 'right'}, {'align': 'right'}, {'align': 'right'}, {'align': 'right'}, {'precisionStyle': 'standard', 'noCommas': 'true', 'align': 'left'}, {'precisionStyle': 'standard', 'noCommas': 'true', 'align': 'left'}, {'align': 'right'}, {'align': 'right'}, {'align': 'right'}, {'align': 'right'}, {'align': 'right'}, {'align': 'right'}, {'align': 'right'}, {'align': 'right'}, {'align': 'right'}, {'align': 'right'}, {'align': 'right'}, {'align': 'right'}, {'align': 'right'}, {'align': 'right'}, {'precisionStyle': 'standard', 'noCommas': 'true', 'align': 'left'}, {'precisionStyle': 'standard', 'noCommas': 'true', 'align': 'left'}, {'align': 'right'}, {'align': 'right'}, {'align': 'right'}, {'align': 'right'}, {'align': 'right'}, {'align': 'right'}, {'align': 'right'}, {'align': 'right'}, {'align': 'right'}, {'align': 'right'}, {'align': 'right'}, {'align': 'right'}, {'align': 'right'}, {'align': 'right'}, {'align': 'right'}, {'align': 'right'}, {'align': 'right'}, {'align': 'right'}, {'align': 'right'}, {'view': 'date', 'align': 'left'}, {'align': 'right'}, {'align': 'right'}, {'align': 'right'}, {'align': 'right'}, {'precisionStyle': 'standard', 'noCommas': 'true', 'align': 'left'}, {'precisionStyle': 'standard', 'noCommas': 'true', 'align': 'left'}, {'align': 'right'}, {'align': 'right'}, {'align': 'right'}, {'view': 'date', 'align': 'right'}, {'align': 'right'}, {'precisionStyle': 'standard', 'noCommas': 'true', 'align': 'left'}, {'align': 'right'}, {'precisionStyle': 'standard', 'noCommas': 'true', 'align': 'left'}, {'align': 'right'}, {'align': 'right'}, {'align': 'right'}, {'align': 'right'}, {'align': 'right'}], 'download_count': 36939, 'provenance': 'official', 'lens_view_type': 'tabular', 'blob_mime_type': None, 'hide_from_data_json': False, 'publication_date': '2020-06-22T18:23:35.000Z'}), ('classification', {'categories': ['economy', 'environment', 'housing & development'], 'tags': [], 'domain_category': 'Housing & Development', 'domain_tags': ['buildings', 'dob', 'job'], 'domain_metadata': [{'key': 'Update_Automation', 'value': 'Yes'}, {'key': 'Update_Date-Made-Public', 'value': '4/26/2013'}, {'key': 'Update_Update-Frequency', 'value': 'Daily'}, {'key': 'Dataset-Information_Agency', 'value': 'Department of Buildings (DOB)'}]}), ('metadata', {'domain': 'data.cityofnewyork.us'}), ('permalink', 'https://data.cityofnewyork.us/d/ic3t-wcy2'), ('link', 'https://data.cityofnewyork.us/Housing-Development/DOB-Job-Application-Filings/ic3t-wcy2'), ('owner', {'id': '5fuc-pqz2', 'user_type': 'interactive', 'display_name': 'NYC OpenData'}), ('creator', {'id': '5fuc-pqz2', 'user_type': 'interactive', 'display_name': 'NYC OpenData'})])"
      ]
     },
     "execution_count": 12,
     "metadata": {},
     "output_type": "execute_result"
    }
   ],
   "source": [
    "client.datasets()[0].items()"
   ]
  },
  {
   "cell_type": "code",
   "execution_count": 13,
   "metadata": {
    "scrolled": false
   },
   "outputs": [
    {
     "name": "stdout",
     "output_type": "stream",
     "text": [
      "name: DOB Job Application Filings \n",
      "\n",
      "id: ic3t-wcy2 \n",
      "\n",
      "parent_fxf: [] \n",
      "\n",
      "description: This dataset contains all job applications submitted through the Borough Offices, through eFiling, or through the HUB, which have a \"Latest Action Date\" since January 1, 2000. This dataset does not include jobs submitted through DOB NOW. See the DOB NOW: Build – Job Application Filings dataset for DOB NOW jobs. \n",
      "\n",
      "attribution: Department of Buildings (DOB) \n",
      "\n",
      "\n",
      "Previewing top 5 results in classification dictionary\n"
     ]
    }
   ],
   "source": [
    "stop = 0\n",
    "\n",
    "for key, value in list(client.datasets()[0]['resource'].items()):\n",
    "    print(key + ':', value, '\\n')\n",
    "    stop += 1\n",
    "    \n",
    "    if stop == 5:\n",
    "        break\n",
    "        \n",
    "print('\\nPreviewing top {} results in classification dictionary'.format(stop))        "
   ]
  },
  {
   "cell_type": "code",
   "execution_count": 14,
   "metadata": {},
   "outputs": [
    {
     "name": "stdout",
     "output_type": "stream",
     "text": [
      "categories: ['economy', 'environment', 'housing & development'] \n",
      "\n",
      "tags: [] \n",
      "\n",
      "domain_category: Housing & Development \n",
      "\n",
      "domain_tags: ['buildings', 'dob', 'job'] \n",
      "\n",
      "domain_metadata: [{'key': 'Update_Automation', 'value': 'Yes'}, {'key': 'Update_Date-Made-Public', 'value': '4/26/2013'}, {'key': 'Update_Update-Frequency', 'value': 'Daily'}, {'key': 'Dataset-Information_Agency', 'value': 'Department of Buildings (DOB)'}] \n",
      "\n",
      "\n",
      "Previewing top 5 results in classification dictionary\n"
     ]
    }
   ],
   "source": [
    "stop = 0\n",
    "\n",
    "for key, value in list(client.datasets()[0]['classification'].items()):\n",
    "    print(key + ':', value, '\\n')\n",
    "    stop += 1\n",
    "    \n",
    "    if stop == 5:\n",
    "        break\n",
    "        \n",
    "print('\\nPreviewing top {} results in classification dictionary'.format(stop))        "
   ]
  },
  {
   "cell_type": "code",
   "execution_count": 15,
   "metadata": {},
   "outputs": [
    {
     "name": "stdout",
     "output_type": "stream",
     "text": [
      "domain: data.cityofnewyork.us \n",
      "\n",
      "\n",
      "Previewing top 1 results in metadata dictionary\n"
     ]
    }
   ],
   "source": [
    "stop = 0\n",
    "\n",
    "for key, value in list(client.datasets()[0]['metadata'].items()):\n",
    "    print(key + ':', value, '\\n')\n",
    "    stop += 1\n",
    "    \n",
    "    if stop == 5:\n",
    "        break\n",
    "        \n",
    "print('\\nPreviewing top {} results in metadata dictionary'.format(stop))"
   ]
  },
  {
   "cell_type": "code",
   "execution_count": 16,
   "metadata": {},
   "outputs": [
    {
     "name": "stdout",
     "output_type": "stream",
     "text": [
      "id: 5fuc-pqz2 \n",
      "\n",
      "user_type: interactive \n",
      "\n",
      "display_name: NYC OpenData \n",
      "\n",
      "\n",
      "Previewing top 3 results in owner dictionary\n"
     ]
    }
   ],
   "source": [
    "stop = 0\n",
    "\n",
    "for key, value in list(client.datasets()[0]['owner'].items()):\n",
    "    print(key + ':', value, '\\n')\n",
    "    stop += 1\n",
    "    \n",
    "    if stop == 5:\n",
    "        break\n",
    "        \n",
    "print('\\nPreviewing top {} results in owner dictionary'.format(stop))"
   ]
  },
  {
   "cell_type": "code",
   "execution_count": 17,
   "metadata": {},
   "outputs": [
    {
     "name": "stdout",
     "output_type": "stream",
     "text": [
      "id: 5fuc-pqz2 \n",
      "\n",
      "user_type: interactive \n",
      "\n",
      "display_name: NYC OpenData \n",
      "\n",
      "\n",
      "Previewing top 3 results in creator dictionary\n"
     ]
    }
   ],
   "source": [
    "stop = 0\n",
    "\n",
    "for key, value in list(client.datasets()[0]['creator'].items()):\n",
    "    print(key + ':', value, '\\n')\n",
    "    stop += 1\n",
    "    \n",
    "    if stop == 5:\n",
    "        break\n",
    "        \n",
    "print('\\nPreviewing top {} results in creator dictionary'.format(stop))        "
   ]
  },
  {
   "cell_type": "code",
   "execution_count": 18,
   "metadata": {
    "scrolled": false
   },
   "outputs": [
    {
     "name": "stdout",
     "output_type": "stream",
     "text": [
      "We found the 311 data set!\n",
      "\n",
      "311 Service Requests from 2010 to Present \n",
      "Index is: 5\n"
     ]
    }
   ],
   "source": [
    "# Once we've identified the structure of the dictionary, we try to \n",
    "# find the 311 data set and identify its position in the datasets list.\n",
    "\n",
    "idx = 0\n",
    "\n",
    "for dataset_id in client.datasets():\n",
    "    if client.datasets()[idx]['resource']['id'] == 'erm2-nwe9':\n",
    "        print('We found the 311 data set!\\n')\n",
    "        print(client.datasets()[idx]['resource']['name'], \\\n",
    "              '\\nIndex is:', idx)\n",
    "        break\n",
    "    else:\n",
    "        idx += 1    "
   ]
  },
  {
   "cell_type": "code",
   "execution_count": 19,
   "metadata": {
    "scrolled": false
   },
   "outputs": [
    {
     "name": "stdout",
     "output_type": "stream",
     "text": [
      "The 311 data set index in the datasets list is: 5\n"
     ]
    }
   ],
   "source": [
    "# Previewing information about the 311 data set from the datasets method.\n",
    "# Note: Information is quite long.\n",
    "\n",
    "idx_311 = idx\n",
    "print('The 311 data set index in the datasets list is:', idx_311)"
   ]
  },
  {
   "cell_type": "code",
   "execution_count": 20,
   "metadata": {},
   "outputs": [
    {
     "name": "stdout",
     "output_type": "stream",
     "text": [
      "name\n",
      "id\n",
      "parent_fxf\n",
      "description\n",
      "attribution\n",
      "attribution_link\n",
      "contact_email\n",
      "type\n",
      "updatedAt\n",
      "createdAt\n",
      "metadata_updated_at\n",
      "data_updated_at\n",
      "page_views\n",
      "columns_name\n",
      "columns_field_name\n",
      "columns_datatype\n",
      "columns_description\n",
      "columns_format\n",
      "download_count\n",
      "provenance\n",
      "lens_view_type\n",
      "blob_mime_type\n",
      "hide_from_data_json\n",
      "publication_date\n"
     ]
    }
   ],
   "source": [
    "# Since the datasets method is long, let's see if we can identify specific keys we want to preview\n",
    "# in the resource dictionary.\n",
    "\n",
    "for key in client.datasets()[idx_311]['resource'].keys():\n",
    "    print(key)"
   ]
  },
  {
   "cell_type": "code",
   "execution_count": 21,
   "metadata": {
    "scrolled": false
   },
   "outputs": [
    {
     "name": "stdout",
     "output_type": "stream",
     "text": [
      "name: 311 Service Requests from 2010 to Present\n",
      "\n",
      "id: erm2-nwe9\n",
      "\n",
      "parent_fxf: []\n",
      "\n",
      "description: <b>NOTE: This data does not present a full picture of 311 calls or service requests, in part because of operational and system complexities associated with remote call taking necessitated by the unprecedented volume 311 is handling during the Covid-19 crisis. The City is working to address this issue. </b>\r\n",
      "\r\n",
      "All 311 Service Requests from 2010 to present. This information is automatically updated daily.\n",
      "\n",
      "attribution: 311, DoITT\n",
      "\n",
      "attribution_link: None\n",
      "\n",
      "contact_email: None\n",
      "\n",
      "type: dataset\n",
      "\n",
      "updatedAt: 2021-02-01T02:51:02.000Z\n",
      "\n",
      "createdAt: 2011-10-10T05:52:17.000Z\n",
      "\n",
      "metadata_updated_at: 2020-04-22T20:18:38.000Z\n",
      "\n",
      "data_updated_at: 2021-02-01T02:51:02.000Z\n",
      "\n",
      "page_views: {'page_views_last_week': 1208, 'page_views_last_month': 5182, 'page_views_total': 439324, 'page_views_last_week_log': 10.239598529249124, 'page_views_last_month_log': 12.3395716783847, 'page_views_total_log': 18.74492907345726}\n",
      "\n",
      "columns_name: ['X Coordinate (State Plane)', 'Resolution Action Updated Date', 'Intersection Street 2', 'Agency', 'Location', 'Longitude', 'Y Coordinate (State Plane)', 'Location (zip)', 'City', 'Location (city)', 'Incident Zip', 'Park Facility Name', 'Open Data Channel Type', 'Taxi Company Borough', 'Status', 'Address Type', 'Vehicle Type', 'Taxi Pick Up Location', 'Park Borough', 'Resolution Description', 'Facility Type', 'Road Ramp', 'Zip Codes', 'Community Board', 'BBL', 'Borough', 'Bridge Highway Name', 'Bridge Highway Direction', 'Bridge Highway Segment', 'Latitude', 'Unique Key', 'Created Date', 'Closed Date', 'Agency Name', 'Community Districts', 'Borough Boundaries', 'City Council Districts', 'Police Precincts', 'Location (address)', 'Location (state)', 'Complaint Type', 'Descriptor', 'Location Type', 'Incident Address', 'Street Name', 'Cross Street 1', 'Cross Street 2', 'Intersection Street 1', 'Landmark', 'Due Date']\n",
      "\n",
      "columns_field_name: ['x_coordinate_state_plane', 'resolution_action_updated_date', 'intersection_street_2', 'agency', 'location', 'longitude', 'y_coordinate_state_plane', 'location_zip', 'city', 'location_city', 'incident_zip', 'park_facility_name', 'open_data_channel_type', 'taxi_company_borough', 'status', 'address_type', 'vehicle_type', 'taxi_pick_up_location', 'park_borough', 'resolution_description', 'facility_type', 'road_ramp', ':@computed_region_efsh_h5xi', 'community_board', 'bbl', 'borough', 'bridge_highway_name', 'bridge_highway_direction', 'bridge_highway_segment', 'latitude', 'unique_key', 'created_date', 'closed_date', 'agency_name', ':@computed_region_f5dn_yrer', ':@computed_region_yeji_bk3q', ':@computed_region_92fq_4b7q', ':@computed_region_sbqj_enih', 'location_address', 'location_state', 'complaint_type', 'descriptor', 'location_type', 'incident_address', 'street_name', 'cross_street_1', 'cross_street_2', 'intersection_street_1', 'landmark', 'due_date']\n",
      "\n",
      "columns_datatype: ['Number', 'Calendar date', 'Text', 'Text', 'Point', 'Number', 'Number', 'Text', 'Text', 'Text', 'Text', 'Text', 'Text', 'Text', 'Text', 'Text', 'Text', 'Text', 'Text', 'Text', 'Text', 'Text', 'Number', 'Text', 'Text', 'Text', 'Text', 'Text', 'Text', 'Number', 'Text', 'Calendar date', 'Calendar date', 'Text', 'Number', 'Number', 'Number', 'Number', 'Text', 'Text', 'Text', 'Text', 'Text', 'Text', 'Text', 'Text', 'Text', 'Text', 'Text', 'Calendar date']\n",
      "\n",
      "columns_description: ['Geo validated, X coordinate of the incident location. \\n', 'Date when responding agency last updated the SR.\\n', 'Second intersecting street based on geo validated incident location\\n', 'Acronym of responding City Government Agency\\n', 'Combination of the geo based lat & long of the incident location\\n', 'Geo based Long of the incident location\\n', 'Geo validated,  Y coordinate of the incident location. \\n', '', 'City of the incident location provided by geovalidation.\\n', '', 'Incident location zip code, provided by geo validation.\\n', 'If the incident location is a Parks Dept facility, the Name of the facility will appear here\\n', 'Indicates how the SR was submitted to 311.  i.e. By Phone, Online, Mobile, Other or Unknown.', 'If the incident is identified as a taxi, this field will display the borough of the taxi company. \\n', 'Status of SR submitted \\n', 'Type of incident location information available.\\n', 'If the incident is a taxi, this field describes the type of TLC vehicle. \\n', 'If the incident is identified as a taxi, this field displays the taxi pick up location\\n', 'The borough of incident if it is a Parks Dept facility\\n', 'Describes the last action taken on the SR by the responding agency.  May describe next or future steps. \\n', 'If available, this field describes the type of city facility associated to the SR\\n', 'If the incident location was Bridge/Highway this column differentiates if the issue was on the Road or the Ramp.\\n', '', 'Provided by geovalidation.\\n', 'Borough Block and Lot, provided by geovalidation. Parcel number to identify the location of location of buildings and properties in NYC.', 'Provided by the submitter and confirmed by geovalidation.\\n', 'If the incident is identified as a Bridge/Highway, the name will be displayed here.\\n', 'If the incident is identified as a Bridge/Highway, the direction where the issue took place would be displayed here.\\n', 'Additional information on the section of the Bridge/Highway were the incident took place.\\n', 'Geo based Lat of the incident location\\n', 'Unique identifier of a Service Request (SR) in the open data set\\n', 'Date SR  was created\\n', 'Date SR was closed by responding agency\\n', 'Full Agency name of responding City Government Agency', '', '', '', '', '', '', 'This is the first level of a hierarchy identifying the topic of the incident or condition. Complaint Type may have a corresponding Descriptor (below) or may stand alone.', 'This is  associated to the Complaint Type, and provides further detail on the incident or condition. Descriptor values are dependent on the Complaint Type, and are not always required in SR. \\n', 'Describes the type of location used in the address information \\n', 'House number of incident address provided by submitter.\\n', 'Street name of incident address provided by the submitter\\n', 'First Cross street based on the geo validated incident location\\n', 'Second Cross Street based on the geo validated incident location\\n', 'First intersecting street based on geo validated incident location\\n', 'If the incident location is identified as a Landmark the name of the landmark will display here\\n', 'Date when responding agency is expected to update the SR.  This is based on the Complaint Type and internal Service Level Agreements (SLAs).\\n']\n",
      "\n",
      "columns_format: [{'precisionStyle': 'standard', 'noCommas': 'false', 'align': 'right'}, {'view': 'date_time', 'align': 'left'}, {}, {}, {'view': 'coords', 'align': 'left'}, {'precisionStyle': 'standard', 'noCommas': 'false', 'align': 'right'}, {'precisionStyle': 'standard', 'noCommas': 'false', 'align': 'right'}, {}, {'displayStyle': 'plain', 'align': 'left'}, {}, {}, {'displayStyle': 'plain', 'align': 'left'}, {'displayStyle': 'plain', 'align': 'left'}, {'displayStyle': 'plain', 'align': 'left'}, {}, {}, {'displayStyle': 'plain', 'align': 'left'}, {'displayStyle': 'plain', 'align': 'left'}, {'displayStyle': 'plain', 'align': 'left'}, {'displayStyle': 'plain', 'align': 'left'}, {'displayStyle': 'plain', 'align': 'left'}, {'displayStyle': 'plain', 'align': 'left'}, {}, {'displayStyle': 'plain', 'align': 'left'}, {'displayStyle': 'plain', 'align': 'left'}, {'displayStyle': 'plain', 'align': 'left'}, {'displayStyle': 'plain', 'align': 'left'}, {'displayStyle': 'plain', 'align': 'left'}, {'displayStyle': 'plain', 'align': 'left'}, {'precisionStyle': 'standard', 'noCommas': 'false', 'align': 'right'}, {}, {'view': 'date_time', 'align': 'left'}, {'view': 'date_time', 'align': 'left'}, {'displayStyle': 'plain', 'align': 'left'}, {}, {}, {}, {}, {}, {}, {'displayStyle': 'plain', 'align': 'left'}, {}, {}, {}, {}, {}, {}, {}, {'displayStyle': 'plain', 'align': 'left'}, {'view': 'date_time', 'align': 'left'}]\n",
      "\n",
      "download_count: 398365\n",
      "\n",
      "provenance: official\n",
      "\n",
      "lens_view_type: tabular\n",
      "\n",
      "blob_mime_type: None\n",
      "\n",
      "hide_from_data_json: False\n",
      "\n",
      "publication_date: 2018-04-20T03:03:18.000Z\n",
      "\n"
     ]
    }
   ],
   "source": [
    "items = client.datasets()[idx_311]['resource'].items()\n",
    "\n",
    "for key, value in items:\n",
    "    print(key + ':', str(value) + '\\n')"
   ]
  },
  {
   "cell_type": "markdown",
   "metadata": {},
   "source": [
    "##  5.2 `.get()`"
   ]
  },
  {
   "cell_type": "markdown",
   "metadata": {},
   "source": [
    "`get` method: Read data from the requested resource. Options for content_type are json,\n",
    "csv, and xml."
   ]
  },
  {
   "cell_type": "code",
   "execution_count": 22,
   "metadata": {},
   "outputs": [
    {
     "name": "stderr",
     "output_type": "stream",
     "text": [
      "WARNING:root:Requests made without an app_token will be subject to strict throttling limits.\n"
     ]
    }
   ],
   "source": [
    "client = Socrata(socrata_domain, None, timeout=60)"
   ]
  },
  {
   "cell_type": "code",
   "execution_count": 23,
   "metadata": {
    "scrolled": false
   },
   "outputs": [
    {
     "name": "stdout",
     "output_type": "stream",
     "text": [
      "<class 'list'>\n"
     ]
    }
   ],
   "source": [
    "# Using try and except statements because these requests are large and may timeout.\n",
    "# If the request timesout, we skip it. \n",
    "\n",
    "try:\n",
    "    print(type(client.get(socrata_dataset_identifier)))\n",
    "except:\n",
    "    print('timeout error.')\n",
    "    pass  "
   ]
  },
  {
   "cell_type": "code",
   "execution_count": 24,
   "metadata": {},
   "outputs": [
    {
     "name": "stdout",
     "output_type": "stream",
     "text": [
      "unique_key\n",
      "created_date\n",
      "agency\n",
      "agency_name\n",
      "complaint_type\n",
      "descriptor\n",
      "location_type\n",
      "incident_zip\n",
      "incident_address\n",
      "street_name\n",
      "cross_street_1\n",
      "cross_street_2\n",
      "intersection_street_1\n",
      "intersection_street_2\n",
      "city\n",
      "landmark\n",
      "status\n",
      "community_board\n",
      "bbl\n",
      "borough\n",
      "x_coordinate_state_plane\n",
      "y_coordinate_state_plane\n",
      "open_data_channel_type\n",
      "park_facility_name\n",
      "park_borough\n",
      "latitude\n",
      "longitude\n",
      "location\n",
      ":@computed_region_efsh_h5xi\n",
      ":@computed_region_f5dn_yrer\n",
      ":@computed_region_yeji_bk3q\n",
      ":@computed_region_92fq_4b7q\n",
      ":@computed_region_sbqj_enih\n"
     ]
    }
   ],
   "source": [
    "# Using try and except statements because these requests are large and may timeout.\n",
    "# If the request timesout, we skip it. \n",
    "\n",
    "# printing the column headers\n",
    "\n",
    "keys = client.get(socrata_dataset_identifier)[0].keys()\n",
    "\n",
    "try:\n",
    "    for key in keys:\n",
    "        print(key)\n",
    "except:\n",
    "        print('timeout error.') \n",
    "        pass"
   ]
  },
  {
   "cell_type": "code",
   "execution_count": 25,
   "metadata": {},
   "outputs": [
    {
     "name": "stdout",
     "output_type": "stream",
     "text": [
      "unique_key: 49675312\n",
      "created_date: 2021-01-31T02:08:57.000\n",
      "agency: NYPD\n",
      "agency_name: New York City Police Department\n",
      "complaint_type: Noise - Residential\n",
      "descriptor: Banging/Pounding\n",
      "location_type: Residential Building/House\n",
      "incident_zip: 11206\n",
      "incident_address: 991 MYRTLE AVENUE\n",
      "street_name: MYRTLE AVENUE\n",
      "cross_street_1: THROOP AVENUE\n",
      "cross_street_2: MARCUS GARVEY BOULEVARD\n",
      "intersection_street_1: THROOP AVENUE\n",
      "intersection_street_2: MARCUS GARVEY BOULEVARD\n",
      "city: BROOKLYN\n",
      "landmark: MYRTLE AVENUE\n",
      "status: In Progress\n",
      "community_board: 03 BROOKLYN\n",
      "bbl: 3017490015\n",
      "borough: BROOKLYN\n",
      "x_coordinate_state_plane: 1000525\n",
      "y_coordinate_state_plane: 192962\n",
      "open_data_channel_type: MOBILE\n",
      "park_facility_name: Unspecified\n",
      "park_borough: BROOKLYN\n",
      "latitude: 40.69629792193128\n",
      "longitude: -73.9413082482916\n",
      "location: {'latitude': '40.69629792193128', 'longitude': '-73.9413082482916', 'human_address': '{\"address\": \"\", \"city\": \"\", \"state\": \"\", \"zip\": \"\"}'}\n",
      ":@computed_region_efsh_h5xi: 17213\n",
      ":@computed_region_f5dn_yrer: 69\n",
      ":@computed_region_yeji_bk3q: 2\n",
      ":@computed_region_92fq_4b7q: 49\n",
      ":@computed_region_sbqj_enih: 51\n"
     ]
    }
   ],
   "source": [
    "# Printing the column and value of the first record\n",
    "\n",
    "items = client.get(socrata_dataset_identifier)[0].items()\n",
    "\n",
    "try:\n",
    "    for key, value in items:\n",
    "        print(key + ':',  value)\n",
    "except:\n",
    "    print('timeout error.')\n",
    "    pass        "
   ]
  },
  {
   "cell_type": "code",
   "execution_count": 26,
   "metadata": {},
   "outputs": [
    {
     "name": "stderr",
     "output_type": "stream",
     "text": [
      "WARNING:root:Requests made without an app_token will be subject to strict throttling limits.\n"
     ]
    },
    {
     "name": "stdout",
     "output_type": "stream",
     "text": [
      "shape of data: (100, 37)\n"
     ]
    },
    {
     "data": {
      "text/html": [
       "<div>\n",
       "<style scoped>\n",
       "    .dataframe tbody tr th:only-of-type {\n",
       "        vertical-align: middle;\n",
       "    }\n",
       "\n",
       "    .dataframe tbody tr th {\n",
       "        vertical-align: top;\n",
       "    }\n",
       "\n",
       "    .dataframe thead th {\n",
       "        text-align: right;\n",
       "    }\n",
       "</style>\n",
       "<table border=\"1\" class=\"dataframe\">\n",
       "  <thead>\n",
       "    <tr style=\"text-align: right;\">\n",
       "      <th></th>\n",
       "      <th>unique_key</th>\n",
       "      <th>created_date</th>\n",
       "      <th>agency</th>\n",
       "      <th>agency_name</th>\n",
       "      <th>complaint_type</th>\n",
       "      <th>descriptor</th>\n",
       "      <th>location_type</th>\n",
       "      <th>incident_zip</th>\n",
       "      <th>incident_address</th>\n",
       "      <th>street_name</th>\n",
       "      <th>...</th>\n",
       "      <th>location</th>\n",
       "      <th>:@computed_region_efsh_h5xi</th>\n",
       "      <th>:@computed_region_f5dn_yrer</th>\n",
       "      <th>:@computed_region_yeji_bk3q</th>\n",
       "      <th>:@computed_region_92fq_4b7q</th>\n",
       "      <th>:@computed_region_sbqj_enih</th>\n",
       "      <th>closed_date</th>\n",
       "      <th>resolution_description</th>\n",
       "      <th>resolution_action_updated_date</th>\n",
       "      <th>taxi_pick_up_location</th>\n",
       "    </tr>\n",
       "  </thead>\n",
       "  <tbody>\n",
       "    <tr>\n",
       "      <th>0</th>\n",
       "      <td>49675312</td>\n",
       "      <td>2021-01-31T02:08:57.000</td>\n",
       "      <td>NYPD</td>\n",
       "      <td>New York City Police Department</td>\n",
       "      <td>Noise - Residential</td>\n",
       "      <td>Banging/Pounding</td>\n",
       "      <td>Residential Building/House</td>\n",
       "      <td>11206</td>\n",
       "      <td>991 MYRTLE AVENUE</td>\n",
       "      <td>MYRTLE AVENUE</td>\n",
       "      <td>...</td>\n",
       "      <td>{'latitude': '40.69629792193128', 'longitude':...</td>\n",
       "      <td>17213</td>\n",
       "      <td>69</td>\n",
       "      <td>2</td>\n",
       "      <td>49</td>\n",
       "      <td>51</td>\n",
       "      <td>NaN</td>\n",
       "      <td>NaN</td>\n",
       "      <td>NaN</td>\n",
       "      <td>NaN</td>\n",
       "    </tr>\n",
       "    <tr>\n",
       "      <th>1</th>\n",
       "      <td>49676498</td>\n",
       "      <td>2021-01-31T02:08:24.000</td>\n",
       "      <td>NYPD</td>\n",
       "      <td>New York City Police Department</td>\n",
       "      <td>Noise - Residential</td>\n",
       "      <td>Loud Music/Party</td>\n",
       "      <td>Residential Building/House</td>\n",
       "      <td>10456</td>\n",
       "      <td>735 EAST  163 STREET</td>\n",
       "      <td>EAST  163 STREET</td>\n",
       "      <td>...</td>\n",
       "      <td>{'latitude': '40.82271708791926', 'longitude':...</td>\n",
       "      <td>10934</td>\n",
       "      <td>34</td>\n",
       "      <td>5</td>\n",
       "      <td>42</td>\n",
       "      <td>25</td>\n",
       "      <td>NaN</td>\n",
       "      <td>NaN</td>\n",
       "      <td>NaN</td>\n",
       "      <td>NaN</td>\n",
       "    </tr>\n",
       "    <tr>\n",
       "      <th>2</th>\n",
       "      <td>49672057</td>\n",
       "      <td>2021-01-31T02:08:00.000</td>\n",
       "      <td>NYPD</td>\n",
       "      <td>New York City Police Department</td>\n",
       "      <td>Noise - Residential</td>\n",
       "      <td>Loud Music/Party</td>\n",
       "      <td>Residential Building/House</td>\n",
       "      <td>10460</td>\n",
       "      <td>1230 EAST TREMONT AVENUE</td>\n",
       "      <td>EAST TREMONT AVENUE</td>\n",
       "      <td>...</td>\n",
       "      <td>{'latitude': '40.839720726018705', 'longitude'...</td>\n",
       "      <td>11269</td>\n",
       "      <td>58</td>\n",
       "      <td>5</td>\n",
       "      <td>22</td>\n",
       "      <td>32</td>\n",
       "      <td>NaN</td>\n",
       "      <td>NaN</td>\n",
       "      <td>NaN</td>\n",
       "      <td>NaN</td>\n",
       "    </tr>\n",
       "    <tr>\n",
       "      <th>3</th>\n",
       "      <td>49670672</td>\n",
       "      <td>2021-01-31T02:07:57.000</td>\n",
       "      <td>MAYORâS OFFICE OF SPECIAL ENFORCEMENT</td>\n",
       "      <td>Mayorâs Office of Special Enforcement</td>\n",
       "      <td>NonCompliance with Phased Reopening</td>\n",
       "      <td>Restaurant/Bar Not in Compliance</td>\n",
       "      <td>Store/Commercial</td>\n",
       "      <td>11226</td>\n",
       "      <td>1062 FLATBUSH AVENUE</td>\n",
       "      <td>FLATBUSH AVENUE</td>\n",
       "      <td>...</td>\n",
       "      <td>{'latitude': '40.644909290021', 'longitude': '...</td>\n",
       "      <td>13510</td>\n",
       "      <td>60</td>\n",
       "      <td>2</td>\n",
       "      <td>11</td>\n",
       "      <td>43</td>\n",
       "      <td>NaN</td>\n",
       "      <td>NaN</td>\n",
       "      <td>NaN</td>\n",
       "      <td>NaN</td>\n",
       "    </tr>\n",
       "    <tr>\n",
       "      <th>4</th>\n",
       "      <td>49670880</td>\n",
       "      <td>2021-01-31T02:07:38.000</td>\n",
       "      <td>NYPD</td>\n",
       "      <td>New York City Police Department</td>\n",
       "      <td>Noise - Street/Sidewalk</td>\n",
       "      <td>Loud Music/Party</td>\n",
       "      <td>Street/Sidewalk</td>\n",
       "      <td>11232</td>\n",
       "      <td>601 40 STREET</td>\n",
       "      <td>40 STREET</td>\n",
       "      <td>...</td>\n",
       "      <td>{'latitude': '40.649185074648486', 'longitude'...</td>\n",
       "      <td>13515</td>\n",
       "      <td>9</td>\n",
       "      <td>2</td>\n",
       "      <td>7</td>\n",
       "      <td>45</td>\n",
       "      <td>NaN</td>\n",
       "      <td>NaN</td>\n",
       "      <td>NaN</td>\n",
       "      <td>NaN</td>\n",
       "    </tr>\n",
       "  </tbody>\n",
       "</table>\n",
       "<p>5 rows × 37 columns</p>\n",
       "</div>"
      ],
      "text/plain": [
       "  unique_key             created_date  \\\n",
       "0   49675312  2021-01-31T02:08:57.000   \n",
       "1   49676498  2021-01-31T02:08:24.000   \n",
       "2   49672057  2021-01-31T02:08:00.000   \n",
       "3   49670672  2021-01-31T02:07:57.000   \n",
       "4   49670880  2021-01-31T02:07:38.000   \n",
       "\n",
       "                                    agency  \\\n",
       "0                                     NYPD   \n",
       "1                                     NYPD   \n",
       "2                                     NYPD   \n",
       "3  MAYORâS OFFICE OF SPECIAL ENFORCEMENT   \n",
       "4                                     NYPD   \n",
       "\n",
       "                               agency_name  \\\n",
       "0          New York City Police Department   \n",
       "1          New York City Police Department   \n",
       "2          New York City Police Department   \n",
       "3  Mayorâs Office of Special Enforcement   \n",
       "4          New York City Police Department   \n",
       "\n",
       "                        complaint_type                        descriptor  \\\n",
       "0                  Noise - Residential                  Banging/Pounding   \n",
       "1                  Noise - Residential                  Loud Music/Party   \n",
       "2                  Noise - Residential                  Loud Music/Party   \n",
       "3  NonCompliance with Phased Reopening  Restaurant/Bar Not in Compliance   \n",
       "4              Noise - Street/Sidewalk                  Loud Music/Party   \n",
       "\n",
       "                location_type incident_zip          incident_address  \\\n",
       "0  Residential Building/House        11206         991 MYRTLE AVENUE   \n",
       "1  Residential Building/House        10456      735 EAST  163 STREET   \n",
       "2  Residential Building/House        10460  1230 EAST TREMONT AVENUE   \n",
       "3            Store/Commercial        11226      1062 FLATBUSH AVENUE   \n",
       "4             Street/Sidewalk        11232             601 40 STREET   \n",
       "\n",
       "           street_name  ...  \\\n",
       "0        MYRTLE AVENUE  ...   \n",
       "1     EAST  163 STREET  ...   \n",
       "2  EAST TREMONT AVENUE  ...   \n",
       "3      FLATBUSH AVENUE  ...   \n",
       "4            40 STREET  ...   \n",
       "\n",
       "                                            location  \\\n",
       "0  {'latitude': '40.69629792193128', 'longitude':...   \n",
       "1  {'latitude': '40.82271708791926', 'longitude':...   \n",
       "2  {'latitude': '40.839720726018705', 'longitude'...   \n",
       "3  {'latitude': '40.644909290021', 'longitude': '...   \n",
       "4  {'latitude': '40.649185074648486', 'longitude'...   \n",
       "\n",
       "  :@computed_region_efsh_h5xi :@computed_region_f5dn_yrer  \\\n",
       "0                       17213                          69   \n",
       "1                       10934                          34   \n",
       "2                       11269                          58   \n",
       "3                       13510                          60   \n",
       "4                       13515                           9   \n",
       "\n",
       "  :@computed_region_yeji_bk3q :@computed_region_92fq_4b7q  \\\n",
       "0                           2                          49   \n",
       "1                           5                          42   \n",
       "2                           5                          22   \n",
       "3                           2                          11   \n",
       "4                           2                           7   \n",
       "\n",
       "  :@computed_region_sbqj_enih closed_date resolution_description  \\\n",
       "0                          51         NaN                    NaN   \n",
       "1                          25         NaN                    NaN   \n",
       "2                          32         NaN                    NaN   \n",
       "3                          43         NaN                    NaN   \n",
       "4                          45         NaN                    NaN   \n",
       "\n",
       "  resolution_action_updated_date taxi_pick_up_location  \n",
       "0                            NaN                   NaN  \n",
       "1                            NaN                   NaN  \n",
       "2                            NaN                   NaN  \n",
       "3                            NaN                   NaN  \n",
       "4                            NaN                   NaN  \n",
       "\n",
       "[5 rows x 37 columns]"
      ]
     },
     "execution_count": 26,
     "metadata": {},
     "output_type": "execute_result"
    }
   ],
   "source": [
    "# Source domain for NYC Open Data on Socrata\n",
    "socrata_domain = 'data.cityofnewyork.us'\n",
    "\n",
    "# Data set id for NYC 311 on NYC Open Data on Socrata\n",
    "socrata_dataset_identifier = 'erm2-nwe9'\n",
    "\n",
    "# Socrata - The main class that interacts with the SODA API. We pass the source domain value\n",
    "# of NYC Open data, the app token as 'None', and set the timeout parameter for '1,000 seconds'\n",
    "client = Socrata(socrata_domain, None, timeout=1000)\n",
    "\n",
    "# SoQL query string below:\n",
    "# retrieve all columns and limit our records to 100.\n",
    "\n",
    "query = \"\"\"\n",
    "SELECT \n",
    "    *\n",
    "LIMIT \n",
    "    100\n",
    "\"\"\"\n",
    "\n",
    "# Returned as JSON from API / converted to Python list of\n",
    "# dictionaries by sodapy.\n",
    "results = client.get(socrata_dataset_identifier, query=query)\n",
    "\n",
    "# Convert to pandas DataFrame\n",
    "results_df = pd.DataFrame.from_records(results)\n",
    "\n",
    "print('shape of data:', results_df.shape)\n",
    "\n",
    "results_df.head()"
   ]
  },
  {
   "cell_type": "markdown",
   "metadata": {},
   "source": [
    "## 5.3  `.get_metadata()`"
   ]
  },
  {
   "cell_type": "markdown",
   "metadata": {},
   "source": [
    "`get_metadata` method: Retrieve the metadata for a particular dataset."
   ]
  },
  {
   "cell_type": "code",
   "execution_count": 27,
   "metadata": {},
   "outputs": [
    {
     "name": "stderr",
     "output_type": "stream",
     "text": [
      "WARNING:root:Requests made without an app_token will be subject to strict throttling limits.\n"
     ]
    }
   ],
   "source": [
    "client = Socrata(socrata_domain, None, timeout=100)"
   ]
  },
  {
   "cell_type": "code",
   "execution_count": 28,
   "metadata": {},
   "outputs": [
    {
     "data": {
      "text/plain": [
       "dict"
      ]
     },
     "execution_count": 28,
     "metadata": {},
     "output_type": "execute_result"
    }
   ],
   "source": [
    "type(client.get_metadata(socrata_dataset_identifier))"
   ]
  },
  {
   "cell_type": "code",
   "execution_count": 29,
   "metadata": {},
   "outputs": [
    {
     "name": "stdout",
     "output_type": "stream",
     "text": [
      "id\n",
      "name\n",
      "assetType\n",
      "attribution\n",
      "averageRating\n",
      "category\n",
      "createdAt\n",
      "description\n",
      "displayType\n",
      "downloadCount\n",
      "hideFromCatalog\n",
      "hideFromDataJson\n",
      "indexUpdatedAt\n",
      "newBackend\n",
      "numberOfComments\n",
      "oid\n",
      "provenance\n",
      "publicationAppendEnabled\n",
      "publicationDate\n",
      "publicationGroup\n",
      "publicationStage\n",
      "rowClass\n",
      "rowIdentifierColumnId\n",
      "rowsUpdatedAt\n",
      "rowsUpdatedBy\n",
      "tableId\n",
      "totalTimesRated\n",
      "viewCount\n",
      "viewLastModified\n",
      "viewType\n",
      "approvals\n",
      "columns\n",
      "grants\n",
      "metadata\n",
      "owner\n",
      "query\n",
      "rights\n",
      "tableAuthor\n",
      "tags\n",
      "flags\n"
     ]
    }
   ],
   "source": [
    "# Previewing keys vertically.\n",
    "keys = client.get_metadata(socrata_dataset_identifier).keys()\n",
    "for key in keys:\n",
    "    print(key)"
   ]
  },
  {
   "cell_type": "code",
   "execution_count": 30,
   "metadata": {},
   "outputs": [
    {
     "name": "stdout",
     "output_type": "stream",
     "text": [
      "id and name of dataset\n",
      "------------------------------\n",
      "id: erm2-nwe9 \n",
      "name: 311 Service Requests from 2010 to Present\n"
     ]
    }
   ],
   "source": [
    "# Previewing the id and name of the data set.\n",
    "print('id and name of dataset\\n' + \\\n",
    "      '-' * 30 + \\\n",
    "      '\\nid:', client.get_metadata(socrata_dataset_identifier)['id'], \\\n",
    "      '\\nname:', client.get_metadata(socrata_dataset_identifier)['name'])"
   ]
  },
  {
   "cell_type": "code",
   "execution_count": 31,
   "metadata": {
    "scrolled": false
   },
   "outputs": [
    {
     "name": "stdout",
     "output_type": "stream",
     "text": [
      "<class 'dict_items'> \n",
      "\n",
      "<class 'list'> \n",
      "\n",
      "id: erm2-nwe9\n",
      "name: 311 Service Requests from 2010 to Present\n",
      "assetType: dataset\n",
      "attribution: 311, DoITT\n",
      "averageRating: 0\n",
      "category: Social Services\n",
      "createdAt: 1318225937\n",
      "description: <b>NOTE: This data does not present a full picture of 311 calls or service requests, in part because of operational and system complexities associated with remote call taking necessitated by the unprecedented volume 311 is handling during the Covid-19 crisis. The City is working to address this issue. </b>\r\n",
      "\r\n",
      "All 311 Service Requests from 2010 to present. This information is automatically updated daily.\n",
      "displayType: table\n",
      "downloadCount: 398364\n",
      "hideFromCatalog: False\n",
      "hideFromDataJson: False\n",
      "indexUpdatedAt: 1571326778\n",
      "newBackend: True\n",
      "numberOfComments: 19\n",
      "oid: 28506835\n",
      "provenance: official\n",
      "publicationAppendEnabled: False\n",
      "publicationDate: 1524193398\n",
      "publicationGroup: 244403\n",
      "publicationStage: published\n",
      "rowClass: \n",
      "rowIdentifierColumnId: 354922030\n",
      "rowsUpdatedAt: 1612147862\n",
      "rowsUpdatedBy: 5fuc-pqz2\n",
      "tableId: 15047182\n",
      "totalTimesRated: 0\n",
      "viewCount: 439323\n",
      "viewLastModified: 1587586718\n",
      "viewType: tabular\n"
     ]
    }
   ],
   "source": [
    "# Previewing the first 30 keys, values of the dictionary.\n",
    "metadata_items = client.get_metadata(socrata_dataset_identifier).items()\n",
    "print(type(metadata_items), '\\n')\n",
    "\n",
    "metadata_items = list(metadata_items)\n",
    "print(type(metadata_items), '\\n')\n",
    "\n",
    "stop = 0\n",
    "for key, value in metadata_items:\n",
    "    print(key + ':',  value)\n",
    "    stop += 1\n",
    "    \n",
    "    if stop == 30:\n",
    "        break"
   ]
  },
  {
   "cell_type": "code",
   "execution_count": 32,
   "metadata": {},
   "outputs": [
    {
     "name": "stdout",
     "output_type": "stream",
     "text": [
      "metadata_items['columns']: <class 'list'>\n"
     ]
    },
    {
     "data": {
      "text/plain": [
       "{'id': 354922030,\n",
       " 'name': 'Unique Key',\n",
       " 'dataTypeName': 'text',\n",
       " 'description': 'Unique identifier of a Service Request (SR) in the open data set\\n',\n",
       " 'fieldName': 'unique_key',\n",
       " 'position': 1,\n",
       " 'renderTypeName': 'text',\n",
       " 'tableColumnId': 1567787,\n",
       " 'width': 220,\n",
       " 'cachedContents': {'largest': '49677161',\n",
       "  'non_null': '24853677',\n",
       "  'null': '0',\n",
       "  'top': [{'item': '10693408', 'count': '1'},\n",
       "   {'item': '10836749', 'count': '1'},\n",
       "   {'item': '10836967', 'count': '1'},\n",
       "   {'item': '11051177', 'count': '1'},\n",
       "   {'item': '11413576', 'count': '1'},\n",
       "   {'item': '11463895', 'count': '1'},\n",
       "   {'item': '11463896', 'count': '1'},\n",
       "   {'item': '11464334', 'count': '1'},\n",
       "   {'item': '11464394', 'count': '1'},\n",
       "   {'item': '11464467', 'count': '1'},\n",
       "   {'item': '11464508', 'count': '1'},\n",
       "   {'item': '11464509', 'count': '1'},\n",
       "   {'item': '11464521', 'count': '1'},\n",
       "   {'item': '11464567', 'count': '1'},\n",
       "   {'item': '11464572', 'count': '1'},\n",
       "   {'item': '11464639', 'count': '1'},\n",
       "   {'item': '11464846', 'count': '1'},\n",
       "   {'item': '11464850', 'count': '1'},\n",
       "   {'item': '11464938', 'count': '1'},\n",
       "   {'item': '11465153', 'count': '1'}],\n",
       "  'smallest': '10564222',\n",
       "  'not_null': '21933957',\n",
       "  'cardinality': '24853677'},\n",
       " 'format': {}}"
      ]
     },
     "execution_count": 32,
     "metadata": {},
     "output_type": "execute_result"
    }
   ],
   "source": [
    "# Previewing the first item in columns list\n",
    "metadata_items = client.get_metadata(socrata_dataset_identifier)\n",
    "\n",
    "print(\"metadata_items['columns']:\", type(metadata_items['columns']))\n",
    "\n",
    "metadata_items['columns'][0]"
   ]
  },
  {
   "cell_type": "code",
   "execution_count": 33,
   "metadata": {},
   "outputs": [
    {
     "name": "stdout",
     "output_type": "stream",
     "text": [
      "id\n",
      "name\n",
      "dataTypeName\n",
      "description\n",
      "fieldName\n",
      "position\n",
      "renderTypeName\n",
      "tableColumnId\n",
      "width\n",
      "cachedContents\n",
      "format\n"
     ]
    }
   ],
   "source": [
    "for key in metadata_items['columns'][0].keys():\n",
    "    print(key)"
   ]
  },
  {
   "cell_type": "code",
   "execution_count": 34,
   "metadata": {},
   "outputs": [
    {
     "name": "stdout",
     "output_type": "stream",
     "text": [
      "metadata <class 'dict'>\n",
      "metadata['columns'] <class 'list'> length: 46 \n",
      "\n",
      "columns \n",
      "-----------\n",
      "unique_key\n",
      "created_date\n",
      "closed_date\n",
      "agency\n",
      "agency_name\n",
      "complaint_type\n",
      "descriptor\n",
      "location_type\n",
      "incident_zip\n",
      "incident_address\n",
      "street_name\n",
      "cross_street_1\n",
      "cross_street_2\n",
      "intersection_street_1\n",
      "intersection_street_2\n",
      "address_type\n",
      "city\n",
      "landmark\n",
      "facility_type\n",
      "status\n",
      "due_date\n",
      "resolution_description\n",
      "resolution_action_updated_date\n",
      "community_board\n",
      "bbl\n",
      "borough\n",
      "x_coordinate_state_plane\n",
      "y_coordinate_state_plane\n",
      "open_data_channel_type\n",
      "park_facility_name\n",
      "park_borough\n",
      "vehicle_type\n",
      "taxi_company_borough\n",
      "taxi_pick_up_location\n",
      "bridge_highway_name\n",
      "bridge_highway_direction\n",
      "road_ramp\n",
      "bridge_highway_segment\n",
      "latitude\n",
      "longitude\n",
      "location\n",
      ":@computed_region_efsh_h5xi\n",
      ":@computed_region_f5dn_yrer\n",
      ":@computed_region_yeji_bk3q\n",
      ":@computed_region_92fq_4b7q\n",
      ":@computed_region_sbqj_enih\n"
     ]
    }
   ],
   "source": [
    "# Saving metadata dictionary as 'metadata'\n",
    "metadata = client.get_metadata(socrata_dataset_identifier)\n",
    "print('metadata', type(metadata))\n",
    "\n",
    "# Previewing the datatype of columns\n",
    "print(\"metadata['columns']\", type(metadata['columns']), 'length:', len(metadata['columns']), '\\n')\n",
    "\n",
    "print('columns', '\\n' + '-----------')\n",
    "\n",
    "# Previewing the field names for each element in our columns list\n",
    "for x in metadata['columns']:\n",
    "    print(x['fieldName'])"
   ]
  },
  {
   "cell_type": "markdown",
   "metadata": {},
   "source": [
    "# 6. Conclusion"
   ]
  },
  {
   "cell_type": "code",
   "execution_count": null,
   "metadata": {},
   "outputs": [],
   "source": []
  }
 ],
 "metadata": {
  "kernelspec": {
   "display_name": "Python 3",
   "language": "python",
   "name": "python3"
  },
  "language_info": {
   "codemirror_mode": {
    "name": "ipython",
    "version": 3
   },
   "file_extension": ".py",
   "mimetype": "text/x-python",
   "name": "python",
   "nbconvert_exporter": "python",
   "pygments_lexer": "ipython3",
   "version": "3.7.1"
  }
 },
 "nbformat": 4,
 "nbformat_minor": 4
}
