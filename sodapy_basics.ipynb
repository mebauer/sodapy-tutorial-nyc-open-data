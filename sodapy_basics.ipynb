{
 "cells": [
  {
   "cell_type": "markdown",
   "metadata": {},
   "source": [
    "# Sodapy Basics Tutorial Using NYC Open Data \n",
    "Mark Bauer"
   ]
  },
  {
   "cell_type": "markdown",
   "metadata": {},
   "source": [
    "Table of Contents\n",
    "=================\n",
    "\n",
    "   * [1. Introduction](#1-Introduction)\n",
    "       \n",
    "       \n",
    "   * [2. Sodapy](#2-Sodapy)\n",
    "       * [2.1 Using Sodapy](#21-Using-Sodapy)\n",
    "       * [2.2 Sodapy Methods](#22-Sodapy-Methods)\n",
    "       \n",
    "       \n",
    "   * [3. Importing Libraries](#3-Data-Inspection)\n",
    "   \n",
    "   \n",
    "   * [4. Socrata Class](#4-Socrata-Class)\n",
    "   \n",
    "\n",
    "   * [5. Sodapy Methods](#5-Sodapy-Methods)\n",
    "       * [5.1 .datasets()](#51-datasets())\n",
    "       * [5.2 .get()](#52-get())\n",
    "       * [5.3 .get_metadata()](#53-get_metadata())\n",
    "       \n",
    "          \n",
    "   * [6. Conclusion](#10-Conclusion)"
   ]
  },
  {
   "cell_type": "markdown",
   "metadata": {},
   "source": [
    "# 1. Introduction  \n",
    "This notebook demonstrates how to use sodapy, the python client for the Socrata Open Data API (SODA), and reviews various methods to retrieve data from Socrata Open Data. The data in this tutorial is from NYC Open Data. "
   ]
  },
  {
   "cell_type": "markdown",
   "metadata": {},
   "source": [
    "# 2. Sodapy"
   ]
  },
  {
   "cell_type": "markdown",
   "metadata": {},
   "source": [
    "## 2.1 Using Sodapy"
   ]
  },
  {
   "cell_type": "markdown",
   "metadata": {},
   "source": [
    "In order use sodapy, a source domain (i.e. the Socrata Open Data source you are trying to connect to) needs to be passed to the Socrata class. Additionally, if a user wants to query a specific data set on Socrata Open Data, then the data set identifier (i.e. the data set id on the given source domain) needs to be passed as well. Below, we identify NYC Open Data's source domain: `data.cityofnewyork.us` and the data set identifier for the NYC 311 data set: `erm2-nwe9`. The screenshot below displays where we retrieve this information."
   ]
  },
  {
   "cell_type": "markdown",
   "metadata": {},
   "source": [
    "![nyc-311-api-docs](images/nyc-311-api-docs.png)  \n",
    "\n",
    "Source: https://dev.socrata.com/foundry/data.cityofnewyork.us/erm2-nwe9"
   ]
  },
  {
   "cell_type": "markdown",
   "metadata": {},
   "source": [
    "## 2.2 Sodapy Methods"
   ]
  },
  {
   "cell_type": "markdown",
   "metadata": {},
   "source": [
    "![socrata-methods](images/socrata-methods.png)\n",
    "\n",
    "Source: https://github.com/xmunoz/sodapy#datasetslimit0-offset0"
   ]
  },
  {
   "cell_type": "markdown",
   "metadata": {},
   "source": [
    "# We will be focusing on three sodapy methods:\n",
    "## -  `.datasets()`\n",
    "Returns the list of datasets associated with a particular domain.\n",
    "\n",
    "## - `.get()`\n",
    "Read data from the requested resource. Options for content_type are json, csv, and xml.\n",
    "\n",
    "## - `.get_metadata()`\n",
    "Retrieve the metadata for a particular dataset."
   ]
  },
  {
   "cell_type": "markdown",
   "metadata": {},
   "source": [
    "# 3. Importing Libraries"
   ]
  },
  {
   "cell_type": "code",
   "execution_count": 297,
   "metadata": {},
   "outputs": [],
   "source": [
    "# importing libraries\n",
    "import pandas as pd\n",
    "from sodapy import Socrata"
   ]
  },
  {
   "cell_type": "code",
   "execution_count": 298,
   "metadata": {},
   "outputs": [],
   "source": [
    "%reload_ext watermark"
   ]
  },
  {
   "cell_type": "code",
   "execution_count": 299,
   "metadata": {},
   "outputs": [
    {
     "name": "stdout",
     "output_type": "stream",
     "text": [
      "Mark Bauer \n",
      "last updated: 2021-02-07 12:24:09 \n",
      "\n",
      "CPython 3.7.1\n",
      "IPython 7.18.1\n",
      "\n",
      "pandas 1.0.0\n",
      "sodapy 2.0.0\n"
     ]
    }
   ],
   "source": [
    "%watermark -a \"Mark Bauer\" -u -t -d -v -p pandas,sodapy"
   ]
  },
  {
   "cell_type": "markdown",
   "metadata": {},
   "source": [
    "Documention for installing watermark: https://github.com/rasbt/watermark"
   ]
  },
  {
   "cell_type": "markdown",
   "metadata": {},
   "source": [
    "# 4. Socrata Class "
   ]
  },
  {
   "cell_type": "markdown",
   "metadata": {},
   "source": [
    "We assign this information to `socrata_domain` and `socrata_dataset_identifier` variables below."
   ]
  },
  {
   "cell_type": "code",
   "execution_count": 300,
   "metadata": {},
   "outputs": [],
   "source": [
    "# soure domain for NYC Open Data on Socrata\n",
    "socrata_domain = 'data.cityofnewyork.us'\n",
    "\n",
    "# NYC 311 data set identifier\n",
    "socrata_dataset_identifier = 'erm2-nwe9'"
   ]
  },
  {
   "cell_type": "code",
   "execution_count": 301,
   "metadata": {},
   "outputs": [
    {
     "name": "stderr",
     "output_type": "stream",
     "text": [
      "WARNING:root:Requests made without an app_token will be subject to strict throttling limits.\n"
     ]
    }
   ],
   "source": [
    "# The main class that interacts with the SODA API.\n",
    "\n",
    "# The required arguments are:\n",
    "#     domain: the domain you wish you to access\n",
    "#     app_token: your Socrata application token\n",
    "# Simple requests are possible without an app_token, though these\n",
    "# requests will be rate-limited.\n",
    "\n",
    "client = Socrata(socrata_domain, None, timeout=100)"
   ]
  },
  {
   "cell_type": "code",
   "execution_count": 302,
   "metadata": {},
   "outputs": [
    {
     "name": "stdout",
     "output_type": "stream",
     "text": [
      "<sodapy.Socrata object at 0x124857320>\n"
     ]
    }
   ],
   "source": [
    "# printing the Socrata object 'client'\n",
    "print(client)"
   ]
  },
  {
   "cell_type": "code",
   "execution_count": 303,
   "metadata": {},
   "outputs": [
    {
     "data": {
      "text/plain": [
       "sodapy.Socrata"
      ]
     },
     "execution_count": 303,
     "metadata": {},
     "output_type": "execute_result"
    }
   ],
   "source": [
    "# printing type of the Socrata object 'client'\n",
    "type(client)"
   ]
  },
  {
   "cell_type": "code",
   "execution_count": 304,
   "metadata": {},
   "outputs": [
    {
     "name": "stdout",
     "output_type": "stream",
     "text": [
      "domain: data.cityofnewyork.us\n",
      "session: <requests.sessions.Session object at 0x124857358>\n",
      "uri_prefix: https://\n",
      "timeout: 100\n"
     ]
    }
   ],
   "source": [
    "# printing attributes of client object\n",
    "for key, value in client.__dict__.items():\n",
    "    print(key + ':', value)"
   ]
  },
  {
   "cell_type": "markdown",
   "metadata": {},
   "source": [
    "# 5. Sodapy Methods"
   ]
  },
  {
   "cell_type": "markdown",
   "metadata": {},
   "source": [
    "## 5.1  `.datasets()`"
   ]
  },
  {
   "cell_type": "markdown",
   "metadata": {},
   "source": [
    "`datasets` method: Returns the list of datasets associated with a particular domain.\n",
    "WARNING: Large limits (>1000) will return megabytes of data,\n",
    "which can be slow on low-bandwidth networks, and is also a lot of\n",
    "data to hold in memory."
   ]
  },
  {
   "cell_type": "code",
   "execution_count": 305,
   "metadata": {},
   "outputs": [
    {
     "name": "stdout",
     "output_type": "stream",
     "text": [
      "<class 'list'>\n"
     ]
    }
   ],
   "source": [
    "print(type(client.datasets()))"
   ]
  },
  {
   "cell_type": "code",
   "execution_count": 306,
   "metadata": {},
   "outputs": [
    {
     "data": {
      "text/plain": [
       "3179"
      ]
     },
     "execution_count": 306,
     "metadata": {},
     "output_type": "execute_result"
    }
   ],
   "source": [
    "len(client.datasets())"
   ]
  },
  {
   "cell_type": "code",
   "execution_count": 307,
   "metadata": {},
   "outputs": [
    {
     "name": "stdout",
     "output_type": "stream",
     "text": [
      "Number of data sets on NYC Open Data: 3179.\n"
     ]
    }
   ],
   "source": [
    "print('Number of data sets on NYC Open Data: {}.'.format(len(client.datasets())))"
   ]
  },
  {
   "cell_type": "code",
   "execution_count": 308,
   "metadata": {
    "scrolled": false
   },
   "outputs": [
    {
     "name": "stdout",
     "output_type": "stream",
     "text": [
      "<class 'dict'>\n"
     ]
    }
   ],
   "source": [
    "print(type(client.datasets()[0]))"
   ]
  },
  {
   "cell_type": "code",
   "execution_count": 309,
   "metadata": {},
   "outputs": [
    {
     "data": {
      "text/plain": [
       "dict_keys(['resource', 'classification', 'metadata', 'permalink', 'link', 'owner', 'creator'])"
      ]
     },
     "execution_count": 309,
     "metadata": {},
     "output_type": "execute_result"
    }
   ],
   "source": [
    "client.datasets()[0].keys()"
   ]
  },
  {
   "cell_type": "code",
   "execution_count": 310,
   "metadata": {},
   "outputs": [
    {
     "name": "stdout",
     "output_type": "stream",
     "text": [
      "resource\n",
      "classification\n",
      "metadata\n",
      "permalink\n",
      "link\n",
      "owner\n",
      "creator\n"
     ]
    }
   ],
   "source": [
    "for key in client.datasets()[0].keys():\n",
    "    print(key)"
   ]
  },
  {
   "cell_type": "code",
   "execution_count": 311,
   "metadata": {
    "scrolled": false
   },
   "outputs": [
    {
     "data": {
      "text/plain": [
       "dict_items([('resource', {'name': 'DOB Job Application Filings', 'id': 'ic3t-wcy2', 'parent_fxf': [], 'description': 'This dataset contains all job applications submitted through the Borough Offices, through eFiling, or through the HUB, which have a \"Latest Action Date\" since January 1, 2000. This dataset does not include jobs submitted through DOB NOW. See the DOB NOW: Build – Job Application Filings dataset for DOB NOW jobs.', 'attribution': 'Department of Buildings (DOB)', 'attribution_link': None, 'contact_email': None, 'type': 'dataset', 'updatedAt': '2021-02-06T21:17:53.000Z', 'createdAt': '2013-04-18T15:18:56.000Z', 'metadata_updated_at': '2020-06-23T02:08:44.000Z', 'data_updated_at': '2021-02-06T21:17:53.000Z', 'page_views': {'page_views_last_week': 618, 'page_views_last_month': 2534, 'page_views_total': 2263841, 'page_views_last_week_log': 9.273795599214266, 'page_views_last_month_log': 11.307770031890703, 'page_views_total_log': 21.11034184119946}, 'columns_name': [\"Owner's Last Name\", 'GIS_BIN', 'GIS_NTA_NAME', 'BUILDING_CLASS', 'SPECIAL_ACTION_DATE', \"Owner'sHouse Street Name\", \"Owner's House Number\", 'Special District 1', 'Proposed Dwelling Units', 'Proposed Height', 'Existing Height', 'Street Frontage', 'Enlargement SQ Footage', 'Fully Permitted', 'Assigned', 'Paid', 'Applicant Professional Title', 'Other Description', 'Fuel Storage', 'Lot', 'Street Name', 'Job #', 'GIS_LONGITUDE', 'TOTAL_CONSTRUCTION_FLOOR_AREA', 'DOBRunDate', \"Owner's Business Name\", 'Zoning Dist1', 'Proposed No. of Stories', 'ExistingNo. of Stories', 'Total Est. Fee', 'Fully Paid', 'Standpipe', 'Latest Action Date', 'SIGNOFF_DATE', 'Initial Cost', 'Job Status', 'City ', 'Pre- Filing Date', 'Fire Suppression', 'PC Filed', 'Little e', 'Community - Board', 'Bin #', 'GIS_CENSUS_TRACT', 'Zip', \"Owner's First Name\", 'Existing Occupancy', 'Proposed Zoning Sqft', 'Approved', 'Applicant License #', 'Sprinkler', 'Borough', 'Existing Dwelling Units', 'Adult Estab', 'Building Type', 'JOB_S1_NO', 'Zoning Dist2', 'Fire Alarm', 'Owner Type', 'Vertical Enlrgmt', 'Mechanical', 'Cluster', 'Doc #', \"Applicant's Last Name\", \"Owner'sPhone #\", 'Special District 2', 'Existing Zoning Sqft', 'Site Fill', 'Other', 'Boiler', 'Plumbing', 'WITHDRAWAL_FLAG', 'Fuel Burning', 'Landmarked', 'Job Type', 'Block', 'House #', 'City Owned', 'Non-Profit', 'Loft Board', 'eFiling Filed', 'GIS_COUNCIL_DISTRICT', 'Equipment', 'GIS_LATITUDE', 'Zoning Dist3', \"Applicant's First Name\", 'Job Status Descrp', 'State', 'Proposed Occupancy', 'JOB_NO_GOOD_COUNT', 'SPECIAL_ACTION_STATUS', 'Job Description', 'Horizontal Enlrgmt', 'Professional Cert', 'Curb Cut', 'Fee Status'], 'columns_field_name': ['owner_s_last_name', 'gis_bin', 'gis_nta_name', 'building_class', 'special_action_date', 'owner_shouse_street_name', 'owner_s_house_number', 'special_district_1', 'proposed_dwelling_units', 'proposed_height', 'existing_height', 'street_frontage', 'enlargement_sq_footage', 'fully_permitted', 'assigned', 'paid', 'applicant_professional_title', 'other_description', 'fuel_storage', 'lot', 'street_name', 'job__', 'gis_longitude', 'total_construction_floor_area', 'dobrundate', 'owner_s_business_name', 'zoning_dist1', 'proposed_no_of_stories', 'existingno_of_stories', 'total_est__fee', 'fully_paid', 'standpipe', 'latest_action_date', 'signoff_date', 'initial_cost', 'job_status', 'city_', 'pre__filing_date', 'fire_suppression', 'pc_filed', 'little_e', 'community___board', 'bin__', 'gis_census_tract', 'zip', 'owner_s_first_name', 'existing_occupancy', 'proposed_zoning_sqft', 'approved', 'applicant_license__', 'sprinkler', 'borough', 'existing_dwelling_units', 'adult_estab', 'building_type', 'job_s1_no', 'zoning_dist2', 'fire_alarm', 'owner_type', 'vertical_enlrgmt', 'mechanical', 'cluster', 'doc__', 'applicant_s_last_name', 'owner_sphone__', 'special_district_2', 'existing_zoning_sqft', 'site_fill', 'other', 'boiler', 'plumbing', 'withdrawal_flag', 'fuel_burning', 'landmarked', 'job_type', 'block', 'house__', 'city_owned', 'non_profit', 'loft_board', 'efiling_filed', 'gis_council_district', 'equipment', 'gis_latitude', 'zoning_dist3', 'applicant_s_first_name', 'job_status_descrp', 'state', 'proposed_occupancy', 'job_no_good_count', 'special_action_status', 'job_description', 'horizontal_enlrgmt', 'professional_cert', 'curb_cut', 'fee_status'], 'columns_datatype': ['Text', 'Text', 'Text', 'Text', 'Text', 'Text', 'Text', 'Text', 'Text', 'Number', 'Number', 'Number', 'Number', 'Text', 'Text', 'Text', 'Text', 'Text', 'Text', 'Text', 'Text', 'Text', 'Text', 'Text', 'Text', 'Text', 'Text', 'Number', 'Number', 'Text', 'Text', 'Text', 'Text', 'Text', 'Text', 'Text', 'Text', 'Text', 'Text', 'Text', 'Text', 'Text', 'Text', 'Text', 'Text', 'Text', 'Text', 'Number', 'Text', 'Text', 'Text', 'Text', 'Text', 'Text', 'Text', 'Text', 'Text', 'Text', 'Text', 'Text', 'Text', 'Text', 'Text', 'Text', 'Text', 'Text', 'Number', 'Text', 'Text', 'Text', 'Text', 'Text', 'Text', 'Text', 'Text', 'Text', 'Text', 'Text', 'Text', 'Text', 'Text', 'Text', 'Text', 'Text', 'Text', 'Text', 'Text', 'Text', 'Text', 'Text', 'Text', 'Text', 'Text', 'Text', 'Text', 'Text'], 'columns_description': ['Last Name of property owner', 'BIN', 'NTA Name', 'Building Class', 'Special Action Date', 'House Street Name of Property Owner', 'House Number of Property Owner', 'Special Distr 1', 'Proposed Dwelling Units', 'Proposed Height', 'Existing Height', 'Street Frontage', 'Enlargement SQ Footage', 'Date when job is fully permitted', 'Date when job is assigned to plan examiner', 'Date when job is paid', \"Applicant's Professional Title\", 'Other Description', 'Fuel Storage  Work Type? (X=Yes, Blank=No)', 'Tax lot assigned by Department of Finance', 'Street Name where Property is located', 'Number assigned by DOB to Job Filing', 'Longitude', 'Total  Construction Floor Area', 'Date when query is run and pushed to Open Data. Could be used to differentiate report dates.', 'Business Name of Property Owner', 'Zoning Distr 1', 'Proposed No. of Stories', 'ExistingNo. of Stories', 'Estimated fee of job', 'Date when job is paid and entered', 'Standpipe Work Type? (X=Yes, Blank=No)', 'Latest status date', 'Sign-off Date', ' Estimated cost of job', 'DOB Status code of job (A-Pre Filed, I-Sign Off, P- Approved, R-Permit Entire) Complete List - http://www.nyc.gov/html/dob/downloads/pdf/bisjobstatus.pdf', 'City ', 'Date when job is prefiled', 'Fire Suppression  Work Type? (X=Yes, Blank=No)', 'Application Filed electronically, rather than manually', 'Hazardous', '3-digit identifier: Borough code = first position, last 2 = community board', 'Number assigned by City Planning to a specific building', 'Census Tract', 'Zip', 'First Name of property owner', 'Existing Occupancy', 'Proposed Zoning Sqft', 'Date when job is approved', 'Number assigned to the skilled trade person/contractor or licensed professional', 'Sprinkler  Work Type? (X=Yes, Blank=No)', '1= Manhattan, 2= Bronx, 3 = Brooklyn, 4 = Queens, 5 = Staten Island', 'Existing Dwelling Units', 'Adult Estab', '1-2-3 Family  or Other', 'JOB_S1_NO', 'Zoning Distr 2', 'Fire Alarm  Work Type? (X=Yes, Blank=No)', 'Owner Type', 'Vertical Enlrgmt', 'Mechanical  Work Type? (X=Yes, Blank=No)', 'Cluster', 'Document Number', 'Last Name of Applicant', \"Owner's  Phone #\", 'Special District 2', 'Existing Zoning Sqft', 'Site Fill', 'Other? (X=Yes, Blank=No)', 'Boiler  Work Type? (X=Yes, Blank=No)', 'Plumbing Work Type? (X=Yes, Blank=No)', 'Withdrawal Indicator', 'Fuel Burning  Work Type? (X=Yes, Blank=No)', 'L code indicates that the building has been assigned landmark status', 'Job Type, based on DOB Job Code (NB-New Building, A1, A2, A3- Alterations 1-3, SG-Sign, etc.)', 'Tax block assigned by Department of Finance', 'House Number of Residence or Commercial Property', 'City Owned', 'Non-Profit', 'Loft Board', 'Application Filed electronically, rather than manually', 'Council District', 'Equipment  Work Type? (X=Yes, Blank=No)', 'Latitude', 'Zoning Distr 3', 'First Name of Applicant', 'Status code description', 'State', 'Proposed Occupancy', 'Job No Good Count', 'Special Action Status', 'Job Description', 'Horizontal Enlrgmt', \"Job is Professionally Certified by Licensed Professional instead of having it reviewed by Department of Building's Plan Examiners\", 'Curb Cut  Work Type? (X=Yes, Blank=No)', 'Type of Fee'], 'columns_format': [{'align': 'right'}, {'align': 'right'}, {'align': 'right'}, {'align': 'right'}, {'align': 'right'}, {'align': 'right'}, {'align': 'right'}, {'align': 'right'}, {'align': 'right'}, {'precisionStyle': 'standard', 'noCommas': 'true', 'align': 'left'}, {'precisionStyle': 'standard', 'noCommas': 'true', 'align': 'left'}, {'precisionStyle': 'standard', 'noCommas': 'true', 'align': 'left'}, {'precisionStyle': 'standard', 'noCommas': 'true', 'align': 'left'}, {'align': 'right'}, {'align': 'right'}, {'align': 'right'}, {'align': 'right'}, {'align': 'right'}, {'align': 'right'}, {'align': 'right'}, {'align': 'right'}, {'align': 'right'}, {'align': 'right'}, {'align': 'right'}, {'view': 'date', 'align': 'left'}, {'align': 'right'}, {'align': 'right'}, {'precisionStyle': 'standard', 'noCommas': 'true', 'align': 'left'}, {'precisionStyle': 'standard', 'noCommas': 'true', 'align': 'left'}, {'align': 'right'}, {'align': 'right'}, {'align': 'right'}, {'view': 'date', 'align': 'right'}, {'align': 'right'}, {'align': 'right'}, {'align': 'right'}, {'align': 'right'}, {'align': 'right'}, {'align': 'right'}, {'align': 'right'}, {'align': 'right'}, {'align': 'right'}, {'align': 'right'}, {'align': 'right'}, {'align': 'right'}, {'align': 'right'}, {'align': 'right'}, {'precisionStyle': 'standard', 'noCommas': 'true', 'align': 'left'}, {'align': 'right'}, {'align': 'right'}, {'align': 'right'}, {'align': 'right'}, {'align': 'right'}, {'align': 'right'}, {'align': 'right'}, {'align': 'right'}, {'align': 'right'}, {'align': 'right'}, {'align': 'right'}, {'align': 'right'}, {'align': 'right'}, {'align': 'right'}, {'align': 'right'}, {'align': 'right'}, {'align': 'right'}, {'align': 'right'}, {'precisionStyle': 'standard', 'noCommas': 'true', 'align': 'left'}, {'align': 'right'}, {'align': 'right'}, {'align': 'right'}, {'align': 'right'}, {'align': 'right'}, {'align': 'right'}, {'align': 'right'}, {'align': 'right'}, {'align': 'right'}, {'align': 'right'}, {'align': 'right'}, {'align': 'right'}, {'align': 'right'}, {'align': 'right'}, {'align': 'right'}, {'align': 'right'}, {'align': 'right'}, {'align': 'right'}, {'align': 'right'}, {'align': 'right'}, {'align': 'right'}, {'align': 'right'}, {'align': 'right'}, {'align': 'right'}, {'align': 'right'}, {'align': 'right'}, {'align': 'right'}, {'align': 'right'}, {'align': 'right'}], 'download_count': 37085, 'provenance': 'official', 'lens_view_type': 'tabular', 'blob_mime_type': None, 'hide_from_data_json': False, 'publication_date': '2020-06-22T18:23:35.000Z'}), ('classification', {'categories': ['economy', 'environment', 'housing & development'], 'tags': [], 'domain_category': 'Housing & Development', 'domain_tags': ['buildings', 'dob', 'job'], 'domain_metadata': [{'key': 'Update_Automation', 'value': 'Yes'}, {'key': 'Update_Date-Made-Public', 'value': '4/26/2013'}, {'key': 'Update_Update-Frequency', 'value': 'Daily'}, {'key': 'Dataset-Information_Agency', 'value': 'Department of Buildings (DOB)'}]}), ('metadata', {'domain': 'data.cityofnewyork.us'}), ('permalink', 'https://data.cityofnewyork.us/d/ic3t-wcy2'), ('link', 'https://data.cityofnewyork.us/Housing-Development/DOB-Job-Application-Filings/ic3t-wcy2'), ('owner', {'id': '5fuc-pqz2', 'user_type': 'interactive', 'display_name': 'NYC OpenData'}), ('creator', {'id': '5fuc-pqz2', 'user_type': 'interactive', 'display_name': 'NYC OpenData'})])"
      ]
     },
     "execution_count": 311,
     "metadata": {},
     "output_type": "execute_result"
    }
   ],
   "source": [
    "client.datasets()[0].items()"
   ]
  },
  {
   "cell_type": "code",
   "execution_count": 312,
   "metadata": {},
   "outputs": [
    {
     "data": {
      "text/plain": [
       "dict"
      ]
     },
     "execution_count": 312,
     "metadata": {},
     "output_type": "execute_result"
    }
   ],
   "source": [
    "type(client.datasets()[0]['resource'])"
   ]
  },
  {
   "cell_type": "code",
   "execution_count": 313,
   "metadata": {},
   "outputs": [
    {
     "name": "stdout",
     "output_type": "stream",
     "text": [
      "name\n",
      "id\n",
      "parent_fxf\n",
      "description\n",
      "attribution\n",
      "attribution_link\n",
      "contact_email\n",
      "type\n",
      "updatedAt\n",
      "createdAt\n",
      "metadata_updated_at\n",
      "data_updated_at\n",
      "page_views\n",
      "columns_name\n",
      "columns_field_name\n",
      "columns_datatype\n",
      "columns_description\n",
      "columns_format\n",
      "download_count\n",
      "provenance\n",
      "lens_view_type\n",
      "blob_mime_type\n",
      "hide_from_data_json\n",
      "publication_date\n"
     ]
    }
   ],
   "source": [
    "for key in client.datasets()[0]['resource'].keys():\n",
    "    print(key)"
   ]
  },
  {
   "cell_type": "code",
   "execution_count": 314,
   "metadata": {},
   "outputs": [
    {
     "name": "stdout",
     "output_type": "stream",
     "text": [
      "categories\n",
      "tags\n",
      "domain_category\n",
      "domain_tags\n",
      "domain_metadata\n"
     ]
    }
   ],
   "source": [
    "for key in client.datasets()[0]['classification'].keys():\n",
    "    print(key)"
   ]
  },
  {
   "cell_type": "code",
   "execution_count": 315,
   "metadata": {},
   "outputs": [
    {
     "name": "stdout",
     "output_type": "stream",
     "text": [
      "categories: ['economy', 'environment', 'housing & development']\n",
      "tags: []\n",
      "domain_category: Housing & Development\n",
      "domain_tags: ['buildings', 'dob', 'job']\n",
      "domain_metadata: [{'key': 'Update_Automation', 'value': 'Yes'}, {'key': 'Update_Date-Made-Public', 'value': '4/26/2013'}, {'key': 'Update_Update-Frequency', 'value': 'Daily'}, {'key': 'Dataset-Information_Agency', 'value': 'Department of Buildings (DOB)'}]\n"
     ]
    }
   ],
   "source": [
    "for key, value in client.datasets()[0]['classification'].items():\n",
    "    print(key + ':', value)"
   ]
  },
  {
   "cell_type": "code",
   "execution_count": 316,
   "metadata": {
    "scrolled": false
   },
   "outputs": [
    {
     "name": "stdout",
     "output_type": "stream",
     "text": [
      "name: DOB Job Application Filings \n",
      "\n",
      "id: ic3t-wcy2 \n",
      "\n",
      "parent_fxf: [] \n",
      "\n",
      "description: This dataset contains all job applications submitted through the Borough Offices, through eFiling, or through the HUB, which have a \"Latest Action Date\" since January 1, 2000. This dataset does not include jobs submitted through DOB NOW. See the DOB NOW: Build – Job Application Filings dataset for DOB NOW jobs. \n",
      "\n",
      "attribution: Department of Buildings (DOB) \n",
      "\n",
      "\n",
      "Previewing top 5 results in classification dictionary\n"
     ]
    }
   ],
   "source": [
    "stop = 0\n",
    "\n",
    "for key, value in list(client.datasets()[0]['resource'].items()):\n",
    "    print(key + ':', value, '\\n')\n",
    "    stop += 1\n",
    "    \n",
    "    if stop == 5:\n",
    "        break\n",
    "        \n",
    "print('\\nPreviewing top {} results in classification dictionary'.format(stop))        "
   ]
  },
  {
   "cell_type": "code",
   "execution_count": 317,
   "metadata": {},
   "outputs": [
    {
     "name": "stdout",
     "output_type": "stream",
     "text": [
      "categories: ['economy', 'environment', 'housing & development'] \n",
      "\n",
      "tags: [] \n",
      "\n",
      "domain_category: Housing & Development \n",
      "\n",
      "domain_tags: ['buildings', 'dob', 'job'] \n",
      "\n",
      "domain_metadata: [{'key': 'Update_Automation', 'value': 'Yes'}, {'key': 'Update_Date-Made-Public', 'value': '4/26/2013'}, {'key': 'Update_Update-Frequency', 'value': 'Daily'}, {'key': 'Dataset-Information_Agency', 'value': 'Department of Buildings (DOB)'}] \n",
      "\n",
      "\n",
      "Previewing top 5 results in classification dictionary\n"
     ]
    }
   ],
   "source": [
    "stop = 0\n",
    "\n",
    "for key, value in list(client.datasets()[0]['classification'].items()):\n",
    "    print(key + ':', value, '\\n')\n",
    "    stop += 1\n",
    "    \n",
    "    if stop == 5:\n",
    "        break\n",
    "        \n",
    "print('\\nPreviewing top {} results in classification dictionary'.format(stop))        "
   ]
  },
  {
   "cell_type": "code",
   "execution_count": 318,
   "metadata": {},
   "outputs": [
    {
     "name": "stdout",
     "output_type": "stream",
     "text": [
      "domain: data.cityofnewyork.us \n",
      "\n",
      "\n",
      "Previewing top 1 results in metadata dictionary\n"
     ]
    }
   ],
   "source": [
    "stop = 0\n",
    "\n",
    "for key, value in list(client.datasets()[0]['metadata'].items()):\n",
    "    print(key + ':', value, '\\n')\n",
    "    stop += 1\n",
    "    \n",
    "    if stop == 5:\n",
    "        break\n",
    "        \n",
    "print('\\nPreviewing top {} results in metadata dictionary'.format(stop))"
   ]
  },
  {
   "cell_type": "code",
   "execution_count": 319,
   "metadata": {},
   "outputs": [
    {
     "name": "stdout",
     "output_type": "stream",
     "text": [
      "id: 5fuc-pqz2 \n",
      "\n",
      "user_type: interactive \n",
      "\n",
      "display_name: NYC OpenData \n",
      "\n",
      "\n",
      "Previewing top 3 results in owner dictionary\n"
     ]
    }
   ],
   "source": [
    "stop = 0\n",
    "\n",
    "for key, value in list(client.datasets()[0]['owner'].items()):\n",
    "    print(key + ':', value, '\\n')\n",
    "    stop += 1\n",
    "    \n",
    "    if stop == 5:\n",
    "        break\n",
    "        \n",
    "print('\\nPreviewing top {} results in owner dictionary'.format(stop))"
   ]
  },
  {
   "cell_type": "code",
   "execution_count": 320,
   "metadata": {},
   "outputs": [
    {
     "name": "stdout",
     "output_type": "stream",
     "text": [
      "id: 5fuc-pqz2 \n",
      "\n",
      "user_type: interactive \n",
      "\n",
      "display_name: NYC OpenData \n",
      "\n",
      "\n",
      "Previewing top 3 results in creator dictionary\n"
     ]
    }
   ],
   "source": [
    "stop = 0\n",
    "\n",
    "for key, value in list(client.datasets()[0]['creator'].items()):\n",
    "    print(key + ':', value, '\\n')\n",
    "    stop += 1\n",
    "    \n",
    "    if stop == 5:\n",
    "        break\n",
    "        \n",
    "print('\\nPreviewing top {} results in creator dictionary'.format(stop))        "
   ]
  },
  {
   "cell_type": "code",
   "execution_count": 321,
   "metadata": {
    "scrolled": false
   },
   "outputs": [
    {
     "name": "stdout",
     "output_type": "stream",
     "text": [
      "We found the NYC 311 data set!\n",
      "\n",
      "311 Service Requests from 2010 to Present \n",
      "Index is: 5\n"
     ]
    }
   ],
   "source": [
    "# Once we've identified the structure of the dictionary, we try to \n",
    "# find the 311 data set and identify its position in the datasets list.\n",
    "\n",
    "idx = 0\n",
    "\n",
    "for dataset_id in client.datasets():\n",
    "    if client.datasets()[idx]['resource']['id'] == 'erm2-nwe9':\n",
    "        print('We found the NYC 311 data set!\\n')\n",
    "        print(client.datasets()[idx]['resource']['name'], \\\n",
    "              '\\nIndex is:', idx)\n",
    "        break\n",
    "    else:\n",
    "        idx += 1    "
   ]
  },
  {
   "cell_type": "code",
   "execution_count": 322,
   "metadata": {
    "scrolled": false
   },
   "outputs": [
    {
     "name": "stdout",
     "output_type": "stream",
     "text": [
      "The 311 data set index in the datasets list is: 5\n"
     ]
    }
   ],
   "source": [
    "# Previewing information about the 311 data set from the datasets method.\n",
    "# Note: Information is quite long.\n",
    "\n",
    "idx_311 = idx\n",
    "print('The 311 data set index in the datasets list is:', idx_311)"
   ]
  },
  {
   "cell_type": "code",
   "execution_count": 323,
   "metadata": {},
   "outputs": [
    {
     "name": "stdout",
     "output_type": "stream",
     "text": [
      "name\n",
      "id\n",
      "parent_fxf\n",
      "description\n",
      "attribution\n",
      "attribution_link\n",
      "contact_email\n",
      "type\n",
      "updatedAt\n",
      "createdAt\n",
      "metadata_updated_at\n",
      "data_updated_at\n",
      "page_views\n",
      "columns_name\n",
      "columns_field_name\n",
      "columns_datatype\n",
      "columns_description\n",
      "columns_format\n",
      "download_count\n",
      "provenance\n",
      "lens_view_type\n",
      "blob_mime_type\n",
      "hide_from_data_json\n",
      "publication_date\n"
     ]
    }
   ],
   "source": [
    "# Since the datasets method is long, let's see if we can identify specific keys we want to preview\n",
    "# in the resource dictionary.\n",
    "\n",
    "for key in client.datasets()[idx_311]['resource'].keys():\n",
    "    print(key)"
   ]
  },
  {
   "cell_type": "code",
   "execution_count": 324,
   "metadata": {
    "scrolled": false
   },
   "outputs": [
    {
     "name": "stdout",
     "output_type": "stream",
     "text": [
      "name: 311 Service Requests from 2010 to Present\n",
      "\n",
      "id: erm2-nwe9\n",
      "\n",
      "parent_fxf: []\n",
      "\n",
      "description: <b>NOTE: This data does not present a full picture of 311 calls or service requests, in part because of operational and system complexities associated with remote call taking necessitated by the unprecedented volume 311 is handling during the Covid-19 crisis. The City is working to address this issue. </b>\r\n",
      "\r\n",
      "All 311 Service Requests from 2010 to present. This information is automatically updated daily.\n",
      "\n",
      "attribution: 311, DoITT\n",
      "\n",
      "attribution_link: None\n",
      "\n",
      "contact_email: None\n",
      "\n",
      "type: dataset\n",
      "\n",
      "updatedAt: 2021-02-07T02:34:01.000Z\n",
      "\n",
      "createdAt: 2011-10-10T05:52:17.000Z\n",
      "\n",
      "metadata_updated_at: 2020-04-22T20:18:38.000Z\n",
      "\n",
      "data_updated_at: 2021-02-07T02:34:01.000Z\n",
      "\n",
      "page_views: {'page_views_last_week': 1276, 'page_views_last_month': 5433, 'page_views_total': 440401, 'page_views_last_week_log': 10.318542809702723, 'page_views_last_month_log': 12.407798850221974, 'page_views_total_log': 18.748461495072814}\n",
      "\n",
      "columns_name: ['Location (state)', 'Location (city)', 'Bridge Highway Name', 'X Coordinate (State Plane)', 'BBL', 'Address Type', 'Cross Street 1', 'Created Date', 'Bridge Highway Segment', 'Vehicle Type', 'Taxi Pick Up Location', 'Location Type', 'Incident Zip', 'Incident Address', 'Intersection Street 1', 'Intersection Street 2', 'City', 'Landmark', 'Due Date', 'Park Borough', 'Resolution Description', 'Facility Type', 'Road Ramp', 'Zip Codes', 'Community Districts', 'Borough Boundaries', 'City Council Districts', 'Police Precincts', 'Location (address)', 'Unique Key', 'Y Coordinate (State Plane)', 'Cross Street 2', 'Street Name', 'Complaint Type', 'Taxi Company Borough', 'Community Board', 'Location (zip)', 'Agency', 'Park Facility Name', 'Open Data Channel Type', 'Status', 'Resolution Action Updated Date', 'Location', 'Longitude', 'Latitude', 'Bridge Highway Direction', 'Borough', 'Descriptor', 'Agency Name', 'Closed Date']\n",
      "\n",
      "columns_field_name: ['location_state', 'location_city', 'bridge_highway_name', 'x_coordinate_state_plane', 'bbl', 'address_type', 'cross_street_1', 'created_date', 'bridge_highway_segment', 'vehicle_type', 'taxi_pick_up_location', 'location_type', 'incident_zip', 'incident_address', 'intersection_street_1', 'intersection_street_2', 'city', 'landmark', 'due_date', 'park_borough', 'resolution_description', 'facility_type', 'road_ramp', ':@computed_region_efsh_h5xi', ':@computed_region_f5dn_yrer', ':@computed_region_yeji_bk3q', ':@computed_region_92fq_4b7q', ':@computed_region_sbqj_enih', 'location_address', 'unique_key', 'y_coordinate_state_plane', 'cross_street_2', 'street_name', 'complaint_type', 'taxi_company_borough', 'community_board', 'location_zip', 'agency', 'park_facility_name', 'open_data_channel_type', 'status', 'resolution_action_updated_date', 'location', 'longitude', 'latitude', 'bridge_highway_direction', 'borough', 'descriptor', 'agency_name', 'closed_date']\n",
      "\n",
      "columns_datatype: ['Text', 'Text', 'Text', 'Number', 'Text', 'Text', 'Text', 'Calendar date', 'Text', 'Text', 'Text', 'Text', 'Text', 'Text', 'Text', 'Text', 'Text', 'Text', 'Calendar date', 'Text', 'Text', 'Text', 'Text', 'Number', 'Number', 'Number', 'Number', 'Number', 'Text', 'Text', 'Number', 'Text', 'Text', 'Text', 'Text', 'Text', 'Text', 'Text', 'Text', 'Text', 'Text', 'Calendar date', 'Point', 'Number', 'Number', 'Text', 'Text', 'Text', 'Text', 'Calendar date']\n",
      "\n",
      "columns_description: ['', '', 'If the incident is identified as a Bridge/Highway, the name will be displayed here.\\n', 'Geo validated, X coordinate of the incident location. \\n', 'Borough Block and Lot, provided by geovalidation. Parcel number to identify the location of location of buildings and properties in NYC.', 'Type of incident location information available.\\n', 'First Cross street based on the geo validated incident location\\n', 'Date SR  was created\\n', 'Additional information on the section of the Bridge/Highway were the incident took place.\\n', 'If the incident is a taxi, this field describes the type of TLC vehicle. \\n', 'If the incident is identified as a taxi, this field displays the taxi pick up location\\n', 'Describes the type of location used in the address information \\n', 'Incident location zip code, provided by geo validation.\\n', 'House number of incident address provided by submitter.\\n', 'First intersecting street based on geo validated incident location\\n', 'Second intersecting street based on geo validated incident location\\n', 'City of the incident location provided by geovalidation.\\n', 'If the incident location is identified as a Landmark the name of the landmark will display here\\n', 'Date when responding agency is expected to update the SR.  This is based on the Complaint Type and internal Service Level Agreements (SLAs).\\n', 'The borough of incident if it is a Parks Dept facility\\n', 'Describes the last action taken on the SR by the responding agency.  May describe next or future steps. \\n', 'If available, this field describes the type of city facility associated to the SR\\n', 'If the incident location was Bridge/Highway this column differentiates if the issue was on the Road or the Ramp.\\n', '', '', '', '', '', '', 'Unique identifier of a Service Request (SR) in the open data set\\n', 'Geo validated,  Y coordinate of the incident location. \\n', 'Second Cross Street based on the geo validated incident location\\n', 'Street name of incident address provided by the submitter\\n', 'This is the first level of a hierarchy identifying the topic of the incident or condition. Complaint Type may have a corresponding Descriptor (below) or may stand alone.', 'If the incident is identified as a taxi, this field will display the borough of the taxi company. \\n', 'Provided by geovalidation.\\n', '', 'Acronym of responding City Government Agency\\n', 'If the incident location is a Parks Dept facility, the Name of the facility will appear here\\n', 'Indicates how the SR was submitted to 311.  i.e. By Phone, Online, Mobile, Other or Unknown.', 'Status of SR submitted \\n', 'Date when responding agency last updated the SR.\\n', 'Combination of the geo based lat & long of the incident location\\n', 'Geo based Long of the incident location\\n', 'Geo based Lat of the incident location\\n', 'If the incident is identified as a Bridge/Highway, the direction where the issue took place would be displayed here.\\n', 'Provided by the submitter and confirmed by geovalidation.\\n', 'This is  associated to the Complaint Type, and provides further detail on the incident or condition. Descriptor values are dependent on the Complaint Type, and are not always required in SR. \\n', 'Full Agency name of responding City Government Agency', 'Date SR was closed by responding agency\\n']\n",
      "\n",
      "columns_format: [{}, {}, {'displayStyle': 'plain', 'align': 'left'}, {'precisionStyle': 'standard', 'noCommas': 'false', 'align': 'right'}, {'displayStyle': 'plain', 'align': 'left'}, {}, {}, {'view': 'date_time', 'align': 'left'}, {'displayStyle': 'plain', 'align': 'left'}, {'displayStyle': 'plain', 'align': 'left'}, {'displayStyle': 'plain', 'align': 'left'}, {}, {}, {}, {}, {}, {'displayStyle': 'plain', 'align': 'left'}, {'displayStyle': 'plain', 'align': 'left'}, {'view': 'date_time', 'align': 'left'}, {'displayStyle': 'plain', 'align': 'left'}, {'displayStyle': 'plain', 'align': 'left'}, {'displayStyle': 'plain', 'align': 'left'}, {'displayStyle': 'plain', 'align': 'left'}, {}, {}, {}, {}, {}, {}, {}, {'precisionStyle': 'standard', 'noCommas': 'false', 'align': 'right'}, {}, {}, {'displayStyle': 'plain', 'align': 'left'}, {'displayStyle': 'plain', 'align': 'left'}, {'displayStyle': 'plain', 'align': 'left'}, {}, {}, {'displayStyle': 'plain', 'align': 'left'}, {'displayStyle': 'plain', 'align': 'left'}, {}, {'view': 'date_time', 'align': 'left'}, {'view': 'coords', 'align': 'left'}, {'precisionStyle': 'standard', 'noCommas': 'false', 'align': 'right'}, {'precisionStyle': 'standard', 'noCommas': 'false', 'align': 'right'}, {'displayStyle': 'plain', 'align': 'left'}, {'displayStyle': 'plain', 'align': 'left'}, {}, {'displayStyle': 'plain', 'align': 'left'}, {'view': 'date_time', 'align': 'left'}]\n",
      "\n",
      "download_count: 398513\n",
      "\n",
      "provenance: official\n",
      "\n",
      "lens_view_type: tabular\n",
      "\n",
      "blob_mime_type: None\n",
      "\n",
      "hide_from_data_json: False\n",
      "\n",
      "publication_date: 2018-04-20T03:03:18.000Z\n",
      "\n"
     ]
    }
   ],
   "source": [
    "items = client.datasets()[idx_311]['resource'].items()\n",
    "\n",
    "for key, value in items:\n",
    "    print(key + ':', str(value) + '\\n')"
   ]
  },
  {
   "cell_type": "code",
   "execution_count": 325,
   "metadata": {},
   "outputs": [
    {
     "data": {
      "text/plain": [
       "dict_items"
      ]
     },
     "execution_count": 325,
     "metadata": {},
     "output_type": "execute_result"
    }
   ],
   "source": [
    "type(items)"
   ]
  },
  {
   "cell_type": "code",
   "execution_count": 326,
   "metadata": {},
   "outputs": [
    {
     "data": {
      "text/plain": [
       "'311 Service Requests from 2010 to Present'"
      ]
     },
     "execution_count": 326,
     "metadata": {},
     "output_type": "execute_result"
    }
   ],
   "source": [
    "dict(items)['name']"
   ]
  },
  {
   "cell_type": "code",
   "execution_count": 327,
   "metadata": {},
   "outputs": [
    {
     "name": "stdout",
     "output_type": "stream",
     "text": [
      "The 311 Service Requests from 2010 to Present data description:\n",
      "\n",
      "<b>NOTE: This data does not present a full picture of 311 calls or service requests, in part because of operational and system complexities associated with remote call taking necessitated by the unprecedented volume 311 is handling during the Covid-19 crisis. The City is working to address this issue. </b>\r\n",
      "\r\n",
      "All 311 Service Requests from 2010 to present. This information is automatically updated daily..\n"
     ]
    }
   ],
   "source": [
    "print('The {} data description:\\n\\n{}.'.format(dict(items)['name'], dict(items)['description']))"
   ]
  },
  {
   "cell_type": "code",
   "execution_count": 328,
   "metadata": {},
   "outputs": [
    {
     "name": "stdout",
     "output_type": "stream",
     "text": [
      "The 311 Service Requests from 2010 to Present data was created at:\n",
      "\n",
      "2011-10-10T05:52:17.000Z and created at:\n",
      "\n",
      "2021-02-07T02:34:01.000Z.\n"
     ]
    }
   ],
   "source": [
    "print('The {} data was created at:\\n\\n{}'.format(dict(items)['name'], dict(items)['createdAt']), \\\n",
    "      \n",
    "      'and created at:\\n\\n{}.'.format(dict(items)['data_updated_at']))"
   ]
  },
  {
   "cell_type": "code",
   "execution_count": 329,
   "metadata": {},
   "outputs": [
    {
     "name": "stdout",
     "output_type": "stream",
     "text": [
      "311 page views information:\n",
      "\n",
      "page_views_last_week: 1276\n",
      "page_views_last_month: 5433\n",
      "page_views_total: 440401\n",
      "page_views_last_week_log: 10.318542809702723\n",
      "page_views_last_month_log: 12.407798850221974\n",
      "page_views_total_log: 18.748461495072814\n"
     ]
    }
   ],
   "source": [
    "print('311 page views information:\\n')\n",
    "\n",
    "for key, value in dict(items)['page_views'].items():\n",
    "    print(key + ':', value)"
   ]
  },
  {
   "cell_type": "code",
   "execution_count": 330,
   "metadata": {},
   "outputs": [
    {
     "name": "stdout",
     "output_type": "stream",
     "text": [
      "The NYC 311 data view count: 440,401 and download count: 398,513.\n"
     ]
    }
   ],
   "source": [
    "print('The NYC 311 data view count: {}'.format(f\"{dict(items)['page_views']['page_views_total']:,}\"), \\\n",
    "      \n",
    "     'and download count: {}.'.format(f\"{dict(items)['download_count']:,}\"))"
   ]
  },
  {
   "cell_type": "markdown",
   "metadata": {},
   "source": [
    "##  5.2 `.get()`"
   ]
  },
  {
   "cell_type": "markdown",
   "metadata": {},
   "source": [
    "`get` method: Read data from the requested resource. Options for content_type are json,\n",
    "csv, and xml."
   ]
  },
  {
   "cell_type": "code",
   "execution_count": 331,
   "metadata": {},
   "outputs": [
    {
     "name": "stderr",
     "output_type": "stream",
     "text": [
      "WARNING:root:Requests made without an app_token will be subject to strict throttling limits.\n"
     ]
    }
   ],
   "source": [
    "client = Socrata(socrata_domain, None, timeout=60)"
   ]
  },
  {
   "cell_type": "code",
   "execution_count": 332,
   "metadata": {
    "scrolled": false
   },
   "outputs": [
    {
     "name": "stdout",
     "output_type": "stream",
     "text": [
      "<class 'list'>\n"
     ]
    }
   ],
   "source": [
    "# Using try and except statements because these requests are large and may timeout.\n",
    "# If the request timesout, we skip it. \n",
    "\n",
    "try:\n",
    "    print(type(client.get(socrata_dataset_identifier)))\n",
    "except:\n",
    "    print('timeout error.')\n",
    "    pass  "
   ]
  },
  {
   "cell_type": "code",
   "execution_count": 333,
   "metadata": {},
   "outputs": [
    {
     "name": "stdout",
     "output_type": "stream",
     "text": [
      "unique_key\n",
      "created_date\n",
      "agency\n",
      "agency_name\n",
      "complaint_type\n",
      "descriptor\n",
      "location_type\n",
      "incident_zip\n",
      "incident_address\n",
      "street_name\n",
      "cross_street_1\n",
      "cross_street_2\n",
      "intersection_street_1\n",
      "intersection_street_2\n",
      "city\n",
      "landmark\n",
      "status\n",
      "community_board\n",
      "bbl\n",
      "borough\n",
      "x_coordinate_state_plane\n",
      "y_coordinate_state_plane\n",
      "open_data_channel_type\n",
      "park_facility_name\n",
      "park_borough\n",
      "latitude\n",
      "longitude\n",
      "location\n",
      ":@computed_region_efsh_h5xi\n",
      ":@computed_region_f5dn_yrer\n",
      ":@computed_region_yeji_bk3q\n",
      ":@computed_region_92fq_4b7q\n",
      ":@computed_region_sbqj_enih\n"
     ]
    }
   ],
   "source": [
    "# Using try and except statements because these requests are large and may timeout.\n",
    "# If the request timesout, we skip it. \n",
    "\n",
    "# printing the column headers\n",
    "\n",
    "keys = client.get(socrata_dataset_identifier)[0].keys()\n",
    "\n",
    "try:\n",
    "    for key in keys:\n",
    "        print(key)\n",
    "except:\n",
    "        print('timeout error.') \n",
    "        pass"
   ]
  },
  {
   "cell_type": "code",
   "execution_count": 334,
   "metadata": {},
   "outputs": [
    {
     "name": "stdout",
     "output_type": "stream",
     "text": [
      "unique_key: 49721241\n",
      "created_date: 2021-02-06T02:06:28.000\n",
      "agency: NYPD\n",
      "agency_name: New York City Police Department\n",
      "complaint_type: Noise - Street/Sidewalk\n",
      "descriptor: Loud Talking\n",
      "location_type: Street/Sidewalk\n",
      "incident_zip: 11214\n",
      "incident_address: 1901 84 STREET\n",
      "street_name: 84 STREET\n",
      "cross_street_1: 19 AVENUE\n",
      "cross_street_2: 20 AVENUE\n",
      "intersection_street_1: 19 AVENUE\n",
      "intersection_street_2: 20 AVENUE\n",
      "city: BROOKLYN\n",
      "landmark: 84 STREET\n",
      "status: In Progress\n",
      "community_board: 11 BROOKLYN\n",
      "bbl: 3063280001\n",
      "borough: BROOKLYN\n",
      "x_coordinate_state_plane: 984553\n",
      "y_coordinate_state_plane: 160388\n",
      "open_data_channel_type: ONLINE\n",
      "park_facility_name: Unspecified\n",
      "park_borough: BROOKLYN\n",
      "latitude: 40.60690434935019\n",
      "longitude: -73.99890876884116\n",
      "location: {'latitude': '40.60690434935019', 'longitude': '-73.99890876884116', 'human_address': '{\"address\": \"\", \"city\": \"\", \"state\": \"\", \"zip\": \"\"}'}\n",
      ":@computed_region_efsh_h5xi: 17616\n",
      ":@computed_region_f5dn_yrer: 1\n",
      ":@computed_region_yeji_bk3q: 2\n",
      ":@computed_region_92fq_4b7q: 45\n",
      ":@computed_region_sbqj_enih: 37\n"
     ]
    }
   ],
   "source": [
    "# Printing the column and value of the first record\n",
    "\n",
    "items = client.get(socrata_dataset_identifier)[0].items()\n",
    "\n",
    "try:\n",
    "    for key, value in items:\n",
    "        print(key + ':',  value)\n",
    "except:\n",
    "    print('timeout error.')\n",
    "    pass        "
   ]
  },
  {
   "cell_type": "code",
   "execution_count": 335,
   "metadata": {},
   "outputs": [
    {
     "name": "stderr",
     "output_type": "stream",
     "text": [
      "WARNING:root:Requests made without an app_token will be subject to strict throttling limits.\n"
     ]
    },
    {
     "name": "stdout",
     "output_type": "stream",
     "text": [
      "shape of data: (100, 37)\n"
     ]
    },
    {
     "data": {
      "text/html": [
       "<div>\n",
       "<style scoped>\n",
       "    .dataframe tbody tr th:only-of-type {\n",
       "        vertical-align: middle;\n",
       "    }\n",
       "\n",
       "    .dataframe tbody tr th {\n",
       "        vertical-align: top;\n",
       "    }\n",
       "\n",
       "    .dataframe thead th {\n",
       "        text-align: right;\n",
       "    }\n",
       "</style>\n",
       "<table border=\"1\" class=\"dataframe\">\n",
       "  <thead>\n",
       "    <tr style=\"text-align: right;\">\n",
       "      <th></th>\n",
       "      <th>unique_key</th>\n",
       "      <th>created_date</th>\n",
       "      <th>agency</th>\n",
       "      <th>agency_name</th>\n",
       "      <th>complaint_type</th>\n",
       "      <th>descriptor</th>\n",
       "      <th>location_type</th>\n",
       "      <th>incident_zip</th>\n",
       "      <th>incident_address</th>\n",
       "      <th>street_name</th>\n",
       "      <th>...</th>\n",
       "      <th>location</th>\n",
       "      <th>:@computed_region_efsh_h5xi</th>\n",
       "      <th>:@computed_region_f5dn_yrer</th>\n",
       "      <th>:@computed_region_yeji_bk3q</th>\n",
       "      <th>:@computed_region_92fq_4b7q</th>\n",
       "      <th>:@computed_region_sbqj_enih</th>\n",
       "      <th>taxi_pick_up_location</th>\n",
       "      <th>closed_date</th>\n",
       "      <th>resolution_description</th>\n",
       "      <th>resolution_action_updated_date</th>\n",
       "    </tr>\n",
       "  </thead>\n",
       "  <tbody>\n",
       "    <tr>\n",
       "      <th>0</th>\n",
       "      <td>49721241</td>\n",
       "      <td>2021-02-06T02:06:28.000</td>\n",
       "      <td>NYPD</td>\n",
       "      <td>New York City Police Department</td>\n",
       "      <td>Noise - Street/Sidewalk</td>\n",
       "      <td>Loud Talking</td>\n",
       "      <td>Street/Sidewalk</td>\n",
       "      <td>11214</td>\n",
       "      <td>1901 84 STREET</td>\n",
       "      <td>84 STREET</td>\n",
       "      <td>...</td>\n",
       "      <td>{'latitude': '40.60690434935019', 'longitude':...</td>\n",
       "      <td>17616</td>\n",
       "      <td>1</td>\n",
       "      <td>2</td>\n",
       "      <td>45</td>\n",
       "      <td>37</td>\n",
       "      <td>NaN</td>\n",
       "      <td>NaN</td>\n",
       "      <td>NaN</td>\n",
       "      <td>NaN</td>\n",
       "    </tr>\n",
       "    <tr>\n",
       "      <th>1</th>\n",
       "      <td>49718744</td>\n",
       "      <td>2021-02-06T02:05:20.000</td>\n",
       "      <td>NYPD</td>\n",
       "      <td>New York City Police Department</td>\n",
       "      <td>Noise - Residential</td>\n",
       "      <td>Loud Music/Party</td>\n",
       "      <td>Residential Building/House</td>\n",
       "      <td>10009</td>\n",
       "      <td>202 AVENUE A</td>\n",
       "      <td>AVENUE A</td>\n",
       "      <td>...</td>\n",
       "      <td>{'latitude': '40.729457068256956', 'longitude'...</td>\n",
       "      <td>11729</td>\n",
       "      <td>70</td>\n",
       "      <td>4</td>\n",
       "      <td>50</td>\n",
       "      <td>5</td>\n",
       "      <td>NaN</td>\n",
       "      <td>NaN</td>\n",
       "      <td>NaN</td>\n",
       "      <td>NaN</td>\n",
       "    </tr>\n",
       "    <tr>\n",
       "      <th>2</th>\n",
       "      <td>49720071</td>\n",
       "      <td>2021-02-06T02:04:41.000</td>\n",
       "      <td>TLC</td>\n",
       "      <td>Taxi and Limousine Commission</td>\n",
       "      <td>Taxi Complaint</td>\n",
       "      <td>Driver Complaint - Passenger</td>\n",
       "      <td>NaN</td>\n",
       "      <td>11354</td>\n",
       "      <td>135-41 ROOSEVELT AVENUE</td>\n",
       "      <td>ROOSEVELT AVENUE</td>\n",
       "      <td>...</td>\n",
       "      <td>{'latitude': '40.75922794840877', 'longitude':...</td>\n",
       "      <td>13832</td>\n",
       "      <td>22</td>\n",
       "      <td>3</td>\n",
       "      <td>3</td>\n",
       "      <td>67</td>\n",
       "      <td>135-41 ROOSEVELT AVENUE, QUEENS (FLUSHING), NY...</td>\n",
       "      <td>NaN</td>\n",
       "      <td>NaN</td>\n",
       "      <td>NaN</td>\n",
       "    </tr>\n",
       "    <tr>\n",
       "      <th>3</th>\n",
       "      <td>49717575</td>\n",
       "      <td>2021-02-06T02:04:33.000</td>\n",
       "      <td>NYPD</td>\n",
       "      <td>New York City Police Department</td>\n",
       "      <td>Noise - Residential</td>\n",
       "      <td>Loud Music/Party</td>\n",
       "      <td>Residential Building/House</td>\n",
       "      <td>11233</td>\n",
       "      <td>1851 EASTERN PARKWAY</td>\n",
       "      <td>EASTERN PARKWAY</td>\n",
       "      <td>...</td>\n",
       "      <td>{'latitude': '40.675706919721506', 'longitude'...</td>\n",
       "      <td>13516</td>\n",
       "      <td>55</td>\n",
       "      <td>2</td>\n",
       "      <td>37</td>\n",
       "      <td>46</td>\n",
       "      <td>NaN</td>\n",
       "      <td>NaN</td>\n",
       "      <td>NaN</td>\n",
       "      <td>NaN</td>\n",
       "    </tr>\n",
       "    <tr>\n",
       "      <th>4</th>\n",
       "      <td>49723996</td>\n",
       "      <td>2021-02-06T02:03:54.000</td>\n",
       "      <td>NYPD</td>\n",
       "      <td>New York City Police Department</td>\n",
       "      <td>Noise - Residential</td>\n",
       "      <td>Loud Music/Party</td>\n",
       "      <td>Residential Building/House</td>\n",
       "      <td>10032</td>\n",
       "      <td>650 WEST  171 STREET</td>\n",
       "      <td>WEST  171 STREET</td>\n",
       "      <td>...</td>\n",
       "      <td>{'latitude': '40.843571750739436', 'longitude'...</td>\n",
       "      <td>13090</td>\n",
       "      <td>47</td>\n",
       "      <td>4</td>\n",
       "      <td>39</td>\n",
       "      <td>21</td>\n",
       "      <td>NaN</td>\n",
       "      <td>NaN</td>\n",
       "      <td>NaN</td>\n",
       "      <td>NaN</td>\n",
       "    </tr>\n",
       "  </tbody>\n",
       "</table>\n",
       "<p>5 rows × 37 columns</p>\n",
       "</div>"
      ],
      "text/plain": [
       "  unique_key             created_date agency                      agency_name  \\\n",
       "0   49721241  2021-02-06T02:06:28.000   NYPD  New York City Police Department   \n",
       "1   49718744  2021-02-06T02:05:20.000   NYPD  New York City Police Department   \n",
       "2   49720071  2021-02-06T02:04:41.000    TLC    Taxi and Limousine Commission   \n",
       "3   49717575  2021-02-06T02:04:33.000   NYPD  New York City Police Department   \n",
       "4   49723996  2021-02-06T02:03:54.000   NYPD  New York City Police Department   \n",
       "\n",
       "            complaint_type                    descriptor  \\\n",
       "0  Noise - Street/Sidewalk                  Loud Talking   \n",
       "1      Noise - Residential              Loud Music/Party   \n",
       "2           Taxi Complaint  Driver Complaint - Passenger   \n",
       "3      Noise - Residential              Loud Music/Party   \n",
       "4      Noise - Residential              Loud Music/Party   \n",
       "\n",
       "                location_type incident_zip         incident_address  \\\n",
       "0             Street/Sidewalk        11214           1901 84 STREET   \n",
       "1  Residential Building/House        10009             202 AVENUE A   \n",
       "2                         NaN        11354  135-41 ROOSEVELT AVENUE   \n",
       "3  Residential Building/House        11233     1851 EASTERN PARKWAY   \n",
       "4  Residential Building/House        10032     650 WEST  171 STREET   \n",
       "\n",
       "        street_name  ...                                           location  \\\n",
       "0         84 STREET  ...  {'latitude': '40.60690434935019', 'longitude':...   \n",
       "1          AVENUE A  ...  {'latitude': '40.729457068256956', 'longitude'...   \n",
       "2  ROOSEVELT AVENUE  ...  {'latitude': '40.75922794840877', 'longitude':...   \n",
       "3   EASTERN PARKWAY  ...  {'latitude': '40.675706919721506', 'longitude'...   \n",
       "4  WEST  171 STREET  ...  {'latitude': '40.843571750739436', 'longitude'...   \n",
       "\n",
       "  :@computed_region_efsh_h5xi :@computed_region_f5dn_yrer  \\\n",
       "0                       17616                           1   \n",
       "1                       11729                          70   \n",
       "2                       13832                          22   \n",
       "3                       13516                          55   \n",
       "4                       13090                          47   \n",
       "\n",
       "  :@computed_region_yeji_bk3q :@computed_region_92fq_4b7q  \\\n",
       "0                           2                          45   \n",
       "1                           4                          50   \n",
       "2                           3                           3   \n",
       "3                           2                          37   \n",
       "4                           4                          39   \n",
       "\n",
       "  :@computed_region_sbqj_enih  \\\n",
       "0                          37   \n",
       "1                           5   \n",
       "2                          67   \n",
       "3                          46   \n",
       "4                          21   \n",
       "\n",
       "                               taxi_pick_up_location closed_date  \\\n",
       "0                                                NaN         NaN   \n",
       "1                                                NaN         NaN   \n",
       "2  135-41 ROOSEVELT AVENUE, QUEENS (FLUSHING), NY...         NaN   \n",
       "3                                                NaN         NaN   \n",
       "4                                                NaN         NaN   \n",
       "\n",
       "  resolution_description resolution_action_updated_date  \n",
       "0                    NaN                            NaN  \n",
       "1                    NaN                            NaN  \n",
       "2                    NaN                            NaN  \n",
       "3                    NaN                            NaN  \n",
       "4                    NaN                            NaN  \n",
       "\n",
       "[5 rows x 37 columns]"
      ]
     },
     "execution_count": 335,
     "metadata": {},
     "output_type": "execute_result"
    }
   ],
   "source": [
    "# Source domain for NYC Open Data on Socrata\n",
    "socrata_domain = 'data.cityofnewyork.us'\n",
    "\n",
    "# Data set id for NYC 311 on NYC Open Data on Socrata\n",
    "socrata_dataset_identifier = 'erm2-nwe9'\n",
    "\n",
    "# Socrata - The main class that interacts with the SODA API. We pass the source domain value\n",
    "# of NYC Open data, the app token as 'None', and set the timeout parameter for '1,000 seconds'\n",
    "client = Socrata(socrata_domain, None, timeout=1000)\n",
    "\n",
    "# SoQL query string below:\n",
    "# retrieve all columns and limit our records to 100.\n",
    "\n",
    "query = \"\"\"\n",
    "SELECT \n",
    "    *\n",
    "LIMIT \n",
    "    100\n",
    "\"\"\"\n",
    "\n",
    "# Returned as JSON from API / converted to Python list of\n",
    "# dictionaries by sodapy.\n",
    "results = client.get(socrata_dataset_identifier, query=query)\n",
    "\n",
    "# Convert to pandas DataFrame\n",
    "results_df = pd.DataFrame.from_records(results)\n",
    "\n",
    "print('shape of data:', results_df.shape)\n",
    "\n",
    "results_df.head()"
   ]
  },
  {
   "cell_type": "markdown",
   "metadata": {},
   "source": [
    "## 5.3  `.get_metadata()`"
   ]
  },
  {
   "cell_type": "markdown",
   "metadata": {},
   "source": [
    "`get_metadata` method: Retrieve the metadata for a particular dataset."
   ]
  },
  {
   "cell_type": "code",
   "execution_count": 336,
   "metadata": {},
   "outputs": [
    {
     "name": "stderr",
     "output_type": "stream",
     "text": [
      "WARNING:root:Requests made without an app_token will be subject to strict throttling limits.\n"
     ]
    }
   ],
   "source": [
    "client = Socrata(socrata_domain, None, timeout=100)"
   ]
  },
  {
   "cell_type": "code",
   "execution_count": 337,
   "metadata": {},
   "outputs": [
    {
     "data": {
      "text/plain": [
       "dict"
      ]
     },
     "execution_count": 337,
     "metadata": {},
     "output_type": "execute_result"
    }
   ],
   "source": [
    "type(client.get_metadata(socrata_dataset_identifier))"
   ]
  },
  {
   "cell_type": "code",
   "execution_count": 338,
   "metadata": {},
   "outputs": [
    {
     "name": "stdout",
     "output_type": "stream",
     "text": [
      "id\n",
      "name\n",
      "assetType\n",
      "attribution\n",
      "averageRating\n",
      "category\n",
      "createdAt\n",
      "description\n",
      "displayType\n",
      "downloadCount\n",
      "hideFromCatalog\n",
      "hideFromDataJson\n",
      "indexUpdatedAt\n",
      "newBackend\n",
      "numberOfComments\n",
      "oid\n",
      "provenance\n",
      "publicationAppendEnabled\n",
      "publicationDate\n",
      "publicationGroup\n",
      "publicationStage\n",
      "rowClass\n",
      "rowIdentifierColumnId\n",
      "rowsUpdatedAt\n",
      "rowsUpdatedBy\n",
      "tableId\n",
      "totalTimesRated\n",
      "viewCount\n",
      "viewLastModified\n",
      "viewType\n",
      "approvals\n",
      "columns\n",
      "grants\n",
      "metadata\n",
      "owner\n",
      "query\n",
      "rights\n",
      "tableAuthor\n",
      "tags\n",
      "flags\n"
     ]
    }
   ],
   "source": [
    "# Previewing keys vertically.\n",
    "keys = client.get_metadata(socrata_dataset_identifier).keys()\n",
    "for key in keys:\n",
    "    print(key)"
   ]
  },
  {
   "cell_type": "code",
   "execution_count": 339,
   "metadata": {},
   "outputs": [
    {
     "name": "stdout",
     "output_type": "stream",
     "text": [
      "id and name of dataset\n",
      "------------------------------\n",
      "id: erm2-nwe9 \n",
      "name: 311 Service Requests from 2010 to Present\n"
     ]
    }
   ],
   "source": [
    "# Previewing the id and name of the data set.\n",
    "print('id and name of dataset\\n' + \\\n",
    "      '-' * 30 + \\\n",
    "      '\\nid:', client.get_metadata(socrata_dataset_identifier)['id'], \\\n",
    "      '\\nname:', client.get_metadata(socrata_dataset_identifier)['name'])"
   ]
  },
  {
   "cell_type": "code",
   "execution_count": 340,
   "metadata": {
    "scrolled": false
   },
   "outputs": [
    {
     "name": "stdout",
     "output_type": "stream",
     "text": [
      "<class 'dict_items'> \n",
      "\n",
      "<class 'list'> \n",
      "\n",
      "id: erm2-nwe9\n",
      "name: 311 Service Requests from 2010 to Present\n",
      "assetType: dataset\n",
      "attribution: 311, DoITT\n",
      "averageRating: 0\n",
      "category: Social Services\n",
      "createdAt: 1318225937\n",
      "description: <b>NOTE: This data does not present a full picture of 311 calls or service requests, in part because of operational and system complexities associated with remote call taking necessitated by the unprecedented volume 311 is handling during the Covid-19 crisis. The City is working to address this issue. </b>\r\n",
      "\r\n",
      "All 311 Service Requests from 2010 to present. This information is automatically updated daily.\n",
      "displayType: table\n",
      "downloadCount: 398513\n",
      "hideFromCatalog: False\n",
      "hideFromDataJson: False\n",
      "indexUpdatedAt: 1571326778\n",
      "newBackend: True\n",
      "numberOfComments: 19\n",
      "oid: 28506835\n",
      "provenance: official\n",
      "publicationAppendEnabled: False\n",
      "publicationDate: 1524193398\n",
      "publicationGroup: 244403\n",
      "publicationStage: published\n",
      "rowClass: \n",
      "rowIdentifierColumnId: 354922030\n",
      "rowsUpdatedAt: 1612665241\n",
      "rowsUpdatedBy: 5fuc-pqz2\n",
      "tableId: 15047182\n",
      "totalTimesRated: 0\n",
      "viewCount: 440398\n",
      "viewLastModified: 1587586718\n",
      "viewType: tabular\n"
     ]
    }
   ],
   "source": [
    "# Previewing the first 30 keys, values of the dictionary.\n",
    "metadata_items = client.get_metadata(socrata_dataset_identifier).items()\n",
    "print(type(metadata_items), '\\n')\n",
    "\n",
    "metadata_items = list(metadata_items)\n",
    "print(type(metadata_items), '\\n')\n",
    "\n",
    "stop = 0\n",
    "for key, value in metadata_items:\n",
    "    print(key + ':',  value)\n",
    "    stop += 1\n",
    "    \n",
    "    if stop == 30:\n",
    "        break"
   ]
  },
  {
   "cell_type": "code",
   "execution_count": 341,
   "metadata": {},
   "outputs": [
    {
     "name": "stdout",
     "output_type": "stream",
     "text": [
      "metadata_items['columns']: <class 'list'>\n"
     ]
    },
    {
     "data": {
      "text/plain": [
       "{'id': 354922030,\n",
       " 'name': 'Unique Key',\n",
       " 'dataTypeName': 'text',\n",
       " 'description': 'Unique identifier of a Service Request (SR) in the open data set\\n',\n",
       " 'fieldName': 'unique_key',\n",
       " 'position': 1,\n",
       " 'renderTypeName': 'text',\n",
       " 'tableColumnId': 1567787,\n",
       " 'width': 220,\n",
       " 'cachedContents': {'largest': '49724656',\n",
       "  'non_null': '24895045',\n",
       "  'null': '0',\n",
       "  'top': [{'item': '10693408', 'count': '1'},\n",
       "   {'item': '10836749', 'count': '1'},\n",
       "   {'item': '10836967', 'count': '1'},\n",
       "   {'item': '11051177', 'count': '1'},\n",
       "   {'item': '11413576', 'count': '1'},\n",
       "   {'item': '11463895', 'count': '1'},\n",
       "   {'item': '11463896', 'count': '1'},\n",
       "   {'item': '11464334', 'count': '1'},\n",
       "   {'item': '11464394', 'count': '1'},\n",
       "   {'item': '11464467', 'count': '1'},\n",
       "   {'item': '11464508', 'count': '1'},\n",
       "   {'item': '11464509', 'count': '1'},\n",
       "   {'item': '11464521', 'count': '1'},\n",
       "   {'item': '11464567', 'count': '1'},\n",
       "   {'item': '11464572', 'count': '1'},\n",
       "   {'item': '11464639', 'count': '1'},\n",
       "   {'item': '11464846', 'count': '1'},\n",
       "   {'item': '11464850', 'count': '1'},\n",
       "   {'item': '11464938', 'count': '1'},\n",
       "   {'item': '11465153', 'count': '1'}],\n",
       "  'smallest': '10564222',\n",
       "  'not_null': '21933957',\n",
       "  'cardinality': '24895045'},\n",
       " 'format': {}}"
      ]
     },
     "execution_count": 341,
     "metadata": {},
     "output_type": "execute_result"
    }
   ],
   "source": [
    "# Previewing the first item in columns list\n",
    "metadata_items = client.get_metadata(socrata_dataset_identifier)\n",
    "\n",
    "print(\"metadata_items['columns']:\", type(metadata_items['columns']))\n",
    "\n",
    "metadata_items['columns'][0]"
   ]
  },
  {
   "cell_type": "code",
   "execution_count": 342,
   "metadata": {},
   "outputs": [
    {
     "name": "stdout",
     "output_type": "stream",
     "text": [
      "id\n",
      "name\n",
      "dataTypeName\n",
      "description\n",
      "fieldName\n",
      "position\n",
      "renderTypeName\n",
      "tableColumnId\n",
      "width\n",
      "cachedContents\n",
      "format\n"
     ]
    }
   ],
   "source": [
    "for key in metadata_items['columns'][0].keys():\n",
    "    print(key)"
   ]
  },
  {
   "cell_type": "code",
   "execution_count": 343,
   "metadata": {},
   "outputs": [
    {
     "name": "stdout",
     "output_type": "stream",
     "text": [
      "metadata <class 'dict'>\n",
      "metadata['columns'] <class 'list'> length: 46 \n",
      "\n",
      "columns \n",
      "-----------\n",
      "unique_key\n",
      "created_date\n",
      "closed_date\n",
      "agency\n",
      "agency_name\n",
      "complaint_type\n",
      "descriptor\n",
      "location_type\n",
      "incident_zip\n",
      "incident_address\n",
      "street_name\n",
      "cross_street_1\n",
      "cross_street_2\n",
      "intersection_street_1\n",
      "intersection_street_2\n",
      "address_type\n",
      "city\n",
      "landmark\n",
      "facility_type\n",
      "status\n",
      "due_date\n",
      "resolution_description\n",
      "resolution_action_updated_date\n",
      "community_board\n",
      "bbl\n",
      "borough\n",
      "x_coordinate_state_plane\n",
      "y_coordinate_state_plane\n",
      "open_data_channel_type\n",
      "park_facility_name\n",
      "park_borough\n",
      "vehicle_type\n",
      "taxi_company_borough\n",
      "taxi_pick_up_location\n",
      "bridge_highway_name\n",
      "bridge_highway_direction\n",
      "road_ramp\n",
      "bridge_highway_segment\n",
      "latitude\n",
      "longitude\n",
      "location\n",
      ":@computed_region_efsh_h5xi\n",
      ":@computed_region_f5dn_yrer\n",
      ":@computed_region_yeji_bk3q\n",
      ":@computed_region_92fq_4b7q\n",
      ":@computed_region_sbqj_enih\n"
     ]
    }
   ],
   "source": [
    "# Saving metadata dictionary as 'metadata'\n",
    "metadata = client.get_metadata(socrata_dataset_identifier)\n",
    "print('metadata', type(metadata))\n",
    "\n",
    "# Previewing the datatype of columns\n",
    "print(\"metadata['columns']\", type(metadata['columns']), 'length:', len(metadata['columns']), '\\n')\n",
    "\n",
    "print('columns', '\\n' + '-----------')\n",
    "\n",
    "# Previewing the field names for each element in our columns list\n",
    "for x in metadata['columns']:\n",
    "    print(x['fieldName'])"
   ]
  },
  {
   "cell_type": "markdown",
   "metadata": {},
   "source": [
    "# 6. Conclusion"
   ]
  },
  {
   "cell_type": "code",
   "execution_count": null,
   "metadata": {},
   "outputs": [],
   "source": []
  }
 ],
 "metadata": {
  "kernelspec": {
   "display_name": "Python 3",
   "language": "python",
   "name": "python3"
  },
  "language_info": {
   "codemirror_mode": {
    "name": "ipython",
    "version": 3
   },
   "file_extension": ".py",
   "mimetype": "text/x-python",
   "name": "python",
   "nbconvert_exporter": "python",
   "pygments_lexer": "ipython3",
   "version": "3.7.1"
  }
 },
 "nbformat": 4,
 "nbformat_minor": 4
}
