{
 "cells": [
  {
   "cell_type": "markdown",
   "metadata": {},
   "source": [
    "# Sodapy Basics Tutorial Using NYC Open Data \n",
    "Mark Bauer"
   ]
  },
  {
   "cell_type": "markdown",
   "metadata": {},
   "source": [
    "Table of Contents\n",
    "=================\n",
    "\n",
    "   * [1. Introduction](#1-Introduction)\n",
    "       \n",
    "       \n",
    "   * [2. Sodapy](#2-Sodapy)\n",
    "       * [2.1 Using Sodapy](#21-Using-Sodapy)\n",
    "       * [2.2 Sodapy Methods](#22-Sodapy-Methods)\n",
    "       \n",
    "       \n",
    "   * [3. Importing Libraries](#3-Data-Inspection)\n",
    "   \n",
    "   \n",
    "   * [4. Socrata Class](#4-Socrata-Class)\n",
    "   \n",
    "\n",
    "   * [5. Sodapy Methods](#5-Sodapy-Methods)\n",
    "       * [5.1 .datasets()](#51-datasets())\n",
    "       * [5.2 .get()](#52-get())\n",
    "       * [5.3 .get_metadata()](#53-get_metadata())\n",
    "       \n",
    "          \n",
    "   * [6. Conclusion](#10-Conclusion)"
   ]
  },
  {
   "cell_type": "markdown",
   "metadata": {},
   "source": [
    "# 1. Introduction  \n",
    "This notebook demonstrates how to use sodapy, the python client for the Socrata Open Data API (SODA), and reviews various methods to retrieve data from Socrata Open Data. The data in this tutorial is from NYC Open Data. "
   ]
  },
  {
   "cell_type": "markdown",
   "metadata": {},
   "source": [
    "# 2. Sodapy"
   ]
  },
  {
   "cell_type": "markdown",
   "metadata": {},
   "source": [
    "## 2.1 Using Sodapy"
   ]
  },
  {
   "cell_type": "markdown",
   "metadata": {},
   "source": [
    "In order use sodapy, a source domain (i.e. the Socrata Open Data source you are trying to connect to) needs to be passed to the Socrata class. Additionally, if a user wants to query a specific data set on Socrata Open Data, then the data set identifier (i.e. the data set id on the given source domain) needs to be passed as well. Below, we identify NYC Open Data's source domain: `data.cityofnewyork.us` and the data set identifier for the NYC 311 data set: `erm2-nwe9`. The screenshot below displays where we retrieve this information."
   ]
  },
  {
   "cell_type": "markdown",
   "metadata": {},
   "source": [
    "![nyc-311-api-docs](images/nyc-311-api-docs.png)  \n",
    "\n",
    "Source: https://dev.socrata.com/foundry/data.cityofnewyork.us/erm2-nwe9"
   ]
  },
  {
   "cell_type": "markdown",
   "metadata": {},
   "source": [
    "## 2.2 Sodapy Methods"
   ]
  },
  {
   "cell_type": "markdown",
   "metadata": {},
   "source": [
    "![socrata-methods](images/socrata-methods.png)\n",
    "\n",
    "Source: https://github.com/xmunoz/sodapy#datasetslimit0-offset0"
   ]
  },
  {
   "cell_type": "markdown",
   "metadata": {},
   "source": [
    "# We will be focusing on three sodapy methods:\n",
    "## -  `.datasets()`\n",
    "Returns the list of datasets associated with a particular domain.\n",
    "\n",
    "## - `.get()`\n",
    "Read data from the requested resource. Options for content_type are json, csv, and xml.\n",
    "\n",
    "## - `.get_metadata()`\n",
    "Retrieve the metadata for a particular dataset."
   ]
  },
  {
   "cell_type": "markdown",
   "metadata": {},
   "source": [
    "# 3. Importing Libraries"
   ]
  },
  {
   "cell_type": "code",
   "execution_count": 1,
   "metadata": {},
   "outputs": [],
   "source": [
    "# importing libraries\n",
    "import pandas as pd\n",
    "from sodapy import Socrata"
   ]
  },
  {
   "cell_type": "code",
   "execution_count": 2,
   "metadata": {},
   "outputs": [],
   "source": [
    "%reload_ext watermark"
   ]
  },
  {
   "cell_type": "code",
   "execution_count": 3,
   "metadata": {},
   "outputs": [
    {
     "name": "stdout",
     "output_type": "stream",
     "text": [
      "Mark Bauer \n",
      "last updated: 2021-02-08 08:59:16 \n",
      "\n",
      "CPython 3.7.1\n",
      "IPython 7.18.1\n",
      "\n",
      "pandas 1.0.0\n",
      "sodapy 2.0.0\n"
     ]
    }
   ],
   "source": [
    "%watermark -a \"Mark Bauer\" -u -t -d -v -p pandas,sodapy"
   ]
  },
  {
   "cell_type": "markdown",
   "metadata": {},
   "source": [
    "Documention for installing watermark: https://github.com/rasbt/watermark"
   ]
  },
  {
   "cell_type": "markdown",
   "metadata": {},
   "source": [
    "# 4. Socrata Class "
   ]
  },
  {
   "cell_type": "markdown",
   "metadata": {},
   "source": [
    "We assign this information to `socrata_domain` and `socrata_dataset_identifier` variables below."
   ]
  },
  {
   "cell_type": "code",
   "execution_count": 4,
   "metadata": {},
   "outputs": [],
   "source": [
    "# soure domain for NYC Open Data on Socrata\n",
    "socrata_domain = 'data.cityofnewyork.us'\n",
    "\n",
    "# NYC 311 data set identifier\n",
    "socrata_dataset_identifier = 'erm2-nwe9'"
   ]
  },
  {
   "cell_type": "code",
   "execution_count": 5,
   "metadata": {},
   "outputs": [
    {
     "name": "stderr",
     "output_type": "stream",
     "text": [
      "WARNING:root:Requests made without an app_token will be subject to strict throttling limits.\n"
     ]
    }
   ],
   "source": [
    "# The main class that interacts with the SODA API.\n",
    "\n",
    "# The required arguments are:\n",
    "#     domain: the domain you wish you to access\n",
    "#     app_token: your Socrata application token\n",
    "# Simple requests are possible without an app_token, though these\n",
    "# requests will be rate-limited.\n",
    "\n",
    "client = Socrata(socrata_domain, None, timeout=100)"
   ]
  },
  {
   "cell_type": "code",
   "execution_count": 6,
   "metadata": {},
   "outputs": [
    {
     "name": "stdout",
     "output_type": "stream",
     "text": [
      "<sodapy.Socrata object at 0x1166e4898>\n"
     ]
    }
   ],
   "source": [
    "# printing the Socrata object 'client'\n",
    "print(client)"
   ]
  },
  {
   "cell_type": "code",
   "execution_count": 7,
   "metadata": {},
   "outputs": [
    {
     "data": {
      "text/plain": [
       "sodapy.Socrata"
      ]
     },
     "execution_count": 7,
     "metadata": {},
     "output_type": "execute_result"
    }
   ],
   "source": [
    "# printing type of the Socrata object 'client'\n",
    "type(client)"
   ]
  },
  {
   "cell_type": "code",
   "execution_count": 8,
   "metadata": {},
   "outputs": [
    {
     "name": "stdout",
     "output_type": "stream",
     "text": [
      "domain: data.cityofnewyork.us\n",
      "session: <requests.sessions.Session object at 0x1166e4588>\n",
      "uri_prefix: https://\n",
      "timeout: 100\n"
     ]
    }
   ],
   "source": [
    "# printing attributes of client object\n",
    "for key, value in client.__dict__.items():\n",
    "    print(key + ':', value)"
   ]
  },
  {
   "cell_type": "markdown",
   "metadata": {},
   "source": [
    "# 5. Sodapy Methods"
   ]
  },
  {
   "cell_type": "markdown",
   "metadata": {},
   "source": [
    "## 5.1  `.datasets()`"
   ]
  },
  {
   "cell_type": "markdown",
   "metadata": {},
   "source": [
    "`datasets` method: Returns the list of datasets associated with a particular domain.\n",
    "WARNING: Large limits (>1000) will return megabytes of data,\n",
    "which can be slow on low-bandwidth networks, and is also a lot of\n",
    "data to hold in memory."
   ]
  },
  {
   "cell_type": "code",
   "execution_count": 9,
   "metadata": {},
   "outputs": [
    {
     "name": "stdout",
     "output_type": "stream",
     "text": [
      "<class 'list'>\n"
     ]
    }
   ],
   "source": [
    "print(type(client.datasets()))"
   ]
  },
  {
   "cell_type": "code",
   "execution_count": 10,
   "metadata": {},
   "outputs": [
    {
     "data": {
      "text/plain": [
       "3179"
      ]
     },
     "execution_count": 10,
     "metadata": {},
     "output_type": "execute_result"
    }
   ],
   "source": [
    "len(client.datasets())"
   ]
  },
  {
   "cell_type": "code",
   "execution_count": 11,
   "metadata": {},
   "outputs": [
    {
     "name": "stdout",
     "output_type": "stream",
     "text": [
      "Number of data sets on NYC Open Data: 3179.\n"
     ]
    }
   ],
   "source": [
    "print('Number of data sets on NYC Open Data: {}.'.format(len(client.datasets())))"
   ]
  },
  {
   "cell_type": "code",
   "execution_count": 12,
   "metadata": {
    "scrolled": false
   },
   "outputs": [
    {
     "name": "stdout",
     "output_type": "stream",
     "text": [
      "<class 'dict'>\n"
     ]
    }
   ],
   "source": [
    "print(type(client.datasets()[0]))"
   ]
  },
  {
   "cell_type": "code",
   "execution_count": 13,
   "metadata": {},
   "outputs": [
    {
     "data": {
      "text/plain": [
       "dict_keys(['resource', 'classification', 'metadata', 'permalink', 'link', 'owner', 'creator'])"
      ]
     },
     "execution_count": 13,
     "metadata": {},
     "output_type": "execute_result"
    }
   ],
   "source": [
    "client.datasets()[0].keys()"
   ]
  },
  {
   "cell_type": "code",
   "execution_count": 14,
   "metadata": {},
   "outputs": [
    {
     "name": "stdout",
     "output_type": "stream",
     "text": [
      "resource\n",
      "classification\n",
      "metadata\n",
      "permalink\n",
      "link\n",
      "owner\n",
      "creator\n"
     ]
    }
   ],
   "source": [
    "for key in client.datasets()[0].keys():\n",
    "    print(key)"
   ]
  },
  {
   "cell_type": "code",
   "execution_count": 15,
   "metadata": {
    "scrolled": false
   },
   "outputs": [
    {
     "data": {
      "text/plain": [
       "dict_items([('resource', {'name': 'DOB Job Application Filings', 'id': 'ic3t-wcy2', 'parent_fxf': [], 'description': 'This dataset contains all job applications submitted through the Borough Offices, through eFiling, or through the HUB, which have a \"Latest Action Date\" since January 1, 2000. This dataset does not include jobs submitted through DOB NOW. See the DOB NOW: Build – Job Application Filings dataset for DOB NOW jobs.', 'attribution': 'Department of Buildings (DOB)', 'attribution_link': None, 'contact_email': None, 'type': 'dataset', 'updatedAt': '2021-02-07T21:03:02.000Z', 'createdAt': '2013-04-18T15:18:56.000Z', 'metadata_updated_at': '2020-06-23T02:08:44.000Z', 'data_updated_at': '2021-02-07T21:03:02.000Z', 'page_views': {'page_views_last_week': 632, 'page_views_last_month': 2473, 'page_views_total': 2263884, 'page_views_last_week_log': 9.306061689428342, 'page_views_last_month_log': 11.27262978497637, 'page_views_total_log': 21.110369243861662}, 'columns_name': ['Fully Paid', 'Fee Status', 'Curb Cut', 'Professional Cert', 'Horizontal Enlrgmt', 'Job Description', 'SPECIAL_ACTION_STATUS', 'JOB_NO_GOOD_COUNT', 'Proposed Occupancy', 'State', 'Job Status Descrp', \"Applicant's First Name\", 'Zoning Dist3', 'GIS_LATITUDE', 'Equipment', 'GIS_COUNCIL_DISTRICT', 'eFiling Filed', 'Loft Board', 'Non-Profit', 'City Owned', 'House #', 'Block', 'Job Type', 'Fuel Burning', 'Plumbing', 'Boiler', 'Other', 'Site Fill', 'Existing Zoning Sqft', 'Special District 2', \"Owner's Last Name\", \"Owner'sPhone #\", \"Applicant's Last Name\", 'Doc #', 'Cluster', 'Mechanical', 'Vertical Enlrgmt', 'Owner Type', 'Fire Alarm', 'Building Type', 'Adult Estab', 'Existing Dwelling Units', 'Borough', 'Sprinkler', 'Approved', \"Owner's First Name\", 'Little e', 'PC Filed', 'Fire Suppression', 'City ', 'Job Status', 'Initial Cost', 'SIGNOFF_DATE', 'Latest Action Date', 'Standpipe', 'Total Est. Fee', 'ExistingNo. of Stories', 'Proposed No. of Stories', 'GIS_LONGITUDE', 'Fuel Storage', 'Other Description', 'Existing Height', 'Special District 1', 'GIS_NTA_NAME', 'Job #', 'Street Name', 'Lot', 'Bin #', 'Community - Board', 'Landmarked', 'Applicant Professional Title', 'Applicant License #', 'Pre- Filing Date', 'Paid', 'Assigned', 'Fully Permitted', 'Proposed Zoning Sqft', 'Enlargement SQ Footage', 'Street Frontage', 'Proposed Height', 'Proposed Dwelling Units', 'Existing Occupancy', 'Zoning Dist1', 'Zoning Dist2', \"Owner's Business Name\", \"Owner's House Number\", \"Owner'sHouse Street Name\", 'Zip', 'DOBRunDate', 'JOB_S1_NO', 'TOTAL_CONSTRUCTION_FLOOR_AREA', 'WITHDRAWAL_FLAG', 'SPECIAL_ACTION_DATE', 'BUILDING_CLASS', 'GIS_CENSUS_TRACT', 'GIS_BIN'], 'columns_field_name': ['fully_paid', 'fee_status', 'curb_cut', 'professional_cert', 'horizontal_enlrgmt', 'job_description', 'special_action_status', 'job_no_good_count', 'proposed_occupancy', 'state', 'job_status_descrp', 'applicant_s_first_name', 'zoning_dist3', 'gis_latitude', 'equipment', 'gis_council_district', 'efiling_filed', 'loft_board', 'non_profit', 'city_owned', 'house__', 'block', 'job_type', 'fuel_burning', 'plumbing', 'boiler', 'other', 'site_fill', 'existing_zoning_sqft', 'special_district_2', 'owner_s_last_name', 'owner_sphone__', 'applicant_s_last_name', 'doc__', 'cluster', 'mechanical', 'vertical_enlrgmt', 'owner_type', 'fire_alarm', 'building_type', 'adult_estab', 'existing_dwelling_units', 'borough', 'sprinkler', 'approved', 'owner_s_first_name', 'little_e', 'pc_filed', 'fire_suppression', 'city_', 'job_status', 'initial_cost', 'signoff_date', 'latest_action_date', 'standpipe', 'total_est__fee', 'existingno_of_stories', 'proposed_no_of_stories', 'gis_longitude', 'fuel_storage', 'other_description', 'existing_height', 'special_district_1', 'gis_nta_name', 'job__', 'street_name', 'lot', 'bin__', 'community___board', 'landmarked', 'applicant_professional_title', 'applicant_license__', 'pre__filing_date', 'paid', 'assigned', 'fully_permitted', 'proposed_zoning_sqft', 'enlargement_sq_footage', 'street_frontage', 'proposed_height', 'proposed_dwelling_units', 'existing_occupancy', 'zoning_dist1', 'zoning_dist2', 'owner_s_business_name', 'owner_s_house_number', 'owner_shouse_street_name', 'zip', 'dobrundate', 'job_s1_no', 'total_construction_floor_area', 'withdrawal_flag', 'special_action_date', 'building_class', 'gis_census_tract', 'gis_bin'], 'columns_datatype': ['Text', 'Text', 'Text', 'Text', 'Text', 'Text', 'Text', 'Text', 'Text', 'Text', 'Text', 'Text', 'Text', 'Text', 'Text', 'Text', 'Text', 'Text', 'Text', 'Text', 'Text', 'Text', 'Text', 'Text', 'Text', 'Text', 'Text', 'Text', 'Number', 'Text', 'Text', 'Text', 'Text', 'Text', 'Text', 'Text', 'Text', 'Text', 'Text', 'Text', 'Text', 'Text', 'Text', 'Text', 'Text', 'Text', 'Text', 'Text', 'Text', 'Text', 'Text', 'Text', 'Text', 'Text', 'Text', 'Text', 'Number', 'Number', 'Text', 'Text', 'Text', 'Number', 'Text', 'Text', 'Text', 'Text', 'Text', 'Text', 'Text', 'Text', 'Text', 'Text', 'Text', 'Text', 'Text', 'Text', 'Number', 'Number', 'Number', 'Number', 'Text', 'Text', 'Text', 'Text', 'Text', 'Text', 'Text', 'Text', 'Text', 'Text', 'Text', 'Text', 'Text', 'Text', 'Text', 'Text'], 'columns_description': ['Date when job is paid and entered', 'Type of Fee', 'Curb Cut  Work Type? (X=Yes, Blank=No)', \"Job is Professionally Certified by Licensed Professional instead of having it reviewed by Department of Building's Plan Examiners\", 'Horizontal Enlrgmt', 'Job Description', 'Special Action Status', 'Job No Good Count', 'Proposed Occupancy', 'State', 'Status code description', 'First Name of Applicant', 'Zoning Distr 3', 'Latitude', 'Equipment  Work Type? (X=Yes, Blank=No)', 'Council District', 'Application Filed electronically, rather than manually', 'Loft Board', 'Non-Profit', 'City Owned', 'House Number of Residence or Commercial Property', 'Tax block assigned by Department of Finance', 'Job Type, based on DOB Job Code (NB-New Building, A1, A2, A3- Alterations 1-3, SG-Sign, etc.)', 'Fuel Burning  Work Type? (X=Yes, Blank=No)', 'Plumbing Work Type? (X=Yes, Blank=No)', 'Boiler  Work Type? (X=Yes, Blank=No)', 'Other? (X=Yes, Blank=No)', 'Site Fill', 'Existing Zoning Sqft', 'Special District 2', 'Last Name of property owner', \"Owner's  Phone #\", 'Last Name of Applicant', 'Document Number', 'Cluster', 'Mechanical  Work Type? (X=Yes, Blank=No)', 'Vertical Enlrgmt', 'Owner Type', 'Fire Alarm  Work Type? (X=Yes, Blank=No)', '1-2-3 Family  or Other', 'Adult Estab', 'Existing Dwelling Units', '1= Manhattan, 2= Bronx, 3 = Brooklyn, 4 = Queens, 5 = Staten Island', 'Sprinkler  Work Type? (X=Yes, Blank=No)', 'Date when job is approved', 'First Name of property owner', 'Hazardous', 'Application Filed electronically, rather than manually', 'Fire Suppression  Work Type? (X=Yes, Blank=No)', 'City ', 'DOB Status code of job (A-Pre Filed, I-Sign Off, P- Approved, R-Permit Entire) Complete List - http://www.nyc.gov/html/dob/downloads/pdf/bisjobstatus.pdf', ' Estimated cost of job', 'Sign-off Date', 'Latest status date', 'Standpipe Work Type? (X=Yes, Blank=No)', 'Estimated fee of job', 'ExistingNo. of Stories', 'Proposed No. of Stories', 'Longitude', 'Fuel Storage  Work Type? (X=Yes, Blank=No)', 'Other Description', 'Existing Height', 'Special Distr 1', 'NTA Name', 'Number assigned by DOB to Job Filing', 'Street Name where Property is located', 'Tax lot assigned by Department of Finance', 'Number assigned by City Planning to a specific building', '3-digit identifier: Borough code = first position, last 2 = community board', 'L code indicates that the building has been assigned landmark status', \"Applicant's Professional Title\", 'Number assigned to the skilled trade person/contractor or licensed professional', 'Date when job is prefiled', 'Date when job is paid', 'Date when job is assigned to plan examiner', 'Date when job is fully permitted', 'Proposed Zoning Sqft', 'Enlargement SQ Footage', 'Street Frontage', 'Proposed Height', 'Proposed Dwelling Units', 'Existing Occupancy', 'Zoning Distr 1', 'Zoning Distr 2', 'Business Name of Property Owner', 'House Number of Property Owner', 'House Street Name of Property Owner', 'Zip', 'Date when query is run and pushed to Open Data. Could be used to differentiate report dates.', 'JOB_S1_NO', 'Total  Construction Floor Area', 'Withdrawal Indicator', 'Special Action Date', 'Building Class', 'Census Tract', 'BIN'], 'columns_format': [{'align': 'right'}, {'align': 'right'}, {'align': 'right'}, {'align': 'right'}, {'align': 'right'}, {'align': 'right'}, {'align': 'right'}, {'align': 'right'}, {'align': 'right'}, {'align': 'right'}, {'align': 'right'}, {'align': 'right'}, {'align': 'right'}, {'align': 'right'}, {'align': 'right'}, {'align': 'right'}, {'align': 'right'}, {'align': 'right'}, {'align': 'right'}, {'align': 'right'}, {'align': 'right'}, {'align': 'right'}, {'align': 'right'}, {'align': 'right'}, {'align': 'right'}, {'align': 'right'}, {'align': 'right'}, {'align': 'right'}, {'precisionStyle': 'standard', 'noCommas': 'true', 'align': 'left'}, {'align': 'right'}, {'align': 'right'}, {'align': 'right'}, {'align': 'right'}, {'align': 'right'}, {'align': 'right'}, {'align': 'right'}, {'align': 'right'}, {'align': 'right'}, {'align': 'right'}, {'align': 'right'}, {'align': 'right'}, {'align': 'right'}, {'align': 'right'}, {'align': 'right'}, {'align': 'right'}, {'align': 'right'}, {'align': 'right'}, {'align': 'right'}, {'align': 'right'}, {'align': 'right'}, {'align': 'right'}, {'align': 'right'}, {'align': 'right'}, {'view': 'date', 'align': 'right'}, {'align': 'right'}, {'align': 'right'}, {'precisionStyle': 'standard', 'noCommas': 'true', 'align': 'left'}, {'precisionStyle': 'standard', 'noCommas': 'true', 'align': 'left'}, {'align': 'right'}, {'align': 'right'}, {'align': 'right'}, {'precisionStyle': 'standard', 'noCommas': 'true', 'align': 'left'}, {'align': 'right'}, {'align': 'right'}, {'align': 'right'}, {'align': 'right'}, {'align': 'right'}, {'align': 'right'}, {'align': 'right'}, {'align': 'right'}, {'align': 'right'}, {'align': 'right'}, {'align': 'right'}, {'align': 'right'}, {'align': 'right'}, {'align': 'right'}, {'precisionStyle': 'standard', 'noCommas': 'true', 'align': 'left'}, {'precisionStyle': 'standard', 'noCommas': 'true', 'align': 'left'}, {'precisionStyle': 'standard', 'noCommas': 'true', 'align': 'left'}, {'precisionStyle': 'standard', 'noCommas': 'true', 'align': 'left'}, {'align': 'right'}, {'align': 'right'}, {'align': 'right'}, {'align': 'right'}, {'align': 'right'}, {'align': 'right'}, {'align': 'right'}, {'align': 'right'}, {'view': 'date', 'align': 'left'}, {'align': 'right'}, {'align': 'right'}, {'align': 'right'}, {'align': 'right'}, {'align': 'right'}, {'align': 'right'}, {'align': 'right'}], 'download_count': 37094, 'provenance': 'official', 'lens_view_type': 'tabular', 'blob_mime_type': None, 'hide_from_data_json': False, 'publication_date': '2020-06-22T18:23:35.000Z'}), ('classification', {'categories': ['economy', 'environment', 'housing & development'], 'tags': [], 'domain_category': 'Housing & Development', 'domain_tags': ['buildings', 'dob', 'job'], 'domain_metadata': [{'key': 'Update_Automation', 'value': 'Yes'}, {'key': 'Update_Date-Made-Public', 'value': '4/26/2013'}, {'key': 'Update_Update-Frequency', 'value': 'Daily'}, {'key': 'Dataset-Information_Agency', 'value': 'Department of Buildings (DOB)'}]}), ('metadata', {'domain': 'data.cityofnewyork.us'}), ('permalink', 'https://data.cityofnewyork.us/d/ic3t-wcy2'), ('link', 'https://data.cityofnewyork.us/Housing-Development/DOB-Job-Application-Filings/ic3t-wcy2'), ('owner', {'id': '5fuc-pqz2', 'user_type': 'interactive', 'display_name': 'NYC OpenData'}), ('creator', {'id': '5fuc-pqz2', 'user_type': 'interactive', 'display_name': 'NYC OpenData'})])"
      ]
     },
     "execution_count": 15,
     "metadata": {},
     "output_type": "execute_result"
    }
   ],
   "source": [
    "client.datasets()[0].items()"
   ]
  },
  {
   "cell_type": "code",
   "execution_count": 16,
   "metadata": {},
   "outputs": [
    {
     "data": {
      "text/plain": [
       "dict"
      ]
     },
     "execution_count": 16,
     "metadata": {},
     "output_type": "execute_result"
    }
   ],
   "source": [
    "type(client.datasets()[0]['resource'])"
   ]
  },
  {
   "cell_type": "code",
   "execution_count": 17,
   "metadata": {},
   "outputs": [
    {
     "name": "stdout",
     "output_type": "stream",
     "text": [
      "name\n",
      "id\n",
      "parent_fxf\n",
      "description\n",
      "attribution\n",
      "attribution_link\n",
      "contact_email\n",
      "type\n",
      "updatedAt\n",
      "createdAt\n",
      "metadata_updated_at\n",
      "data_updated_at\n",
      "page_views\n",
      "columns_name\n",
      "columns_field_name\n",
      "columns_datatype\n",
      "columns_description\n",
      "columns_format\n",
      "download_count\n",
      "provenance\n",
      "lens_view_type\n",
      "blob_mime_type\n",
      "hide_from_data_json\n",
      "publication_date\n"
     ]
    }
   ],
   "source": [
    "for key in client.datasets()[0]['resource'].keys():\n",
    "    print(key)"
   ]
  },
  {
   "cell_type": "code",
   "execution_count": 18,
   "metadata": {},
   "outputs": [
    {
     "name": "stdout",
     "output_type": "stream",
     "text": [
      "categories\n",
      "tags\n",
      "domain_category\n",
      "domain_tags\n",
      "domain_metadata\n"
     ]
    }
   ],
   "source": [
    "for key in client.datasets()[0]['classification'].keys():\n",
    "    print(key)"
   ]
  },
  {
   "cell_type": "code",
   "execution_count": 19,
   "metadata": {},
   "outputs": [
    {
     "name": "stdout",
     "output_type": "stream",
     "text": [
      "categories: ['economy', 'environment', 'housing & development']\n",
      "tags: []\n",
      "domain_category: Housing & Development\n",
      "domain_tags: ['buildings', 'dob', 'job']\n",
      "domain_metadata: [{'key': 'Update_Automation', 'value': 'Yes'}, {'key': 'Update_Date-Made-Public', 'value': '4/26/2013'}, {'key': 'Update_Update-Frequency', 'value': 'Daily'}, {'key': 'Dataset-Information_Agency', 'value': 'Department of Buildings (DOB)'}]\n"
     ]
    }
   ],
   "source": [
    "for key, value in client.datasets()[0]['classification'].items():\n",
    "    print(key + ':', value)"
   ]
  },
  {
   "cell_type": "code",
   "execution_count": 20,
   "metadata": {
    "scrolled": false
   },
   "outputs": [
    {
     "name": "stdout",
     "output_type": "stream",
     "text": [
      "name: DOB Job Application Filings \n",
      "\n",
      "id: ic3t-wcy2 \n",
      "\n",
      "parent_fxf: [] \n",
      "\n",
      "description: This dataset contains all job applications submitted through the Borough Offices, through eFiling, or through the HUB, which have a \"Latest Action Date\" since January 1, 2000. This dataset does not include jobs submitted through DOB NOW. See the DOB NOW: Build – Job Application Filings dataset for DOB NOW jobs. \n",
      "\n",
      "attribution: Department of Buildings (DOB) \n",
      "\n",
      "\n",
      "Previewing top 5 results in classification dictionary\n"
     ]
    }
   ],
   "source": [
    "stop = 0\n",
    "\n",
    "for key, value in list(client.datasets()[0]['resource'].items()):\n",
    "    print(key + ':', value, '\\n')\n",
    "    stop += 1\n",
    "    \n",
    "    if stop == 5:\n",
    "        break\n",
    "        \n",
    "print('\\nPreviewing top {} results in classification dictionary'.format(stop))        "
   ]
  },
  {
   "cell_type": "code",
   "execution_count": 21,
   "metadata": {},
   "outputs": [
    {
     "name": "stdout",
     "output_type": "stream",
     "text": [
      "categories: ['economy', 'environment', 'housing & development'] \n",
      "\n",
      "tags: [] \n",
      "\n",
      "domain_category: Housing & Development \n",
      "\n",
      "domain_tags: ['buildings', 'dob', 'job'] \n",
      "\n",
      "domain_metadata: [{'key': 'Update_Automation', 'value': 'Yes'}, {'key': 'Update_Date-Made-Public', 'value': '4/26/2013'}, {'key': 'Update_Update-Frequency', 'value': 'Daily'}, {'key': 'Dataset-Information_Agency', 'value': 'Department of Buildings (DOB)'}] \n",
      "\n",
      "\n",
      "Previewing top 5 results in classification dictionary\n"
     ]
    }
   ],
   "source": [
    "stop = 0\n",
    "\n",
    "for key, value in list(client.datasets()[0]['classification'].items()):\n",
    "    print(key + ':', value, '\\n')\n",
    "    stop += 1\n",
    "    \n",
    "    if stop == 5:\n",
    "        break\n",
    "        \n",
    "print('\\nPreviewing top {} results in classification dictionary'.format(stop))        "
   ]
  },
  {
   "cell_type": "code",
   "execution_count": 22,
   "metadata": {},
   "outputs": [
    {
     "name": "stdout",
     "output_type": "stream",
     "text": [
      "domain: data.cityofnewyork.us \n",
      "\n",
      "\n",
      "Previewing top 1 results in metadata dictionary\n"
     ]
    }
   ],
   "source": [
    "stop = 0\n",
    "\n",
    "for key, value in list(client.datasets()[0]['metadata'].items()):\n",
    "    print(key + ':', value, '\\n')\n",
    "    stop += 1\n",
    "    \n",
    "    if stop == 5:\n",
    "        break\n",
    "        \n",
    "print('\\nPreviewing top {} results in metadata dictionary'.format(stop))"
   ]
  },
  {
   "cell_type": "code",
   "execution_count": 23,
   "metadata": {},
   "outputs": [
    {
     "name": "stdout",
     "output_type": "stream",
     "text": [
      "id: 5fuc-pqz2 \n",
      "\n",
      "user_type: interactive \n",
      "\n",
      "display_name: NYC OpenData \n",
      "\n",
      "\n",
      "Previewing top 3 results in owner dictionary\n"
     ]
    }
   ],
   "source": [
    "stop = 0\n",
    "\n",
    "for key, value in list(client.datasets()[0]['owner'].items()):\n",
    "    print(key + ':', value, '\\n')\n",
    "    stop += 1\n",
    "    \n",
    "    if stop == 5:\n",
    "        break\n",
    "        \n",
    "print('\\nPreviewing top {} results in owner dictionary'.format(stop))"
   ]
  },
  {
   "cell_type": "code",
   "execution_count": 24,
   "metadata": {},
   "outputs": [
    {
     "name": "stdout",
     "output_type": "stream",
     "text": [
      "id: 5fuc-pqz2 \n",
      "\n",
      "user_type: interactive \n",
      "\n",
      "display_name: NYC OpenData \n",
      "\n",
      "\n",
      "Previewing top 3 results in creator dictionary\n"
     ]
    }
   ],
   "source": [
    "stop = 0\n",
    "\n",
    "for key, value in list(client.datasets()[0]['creator'].items()):\n",
    "    print(key + ':', value, '\\n')\n",
    "    stop += 1\n",
    "    \n",
    "    if stop == 5:\n",
    "        break\n",
    "        \n",
    "print('\\nPreviewing top {} results in creator dictionary'.format(stop))        "
   ]
  },
  {
   "cell_type": "code",
   "execution_count": 25,
   "metadata": {
    "scrolled": false
   },
   "outputs": [
    {
     "name": "stdout",
     "output_type": "stream",
     "text": [
      "We found the NYC 311 data set!\n",
      "\n",
      "311 Service Requests from 2010 to Present \n",
      "Index is: 5\n"
     ]
    }
   ],
   "source": [
    "# Once we've identified the structure of the dictionary, we try to \n",
    "# find the 311 data set and identify its position in the datasets list.\n",
    "\n",
    "idx = 0\n",
    "\n",
    "for dataset_id in client.datasets():\n",
    "    if client.datasets()[idx]['resource']['id'] == 'erm2-nwe9':\n",
    "        print('We found the NYC 311 data set!\\n')\n",
    "        print(client.datasets()[idx]['resource']['name'], \\\n",
    "              '\\nIndex is:', idx)\n",
    "        break\n",
    "    else:\n",
    "        idx += 1    "
   ]
  },
  {
   "cell_type": "code",
   "execution_count": 26,
   "metadata": {
    "scrolled": false
   },
   "outputs": [
    {
     "name": "stdout",
     "output_type": "stream",
     "text": [
      "The 311 data set index in the datasets list is: 5\n"
     ]
    }
   ],
   "source": [
    "# Previewing information about the 311 data set from the datasets method.\n",
    "# Note: Information is quite long.\n",
    "\n",
    "idx_311 = idx\n",
    "print('The 311 data set index in the datasets list is:', idx_311)"
   ]
  },
  {
   "cell_type": "code",
   "execution_count": 27,
   "metadata": {},
   "outputs": [
    {
     "name": "stdout",
     "output_type": "stream",
     "text": [
      "name\n",
      "id\n",
      "parent_fxf\n",
      "description\n",
      "attribution\n",
      "attribution_link\n",
      "contact_email\n",
      "type\n",
      "updatedAt\n",
      "createdAt\n",
      "metadata_updated_at\n",
      "data_updated_at\n",
      "page_views\n",
      "columns_name\n",
      "columns_field_name\n",
      "columns_datatype\n",
      "columns_description\n",
      "columns_format\n",
      "download_count\n",
      "provenance\n",
      "lens_view_type\n",
      "blob_mime_type\n",
      "hide_from_data_json\n",
      "publication_date\n"
     ]
    }
   ],
   "source": [
    "# Since the datasets method is long, let's see if we can identify specific keys we want to preview\n",
    "# in the resource dictionary.\n",
    "\n",
    "for key in client.datasets()[idx_311]['resource'].keys():\n",
    "    print(key)"
   ]
  },
  {
   "cell_type": "code",
   "execution_count": 28,
   "metadata": {
    "scrolled": false
   },
   "outputs": [
    {
     "name": "stdout",
     "output_type": "stream",
     "text": [
      "name: 311 Service Requests from 2010 to Present\n",
      "\n",
      "id: erm2-nwe9\n",
      "\n",
      "parent_fxf: []\n",
      "\n",
      "description: <b>NOTE: This data does not present a full picture of 311 calls or service requests, in part because of operational and system complexities associated with remote call taking necessitated by the unprecedented volume 311 is handling during the Covid-19 crisis. The City is working to address this issue. </b>\r\n",
      "\r\n",
      "All 311 Service Requests from 2010 to present. This information is automatically updated daily.\n",
      "\n",
      "attribution: 311, DoITT\n",
      "\n",
      "attribution_link: None\n",
      "\n",
      "contact_email: None\n",
      "\n",
      "type: dataset\n",
      "\n",
      "updatedAt: 2021-02-08T02:34:11.000Z\n",
      "\n",
      "createdAt: 2011-10-10T05:52:17.000Z\n",
      "\n",
      "metadata_updated_at: 2020-04-22T20:18:38.000Z\n",
      "\n",
      "data_updated_at: 2021-02-08T02:34:11.000Z\n",
      "\n",
      "page_views: {'page_views_last_week': 1275, 'page_views_last_month': 5355, 'page_views_total': 440515, 'page_views_last_week_log': 10.31741261376487, 'page_views_last_month_log': 12.386940245324311, 'page_views_total_log': 18.74883489472086}\n",
      "\n",
      "columns_name: ['Intersection Street 1', 'Location (state)', 'Due Date', 'City', 'Intersection Street 2', 'Cross Street 2', 'Incident Address', 'Complaint Type', 'Closed Date', 'Unique Key', 'Location', 'Latitude', 'Borough', 'Landmark', 'Incident Zip', 'Location Type', 'Descriptor', 'Resolution Action Updated Date', 'Agency Name', 'Location (city)', 'Bridge Highway Name', 'X Coordinate (State Plane)', 'Address Type', 'Cross Street 1', 'Created Date', 'Bridge Highway Segment', 'Street Name', 'Taxi Company Borough', 'Location (zip)', 'Agency', 'Status', 'Vehicle Type', 'Taxi Pick Up Location', 'Park Borough', 'Longitude', 'Resolution Description', 'Facility Type', 'Road Ramp', 'Zip Codes', 'Community Districts', 'Borough Boundaries', 'City Council Districts', 'Police Precincts', 'Location (address)', 'Bridge Highway Direction', 'Park Facility Name', 'Open Data Channel Type', 'Y Coordinate (State Plane)', 'BBL', 'Community Board']\n",
      "\n",
      "columns_field_name: ['intersection_street_1', 'location_state', 'due_date', 'city', 'intersection_street_2', 'cross_street_2', 'incident_address', 'complaint_type', 'closed_date', 'unique_key', 'location', 'latitude', 'borough', 'landmark', 'incident_zip', 'location_type', 'descriptor', 'resolution_action_updated_date', 'agency_name', 'location_city', 'bridge_highway_name', 'x_coordinate_state_plane', 'address_type', 'cross_street_1', 'created_date', 'bridge_highway_segment', 'street_name', 'taxi_company_borough', 'location_zip', 'agency', 'status', 'vehicle_type', 'taxi_pick_up_location', 'park_borough', 'longitude', 'resolution_description', 'facility_type', 'road_ramp', ':@computed_region_efsh_h5xi', ':@computed_region_f5dn_yrer', ':@computed_region_yeji_bk3q', ':@computed_region_92fq_4b7q', ':@computed_region_sbqj_enih', 'location_address', 'bridge_highway_direction', 'park_facility_name', 'open_data_channel_type', 'y_coordinate_state_plane', 'bbl', 'community_board']\n",
      "\n",
      "columns_datatype: ['Text', 'Text', 'Calendar date', 'Text', 'Text', 'Text', 'Text', 'Text', 'Calendar date', 'Text', 'Point', 'Number', 'Text', 'Text', 'Text', 'Text', 'Text', 'Calendar date', 'Text', 'Text', 'Text', 'Number', 'Text', 'Text', 'Calendar date', 'Text', 'Text', 'Text', 'Text', 'Text', 'Text', 'Text', 'Text', 'Text', 'Number', 'Text', 'Text', 'Text', 'Number', 'Number', 'Number', 'Number', 'Number', 'Text', 'Text', 'Text', 'Text', 'Number', 'Text', 'Text']\n",
      "\n",
      "columns_description: ['First intersecting street based on geo validated incident location\\n', '', 'Date when responding agency is expected to update the SR.  This is based on the Complaint Type and internal Service Level Agreements (SLAs).\\n', 'City of the incident location provided by geovalidation.\\n', 'Second intersecting street based on geo validated incident location\\n', 'Second Cross Street based on the geo validated incident location\\n', 'House number of incident address provided by submitter.\\n', 'This is the first level of a hierarchy identifying the topic of the incident or condition. Complaint Type may have a corresponding Descriptor (below) or may stand alone.', 'Date SR was closed by responding agency\\n', 'Unique identifier of a Service Request (SR) in the open data set\\n', 'Combination of the geo based lat & long of the incident location\\n', 'Geo based Lat of the incident location\\n', 'Provided by the submitter and confirmed by geovalidation.\\n', 'If the incident location is identified as a Landmark the name of the landmark will display here\\n', 'Incident location zip code, provided by geo validation.\\n', 'Describes the type of location used in the address information \\n', 'This is  associated to the Complaint Type, and provides further detail on the incident or condition. Descriptor values are dependent on the Complaint Type, and are not always required in SR. \\n', 'Date when responding agency last updated the SR.\\n', 'Full Agency name of responding City Government Agency', '', 'If the incident is identified as a Bridge/Highway, the name will be displayed here.\\n', 'Geo validated, X coordinate of the incident location. \\n', 'Type of incident location information available.\\n', 'First Cross street based on the geo validated incident location\\n', 'Date SR  was created\\n', 'Additional information on the section of the Bridge/Highway were the incident took place.\\n', 'Street name of incident address provided by the submitter\\n', 'If the incident is identified as a taxi, this field will display the borough of the taxi company. \\n', '', 'Acronym of responding City Government Agency\\n', 'Status of SR submitted \\n', 'If the incident is a taxi, this field describes the type of TLC vehicle. \\n', 'If the incident is identified as a taxi, this field displays the taxi pick up location\\n', 'The borough of incident if it is a Parks Dept facility\\n', 'Geo based Long of the incident location\\n', 'Describes the last action taken on the SR by the responding agency.  May describe next or future steps. \\n', 'If available, this field describes the type of city facility associated to the SR\\n', 'If the incident location was Bridge/Highway this column differentiates if the issue was on the Road or the Ramp.\\n', '', '', '', '', '', '', 'If the incident is identified as a Bridge/Highway, the direction where the issue took place would be displayed here.\\n', 'If the incident location is a Parks Dept facility, the Name of the facility will appear here\\n', 'Indicates how the SR was submitted to 311.  i.e. By Phone, Online, Mobile, Other or Unknown.', 'Geo validated,  Y coordinate of the incident location. \\n', 'Borough Block and Lot, provided by geovalidation. Parcel number to identify the location of location of buildings and properties in NYC.', 'Provided by geovalidation.\\n']\n",
      "\n",
      "columns_format: [{}, {}, {'view': 'date_time', 'align': 'left'}, {'displayStyle': 'plain', 'align': 'left'}, {}, {}, {}, {'displayStyle': 'plain', 'align': 'left'}, {'view': 'date_time', 'align': 'left'}, {}, {'view': 'coords', 'align': 'left'}, {'precisionStyle': 'standard', 'noCommas': 'false', 'align': 'right'}, {'displayStyle': 'plain', 'align': 'left'}, {'displayStyle': 'plain', 'align': 'left'}, {}, {}, {}, {'view': 'date_time', 'align': 'left'}, {'displayStyle': 'plain', 'align': 'left'}, {}, {'displayStyle': 'plain', 'align': 'left'}, {'precisionStyle': 'standard', 'noCommas': 'false', 'align': 'right'}, {}, {}, {'view': 'date_time', 'align': 'left'}, {'displayStyle': 'plain', 'align': 'left'}, {}, {'displayStyle': 'plain', 'align': 'left'}, {}, {}, {}, {'displayStyle': 'plain', 'align': 'left'}, {'displayStyle': 'plain', 'align': 'left'}, {'displayStyle': 'plain', 'align': 'left'}, {'precisionStyle': 'standard', 'noCommas': 'false', 'align': 'right'}, {'displayStyle': 'plain', 'align': 'left'}, {'displayStyle': 'plain', 'align': 'left'}, {'displayStyle': 'plain', 'align': 'left'}, {}, {}, {}, {}, {}, {}, {'displayStyle': 'plain', 'align': 'left'}, {'displayStyle': 'plain', 'align': 'left'}, {'displayStyle': 'plain', 'align': 'left'}, {'precisionStyle': 'standard', 'noCommas': 'false', 'align': 'right'}, {'displayStyle': 'plain', 'align': 'left'}, {'displayStyle': 'plain', 'align': 'left'}]\n",
      "\n",
      "download_count: 398547\n",
      "\n",
      "provenance: official\n",
      "\n",
      "lens_view_type: tabular\n",
      "\n",
      "blob_mime_type: None\n",
      "\n",
      "hide_from_data_json: False\n",
      "\n",
      "publication_date: 2018-04-20T03:03:18.000Z\n",
      "\n"
     ]
    }
   ],
   "source": [
    "items = client.datasets()[idx_311]['resource'].items()\n",
    "\n",
    "for key, value in items:\n",
    "    print(key + ':', str(value) + '\\n')"
   ]
  },
  {
   "cell_type": "code",
   "execution_count": 29,
   "metadata": {},
   "outputs": [
    {
     "data": {
      "text/plain": [
       "dict_items"
      ]
     },
     "execution_count": 29,
     "metadata": {},
     "output_type": "execute_result"
    }
   ],
   "source": [
    "type(items)"
   ]
  },
  {
   "cell_type": "code",
   "execution_count": 30,
   "metadata": {},
   "outputs": [
    {
     "data": {
      "text/plain": [
       "'311 Service Requests from 2010 to Present'"
      ]
     },
     "execution_count": 30,
     "metadata": {},
     "output_type": "execute_result"
    }
   ],
   "source": [
    "dict(items)['name']"
   ]
  },
  {
   "cell_type": "code",
   "execution_count": 31,
   "metadata": {},
   "outputs": [
    {
     "name": "stdout",
     "output_type": "stream",
     "text": [
      "The 311 Service Requests from 2010 to Present data description:\n",
      "\n",
      "<b>NOTE: This data does not present a full picture of 311 calls or service requests, in part because of operational and system complexities associated with remote call taking necessitated by the unprecedented volume 311 is handling during the Covid-19 crisis. The City is working to address this issue. </b>\r\n",
      "\r\n",
      "All 311 Service Requests from 2010 to present. This information is automatically updated daily..\n"
     ]
    }
   ],
   "source": [
    "print('The {} data description:\\n\\n{}.'.format(dict(items)['name'], dict(items)['description']))"
   ]
  },
  {
   "cell_type": "code",
   "execution_count": 32,
   "metadata": {},
   "outputs": [
    {
     "name": "stdout",
     "output_type": "stream",
     "text": [
      "The 311 Service Requests from 2010 to Present data was created at:\n",
      "\n",
      "2011-10-10T05:52:17.000Z and created at:\n",
      "\n",
      "2021-02-08T02:34:11.000Z.\n"
     ]
    }
   ],
   "source": [
    "print('The {} data was created at:\\n\\n{}'.format(dict(items)['name'], dict(items)['createdAt']), \\\n",
    "      \n",
    "      'and created at:\\n\\n{}.'.format(dict(items)['data_updated_at']))"
   ]
  },
  {
   "cell_type": "code",
   "execution_count": 33,
   "metadata": {},
   "outputs": [
    {
     "name": "stdout",
     "output_type": "stream",
     "text": [
      "311 page views information:\n",
      "\n",
      "page_views_last_week: 1275\n",
      "page_views_last_month: 5355\n",
      "page_views_total: 440515\n",
      "page_views_last_week_log: 10.31741261376487\n",
      "page_views_last_month_log: 12.386940245324311\n",
      "page_views_total_log: 18.74883489472086\n"
     ]
    }
   ],
   "source": [
    "print('311 page views information:\\n')\n",
    "\n",
    "for key, value in dict(items)['page_views'].items():\n",
    "    print(key + ':', value)"
   ]
  },
  {
   "cell_type": "code",
   "execution_count": 34,
   "metadata": {},
   "outputs": [
    {
     "name": "stdout",
     "output_type": "stream",
     "text": [
      "The NYC 311 data view count: 440,515 and download count: 398,547.\n"
     ]
    }
   ],
   "source": [
    "print('The NYC 311 data view count: {}'.format(f\"{dict(items)['page_views']['page_views_total']:,}\"), \\\n",
    "      \n",
    "     'and download count: {}.'.format(f\"{dict(items)['download_count']:,}\"))"
   ]
  },
  {
   "cell_type": "markdown",
   "metadata": {},
   "source": [
    "##  5.2 `.get()`"
   ]
  },
  {
   "cell_type": "markdown",
   "metadata": {},
   "source": [
    "`get` method: Read data from the requested resource. Options for content_type are json,\n",
    "csv, and xml."
   ]
  },
  {
   "cell_type": "code",
   "execution_count": 35,
   "metadata": {},
   "outputs": [
    {
     "name": "stderr",
     "output_type": "stream",
     "text": [
      "WARNING:root:Requests made without an app_token will be subject to strict throttling limits.\n"
     ]
    }
   ],
   "source": [
    "client = Socrata(socrata_domain, None, timeout=60)"
   ]
  },
  {
   "cell_type": "code",
   "execution_count": 36,
   "metadata": {
    "scrolled": false
   },
   "outputs": [
    {
     "name": "stdout",
     "output_type": "stream",
     "text": [
      "<class 'list'>\n"
     ]
    }
   ],
   "source": [
    "# Using try and except statements because these requests are large and may timeout.\n",
    "# If the request timesout, we skip it. \n",
    "\n",
    "try:\n",
    "    print(type(client.get(socrata_dataset_identifier)))\n",
    "except:\n",
    "    print('timeout error.')\n",
    "    pass  "
   ]
  },
  {
   "cell_type": "code",
   "execution_count": 37,
   "metadata": {},
   "outputs": [
    {
     "name": "stdout",
     "output_type": "stream",
     "text": [
      "unique_key\n",
      "created_date\n",
      "agency\n",
      "agency_name\n",
      "complaint_type\n",
      "descriptor\n",
      "location_type\n",
      "incident_zip\n",
      "incident_address\n",
      "street_name\n",
      "cross_street_1\n",
      "cross_street_2\n",
      "intersection_street_1\n",
      "intersection_street_2\n",
      "city\n",
      "landmark\n",
      "status\n",
      "community_board\n",
      "bbl\n",
      "borough\n",
      "x_coordinate_state_plane\n",
      "y_coordinate_state_plane\n",
      "open_data_channel_type\n",
      "park_facility_name\n",
      "park_borough\n",
      "latitude\n",
      "longitude\n",
      "location\n",
      ":@computed_region_efsh_h5xi\n",
      ":@computed_region_f5dn_yrer\n",
      ":@computed_region_yeji_bk3q\n",
      ":@computed_region_92fq_4b7q\n",
      ":@computed_region_sbqj_enih\n"
     ]
    }
   ],
   "source": [
    "# Using try and except statements because these requests are large and may timeout.\n",
    "# If the request timesout, we skip it. \n",
    "\n",
    "# printing the column headers\n",
    "\n",
    "keys = client.get(socrata_dataset_identifier)[0].keys()\n",
    "\n",
    "try:\n",
    "    for key in keys:\n",
    "        print(key)\n",
    "except:\n",
    "        print('timeout error.') \n",
    "        pass"
   ]
  },
  {
   "cell_type": "code",
   "execution_count": 38,
   "metadata": {},
   "outputs": [
    {
     "name": "stdout",
     "output_type": "stream",
     "text": [
      "unique_key: 49724744\n",
      "created_date: 2021-02-07T01:59:45.000\n",
      "agency: NYPD\n",
      "agency_name: New York City Police Department\n",
      "complaint_type: Blocked Driveway\n",
      "descriptor: No Access\n",
      "location_type: Street/Sidewalk\n",
      "incident_zip: 10467\n",
      "incident_address: 3208 OLINVILLE AVENUE\n",
      "street_name: OLINVILLE AVENUE\n",
      "cross_street_1: BURKE AVENUE\n",
      "cross_street_2: ROSEWOOD STREET\n",
      "intersection_street_1: BURKE AVENUE\n",
      "intersection_street_2: ROSEWOOD STREET\n",
      "city: BRONX\n",
      "landmark: OLINVILLE AVENUE\n",
      "status: In Progress\n",
      "community_board: 12 BRONX\n",
      "bbl: 2045950003\n",
      "borough: BRONX\n",
      "x_coordinate_state_plane: 1020691\n",
      "y_coordinate_state_plane: 256936\n",
      "open_data_channel_type: MOBILE\n",
      "park_facility_name: Unspecified\n",
      "park_borough: BRONX\n",
      "latitude: 40.87182919244112\n",
      "longitude: -73.86823762446096\n",
      "location: {'latitude': '40.87182919244112', 'longitude': '-73.86823762446096', 'human_address': '{\"address\": \"\", \"city\": \"\", \"state\": \"\", \"zip\": \"\"}'}\n",
      ":@computed_region_efsh_h5xi: 11605\n",
      ":@computed_region_f5dn_yrer: 29\n",
      ":@computed_region_yeji_bk3q: 5\n",
      ":@computed_region_92fq_4b7q: 22\n",
      ":@computed_region_sbqj_enih: 30\n"
     ]
    }
   ],
   "source": [
    "# Printing the column and value of the first record\n",
    "\n",
    "items = client.get(socrata_dataset_identifier)[0].items()\n",
    "\n",
    "try:\n",
    "    for key, value in items:\n",
    "        print(key + ':',  value)\n",
    "except:\n",
    "    print('timeout error.')\n",
    "    pass        "
   ]
  },
  {
   "cell_type": "code",
   "execution_count": 39,
   "metadata": {},
   "outputs": [
    {
     "name": "stderr",
     "output_type": "stream",
     "text": [
      "WARNING:root:Requests made without an app_token will be subject to strict throttling limits.\n"
     ]
    },
    {
     "name": "stdout",
     "output_type": "stream",
     "text": [
      "shape of data: (100, 36)\n"
     ]
    },
    {
     "data": {
      "text/html": [
       "<div>\n",
       "<style scoped>\n",
       "    .dataframe tbody tr th:only-of-type {\n",
       "        vertical-align: middle;\n",
       "    }\n",
       "\n",
       "    .dataframe tbody tr th {\n",
       "        vertical-align: top;\n",
       "    }\n",
       "\n",
       "    .dataframe thead th {\n",
       "        text-align: right;\n",
       "    }\n",
       "</style>\n",
       "<table border=\"1\" class=\"dataframe\">\n",
       "  <thead>\n",
       "    <tr style=\"text-align: right;\">\n",
       "      <th></th>\n",
       "      <th>unique_key</th>\n",
       "      <th>created_date</th>\n",
       "      <th>agency</th>\n",
       "      <th>agency_name</th>\n",
       "      <th>complaint_type</th>\n",
       "      <th>descriptor</th>\n",
       "      <th>location_type</th>\n",
       "      <th>incident_zip</th>\n",
       "      <th>incident_address</th>\n",
       "      <th>street_name</th>\n",
       "      <th>...</th>\n",
       "      <th>longitude</th>\n",
       "      <th>location</th>\n",
       "      <th>:@computed_region_efsh_h5xi</th>\n",
       "      <th>:@computed_region_f5dn_yrer</th>\n",
       "      <th>:@computed_region_yeji_bk3q</th>\n",
       "      <th>:@computed_region_92fq_4b7q</th>\n",
       "      <th>:@computed_region_sbqj_enih</th>\n",
       "      <th>closed_date</th>\n",
       "      <th>resolution_description</th>\n",
       "      <th>resolution_action_updated_date</th>\n",
       "    </tr>\n",
       "  </thead>\n",
       "  <tbody>\n",
       "    <tr>\n",
       "      <th>0</th>\n",
       "      <td>49724744</td>\n",
       "      <td>2021-02-07T01:59:45.000</td>\n",
       "      <td>NYPD</td>\n",
       "      <td>New York City Police Department</td>\n",
       "      <td>Blocked Driveway</td>\n",
       "      <td>No Access</td>\n",
       "      <td>Street/Sidewalk</td>\n",
       "      <td>10467</td>\n",
       "      <td>3208 OLINVILLE AVENUE</td>\n",
       "      <td>OLINVILLE AVENUE</td>\n",
       "      <td>...</td>\n",
       "      <td>-73.86823762446096</td>\n",
       "      <td>{'latitude': '40.87182919244112', 'longitude':...</td>\n",
       "      <td>11605</td>\n",
       "      <td>29</td>\n",
       "      <td>5</td>\n",
       "      <td>22</td>\n",
       "      <td>30</td>\n",
       "      <td>NaN</td>\n",
       "      <td>NaN</td>\n",
       "      <td>NaN</td>\n",
       "    </tr>\n",
       "    <tr>\n",
       "      <th>1</th>\n",
       "      <td>49726578</td>\n",
       "      <td>2021-02-07T01:59:23.000</td>\n",
       "      <td>NYPD</td>\n",
       "      <td>New York City Police Department</td>\n",
       "      <td>Blocked Driveway</td>\n",
       "      <td>Partial Access</td>\n",
       "      <td>Street/Sidewalk</td>\n",
       "      <td>11214</td>\n",
       "      <td>2312 80 STREET</td>\n",
       "      <td>80 STREET</td>\n",
       "      <td>...</td>\n",
       "      <td>-73.98769091835977</td>\n",
       "      <td>{'latitude': '40.60374718005381', 'longitude':...</td>\n",
       "      <td>17616</td>\n",
       "      <td>1</td>\n",
       "      <td>2</td>\n",
       "      <td>18</td>\n",
       "      <td>37</td>\n",
       "      <td>NaN</td>\n",
       "      <td>NaN</td>\n",
       "      <td>NaN</td>\n",
       "    </tr>\n",
       "    <tr>\n",
       "      <th>2</th>\n",
       "      <td>49724909</td>\n",
       "      <td>2021-02-07T01:59:20.000</td>\n",
       "      <td>NYPD</td>\n",
       "      <td>New York City Police Department</td>\n",
       "      <td>Noise - Residential</td>\n",
       "      <td>Loud Music/Party</td>\n",
       "      <td>NaN</td>\n",
       "      <td>11691</td>\n",
       "      <td>29-32 BEACH CHANNEL DRIVE</td>\n",
       "      <td>BEACH CHANNEL DRIVE</td>\n",
       "      <td>...</td>\n",
       "      <td>-73.76421523730716</td>\n",
       "      <td>{'latitude': '40.599572668185026', 'longitude'...</td>\n",
       "      <td>20529</td>\n",
       "      <td>51</td>\n",
       "      <td>3</td>\n",
       "      <td>47</td>\n",
       "      <td>59</td>\n",
       "      <td>NaN</td>\n",
       "      <td>NaN</td>\n",
       "      <td>NaN</td>\n",
       "    </tr>\n",
       "    <tr>\n",
       "      <th>3</th>\n",
       "      <td>49727248</td>\n",
       "      <td>2021-02-07T01:59:14.000</td>\n",
       "      <td>NYPD</td>\n",
       "      <td>New York City Police Department</td>\n",
       "      <td>Noise - Residential</td>\n",
       "      <td>Loud Music/Party</td>\n",
       "      <td>Residential Building/House</td>\n",
       "      <td>10459</td>\n",
       "      <td>830 EAST  163 STREET</td>\n",
       "      <td>EAST  163 STREET</td>\n",
       "      <td>...</td>\n",
       "      <td>-73.90112454024609</td>\n",
       "      <td>{'latitude': '40.822224027258486', 'longitude'...</td>\n",
       "      <td>10937</td>\n",
       "      <td>34</td>\n",
       "      <td>5</td>\n",
       "      <td>43</td>\n",
       "      <td>25</td>\n",
       "      <td>NaN</td>\n",
       "      <td>NaN</td>\n",
       "      <td>NaN</td>\n",
       "    </tr>\n",
       "    <tr>\n",
       "      <th>4</th>\n",
       "      <td>49729933</td>\n",
       "      <td>2021-02-07T01:58:39.000</td>\n",
       "      <td>NYPD</td>\n",
       "      <td>New York City Police Department</td>\n",
       "      <td>Illegal Parking</td>\n",
       "      <td>Blocked Hydrant</td>\n",
       "      <td>Street/Sidewalk</td>\n",
       "      <td>10461</td>\n",
       "      <td>1735 PARKVIEW AVENUE</td>\n",
       "      <td>PARKVIEW AVENUE</td>\n",
       "      <td>...</td>\n",
       "      <td>-73.82818046269905</td>\n",
       "      <td>{'latitude': '40.847255309595425', 'longitude'...</td>\n",
       "      <td>11270</td>\n",
       "      <td>43</td>\n",
       "      <td>5</td>\n",
       "      <td>12</td>\n",
       "      <td>28</td>\n",
       "      <td>NaN</td>\n",
       "      <td>NaN</td>\n",
       "      <td>NaN</td>\n",
       "    </tr>\n",
       "  </tbody>\n",
       "</table>\n",
       "<p>5 rows × 36 columns</p>\n",
       "</div>"
      ],
      "text/plain": [
       "  unique_key             created_date agency                      agency_name  \\\n",
       "0   49724744  2021-02-07T01:59:45.000   NYPD  New York City Police Department   \n",
       "1   49726578  2021-02-07T01:59:23.000   NYPD  New York City Police Department   \n",
       "2   49724909  2021-02-07T01:59:20.000   NYPD  New York City Police Department   \n",
       "3   49727248  2021-02-07T01:59:14.000   NYPD  New York City Police Department   \n",
       "4   49729933  2021-02-07T01:58:39.000   NYPD  New York City Police Department   \n",
       "\n",
       "        complaint_type        descriptor               location_type  \\\n",
       "0     Blocked Driveway         No Access             Street/Sidewalk   \n",
       "1     Blocked Driveway    Partial Access             Street/Sidewalk   \n",
       "2  Noise - Residential  Loud Music/Party                         NaN   \n",
       "3  Noise - Residential  Loud Music/Party  Residential Building/House   \n",
       "4      Illegal Parking   Blocked Hydrant             Street/Sidewalk   \n",
       "\n",
       "  incident_zip           incident_address          street_name  ...  \\\n",
       "0        10467      3208 OLINVILLE AVENUE     OLINVILLE AVENUE  ...   \n",
       "1        11214             2312 80 STREET            80 STREET  ...   \n",
       "2        11691  29-32 BEACH CHANNEL DRIVE  BEACH CHANNEL DRIVE  ...   \n",
       "3        10459       830 EAST  163 STREET     EAST  163 STREET  ...   \n",
       "4        10461       1735 PARKVIEW AVENUE      PARKVIEW AVENUE  ...   \n",
       "\n",
       "            longitude                                           location  \\\n",
       "0  -73.86823762446096  {'latitude': '40.87182919244112', 'longitude':...   \n",
       "1  -73.98769091835977  {'latitude': '40.60374718005381', 'longitude':...   \n",
       "2  -73.76421523730716  {'latitude': '40.599572668185026', 'longitude'...   \n",
       "3  -73.90112454024609  {'latitude': '40.822224027258486', 'longitude'...   \n",
       "4  -73.82818046269905  {'latitude': '40.847255309595425', 'longitude'...   \n",
       "\n",
       "  :@computed_region_efsh_h5xi :@computed_region_f5dn_yrer  \\\n",
       "0                       11605                          29   \n",
       "1                       17616                           1   \n",
       "2                       20529                          51   \n",
       "3                       10937                          34   \n",
       "4                       11270                          43   \n",
       "\n",
       "  :@computed_region_yeji_bk3q :@computed_region_92fq_4b7q  \\\n",
       "0                           5                          22   \n",
       "1                           2                          18   \n",
       "2                           3                          47   \n",
       "3                           5                          43   \n",
       "4                           5                          12   \n",
       "\n",
       "  :@computed_region_sbqj_enih closed_date resolution_description  \\\n",
       "0                          30         NaN                    NaN   \n",
       "1                          37         NaN                    NaN   \n",
       "2                          59         NaN                    NaN   \n",
       "3                          25         NaN                    NaN   \n",
       "4                          28         NaN                    NaN   \n",
       "\n",
       "  resolution_action_updated_date  \n",
       "0                            NaN  \n",
       "1                            NaN  \n",
       "2                            NaN  \n",
       "3                            NaN  \n",
       "4                            NaN  \n",
       "\n",
       "[5 rows x 36 columns]"
      ]
     },
     "execution_count": 39,
     "metadata": {},
     "output_type": "execute_result"
    }
   ],
   "source": [
    "# Source domain for NYC Open Data on Socrata\n",
    "socrata_domain = 'data.cityofnewyork.us'\n",
    "\n",
    "# Data set id for NYC 311 on NYC Open Data on Socrata\n",
    "socrata_dataset_identifier = 'erm2-nwe9'\n",
    "\n",
    "# Socrata - The main class that interacts with the SODA API. We pass the source domain value\n",
    "# of NYC Open data, the app token as 'None', and set the timeout parameter for '1,000 seconds'\n",
    "client = Socrata(socrata_domain, None, timeout=1000)\n",
    "\n",
    "# SoQL query string below:\n",
    "# retrieve all columns and limit our records to 100.\n",
    "\n",
    "query = \"\"\"\n",
    "SELECT \n",
    "    *\n",
    "LIMIT \n",
    "    100\n",
    "\"\"\"\n",
    "\n",
    "# Returned as JSON from API / converted to Python list of\n",
    "# dictionaries by sodapy.\n",
    "results = client.get(socrata_dataset_identifier, query=query)\n",
    "\n",
    "# Convert to pandas DataFrame\n",
    "results_df = pd.DataFrame.from_records(results)\n",
    "\n",
    "print('shape of data:', results_df.shape)\n",
    "\n",
    "results_df.head()"
   ]
  },
  {
   "cell_type": "markdown",
   "metadata": {},
   "source": [
    "## 5.3  `.get_metadata()`"
   ]
  },
  {
   "cell_type": "markdown",
   "metadata": {},
   "source": [
    "`get_metadata` method: Retrieve the metadata for a particular dataset."
   ]
  },
  {
   "cell_type": "code",
   "execution_count": 40,
   "metadata": {},
   "outputs": [
    {
     "name": "stderr",
     "output_type": "stream",
     "text": [
      "WARNING:root:Requests made without an app_token will be subject to strict throttling limits.\n"
     ]
    }
   ],
   "source": [
    "client = Socrata(socrata_domain, None, timeout=100)"
   ]
  },
  {
   "cell_type": "code",
   "execution_count": 41,
   "metadata": {},
   "outputs": [
    {
     "data": {
      "text/plain": [
       "dict"
      ]
     },
     "execution_count": 41,
     "metadata": {},
     "output_type": "execute_result"
    }
   ],
   "source": [
    "type(client.get_metadata(socrata_dataset_identifier))"
   ]
  },
  {
   "cell_type": "code",
   "execution_count": 42,
   "metadata": {},
   "outputs": [
    {
     "name": "stdout",
     "output_type": "stream",
     "text": [
      "id\n",
      "name\n",
      "assetType\n",
      "attribution\n",
      "averageRating\n",
      "category\n",
      "createdAt\n",
      "description\n",
      "displayType\n",
      "downloadCount\n",
      "hideFromCatalog\n",
      "hideFromDataJson\n",
      "indexUpdatedAt\n",
      "newBackend\n",
      "numberOfComments\n",
      "oid\n",
      "provenance\n",
      "publicationAppendEnabled\n",
      "publicationDate\n",
      "publicationGroup\n",
      "publicationStage\n",
      "rowClass\n",
      "rowIdentifierColumnId\n",
      "rowsUpdatedAt\n",
      "rowsUpdatedBy\n",
      "tableId\n",
      "totalTimesRated\n",
      "viewCount\n",
      "viewLastModified\n",
      "viewType\n",
      "approvals\n",
      "columns\n",
      "grants\n",
      "metadata\n",
      "owner\n",
      "query\n",
      "rights\n",
      "tableAuthor\n",
      "tags\n",
      "flags\n"
     ]
    }
   ],
   "source": [
    "# Previewing keys vertically.\n",
    "keys = client.get_metadata(socrata_dataset_identifier).keys()\n",
    "for key in keys:\n",
    "    print(key)"
   ]
  },
  {
   "cell_type": "code",
   "execution_count": 43,
   "metadata": {},
   "outputs": [
    {
     "name": "stdout",
     "output_type": "stream",
     "text": [
      "id and name of dataset\n",
      "------------------------------\n",
      "id: erm2-nwe9 \n",
      "name: 311 Service Requests from 2010 to Present\n"
     ]
    }
   ],
   "source": [
    "# Previewing the id and name of the data set.\n",
    "print('id and name of dataset\\n' + \\\n",
    "      '-' * 30 + \\\n",
    "      '\\nid:', client.get_metadata(socrata_dataset_identifier)['id'], \\\n",
    "      '\\nname:', client.get_metadata(socrata_dataset_identifier)['name'])"
   ]
  },
  {
   "cell_type": "code",
   "execution_count": 44,
   "metadata": {
    "scrolled": false
   },
   "outputs": [
    {
     "name": "stdout",
     "output_type": "stream",
     "text": [
      "<class 'dict_items'> \n",
      "\n",
      "<class 'list'> \n",
      "\n",
      "id: erm2-nwe9\n",
      "name: 311 Service Requests from 2010 to Present\n",
      "assetType: dataset\n",
      "attribution: 311, DoITT\n",
      "averageRating: 0\n",
      "category: Social Services\n",
      "createdAt: 1318225937\n",
      "description: <b>NOTE: This data does not present a full picture of 311 calls or service requests, in part because of operational and system complexities associated with remote call taking necessitated by the unprecedented volume 311 is handling during the Covid-19 crisis. The City is working to address this issue. </b>\r\n",
      "\r\n",
      "All 311 Service Requests from 2010 to present. This information is automatically updated daily.\n",
      "displayType: table\n",
      "downloadCount: 398547\n",
      "hideFromCatalog: False\n",
      "hideFromDataJson: False\n",
      "indexUpdatedAt: 1571326778\n",
      "newBackend: True\n",
      "numberOfComments: 19\n",
      "oid: 28506835\n",
      "provenance: official\n",
      "publicationAppendEnabled: False\n",
      "publicationDate: 1524193398\n",
      "publicationGroup: 244403\n",
      "publicationStage: published\n",
      "rowClass: \n",
      "rowIdentifierColumnId: 354922030\n",
      "rowsUpdatedAt: 1612751651\n",
      "rowsUpdatedBy: 5fuc-pqz2\n",
      "tableId: 15047182\n",
      "totalTimesRated: 0\n",
      "viewCount: 440516\n",
      "viewLastModified: 1587586718\n",
      "viewType: tabular\n"
     ]
    }
   ],
   "source": [
    "# Previewing the first 30 keys, values of the dictionary.\n",
    "metadata_items = client.get_metadata(socrata_dataset_identifier).items()\n",
    "print(type(metadata_items), '\\n')\n",
    "\n",
    "metadata_items = list(metadata_items)\n",
    "print(type(metadata_items), '\\n')\n",
    "\n",
    "stop = 0\n",
    "for key, value in metadata_items:\n",
    "    print(key + ':',  value)\n",
    "    stop += 1\n",
    "    \n",
    "    if stop == 30:\n",
    "        break"
   ]
  },
  {
   "cell_type": "code",
   "execution_count": 45,
   "metadata": {},
   "outputs": [
    {
     "name": "stdout",
     "output_type": "stream",
     "text": [
      "metadata_items['columns']: <class 'list'>\n"
     ]
    },
    {
     "data": {
      "text/plain": [
       "{'id': 354922030,\n",
       " 'name': 'Unique Key',\n",
       " 'dataTypeName': 'text',\n",
       " 'description': 'Unique identifier of a Service Request (SR) in the open data set\\n',\n",
       " 'fieldName': 'unique_key',\n",
       " 'position': 1,\n",
       " 'renderTypeName': 'text',\n",
       " 'tableColumnId': 1567787,\n",
       " 'width': 220,\n",
       " 'cachedContents': {'largest': '49731689',\n",
       "  'non_null': '24901448',\n",
       "  'null': '0',\n",
       "  'top': [{'item': '10693408', 'count': '1'},\n",
       "   {'item': '10836749', 'count': '1'},\n",
       "   {'item': '10836967', 'count': '1'},\n",
       "   {'item': '11051177', 'count': '1'},\n",
       "   {'item': '11413576', 'count': '1'},\n",
       "   {'item': '11463895', 'count': '1'},\n",
       "   {'item': '11463896', 'count': '1'},\n",
       "   {'item': '11464334', 'count': '1'},\n",
       "   {'item': '11464394', 'count': '1'},\n",
       "   {'item': '11464467', 'count': '1'},\n",
       "   {'item': '11464508', 'count': '1'},\n",
       "   {'item': '11464509', 'count': '1'},\n",
       "   {'item': '11464521', 'count': '1'},\n",
       "   {'item': '11464567', 'count': '1'},\n",
       "   {'item': '11464572', 'count': '1'},\n",
       "   {'item': '11464639', 'count': '1'},\n",
       "   {'item': '11464846', 'count': '1'},\n",
       "   {'item': '11464850', 'count': '1'},\n",
       "   {'item': '11464938', 'count': '1'},\n",
       "   {'item': '11465153', 'count': '1'}],\n",
       "  'smallest': '10564222',\n",
       "  'not_null': '21933957',\n",
       "  'cardinality': '24901448'},\n",
       " 'format': {}}"
      ]
     },
     "execution_count": 45,
     "metadata": {},
     "output_type": "execute_result"
    }
   ],
   "source": [
    "# Previewing the first item in columns list\n",
    "metadata_items = client.get_metadata(socrata_dataset_identifier)\n",
    "\n",
    "print(\"metadata_items['columns']:\", type(metadata_items['columns']))\n",
    "\n",
    "metadata_items['columns'][0]"
   ]
  },
  {
   "cell_type": "code",
   "execution_count": 46,
   "metadata": {},
   "outputs": [
    {
     "name": "stdout",
     "output_type": "stream",
     "text": [
      "id\n",
      "name\n",
      "dataTypeName\n",
      "description\n",
      "fieldName\n",
      "position\n",
      "renderTypeName\n",
      "tableColumnId\n",
      "width\n",
      "cachedContents\n",
      "format\n"
     ]
    }
   ],
   "source": [
    "for key in metadata_items['columns'][0].keys():\n",
    "    print(key)"
   ]
  },
  {
   "cell_type": "code",
   "execution_count": 47,
   "metadata": {},
   "outputs": [
    {
     "name": "stdout",
     "output_type": "stream",
     "text": [
      "metadata <class 'dict'>\n",
      "metadata['columns'] <class 'list'> length: 46 \n",
      "\n",
      "columns \n",
      "-----------\n",
      "unique_key\n",
      "created_date\n",
      "closed_date\n",
      "agency\n",
      "agency_name\n",
      "complaint_type\n",
      "descriptor\n",
      "location_type\n",
      "incident_zip\n",
      "incident_address\n",
      "street_name\n",
      "cross_street_1\n",
      "cross_street_2\n",
      "intersection_street_1\n",
      "intersection_street_2\n",
      "address_type\n",
      "city\n",
      "landmark\n",
      "facility_type\n",
      "status\n",
      "due_date\n",
      "resolution_description\n",
      "resolution_action_updated_date\n",
      "community_board\n",
      "bbl\n",
      "borough\n",
      "x_coordinate_state_plane\n",
      "y_coordinate_state_plane\n",
      "open_data_channel_type\n",
      "park_facility_name\n",
      "park_borough\n",
      "vehicle_type\n",
      "taxi_company_borough\n",
      "taxi_pick_up_location\n",
      "bridge_highway_name\n",
      "bridge_highway_direction\n",
      "road_ramp\n",
      "bridge_highway_segment\n",
      "latitude\n",
      "longitude\n",
      "location\n",
      ":@computed_region_efsh_h5xi\n",
      ":@computed_region_f5dn_yrer\n",
      ":@computed_region_yeji_bk3q\n",
      ":@computed_region_92fq_4b7q\n",
      ":@computed_region_sbqj_enih\n"
     ]
    }
   ],
   "source": [
    "# Saving metadata dictionary as 'metadata'\n",
    "metadata = client.get_metadata(socrata_dataset_identifier)\n",
    "print('metadata', type(metadata))\n",
    "\n",
    "# Previewing the datatype of columns\n",
    "print(\"metadata['columns']\", type(metadata['columns']), 'length:', len(metadata['columns']), '\\n')\n",
    "\n",
    "print('columns', '\\n' + '-----------')\n",
    "\n",
    "# Previewing the field names for each element in our columns list\n",
    "for x in metadata['columns']:\n",
    "    print(x['fieldName'])"
   ]
  },
  {
   "cell_type": "markdown",
   "metadata": {},
   "source": [
    "# 6. Conclusion"
   ]
  },
  {
   "cell_type": "code",
   "execution_count": null,
   "metadata": {},
   "outputs": [],
   "source": []
  }
 ],
 "metadata": {
  "kernelspec": {
   "display_name": "Python 3",
   "language": "python",
   "name": "python3"
  },
  "language_info": {
   "codemirror_mode": {
    "name": "ipython",
    "version": 3
   },
   "file_extension": ".py",
   "mimetype": "text/x-python",
   "name": "python",
   "nbconvert_exporter": "python",
   "pygments_lexer": "ipython3",
   "version": "3.7.1"
  }
 },
 "nbformat": 4,
 "nbformat_minor": 4
}
