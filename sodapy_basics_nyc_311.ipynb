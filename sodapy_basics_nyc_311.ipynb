{
 "cells": [
  {
   "cell_type": "markdown",
   "metadata": {},
   "source": [
    "# sodapy tutorial using NYC Open Data \n",
    "Mark Bauer"
   ]
  },
  {
   "cell_type": "markdown",
   "metadata": {},
   "source": [
    "# Introduction  \n",
    "This notebook demonstrates how to use sodapy, the python client for the Socrata Open Data API, with NYC Open Data. Examples of popular methods are included, as well as basic queries using SoQL, the Socrata Query Language. "
   ]
  },
  {
   "cell_type": "markdown",
   "metadata": {},
   "source": [
    "# sodapy\n",
    "sodapy is a python client for the Socrata Open Data API."
   ]
  },
  {
   "cell_type": "markdown",
   "metadata": {},
   "source": [
    "# Information about sodapy\n",
    " \n",
    "**Installing**: https://pypi.org/project/sodapy/  \n",
    "**GitHub**: https://github.com/xmunoz/sodapy\n",
    "\n",
    "**The official Socrata Open Data API (SODA) docs**  \n",
    "https://dev.socrata.com/\n",
    "\n",
    "**Queries using SODA**  \n",
    "https://dev.socrata.com/docs/queries/\n",
    "\n",
    "**Inspiration for this notebook**  \n",
    "https://github.com/xmunoz/sodapy/blob/master/examples/soql_queries.ipynb"
   ]
  },
  {
   "cell_type": "markdown",
   "metadata": {},
   "source": [
    "# Importing Libraries"
   ]
  },
  {
   "cell_type": "code",
   "execution_count": 101,
   "metadata": {},
   "outputs": [],
   "source": [
    "# importing libraries\n",
    "import pandas as pd\n",
    "from sodapy import Socrata\n",
    "import itertools "
   ]
  },
  {
   "cell_type": "code",
   "execution_count": 102,
   "metadata": {},
   "outputs": [],
   "source": [
    "%reload_ext watermark"
   ]
  },
  {
   "cell_type": "code",
   "execution_count": 103,
   "metadata": {},
   "outputs": [
    {
     "name": "stdout",
     "output_type": "stream",
     "text": [
      "Mark Bauer \n",
      "last updated: 2021-01-25 15:42:47 \n",
      "\n",
      "CPython 3.7.1\n",
      "IPython 7.18.1\n",
      "\n",
      "pandas 1.0.0\n",
      "sodapy 2.0.0\n",
      "itertools unknown\n"
     ]
    }
   ],
   "source": [
    "%watermark -a \"Mark Bauer\" -u -t -d -v -p pandas,sodapy,itertools"
   ]
  },
  {
   "cell_type": "markdown",
   "metadata": {},
   "source": [
    "Documention for installing watermark: https://github.com/rasbt/watermark"
   ]
  },
  {
   "cell_type": "markdown",
   "metadata": {},
   "source": [
    "# Using sodapy"
   ]
  },
  {
   "cell_type": "markdown",
   "metadata": {},
   "source": [
    "In order for a user to use sodapy, they need to retrieve a source domain (i.e. the open data source you are trying to connect to). Additionally, if a user wants to query a specific data set, then the data set identifier (i.e. the data set id on the given source domain) needs to be identified as well. Below, we identify NYC Open Data's source domain: `data.cityofnewyork.us` and the data set identifier for the NYC 311 data set: `erm2-nwe9`."
   ]
  },
  {
   "cell_type": "markdown",
   "metadata": {},
   "source": [
    "![nyc-311-api-docs](nyc-311-api-docs.png)  \n",
    "\n",
    "source: https://dev.socrata.com/foundry/data.cityofnewyork.us/erm2-nwe9"
   ]
  },
  {
   "cell_type": "markdown",
   "metadata": {},
   "source": [
    "We save this information as variables below."
   ]
  },
  {
   "cell_type": "code",
   "execution_count": 104,
   "metadata": {},
   "outputs": [],
   "source": [
    "socrata_domain = 'data.cityofnewyork.us'\n",
    "socrata_dataset_identifier = 'erm2-nwe9'"
   ]
  },
  {
   "cell_type": "markdown",
   "metadata": {},
   "source": [
    "# Socrata class in sodapy"
   ]
  },
  {
   "cell_type": "code",
   "execution_count": 105,
   "metadata": {},
   "outputs": [
    {
     "name": "stderr",
     "output_type": "stream",
     "text": [
      "WARNING:root:Requests made without an app_token will be subject to strict throttling limits.\n"
     ]
    }
   ],
   "source": [
    "# The main class that interacts with the SODA API.\n",
    "\n",
    "# The required arguments are:\n",
    "#     domain: the domain you wish you to access\n",
    "#     app_token: your Socrata application token\n",
    "# Simple requests are possible without an app_token, though these\n",
    "# requests will be rate-limited.\n",
    "\n",
    "client = Socrata(socrata_domain, None, timeout=1000)"
   ]
  },
  {
   "cell_type": "code",
   "execution_count": 106,
   "metadata": {},
   "outputs": [
    {
     "data": {
      "text/plain": [
       "sodapy.Socrata"
      ]
     },
     "execution_count": 106,
     "metadata": {},
     "output_type": "execute_result"
    }
   ],
   "source": [
    "type(client)"
   ]
  },
  {
   "cell_type": "markdown",
   "metadata": {},
   "source": [
    "Socrata Methods"
   ]
  },
  {
   "cell_type": "markdown",
   "metadata": {},
   "source": [
    "![socrata-methods](socrata-methods.png)\n",
    "\n",
    "source: https://github.com/xmunoz/sodapy#datasetslimit0-offset0"
   ]
  },
  {
   "cell_type": "markdown",
   "metadata": {},
   "source": [
    "We will review a few of the popular methods in this tutorial."
   ]
  },
  {
   "cell_type": "markdown",
   "metadata": {},
   "source": [
    "# Socrata Methods"
   ]
  },
  {
   "cell_type": "markdown",
   "metadata": {},
   "source": [
    "## `.datasets()`"
   ]
  },
  {
   "cell_type": "markdown",
   "metadata": {},
   "source": [
    "`datasets` method: Returns the list of datasets associated with a particular domain.\n",
    "WARNING: Large limits (>1000) will return megabytes of data,\n",
    "which can be slow on low-bandwidth networks, and is also a lot of\n",
    "data to hold in memory."
   ]
  },
  {
   "cell_type": "code",
   "execution_count": 107,
   "metadata": {},
   "outputs": [
    {
     "name": "stdout",
     "output_type": "stream",
     "text": [
      "<class 'list'>\n"
     ]
    }
   ],
   "source": [
    "print(type(client.datasets()))"
   ]
  },
  {
   "cell_type": "code",
   "execution_count": 108,
   "metadata": {
    "scrolled": false
   },
   "outputs": [
    {
     "name": "stdout",
     "output_type": "stream",
     "text": [
      "<class 'dict'>\n"
     ]
    }
   ],
   "source": [
    "print(type(client.datasets()[0]))"
   ]
  },
  {
   "cell_type": "code",
   "execution_count": 109,
   "metadata": {},
   "outputs": [
    {
     "data": {
      "text/plain": [
       "dict_keys(['resource', 'classification', 'metadata', 'permalink', 'link', 'owner', 'creator'])"
      ]
     },
     "execution_count": 109,
     "metadata": {},
     "output_type": "execute_result"
    }
   ],
   "source": [
    "client.datasets()[0].keys()"
   ]
  },
  {
   "cell_type": "code",
   "execution_count": 110,
   "metadata": {
    "scrolled": false
   },
   "outputs": [
    {
     "data": {
      "text/plain": [
       "{'name': 'DOB Job Application Filings',\n",
       " 'id': 'ic3t-wcy2',\n",
       " 'parent_fxf': [],\n",
       " 'description': 'This dataset contains all job applications submitted through the Borough Offices, through eFiling, or through the HUB, which have a \"Latest Action Date\" since January 1, 2000. This dataset does not include jobs submitted through DOB NOW. See the DOB NOW: Build – Job Application Filings dataset for DOB NOW jobs.',\n",
       " 'attribution': 'Department of Buildings (DOB)'}"
      ]
     },
     "execution_count": 110,
     "metadata": {},
     "output_type": "execute_result"
    }
   ],
   "source": [
    "# Viewing the resource dictionary in the first item of the datasets list. From there, \n",
    "# we view the first five items under the resource dictionary.\n",
    "\n",
    "limit = 5\n",
    "\n",
    "dict(itertools.islice(client.datasets()[0]['resource'].items(), limit))"
   ]
  },
  {
   "cell_type": "code",
   "execution_count": 111,
   "metadata": {
    "scrolled": false
   },
   "outputs": [
    {
     "name": "stdout",
     "output_type": "stream",
     "text": [
      "311 Service Requests from 2010 to Present \n",
      "index: 5\n"
     ]
    }
   ],
   "source": [
    "# Once we've identified the structure of the dictionary, we try to \n",
    "# find the 311 data set and identify its position in the datasets list.\n",
    "\n",
    "idx = 0\n",
    "\n",
    "for dataset_id in client.datasets():\n",
    "    if client.datasets()[idx]['resource']['id'] == 'erm2-nwe9':\n",
    "        print(client.datasets()[idx]['resource']['name'], \\\n",
    "              '\\nindex:', idx)\n",
    "        break\n",
    "    else:\n",
    "        idx += 1    "
   ]
  },
  {
   "cell_type": "code",
   "execution_count": 112,
   "metadata": {
    "scrolled": false
   },
   "outputs": [
    {
     "name": "stdout",
     "output_type": "stream",
     "text": [
      "5\n"
     ]
    },
    {
     "data": {
      "text/plain": [
       "{'resource': {'name': '311 Service Requests from 2010 to Present',\n",
       "  'id': 'erm2-nwe9',\n",
       "  'parent_fxf': [],\n",
       "  'description': '<b>NOTE: This data does not present a full picture of 311 calls or service requests, in part because of operational and system complexities associated with remote call taking necessitated by the unprecedented volume 311 is handling during the Covid-19 crisis. The City is working to address this issue. </b>\\r\\n\\r\\nAll 311 Service Requests from 2010 to present. This information is automatically updated daily.',\n",
       "  'attribution': '311, DoITT',\n",
       "  'attribution_link': None,\n",
       "  'contact_email': None,\n",
       "  'type': 'dataset',\n",
       "  'updatedAt': '2021-01-25T02:41:21.000Z',\n",
       "  'createdAt': '2011-10-10T05:52:17.000Z',\n",
       "  'metadata_updated_at': '2020-04-22T20:18:38.000Z',\n",
       "  'data_updated_at': '2021-01-25T02:41:21.000Z',\n",
       "  'page_views': {'page_views_last_week': 1294,\n",
       "   'page_views_last_month': 4868,\n",
       "   'page_views_total': 438194,\n",
       "   'page_views_last_week_log': 10.338736382573916,\n",
       "   'page_views_last_month_log': 12.249409785269128,\n",
       "   'page_views_total_log': 18.741213497066273},\n",
       "  'columns_name': ['Open Data Channel Type',\n",
       "   'Bridge Highway Direction',\n",
       "   'Bridge Highway Segment',\n",
       "   'City',\n",
       "   'Street Name',\n",
       "   'Incident Address',\n",
       "   'Descriptor',\n",
       "   'Complaint Type',\n",
       "   'Agency Name',\n",
       "   'Agency',\n",
       "   'Cross Street 2',\n",
       "   'Landmark',\n",
       "   'Closed Date',\n",
       "   'Created Date',\n",
       "   'Location',\n",
       "   'Longitude',\n",
       "   'Status',\n",
       "   'Park Facility Name',\n",
       "   'Due Date',\n",
       "   'Location Type',\n",
       "   'Location (city)',\n",
       "   'BBL',\n",
       "   'Address Type',\n",
       "   'Latitude',\n",
       "   'Vehicle Type',\n",
       "   'Location (zip)',\n",
       "   'Borough',\n",
       "   'Intersection Street 2',\n",
       "   'Incident Zip',\n",
       "   'Cross Street 1',\n",
       "   'Taxi Company Borough',\n",
       "   'Road Ramp',\n",
       "   'Resolution Action Updated Date',\n",
       "   'Community Board',\n",
       "   'X Coordinate (State Plane)',\n",
       "   'Y Coordinate (State Plane)',\n",
       "   'Park Borough',\n",
       "   'Bridge Highway Name',\n",
       "   'Unique Key',\n",
       "   'Resolution Description',\n",
       "   'Facility Type',\n",
       "   'Intersection Street 1',\n",
       "   'Taxi Pick Up Location',\n",
       "   'Location (state)',\n",
       "   'Location (address)',\n",
       "   'Police Precincts',\n",
       "   'City Council Districts',\n",
       "   'Borough Boundaries',\n",
       "   'Community Districts',\n",
       "   'Zip Codes'],\n",
       "  'columns_field_name': ['open_data_channel_type',\n",
       "   'bridge_highway_direction',\n",
       "   'bridge_highway_segment',\n",
       "   'city',\n",
       "   'street_name',\n",
       "   'incident_address',\n",
       "   'descriptor',\n",
       "   'complaint_type',\n",
       "   'agency_name',\n",
       "   'agency',\n",
       "   'cross_street_2',\n",
       "   'landmark',\n",
       "   'closed_date',\n",
       "   'created_date',\n",
       "   'location',\n",
       "   'longitude',\n",
       "   'status',\n",
       "   'park_facility_name',\n",
       "   'due_date',\n",
       "   'location_type',\n",
       "   'location_city',\n",
       "   'bbl',\n",
       "   'address_type',\n",
       "   'latitude',\n",
       "   'vehicle_type',\n",
       "   'location_zip',\n",
       "   'borough',\n",
       "   'intersection_street_2',\n",
       "   'incident_zip',\n",
       "   'cross_street_1',\n",
       "   'taxi_company_borough',\n",
       "   'road_ramp',\n",
       "   'resolution_action_updated_date',\n",
       "   'community_board',\n",
       "   'x_coordinate_state_plane',\n",
       "   'y_coordinate_state_plane',\n",
       "   'park_borough',\n",
       "   'bridge_highway_name',\n",
       "   'unique_key',\n",
       "   'resolution_description',\n",
       "   'facility_type',\n",
       "   'intersection_street_1',\n",
       "   'taxi_pick_up_location',\n",
       "   'location_state',\n",
       "   'location_address',\n",
       "   ':@computed_region_sbqj_enih',\n",
       "   ':@computed_region_92fq_4b7q',\n",
       "   ':@computed_region_yeji_bk3q',\n",
       "   ':@computed_region_f5dn_yrer',\n",
       "   ':@computed_region_efsh_h5xi'],\n",
       "  'columns_datatype': ['Text',\n",
       "   'Text',\n",
       "   'Text',\n",
       "   'Text',\n",
       "   'Text',\n",
       "   'Text',\n",
       "   'Text',\n",
       "   'Text',\n",
       "   'Text',\n",
       "   'Text',\n",
       "   'Text',\n",
       "   'Text',\n",
       "   'Calendar date',\n",
       "   'Calendar date',\n",
       "   'Point',\n",
       "   'Number',\n",
       "   'Text',\n",
       "   'Text',\n",
       "   'Calendar date',\n",
       "   'Text',\n",
       "   'Text',\n",
       "   'Text',\n",
       "   'Text',\n",
       "   'Number',\n",
       "   'Text',\n",
       "   'Text',\n",
       "   'Text',\n",
       "   'Text',\n",
       "   'Text',\n",
       "   'Text',\n",
       "   'Text',\n",
       "   'Text',\n",
       "   'Calendar date',\n",
       "   'Text',\n",
       "   'Number',\n",
       "   'Number',\n",
       "   'Text',\n",
       "   'Text',\n",
       "   'Text',\n",
       "   'Text',\n",
       "   'Text',\n",
       "   'Text',\n",
       "   'Text',\n",
       "   'Text',\n",
       "   'Text',\n",
       "   'Number',\n",
       "   'Number',\n",
       "   'Number',\n",
       "   'Number',\n",
       "   'Number'],\n",
       "  'columns_description': ['Indicates how the SR was submitted to 311.  i.e. By Phone, Online, Mobile, Other or Unknown.',\n",
       "   'If the incident is identified as a Bridge/Highway, the direction where the issue took place would be displayed here.\\n',\n",
       "   'Additional information on the section of the Bridge/Highway were the incident took place.\\n',\n",
       "   'City of the incident location provided by geovalidation.\\n',\n",
       "   'Street name of incident address provided by the submitter\\n',\n",
       "   'House number of incident address provided by submitter.\\n',\n",
       "   'This is  associated to the Complaint Type, and provides further detail on the incident or condition. Descriptor values are dependent on the Complaint Type, and are not always required in SR. \\n',\n",
       "   'This is the first level of a hierarchy identifying the topic of the incident or condition. Complaint Type may have a corresponding Descriptor (below) or may stand alone.',\n",
       "   'Full Agency name of responding City Government Agency',\n",
       "   'Acronym of responding City Government Agency\\n',\n",
       "   'Second Cross Street based on the geo validated incident location\\n',\n",
       "   'If the incident location is identified as a Landmark the name of the landmark will display here\\n',\n",
       "   'Date SR was closed by responding agency\\n',\n",
       "   'Date SR  was created\\n',\n",
       "   'Combination of the geo based lat & long of the incident location\\n',\n",
       "   'Geo based Long of the incident location\\n',\n",
       "   'Status of SR submitted \\n',\n",
       "   'If the incident location is a Parks Dept facility, the Name of the facility will appear here\\n',\n",
       "   'Date when responding agency is expected to update the SR.  This is based on the Complaint Type and internal Service Level Agreements (SLAs).\\n',\n",
       "   'Describes the type of location used in the address information \\n',\n",
       "   '',\n",
       "   'Borough Block and Lot, provided by geovalidation. Parcel number to identify the location of location of buildings and properties in NYC.',\n",
       "   'Type of incident location information available.\\n',\n",
       "   'Geo based Lat of the incident location\\n',\n",
       "   'If the incident is a taxi, this field describes the type of TLC vehicle. \\n',\n",
       "   '',\n",
       "   'Provided by the submitter and confirmed by geovalidation.\\n',\n",
       "   'Second intersecting street based on geo validated incident location\\n',\n",
       "   'Incident location zip code, provided by geo validation.\\n',\n",
       "   'First Cross street based on the geo validated incident location\\n',\n",
       "   'If the incident is identified as a taxi, this field will display the borough of the taxi company. \\n',\n",
       "   'If the incident location was Bridge/Highway this column differentiates if the issue was on the Road or the Ramp.\\n',\n",
       "   'Date when responding agency last updated the SR.\\n',\n",
       "   'Provided by geovalidation.\\n',\n",
       "   'Geo validated, X coordinate of the incident location. \\n',\n",
       "   'Geo validated,  Y coordinate of the incident location. \\n',\n",
       "   'The borough of incident if it is a Parks Dept facility\\n',\n",
       "   'If the incident is identified as a Bridge/Highway, the name will be displayed here.\\n',\n",
       "   'Unique identifier of a Service Request (SR) in the open data set\\n',\n",
       "   'Describes the last action taken on the SR by the responding agency.  May describe next or future steps. \\n',\n",
       "   'If available, this field describes the type of city facility associated to the SR\\n',\n",
       "   'First intersecting street based on geo validated incident location\\n',\n",
       "   'If the incident is identified as a taxi, this field displays the taxi pick up location\\n',\n",
       "   '',\n",
       "   '',\n",
       "   '',\n",
       "   '',\n",
       "   '',\n",
       "   '',\n",
       "   ''],\n",
       "  'columns_format': [{'displayStyle': 'plain', 'align': 'left'},\n",
       "   {'displayStyle': 'plain', 'align': 'left'},\n",
       "   {'displayStyle': 'plain', 'align': 'left'},\n",
       "   {'displayStyle': 'plain', 'align': 'left'},\n",
       "   {},\n",
       "   {},\n",
       "   {},\n",
       "   {'displayStyle': 'plain', 'align': 'left'},\n",
       "   {'displayStyle': 'plain', 'align': 'left'},\n",
       "   {},\n",
       "   {},\n",
       "   {'displayStyle': 'plain', 'align': 'left'},\n",
       "   {'view': 'date_time', 'align': 'left'},\n",
       "   {'view': 'date_time', 'align': 'left'},\n",
       "   {'view': 'coords', 'align': 'left'},\n",
       "   {'precisionStyle': 'standard', 'noCommas': 'false', 'align': 'right'},\n",
       "   {},\n",
       "   {'displayStyle': 'plain', 'align': 'left'},\n",
       "   {'view': 'date_time', 'align': 'left'},\n",
       "   {},\n",
       "   {},\n",
       "   {'displayStyle': 'plain', 'align': 'left'},\n",
       "   {},\n",
       "   {'precisionStyle': 'standard', 'noCommas': 'false', 'align': 'right'},\n",
       "   {'displayStyle': 'plain', 'align': 'left'},\n",
       "   {},\n",
       "   {'displayStyle': 'plain', 'align': 'left'},\n",
       "   {},\n",
       "   {},\n",
       "   {},\n",
       "   {'displayStyle': 'plain', 'align': 'left'},\n",
       "   {'displayStyle': 'plain', 'align': 'left'},\n",
       "   {'view': 'date_time', 'align': 'left'},\n",
       "   {'displayStyle': 'plain', 'align': 'left'},\n",
       "   {'precisionStyle': 'standard', 'noCommas': 'false', 'align': 'right'},\n",
       "   {'precisionStyle': 'standard', 'noCommas': 'false', 'align': 'right'},\n",
       "   {'displayStyle': 'plain', 'align': 'left'},\n",
       "   {'displayStyle': 'plain', 'align': 'left'},\n",
       "   {},\n",
       "   {'displayStyle': 'plain', 'align': 'left'},\n",
       "   {'displayStyle': 'plain', 'align': 'left'},\n",
       "   {},\n",
       "   {'displayStyle': 'plain', 'align': 'left'},\n",
       "   {},\n",
       "   {},\n",
       "   {},\n",
       "   {},\n",
       "   {},\n",
       "   {},\n",
       "   {}],\n",
       "  'download_count': 398215,\n",
       "  'provenance': 'official',\n",
       "  'lens_view_type': 'tabular',\n",
       "  'blob_mime_type': None,\n",
       "  'hide_from_data_json': False,\n",
       "  'publication_date': '2018-04-20T03:03:18.000Z'},\n",
       " 'classification': {'categories': ['public safety',\n",
       "   'transportation',\n",
       "   'recreation'],\n",
       "  'tags': [],\n",
       "  'domain_category': 'Social Services',\n",
       "  'domain_tags': ['pothole',\n",
       "   'bike',\n",
       "   'rat',\n",
       "   'rodent',\n",
       "   '2018od4a-report',\n",
       "   'all service requests',\n",
       "   'service request status',\n",
       "   '2012',\n",
       "   '2011',\n",
       "   '2010',\n",
       "   'socialservices',\n",
       "   'city government',\n",
       "   '311 service requests',\n",
       "   '311'],\n",
       "  'domain_metadata': [{'key': 'Update_Automation', 'value': 'Yes'},\n",
       "   {'key': 'Update_Date-Made-Public', 'value': '10/18/2011'},\n",
       "   {'key': 'Update_Update-Frequency', 'value': 'Daily'},\n",
       "   {'key': 'Dataset-Information_Agency', 'value': '311'}]},\n",
       " 'metadata': {'domain': 'data.cityofnewyork.us'},\n",
       " 'permalink': 'https://data.cityofnewyork.us/d/erm2-nwe9',\n",
       " 'link': 'https://data.cityofnewyork.us/Social-Services/311-Service-Requests-from-2010-to-Present/erm2-nwe9',\n",
       " 'owner': {'id': '5fuc-pqz2',\n",
       "  'user_type': 'interactive',\n",
       "  'display_name': 'NYC OpenData'},\n",
       " 'creator': {'id': '5fuc-pqz2',\n",
       "  'user_type': 'interactive',\n",
       "  'display_name': 'NYC OpenData'}}"
      ]
     },
     "execution_count": 112,
     "metadata": {},
     "output_type": "execute_result"
    }
   ],
   "source": [
    "# Previewing information about the 311 data set from the datasets method.\n",
    "# Note: Information is quite long.\n",
    "\n",
    "idx_311 = idx\n",
    "print(idx_311)\n",
    "\n",
    "client.datasets()[idx_311]"
   ]
  },
  {
   "cell_type": "code",
   "execution_count": 113,
   "metadata": {},
   "outputs": [
    {
     "name": "stdout",
     "output_type": "stream",
     "text": [
      "['name', 'id', 'parent_fxf', 'description', 'attribution', 'attribution_link', 'contact_email', 'type', 'updatedAt', 'createdAt', 'metadata_updated_at', 'data_updated_at', 'page_views', 'columns_name', 'columns_field_name', 'columns_datatype', 'columns_description', 'columns_format', 'download_count', 'provenance', 'lens_view_type', 'blob_mime_type', 'hide_from_data_json', 'publication_date']\n"
     ]
    }
   ],
   "source": [
    "# Since the datasets method is long, let's see if we can identify specific keys we want to preview\n",
    "# in the resource dictionary.\n",
    "\n",
    "lst_of_keys = list(client.datasets()[idx_311]['resource'].keys())\n",
    "\n",
    "print(lst_of_keys)"
   ]
  },
  {
   "cell_type": "code",
   "execution_count": 114,
   "metadata": {
    "scrolled": false
   },
   "outputs": [
    {
     "name": "stdout",
     "output_type": "stream",
     "text": [
      "name: 311 Service Requests from 2010 to Present \n",
      "\n",
      "id: erm2-nwe9 \n",
      "\n",
      "parent_fxf: [] \n",
      "\n",
      "description: <b>NOTE: This data does not present a full picture of 311 calls or service requests, in part because of operational and system complexities associated with remote call taking necessitated by the unprecedented volume 311 is handling during the Covid-19 crisis. The City is working to address this issue. </b>\n",
      "\n",
      "All 311 Service Requests from 2010 to present. This information is automatically updated daily. \n",
      "\n",
      "attribution: 311, DoITT \n",
      "\n",
      "attribution_link: None \n",
      "\n",
      "contact_email: None \n",
      "\n",
      "type: dataset \n",
      "\n",
      "updatedAt: 2021-01-25T02:41:21.000Z \n",
      "\n",
      "createdAt: 2011-10-10T05:52:17.000Z \n",
      "\n",
      "metadata_updated_at: 2020-04-22T20:18:38.000Z \n",
      "\n",
      "data_updated_at: 2021-01-25T02:41:21.000Z \n",
      "\n",
      "page_views: {'page_views_last_week': 1294, 'page_views_last_month': 4868, 'page_views_total': 438194, 'page_views_last_week_log': 10.338736382573916, 'page_views_last_month_log': 12.249409785269128, 'page_views_total_log': 18.741213497066273} \n",
      "\n",
      "columns_name: ['Open Data Channel Type', 'Bridge Highway Direction', 'Bridge Highway Segment', 'City', 'Street Name', 'Incident Address', 'Descriptor', 'Complaint Type', 'Agency Name', 'Agency', 'Cross Street 2', 'Landmark', 'Closed Date', 'Created Date', 'Location', 'Longitude', 'Status', 'Park Facility Name', 'Due Date', 'Location Type', 'Location (city)', 'BBL', 'Address Type', 'Latitude', 'Vehicle Type', 'Location (zip)', 'Borough', 'Intersection Street 2', 'Incident Zip', 'Cross Street 1', 'Taxi Company Borough', 'Road Ramp', 'Resolution Action Updated Date', 'Community Board', 'X Coordinate (State Plane)', 'Y Coordinate (State Plane)', 'Park Borough', 'Bridge Highway Name', 'Unique Key', 'Resolution Description', 'Facility Type', 'Intersection Street 1', 'Taxi Pick Up Location', 'Location (state)', 'Location (address)', 'Police Precincts', 'City Council Districts', 'Borough Boundaries', 'Community Districts', 'Zip Codes'] \n",
      "\n",
      "columns_field_name: ['open_data_channel_type', 'bridge_highway_direction', 'bridge_highway_segment', 'city', 'street_name', 'incident_address', 'descriptor', 'complaint_type', 'agency_name', 'agency', 'cross_street_2', 'landmark', 'closed_date', 'created_date', 'location', 'longitude', 'status', 'park_facility_name', 'due_date', 'location_type', 'location_city', 'bbl', 'address_type', 'latitude', 'vehicle_type', 'location_zip', 'borough', 'intersection_street_2', 'incident_zip', 'cross_street_1', 'taxi_company_borough', 'road_ramp', 'resolution_action_updated_date', 'community_board', 'x_coordinate_state_plane', 'y_coordinate_state_plane', 'park_borough', 'bridge_highway_name', 'unique_key', 'resolution_description', 'facility_type', 'intersection_street_1', 'taxi_pick_up_location', 'location_state', 'location_address', ':@computed_region_sbqj_enih', ':@computed_region_92fq_4b7q', ':@computed_region_yeji_bk3q', ':@computed_region_f5dn_yrer', ':@computed_region_efsh_h5xi'] \n",
      "\n",
      "columns_datatype: ['Text', 'Text', 'Text', 'Text', 'Text', 'Text', 'Text', 'Text', 'Text', 'Text', 'Text', 'Text', 'Calendar date', 'Calendar date', 'Point', 'Number', 'Text', 'Text', 'Calendar date', 'Text', 'Text', 'Text', 'Text', 'Number', 'Text', 'Text', 'Text', 'Text', 'Text', 'Text', 'Text', 'Text', 'Calendar date', 'Text', 'Number', 'Number', 'Text', 'Text', 'Text', 'Text', 'Text', 'Text', 'Text', 'Text', 'Text', 'Number', 'Number', 'Number', 'Number', 'Number'] \n",
      "\n",
      "columns_description: ['Indicates how the SR was submitted to 311.  i.e. By Phone, Online, Mobile, Other or Unknown.', 'If the incident is identified as a Bridge/Highway, the direction where the issue took place would be displayed here.\\n', 'Additional information on the section of the Bridge/Highway were the incident took place.\\n', 'City of the incident location provided by geovalidation.\\n', 'Street name of incident address provided by the submitter\\n', 'House number of incident address provided by submitter.\\n', 'This is  associated to the Complaint Type, and provides further detail on the incident or condition. Descriptor values are dependent on the Complaint Type, and are not always required in SR. \\n', 'This is the first level of a hierarchy identifying the topic of the incident or condition. Complaint Type may have a corresponding Descriptor (below) or may stand alone.', 'Full Agency name of responding City Government Agency', 'Acronym of responding City Government Agency\\n', 'Second Cross Street based on the geo validated incident location\\n', 'If the incident location is identified as a Landmark the name of the landmark will display here\\n', 'Date SR was closed by responding agency\\n', 'Date SR  was created\\n', 'Combination of the geo based lat & long of the incident location\\n', 'Geo based Long of the incident location\\n', 'Status of SR submitted \\n', 'If the incident location is a Parks Dept facility, the Name of the facility will appear here\\n', 'Date when responding agency is expected to update the SR.  This is based on the Complaint Type and internal Service Level Agreements (SLAs).\\n', 'Describes the type of location used in the address information \\n', '', 'Borough Block and Lot, provided by geovalidation. Parcel number to identify the location of location of buildings and properties in NYC.', 'Type of incident location information available.\\n', 'Geo based Lat of the incident location\\n', 'If the incident is a taxi, this field describes the type of TLC vehicle. \\n', '', 'Provided by the submitter and confirmed by geovalidation.\\n', 'Second intersecting street based on geo validated incident location\\n', 'Incident location zip code, provided by geo validation.\\n', 'First Cross street based on the geo validated incident location\\n', 'If the incident is identified as a taxi, this field will display the borough of the taxi company. \\n', 'If the incident location was Bridge/Highway this column differentiates if the issue was on the Road or the Ramp.\\n', 'Date when responding agency last updated the SR.\\n', 'Provided by geovalidation.\\n', 'Geo validated, X coordinate of the incident location. \\n', 'Geo validated,  Y coordinate of the incident location. \\n', 'The borough of incident if it is a Parks Dept facility\\n', 'If the incident is identified as a Bridge/Highway, the name will be displayed here.\\n', 'Unique identifier of a Service Request (SR) in the open data set\\n', 'Describes the last action taken on the SR by the responding agency.  May describe next or future steps. \\n', 'If available, this field describes the type of city facility associated to the SR\\n', 'First intersecting street based on geo validated incident location\\n', 'If the incident is identified as a taxi, this field displays the taxi pick up location\\n', '', '', '', '', '', '', ''] \n",
      "\n",
      "columns_format: [{'displayStyle': 'plain', 'align': 'left'}, {'displayStyle': 'plain', 'align': 'left'}, {'displayStyle': 'plain', 'align': 'left'}, {'displayStyle': 'plain', 'align': 'left'}, {}, {}, {}, {'displayStyle': 'plain', 'align': 'left'}, {'displayStyle': 'plain', 'align': 'left'}, {}, {}, {'displayStyle': 'plain', 'align': 'left'}, {'view': 'date_time', 'align': 'left'}, {'view': 'date_time', 'align': 'left'}, {'view': 'coords', 'align': 'left'}, {'precisionStyle': 'standard', 'noCommas': 'false', 'align': 'right'}, {}, {'displayStyle': 'plain', 'align': 'left'}, {'view': 'date_time', 'align': 'left'}, {}, {}, {'displayStyle': 'plain', 'align': 'left'}, {}, {'precisionStyle': 'standard', 'noCommas': 'false', 'align': 'right'}, {'displayStyle': 'plain', 'align': 'left'}, {}, {'displayStyle': 'plain', 'align': 'left'}, {}, {}, {}, {'displayStyle': 'plain', 'align': 'left'}, {'displayStyle': 'plain', 'align': 'left'}, {'view': 'date_time', 'align': 'left'}, {'displayStyle': 'plain', 'align': 'left'}, {'precisionStyle': 'standard', 'noCommas': 'false', 'align': 'right'}, {'precisionStyle': 'standard', 'noCommas': 'false', 'align': 'right'}, {'displayStyle': 'plain', 'align': 'left'}, {'displayStyle': 'plain', 'align': 'left'}, {}, {'displayStyle': 'plain', 'align': 'left'}, {'displayStyle': 'plain', 'align': 'left'}, {}, {'displayStyle': 'plain', 'align': 'left'}, {}, {}, {}, {}, {}, {}, {}] \n",
      "\n",
      "download_count: 398215 \n",
      "\n",
      "provenance: official \n",
      "\n"
     ]
    },
    {
     "name": "stdout",
     "output_type": "stream",
     "text": [
      "lens_view_type: tabular \n",
      "\n",
      "blob_mime_type: None \n",
      "\n",
      "hide_from_data_json: False \n",
      "\n",
      "publication_date: 2018-04-20T03:03:18.000Z \n",
      "\n"
     ]
    }
   ],
   "source": [
    "# Previewing keys, values in the resource dictionary.\n",
    "\n",
    "for item in lst_of_keys:\n",
    "    print(item + ':', client.datasets()[idx_311]['resource'][item], '\\n')"
   ]
  },
  {
   "cell_type": "markdown",
   "metadata": {},
   "source": [
    "## `.get()`"
   ]
  },
  {
   "cell_type": "markdown",
   "metadata": {},
   "source": [
    "`get` method: Read data from the requested resource. Options for content_type are json,\n",
    "csv, and xml."
   ]
  },
  {
   "cell_type": "code",
   "execution_count": 138,
   "metadata": {},
   "outputs": [
    {
     "name": "stderr",
     "output_type": "stream",
     "text": [
      "WARNING:root:Requests made without an app_token will be subject to strict throttling limits.\n"
     ]
    }
   ],
   "source": [
    "client = Socrata(socrata_domain, None, timeout=100)"
   ]
  },
  {
   "cell_type": "code",
   "execution_count": 139,
   "metadata": {
    "scrolled": false
   },
   "outputs": [
    {
     "name": "stdout",
     "output_type": "stream",
     "text": [
      "<class 'list'>\n"
     ]
    }
   ],
   "source": [
    "# Using try and except statements because these requests are large and may timeout.\n",
    "# If the request timesout, we skip it. \n",
    "\n",
    "try:\n",
    "    print(type(client.get(socrata_dataset_identifier)))\n",
    "except:\n",
    "    print('timeout error. skipping.')\n",
    "    pass  "
   ]
  },
  {
   "cell_type": "code",
   "execution_count": 140,
   "metadata": {},
   "outputs": [
    {
     "name": "stdout",
     "output_type": "stream",
     "text": [
      "dict_keys(['unique_key', 'created_date', 'agency', 'agency_name', 'complaint_type', 'descriptor', 'location_type', 'incident_zip', 'incident_address', 'street_name', 'cross_street_1', 'cross_street_2', 'intersection_street_1', 'intersection_street_2', 'city', 'landmark', 'status', 'community_board', 'bbl', 'borough', 'x_coordinate_state_plane', 'y_coordinate_state_plane', 'open_data_channel_type', 'park_facility_name', 'park_borough', 'latitude', 'longitude', 'location', ':@computed_region_efsh_h5xi', ':@computed_region_f5dn_yrer', ':@computed_region_yeji_bk3q', ':@computed_region_92fq_4b7q', ':@computed_region_sbqj_enih'])\n"
     ]
    }
   ],
   "source": [
    "# Using try and except statements because these requests are large and may timeout.\n",
    "# If the request timesout, we skip it. \n",
    "\n",
    "try:\n",
    "    print(client.get(socrata_dataset_identifier)[0].keys())\n",
    "except:\n",
    "    print('timeout error. skipping.')\n",
    "    pass"
   ]
  },
  {
   "cell_type": "code",
   "execution_count": 141,
   "metadata": {},
   "outputs": [
    {
     "name": "stdout",
     "output_type": "stream",
     "text": [
      "timeout error. skipping.\n"
     ]
    }
   ],
   "source": [
    "# Using try and except statements because these requests are large and may timeout.\n",
    "# If the request timesout, we skip it. \n",
    "\n",
    "try:\n",
    "    print(client.get(socrata_dataset_identifier, select='*')[0])\n",
    "except:\n",
    "    print('timeout error. skipping.')\n",
    "    pass"
   ]
  },
  {
   "cell_type": "markdown",
   "metadata": {},
   "source": [
    "## `.get_metadata()`"
   ]
  },
  {
   "cell_type": "markdown",
   "metadata": {},
   "source": [
    "`get_metadata` method: Retrieve the metadata for a particular dataset."
   ]
  },
  {
   "cell_type": "code",
   "execution_count": 142,
   "metadata": {},
   "outputs": [
    {
     "name": "stderr",
     "output_type": "stream",
     "text": [
      "WARNING:root:Requests made without an app_token will be subject to strict throttling limits.\n"
     ]
    }
   ],
   "source": [
    "client = Socrata(socrata_domain, None, timeout=1000)"
   ]
  },
  {
   "cell_type": "code",
   "execution_count": 143,
   "metadata": {},
   "outputs": [
    {
     "data": {
      "text/plain": [
       "dict"
      ]
     },
     "execution_count": 143,
     "metadata": {},
     "output_type": "execute_result"
    }
   ],
   "source": [
    "type(client.get_metadata(socrata_dataset_identifier))"
   ]
  },
  {
   "cell_type": "code",
   "execution_count": 144,
   "metadata": {
    "scrolled": false
   },
   "outputs": [
    {
     "data": {
      "text/plain": [
       "dict_keys(['id', 'name', 'assetType', 'attribution', 'averageRating', 'category', 'createdAt', 'description', 'displayType', 'downloadCount', 'hideFromCatalog', 'hideFromDataJson', 'indexUpdatedAt', 'newBackend', 'numberOfComments', 'oid', 'provenance', 'publicationAppendEnabled', 'publicationDate', 'publicationGroup', 'publicationStage', 'rowClass', 'rowIdentifierColumnId', 'rowsUpdatedAt', 'rowsUpdatedBy', 'tableId', 'totalTimesRated', 'viewCount', 'viewLastModified', 'viewType', 'approvals', 'columns', 'grants', 'metadata', 'owner', 'query', 'rights', 'tableAuthor', 'tags', 'flags'])"
      ]
     },
     "execution_count": 144,
     "metadata": {},
     "output_type": "execute_result"
    }
   ],
   "source": [
    "# Previewing keys in dictionary\n",
    "client.get_metadata(socrata_dataset_identifier).keys()"
   ]
  },
  {
   "cell_type": "code",
   "execution_count": 145,
   "metadata": {},
   "outputs": [
    {
     "name": "stdout",
     "output_type": "stream",
     "text": [
      "id\n",
      "name\n",
      "assetType\n",
      "attribution\n",
      "averageRating\n",
      "category\n",
      "createdAt\n",
      "description\n",
      "displayType\n",
      "downloadCount\n",
      "hideFromCatalog\n",
      "hideFromDataJson\n",
      "indexUpdatedAt\n",
      "newBackend\n",
      "numberOfComments\n",
      "oid\n",
      "provenance\n",
      "publicationAppendEnabled\n",
      "publicationDate\n",
      "publicationGroup\n",
      "publicationStage\n",
      "rowClass\n",
      "rowIdentifierColumnId\n",
      "rowsUpdatedAt\n",
      "rowsUpdatedBy\n",
      "tableId\n",
      "totalTimesRated\n",
      "viewCount\n",
      "viewLastModified\n",
      "viewType\n",
      "approvals\n",
      "columns\n",
      "grants\n",
      "metadata\n",
      "owner\n",
      "query\n",
      "rights\n",
      "tableAuthor\n",
      "tags\n",
      "flags\n"
     ]
    }
   ],
   "source": [
    "# Previewing keys vertically.\n",
    "keys = client.get_metadata(socrata_dataset_identifier).keys()\n",
    "for key in keys:\n",
    "    print(key)"
   ]
  },
  {
   "cell_type": "code",
   "execution_count": 146,
   "metadata": {},
   "outputs": [
    {
     "name": "stdout",
     "output_type": "stream",
     "text": [
      "id and name of dataset\n",
      "------------------------------\n",
      "id: erm2-nwe9 \n",
      "name: 311 Service Requests from 2010 to Present\n"
     ]
    }
   ],
   "source": [
    "# Previewing the id and name of the data set.\n",
    "print('id and name of dataset\\n' + \\\n",
    "      '-' * 30 + \\\n",
    "      '\\nid:', client.get_metadata(socrata_dataset_identifier)['id'], \\\n",
    "      '\\nname:', client.get_metadata(socrata_dataset_identifier)['name'])"
   ]
  },
  {
   "cell_type": "code",
   "execution_count": 147,
   "metadata": {
    "scrolled": false
   },
   "outputs": [
    {
     "name": "stdout",
     "output_type": "stream",
     "text": [
      "<class 'dict'> \n",
      "\n",
      "id: erm2-nwe9\n",
      "name: 311 Service Requests from 2010 to Present\n",
      "assetType: dataset\n",
      "attribution: 311, DoITT\n",
      "averageRating: 0\n",
      "category: Social Services\n",
      "createdAt: 1318225937\n",
      "description: <b>NOTE: This data does not present a full picture of 311 calls or service requests, in part because of operational and system complexities associated with remote call taking necessitated by the unprecedented volume 311 is handling during the Covid-19 crisis. The City is working to address this issue. </b>\r\n",
      "\r\n",
      "All 311 Service Requests from 2010 to present. This information is automatically updated daily.\n",
      "displayType: table\n",
      "downloadCount: 398217\n",
      "hideFromCatalog: False\n",
      "hideFromDataJson: False\n",
      "indexUpdatedAt: 1571326778\n",
      "newBackend: True\n",
      "numberOfComments: 19\n",
      "oid: 28506835\n",
      "provenance: official\n",
      "publicationAppendEnabled: False\n",
      "publicationDate: 1524193398\n",
      "publicationGroup: 244403\n",
      "publicationStage: published\n",
      "rowClass: \n",
      "rowIdentifierColumnId: 354922030\n",
      "rowsUpdatedAt: 1611542481\n",
      "rowsUpdatedBy: 5fuc-pqz2\n",
      "tableId: 15047182\n",
      "totalTimesRated: 0\n",
      "viewCount: 438235\n",
      "viewLastModified: 1587586718\n",
      "viewType: tabular\n"
     ]
    }
   ],
   "source": [
    "# Previewing the first 30 keys, values of the dictionary.\n",
    "metadata = client.get_metadata(socrata_dataset_identifier)\n",
    "\n",
    "limit = 30\n",
    "out = dict(itertools.islice(metadata.items(), limit))\n",
    "print(type(out), '\\n')\n",
    "\n",
    "for key, value in out.items():\n",
    "    print(key + ':',  value)"
   ]
  },
  {
   "cell_type": "code",
   "execution_count": 148,
   "metadata": {},
   "outputs": [
    {
     "name": "stdout",
     "output_type": "stream",
     "text": [
      "<class 'dict'>\n",
      "<class 'list'> , length: 46\n",
      "unique_key\n",
      "created_date\n",
      "closed_date\n",
      "agency\n",
      "agency_name\n",
      "complaint_type\n",
      "descriptor\n",
      "location_type\n",
      "incident_zip\n",
      "incident_address\n",
      "street_name\n",
      "cross_street_1\n",
      "cross_street_2\n",
      "intersection_street_1\n",
      "intersection_street_2\n",
      "address_type\n",
      "city\n",
      "landmark\n",
      "facility_type\n",
      "status\n",
      "due_date\n",
      "resolution_description\n",
      "resolution_action_updated_date\n",
      "community_board\n",
      "bbl\n",
      "borough\n",
      "x_coordinate_state_plane\n",
      "y_coordinate_state_plane\n",
      "open_data_channel_type\n",
      "park_facility_name\n",
      "park_borough\n",
      "vehicle_type\n",
      "taxi_company_borough\n",
      "taxi_pick_up_location\n",
      "bridge_highway_name\n",
      "bridge_highway_direction\n",
      "road_ramp\n",
      "bridge_highway_segment\n",
      "latitude\n",
      "longitude\n",
      "location\n",
      ":@computed_region_efsh_h5xi\n",
      ":@computed_region_f5dn_yrer\n",
      ":@computed_region_yeji_bk3q\n",
      ":@computed_region_92fq_4b7q\n",
      ":@computed_region_sbqj_enih\n"
     ]
    }
   ],
   "source": [
    "# Saving metadata dictionary as 'metadata'\n",
    "metadata = client.get_metadata(socrata_dataset_identifier)\n",
    "print(type(metadata))\n",
    "\n",
    "# Previewing the datatype of columns\n",
    "print(type(metadata['columns']), ', length:', len(metadata['columns']))\n",
    "\n",
    "# Previewing the field names for each element in our columns list\n",
    "for x in metadata['columns']:\n",
    "    print(x['fieldName'])"
   ]
  },
  {
   "cell_type": "code",
   "execution_count": 149,
   "metadata": {},
   "outputs": [
    {
     "data": {
      "text/plain": [
       "{'id': 354922030,\n",
       " 'name': 'Unique Key',\n",
       " 'dataTypeName': 'text',\n",
       " 'description': 'Unique identifier of a Service Request (SR) in the open data set\\n',\n",
       " 'fieldName': 'unique_key',\n",
       " 'position': 1,\n",
       " 'renderTypeName': 'text',\n",
       " 'tableColumnId': 1567787,\n",
       " 'width': 220,\n",
       " 'cachedContents': {'largest': '49608994',\n",
       "  'non_null': '24796821',\n",
       "  'null': '0',\n",
       "  'top': [{'item': '10693408', 'count': '1'},\n",
       "   {'item': '10836749', 'count': '1'},\n",
       "   {'item': '10836967', 'count': '1'},\n",
       "   {'item': '11051177', 'count': '1'},\n",
       "   {'item': '11413576', 'count': '1'},\n",
       "   {'item': '11463895', 'count': '1'},\n",
       "   {'item': '11463896', 'count': '1'},\n",
       "   {'item': '11464334', 'count': '1'},\n",
       "   {'item': '11464394', 'count': '1'},\n",
       "   {'item': '11464467', 'count': '1'},\n",
       "   {'item': '11464508', 'count': '1'},\n",
       "   {'item': '11464509', 'count': '1'},\n",
       "   {'item': '11464521', 'count': '1'},\n",
       "   {'item': '11464567', 'count': '1'},\n",
       "   {'item': '11464572', 'count': '1'},\n",
       "   {'item': '11464639', 'count': '1'},\n",
       "   {'item': '11464846', 'count': '1'},\n",
       "   {'item': '11464850', 'count': '1'},\n",
       "   {'item': '11464938', 'count': '1'},\n",
       "   {'item': '11465153', 'count': '1'}],\n",
       "  'smallest': '10564222',\n",
       "  'not_null': '21933957',\n",
       "  'cardinality': '24796821'},\n",
       " 'format': {}}"
      ]
     },
     "execution_count": 149,
     "metadata": {},
     "output_type": "execute_result"
    }
   ],
   "source": [
    "metadata = client.get_metadata(socrata_dataset_identifier)\n",
    "\n",
    "# Previewing the first element in our columns list\n",
    "metadata['columns'][0]"
   ]
  },
  {
   "cell_type": "code",
   "execution_count": 150,
   "metadata": {},
   "outputs": [
    {
     "data": {
      "text/plain": [
       "{'id': 354922031,\n",
       " 'name': 'Created Date',\n",
       " 'dataTypeName': 'calendar_date',\n",
       " 'description': 'Date SR  was created\\n',\n",
       " 'fieldName': 'created_date',\n",
       " 'position': 2,\n",
       " 'renderTypeName': 'calendar_date',\n",
       " 'tableColumnId': 1567788,\n",
       " 'width': 244,\n",
       " 'cachedContents': {'largest': '2021-01-24T02:04:05.000',\n",
       "  'non_null': '24796821',\n",
       "  'null': '0',\n",
       "  'top': [{'item': '2013-01-24T00:00:00.000', 'count': '7650'},\n",
       "   {'item': '2015-01-08T00:00:00.000', 'count': '7242'},\n",
       "   {'item': '2014-01-07T00:00:00.000', 'count': '7030'},\n",
       "   {'item': '2015-02-16T00:00:00.000', 'count': '6430'},\n",
       "   {'item': '2014-01-08T00:00:00.000', 'count': '6197'},\n",
       "   {'item': '2012-01-04T00:00:00.000', 'count': '5933'},\n",
       "   {'item': '2013-11-25T00:00:00.000', 'count': '5909'},\n",
       "   {'item': '2014-01-23T00:00:00.000', 'count': '5782'},\n",
       "   {'item': '2014-01-22T00:00:00.000', 'count': '5497'},\n",
       "   {'item': '2015-01-07T00:00:00.000', 'count': '5432'},\n",
       "   {'item': '2011-01-24T00:00:00.000', 'count': '5380'},\n",
       "   {'item': '2011-10-28T00:00:00.000', 'count': '5275'},\n",
       "   {'item': '2010-01-04T00:00:00.000', 'count': '5130'},\n",
       "   {'item': '2014-01-24T00:00:00.000', 'count': '5113'},\n",
       "   {'item': '2010-12-14T00:00:00.000', 'count': '5102'},\n",
       "   {'item': '2014-11-18T00:00:00.000', 'count': '5029'},\n",
       "   {'item': '2010-12-15T00:00:00.000', 'count': '5021'},\n",
       "   {'item': '2014-11-19T00:00:00.000', 'count': '5006'},\n",
       "   {'item': '2013-01-25T00:00:00.000', 'count': '4959'},\n",
       "   {'item': '2010-12-06T00:00:00.000', 'count': '4880'}],\n",
       "  'smallest': '2010-01-01T00:00:00.000',\n",
       "  'not_null': '21933957',\n",
       "  'cardinality': '16862517'},\n",
       " 'format': {'view': 'date_time', 'align': 'left'}}"
      ]
     },
     "execution_count": 150,
     "metadata": {},
     "output_type": "execute_result"
    }
   ],
   "source": [
    "metadata = client.get_metadata(socrata_dataset_identifier)\n",
    "\n",
    "# Identifying our columns list\n",
    "cols = metadata['columns']\n",
    "\n",
    "# Previewing first position in our columns list\n",
    "cols[1]"
   ]
  },
  {
   "cell_type": "code",
   "execution_count": 151,
   "metadata": {},
   "outputs": [
    {
     "name": "stdout",
     "output_type": "stream",
     "text": [
      "unique_key\n",
      "created_date\n",
      "closed_date\n",
      "agency\n",
      "agency_name\n",
      "complaint_type\n",
      "descriptor\n",
      "location_type\n",
      "incident_zip\n",
      "incident_address\n",
      "street_name\n",
      "cross_street_1\n",
      "cross_street_2\n",
      "intersection_street_1\n",
      "intersection_street_2\n",
      "address_type\n",
      "city\n",
      "landmark\n",
      "facility_type\n",
      "status\n",
      "due_date\n",
      "resolution_description\n",
      "resolution_action_updated_date\n",
      "community_board\n",
      "bbl\n",
      "borough\n",
      "x_coordinate_state_plane\n",
      "y_coordinate_state_plane\n",
      "open_data_channel_type\n",
      "park_facility_name\n",
      "park_borough\n",
      "vehicle_type\n",
      "taxi_company_borough\n",
      "taxi_pick_up_location\n",
      "bridge_highway_name\n",
      "bridge_highway_direction\n",
      "road_ramp\n",
      "bridge_highway_segment\n",
      "latitude\n",
      "longitude\n",
      "location\n",
      ":@computed_region_efsh_h5xi\n",
      ":@computed_region_f5dn_yrer\n",
      ":@computed_region_yeji_bk3q\n",
      ":@computed_region_92fq_4b7q\n",
      ":@computed_region_sbqj_enih\n"
     ]
    }
   ],
   "source": [
    "# Creating a fieldName dictionary for every element in our column list\n",
    "fieldName = {x['fieldName']: x for x in cols}\n",
    "\n",
    "# Previewing the field names (values) in our fieldName dictionary\n",
    "for key in fieldName.keys():\n",
    "    print(key)"
   ]
  },
  {
   "cell_type": "code",
   "execution_count": 152,
   "metadata": {},
   "outputs": [
    {
     "data": {
      "text/plain": [
       "['unique_key',\n",
       " 'created_date',\n",
       " 'closed_date',\n",
       " 'agency',\n",
       " 'agency_name',\n",
       " 'complaint_type',\n",
       " 'descriptor',\n",
       " 'location_type',\n",
       " 'incident_zip',\n",
       " 'incident_address',\n",
       " 'street_name',\n",
       " 'cross_street_1',\n",
       " 'cross_street_2',\n",
       " 'intersection_street_1',\n",
       " 'intersection_street_2',\n",
       " 'address_type',\n",
       " 'city',\n",
       " 'landmark',\n",
       " 'facility_type',\n",
       " 'status',\n",
       " 'due_date',\n",
       " 'resolution_description',\n",
       " 'resolution_action_updated_date',\n",
       " 'community_board',\n",
       " 'bbl',\n",
       " 'borough',\n",
       " 'x_coordinate_state_plane',\n",
       " 'y_coordinate_state_plane',\n",
       " 'open_data_channel_type',\n",
       " 'park_facility_name',\n",
       " 'park_borough',\n",
       " 'vehicle_type',\n",
       " 'taxi_company_borough',\n",
       " 'taxi_pick_up_location',\n",
       " 'bridge_highway_name',\n",
       " 'bridge_highway_direction',\n",
       " 'road_ramp',\n",
       " 'bridge_highway_segment',\n",
       " 'latitude',\n",
       " 'longitude',\n",
       " 'location']"
      ]
     },
     "execution_count": 152,
     "metadata": {},
     "output_type": "execute_result"
    }
   ],
   "source": [
    "# Removing the last five field names\n",
    "list(fieldName.keys())[:-5]"
   ]
  },
  {
   "cell_type": "code",
   "execution_count": 153,
   "metadata": {},
   "outputs": [
    {
     "data": {
      "text/plain": [
       "['unique_key',\n",
       " 'created_date',\n",
       " 'closed_date',\n",
       " 'agency',\n",
       " 'agency_name',\n",
       " 'complaint_type',\n",
       " 'descriptor',\n",
       " 'location_type',\n",
       " 'incident_zip',\n",
       " 'incident_address',\n",
       " 'street_name',\n",
       " 'cross_street_1',\n",
       " 'cross_street_2',\n",
       " 'intersection_street_1',\n",
       " 'intersection_street_2',\n",
       " 'address_type',\n",
       " 'city',\n",
       " 'landmark',\n",
       " 'facility_type',\n",
       " 'status',\n",
       " 'due_date',\n",
       " 'resolution_description',\n",
       " 'resolution_action_updated_date',\n",
       " 'community_board',\n",
       " 'bbl',\n",
       " 'borough',\n",
       " 'x_coordinate_state_plane',\n",
       " 'y_coordinate_state_plane',\n",
       " 'open_data_channel_type',\n",
       " 'park_facility_name',\n",
       " 'park_borough',\n",
       " 'vehicle_type',\n",
       " 'taxi_company_borough',\n",
       " 'taxi_pick_up_location',\n",
       " 'bridge_highway_name',\n",
       " 'bridge_highway_direction',\n",
       " 'road_ramp',\n",
       " 'bridge_highway_segment',\n",
       " 'latitude',\n",
       " 'longitude',\n",
       " 'location']"
      ]
     },
     "execution_count": 153,
     "metadata": {},
     "output_type": "execute_result"
    }
   ],
   "source": [
    "# Removing the last five field names\n",
    "cols_as_list = list(fieldName.keys())[:-5]\n",
    "\n",
    "cols_as_list"
   ]
  },
  {
   "cell_type": "markdown",
   "metadata": {},
   "source": [
    "# Socrata Query Language (SoQL) - Analyzing NYC 311 Complaints"
   ]
  },
  {
   "cell_type": "markdown",
   "metadata": {},
   "source": [
    "## Most NYC 311 Complaints by Complaint Type"
   ]
  },
  {
   "cell_type": "code",
   "execution_count": 154,
   "metadata": {},
   "outputs": [
    {
     "name": "stderr",
     "output_type": "stream",
     "text": [
      "WARNING:root:Requests made without an app_token will be subject to strict throttling limits.\n"
     ]
    },
    {
     "name": "stdout",
     "output_type": "stream",
     "text": [
      "<class 'list'> Returned a list from our request.\n",
      "\n",
      "<class 'dict'> However, request is actually a list of dictionaries.\n",
      "\n",
      "<class 'pandas.core.frame.DataFrame'> Convert list of dictionaries to DataFrame.\n",
      "Rows and columns of data: (445, 2)\n"
     ]
    },
    {
     "data": {
      "text/html": [
       "<div>\n",
       "<style scoped>\n",
       "    .dataframe tbody tr th:only-of-type {\n",
       "        vertical-align: middle;\n",
       "    }\n",
       "\n",
       "    .dataframe tbody tr th {\n",
       "        vertical-align: top;\n",
       "    }\n",
       "\n",
       "    .dataframe thead th {\n",
       "        text-align: right;\n",
       "    }\n",
       "</style>\n",
       "<table border=\"1\" class=\"dataframe\">\n",
       "  <thead>\n",
       "    <tr style=\"text-align: right;\">\n",
       "      <th></th>\n",
       "      <th>complaint_type</th>\n",
       "      <th>count</th>\n",
       "    </tr>\n",
       "  </thead>\n",
       "  <tbody>\n",
       "    <tr>\n",
       "      <th>0</th>\n",
       "      <td>Noise - Residential</td>\n",
       "      <td>2236002</td>\n",
       "    </tr>\n",
       "    <tr>\n",
       "      <th>1</th>\n",
       "      <td>HEAT/HOT WATER</td>\n",
       "      <td>1418669</td>\n",
       "    </tr>\n",
       "    <tr>\n",
       "      <th>2</th>\n",
       "      <td>Illegal Parking</td>\n",
       "      <td>1124210</td>\n",
       "    </tr>\n",
       "    <tr>\n",
       "      <th>3</th>\n",
       "      <td>Blocked Driveway</td>\n",
       "      <td>1044959</td>\n",
       "    </tr>\n",
       "    <tr>\n",
       "      <th>4</th>\n",
       "      <td>Street Condition</td>\n",
       "      <td>1020518</td>\n",
       "    </tr>\n",
       "    <tr>\n",
       "      <th>5</th>\n",
       "      <td>Street Light Condition</td>\n",
       "      <td>983562</td>\n",
       "    </tr>\n",
       "    <tr>\n",
       "      <th>6</th>\n",
       "      <td>HEATING</td>\n",
       "      <td>887869</td>\n",
       "    </tr>\n",
       "    <tr>\n",
       "      <th>7</th>\n",
       "      <td>PLUMBING</td>\n",
       "      <td>747458</td>\n",
       "    </tr>\n",
       "    <tr>\n",
       "      <th>8</th>\n",
       "      <td>Water System</td>\n",
       "      <td>686847</td>\n",
       "    </tr>\n",
       "    <tr>\n",
       "      <th>9</th>\n",
       "      <td>Noise - Street/Sidewalk</td>\n",
       "      <td>682283</td>\n",
       "    </tr>\n",
       "  </tbody>\n",
       "</table>\n",
       "</div>"
      ],
      "text/plain": [
       "            complaint_type    count\n",
       "0      Noise - Residential  2236002\n",
       "1           HEAT/HOT WATER  1418669\n",
       "2          Illegal Parking  1124210\n",
       "3         Blocked Driveway  1044959\n",
       "4         Street Condition  1020518\n",
       "5   Street Light Condition   983562\n",
       "6                  HEATING   887869\n",
       "7                 PLUMBING   747458\n",
       "8             Water System   686847\n",
       "9  Noise - Street/Sidewalk   682283"
      ]
     },
     "execution_count": 154,
     "metadata": {},
     "output_type": "execute_result"
    }
   ],
   "source": [
    "# Source domain for NYC Open Data on Socrata\n",
    "socrata_domain = 'data.cityofnewyork.us'\n",
    "\n",
    "# Data set id for NYC 311 on NYC Open Data on Socrata\n",
    "socrata_dataset_identifier = 'erm2-nwe9'\n",
    "\n",
    "# Socrata - The main class that interacts with the SODA API. We pass the source domain value\n",
    "# of NYC Open data, the app token as 'None', and set the timeout parameter for '1,000 seconds'\n",
    "client = Socrata(socrata_domain, None, timeout=1000)\n",
    "\n",
    "# SoQL query string below:\n",
    "# Select the complaint_type and the count of complaint_type columns \n",
    "# grouped by complaint_type, sorted by the count of complaint_type in descending order\n",
    "# and limit our records to 1,000.\n",
    "\n",
    "query = \"\"\"\n",
    "SELECT \n",
    "    complaint_type, \n",
    "    count(complaint_type) AS count\n",
    "GROUP BY \n",
    "    complaint_type\n",
    "ORDER BY \n",
    "    count(complaint_type) DESC\n",
    "LIMIT \n",
    "    1000\n",
    "\"\"\"\n",
    "\n",
    "# Requesting data from the NYC 311 data set\n",
    "# and passing our query as a full SoQL query string\n",
    "results = client.get(socrata_dataset_identifier, query=query)\n",
    "\n",
    "# results is returned as JSON from API and converted to Python list of\n",
    "# dictionaries by sodapy\n",
    "print(type(results), 'Returned a list from our request.\\n')\n",
    "\n",
    "# Identifying type of first element of our results list\n",
    "print(type(results[0]), 'However, request is actually a list of dictionaries.\\n')\n",
    "\n",
    "# Convert list of dictionaries to a pandas DataFrame\n",
    "results_df = pd.DataFrame.from_records(results)\n",
    "\n",
    "print(type(results_df), 'Convert list of dictionaries to DataFrame.')\n",
    "print('Rows and columns of data:', results_df.shape)\n",
    "\n",
    "results_df.head(10)"
   ]
  },
  {
   "cell_type": "markdown",
   "metadata": {},
   "source": [
    "## Most NYC 311 Complaints by Descriptor"
   ]
  },
  {
   "cell_type": "code",
   "execution_count": 155,
   "metadata": {},
   "outputs": [
    {
     "name": "stderr",
     "output_type": "stream",
     "text": [
      "WARNING:root:Requests made without an app_token will be subject to strict throttling limits.\n"
     ]
    },
    {
     "name": "stdout",
     "output_type": "stream",
     "text": [
      "Rows and columns of data: (1000, 2)\n"
     ]
    },
    {
     "data": {
      "text/html": [
       "<div>\n",
       "<style scoped>\n",
       "    .dataframe tbody tr th:only-of-type {\n",
       "        vertical-align: middle;\n",
       "    }\n",
       "\n",
       "    .dataframe tbody tr th {\n",
       "        vertical-align: top;\n",
       "    }\n",
       "\n",
       "    .dataframe thead th {\n",
       "        text-align: right;\n",
       "    }\n",
       "</style>\n",
       "<table border=\"1\" class=\"dataframe\">\n",
       "  <thead>\n",
       "    <tr style=\"text-align: right;\">\n",
       "      <th></th>\n",
       "      <th>descriptor</th>\n",
       "      <th>count</th>\n",
       "    </tr>\n",
       "  </thead>\n",
       "  <tbody>\n",
       "    <tr>\n",
       "      <th>0</th>\n",
       "      <td>Loud Music/Party</td>\n",
       "      <td>2335159</td>\n",
       "    </tr>\n",
       "    <tr>\n",
       "      <th>1</th>\n",
       "      <td>ENTIRE BUILDING</td>\n",
       "      <td>923819</td>\n",
       "    </tr>\n",
       "    <tr>\n",
       "      <th>2</th>\n",
       "      <td>HEAT</td>\n",
       "      <td>871935</td>\n",
       "    </tr>\n",
       "    <tr>\n",
       "      <th>3</th>\n",
       "      <td>No Access</td>\n",
       "      <td>778060</td>\n",
       "    </tr>\n",
       "    <tr>\n",
       "      <th>4</th>\n",
       "      <td>Street Light Out</td>\n",
       "      <td>729234</td>\n",
       "    </tr>\n",
       "    <tr>\n",
       "      <th>5</th>\n",
       "      <td>Pothole</td>\n",
       "      <td>617633</td>\n",
       "    </tr>\n",
       "    <tr>\n",
       "      <th>6</th>\n",
       "      <td>Banging/Pounding</td>\n",
       "      <td>612473</td>\n",
       "    </tr>\n",
       "    <tr>\n",
       "      <th>7</th>\n",
       "      <td>APARTMENT ONLY</td>\n",
       "      <td>494850</td>\n",
       "    </tr>\n",
       "    <tr>\n",
       "      <th>8</th>\n",
       "      <td>Loud Talking</td>\n",
       "      <td>358823</td>\n",
       "    </tr>\n",
       "    <tr>\n",
       "      <th>9</th>\n",
       "      <td>CEILING</td>\n",
       "      <td>358776</td>\n",
       "    </tr>\n",
       "  </tbody>\n",
       "</table>\n",
       "</div>"
      ],
      "text/plain": [
       "         descriptor    count\n",
       "0  Loud Music/Party  2335159\n",
       "1   ENTIRE BUILDING   923819\n",
       "2              HEAT   871935\n",
       "3         No Access   778060\n",
       "4  Street Light Out   729234\n",
       "5           Pothole   617633\n",
       "6  Banging/Pounding   612473\n",
       "7    APARTMENT ONLY   494850\n",
       "8      Loud Talking   358823\n",
       "9           CEILING   358776"
      ]
     },
     "execution_count": 155,
     "metadata": {},
     "output_type": "execute_result"
    }
   ],
   "source": [
    "# Source domain for NYC Open Data on Socrata\n",
    "socrata_domain = 'data.cityofnewyork.us'\n",
    "\n",
    "# Data set id for NYC 311 on NYC Open Data on Socrata\n",
    "socrata_dataset_identifier = 'erm2-nwe9'\n",
    "\n",
    "# Socrata - The main class that interacts with the SODA API. We pass the source domain value\n",
    "# of NYC Open data, the app token as 'None', and set the timeout parameter for '1,000 seconds'\n",
    "client = Socrata(socrata_domain, None, timeout=1000)\n",
    "\n",
    "# SoQL query string below:\n",
    "# Select the descriptor and count of descriptor columns grouped by descriptor,\n",
    "# sort by the count in descending order and limit our records to 1,000.\n",
    "\n",
    "query = \"\"\"\n",
    "SELECT \n",
    "    descriptor, \n",
    "    count(descriptor) AS count\n",
    "GROUP BY \n",
    "    descriptor\n",
    "ORDER BY \n",
    "    count DESC\n",
    "LIMIT \n",
    "    1000\n",
    "\"\"\"\n",
    "\n",
    "# Requesting data from the NYC 311 data set\n",
    "# and passing our query as a full SoQL query string\n",
    "results = client.get(socrata_dataset_identifier, query=query)\n",
    "\n",
    "# Convert list of dictionaries to a pandas DataFrame\n",
    "results_df = pd.DataFrame.from_records(results)\n",
    "\n",
    "print('Rows and columns of data:', results_df.shape)\n",
    "\n",
    "results_df.head(10)"
   ]
  },
  {
   "cell_type": "markdown",
   "metadata": {},
   "source": [
    "## Most NYC 311 Complaints by Day"
   ]
  },
  {
   "cell_type": "code",
   "execution_count": 156,
   "metadata": {},
   "outputs": [
    {
     "name": "stderr",
     "output_type": "stream",
     "text": [
      "WARNING:root:Requests made without an app_token will be subject to strict throttling limits.\n"
     ]
    },
    {
     "name": "stdout",
     "output_type": "stream",
     "text": [
      "Rows and columns of data: (1000, 2)\n"
     ]
    },
    {
     "data": {
      "text/html": [
       "<div>\n",
       "<style scoped>\n",
       "    .dataframe tbody tr th:only-of-type {\n",
       "        vertical-align: middle;\n",
       "    }\n",
       "\n",
       "    .dataframe tbody tr th {\n",
       "        vertical-align: top;\n",
       "    }\n",
       "\n",
       "    .dataframe thead th {\n",
       "        text-align: right;\n",
       "    }\n",
       "</style>\n",
       "<table border=\"1\" class=\"dataframe\">\n",
       "  <thead>\n",
       "    <tr style=\"text-align: right;\">\n",
       "      <th></th>\n",
       "      <th>day</th>\n",
       "      <th>count</th>\n",
       "    </tr>\n",
       "  </thead>\n",
       "  <tbody>\n",
       "    <tr>\n",
       "      <th>0</th>\n",
       "      <td>2020-08-04T00:00:00.000</td>\n",
       "      <td>23314</td>\n",
       "    </tr>\n",
       "    <tr>\n",
       "      <th>1</th>\n",
       "      <td>2020-08-05T00:00:00.000</td>\n",
       "      <td>18305</td>\n",
       "    </tr>\n",
       "    <tr>\n",
       "      <th>2</th>\n",
       "      <td>2020-07-05T00:00:00.000</td>\n",
       "      <td>16014</td>\n",
       "    </tr>\n",
       "    <tr>\n",
       "      <th>3</th>\n",
       "      <td>2020-07-04T00:00:00.000</td>\n",
       "      <td>15365</td>\n",
       "    </tr>\n",
       "    <tr>\n",
       "      <th>4</th>\n",
       "      <td>2020-06-20T00:00:00.000</td>\n",
       "      <td>15098</td>\n",
       "    </tr>\n",
       "    <tr>\n",
       "      <th>5</th>\n",
       "      <td>2020-06-21T00:00:00.000</td>\n",
       "      <td>14965</td>\n",
       "    </tr>\n",
       "    <tr>\n",
       "      <th>6</th>\n",
       "      <td>2020-06-28T00:00:00.000</td>\n",
       "      <td>12899</td>\n",
       "    </tr>\n",
       "    <tr>\n",
       "      <th>7</th>\n",
       "      <td>2020-06-27T00:00:00.000</td>\n",
       "      <td>12074</td>\n",
       "    </tr>\n",
       "    <tr>\n",
       "      <th>8</th>\n",
       "      <td>2020-08-09T00:00:00.000</td>\n",
       "      <td>12057</td>\n",
       "    </tr>\n",
       "    <tr>\n",
       "      <th>9</th>\n",
       "      <td>2020-08-06T00:00:00.000</td>\n",
       "      <td>12043</td>\n",
       "    </tr>\n",
       "  </tbody>\n",
       "</table>\n",
       "</div>"
      ],
      "text/plain": [
       "                       day  count\n",
       "0  2020-08-04T00:00:00.000  23314\n",
       "1  2020-08-05T00:00:00.000  18305\n",
       "2  2020-07-05T00:00:00.000  16014\n",
       "3  2020-07-04T00:00:00.000  15365\n",
       "4  2020-06-20T00:00:00.000  15098\n",
       "5  2020-06-21T00:00:00.000  14965\n",
       "6  2020-06-28T00:00:00.000  12899\n",
       "7  2020-06-27T00:00:00.000  12074\n",
       "8  2020-08-09T00:00:00.000  12057\n",
       "9  2020-08-06T00:00:00.000  12043"
      ]
     },
     "execution_count": 156,
     "metadata": {},
     "output_type": "execute_result"
    }
   ],
   "source": [
    "# Source domain for NYC Open Data on Socrata\n",
    "socrata_domain = 'data.cityofnewyork.us'\n",
    "\n",
    "# Data set id for NYC 311 on NYC Open Data on Socrata\n",
    "socrata_dataset_identifier = 'erm2-nwe9'\n",
    "\n",
    "# Socrata - The main class that interacts with the SODA API. We pass the source domain value\n",
    "# of NYC Open data, the app token as 'None', and set the timeout parameter for '1,000 seconds'\n",
    "client = Socrata(socrata_domain, None, timeout=1000)\n",
    "\n",
    "# SoQL query string below:\n",
    "# Select the day and count day grouped by day,\n",
    "# sort by count in descending order and limit our records to 1,000.\n",
    "\n",
    "query = \"\"\"\n",
    "SELECT \n",
    "    date_trunc_ymd(created_date) AS day, \n",
    "    count(day) AS count\n",
    "GROUP BY \n",
    "    day\n",
    "ORDER BY \n",
    "    count DESC\n",
    "LIMIT \n",
    "    1000\n",
    "\"\"\"\n",
    "\n",
    "# Requesting data from the NYC 311 data set\n",
    "# and passing our query as a full SoQL query string\n",
    "results = client.get(socrata_dataset_identifier, query=query)\n",
    "\n",
    "# Convert list of dictionaries to a pandas DataFrame\n",
    "results_df = pd.DataFrame.from_records(results)\n",
    "\n",
    "print('Rows and columns of data:', results_df.shape)\n",
    "\n",
    "results_df.head(10)"
   ]
  },
  {
   "cell_type": "markdown",
   "metadata": {},
   "source": [
    "## Displaying the difference between the date (timestamp) and day (date_trunc_ymd) columns"
   ]
  },
  {
   "cell_type": "code",
   "execution_count": 157,
   "metadata": {},
   "outputs": [
    {
     "name": "stderr",
     "output_type": "stream",
     "text": [
      "WARNING:root:Requests made without an app_token will be subject to strict throttling limits.\n"
     ]
    },
    {
     "name": "stdout",
     "output_type": "stream",
     "text": [
      "Rows and columns of data: (1000, 3)\n"
     ]
    },
    {
     "data": {
      "text/html": [
       "<div>\n",
       "<style scoped>\n",
       "    .dataframe tbody tr th:only-of-type {\n",
       "        vertical-align: middle;\n",
       "    }\n",
       "\n",
       "    .dataframe tbody tr th {\n",
       "        vertical-align: top;\n",
       "    }\n",
       "\n",
       "    .dataframe thead th {\n",
       "        text-align: right;\n",
       "    }\n",
       "</style>\n",
       "<table border=\"1\" class=\"dataframe\">\n",
       "  <thead>\n",
       "    <tr style=\"text-align: right;\">\n",
       "      <th></th>\n",
       "      <th>timestamp</th>\n",
       "      <th>day</th>\n",
       "      <th>count</th>\n",
       "    </tr>\n",
       "  </thead>\n",
       "  <tbody>\n",
       "    <tr>\n",
       "      <th>0</th>\n",
       "      <td>2010-01-01T15:48:17.000</td>\n",
       "      <td>2010-01-01T00:00:00.000</td>\n",
       "      <td>1</td>\n",
       "    </tr>\n",
       "    <tr>\n",
       "      <th>1</th>\n",
       "      <td>2010-01-01T16:01:57.000</td>\n",
       "      <td>2010-01-01T00:00:00.000</td>\n",
       "      <td>1</td>\n",
       "    </tr>\n",
       "    <tr>\n",
       "      <th>2</th>\n",
       "      <td>2010-01-01T15:40:55.000</td>\n",
       "      <td>2010-01-01T00:00:00.000</td>\n",
       "      <td>1</td>\n",
       "    </tr>\n",
       "    <tr>\n",
       "      <th>3</th>\n",
       "      <td>2010-01-01T15:48:01.000</td>\n",
       "      <td>2010-01-01T00:00:00.000</td>\n",
       "      <td>1</td>\n",
       "    </tr>\n",
       "    <tr>\n",
       "      <th>4</th>\n",
       "      <td>2010-01-01T15:57:07.000</td>\n",
       "      <td>2010-01-01T00:00:00.000</td>\n",
       "      <td>1</td>\n",
       "    </tr>\n",
       "    <tr>\n",
       "      <th>5</th>\n",
       "      <td>2010-01-01T16:01:43.000</td>\n",
       "      <td>2010-01-01T00:00:00.000</td>\n",
       "      <td>1</td>\n",
       "    </tr>\n",
       "    <tr>\n",
       "      <th>6</th>\n",
       "      <td>2010-01-01T15:35:00.000</td>\n",
       "      <td>2010-01-01T00:00:00.000</td>\n",
       "      <td>1</td>\n",
       "    </tr>\n",
       "    <tr>\n",
       "      <th>7</th>\n",
       "      <td>2010-01-01T15:39:32.000</td>\n",
       "      <td>2010-01-01T00:00:00.000</td>\n",
       "      <td>1</td>\n",
       "    </tr>\n",
       "    <tr>\n",
       "      <th>8</th>\n",
       "      <td>2010-01-01T15:45:00.000</td>\n",
       "      <td>2010-01-01T00:00:00.000</td>\n",
       "      <td>1</td>\n",
       "    </tr>\n",
       "    <tr>\n",
       "      <th>9</th>\n",
       "      <td>2010-01-01T15:48:00.000</td>\n",
       "      <td>2010-01-01T00:00:00.000</td>\n",
       "      <td>1</td>\n",
       "    </tr>\n",
       "  </tbody>\n",
       "</table>\n",
       "</div>"
      ],
      "text/plain": [
       "                 timestamp                      day count\n",
       "0  2010-01-01T15:48:17.000  2010-01-01T00:00:00.000     1\n",
       "1  2010-01-01T16:01:57.000  2010-01-01T00:00:00.000     1\n",
       "2  2010-01-01T15:40:55.000  2010-01-01T00:00:00.000     1\n",
       "3  2010-01-01T15:48:01.000  2010-01-01T00:00:00.000     1\n",
       "4  2010-01-01T15:57:07.000  2010-01-01T00:00:00.000     1\n",
       "5  2010-01-01T16:01:43.000  2010-01-01T00:00:00.000     1\n",
       "6  2010-01-01T15:35:00.000  2010-01-01T00:00:00.000     1\n",
       "7  2010-01-01T15:39:32.000  2010-01-01T00:00:00.000     1\n",
       "8  2010-01-01T15:45:00.000  2010-01-01T00:00:00.000     1\n",
       "9  2010-01-01T15:48:00.000  2010-01-01T00:00:00.000     1"
      ]
     },
     "execution_count": 157,
     "metadata": {},
     "output_type": "execute_result"
    }
   ],
   "source": [
    "# Source domain for NYC Open Data on Socrata\n",
    "socrata_domain = 'data.cityofnewyork.us'\n",
    "\n",
    "# Data set id for NYC 311 on NYC Open Data on Socrata\n",
    "socrata_dataset_identifier = 'erm2-nwe9'\n",
    "\n",
    "# Socrata - The main class that interacts with the SODA API. We pass the source domain value\n",
    "# of NYC Open data, the app token as 'None', and set the timeout parameter for '1,000 seconds'\n",
    "client = Socrata(socrata_domain, None, timeout=1000)\n",
    "\n",
    "# SoQL query string below:\n",
    "# Select the timestamp, day and count timestamp grouped by timestamp,\n",
    "# sort by count in descending order and limit our records to 1,000.\n",
    "\n",
    "query = \"\"\"\n",
    "SELECT \n",
    "    created_date as timestamp, \n",
    "    date_trunc_ymd(created_date) as day, \n",
    "    count(timestamp) AS count\n",
    "GROUP BY \n",
    "    timestamp\n",
    "ORDER BY \n",
    "    count ASC\n",
    "LIMIT \n",
    "    1000\n",
    "\"\"\"\n",
    "\n",
    "# Requesting data from the NYC 311 data set\n",
    "# and passing our query as a full SoQL query string\n",
    "results = client.get(socrata_dataset_identifier, query=query)\n",
    "\n",
    "# Convert list of dictionaries to a pandas DataFrame\n",
    "results_df = pd.DataFrame.from_records(results)\n",
    "\n",
    "print('Rows and columns of data:', results_df.shape)\n",
    "\n",
    "results_df.head(10)"
   ]
  },
  {
   "cell_type": "markdown",
   "metadata": {},
   "source": [
    "## Analyzing NYC 311 Street Flooding Complaints"
   ]
  },
  {
   "cell_type": "markdown",
   "metadata": {},
   "source": [
    "### Searching the data set for the word \"flood\" in the complaint_type field"
   ]
  },
  {
   "cell_type": "code",
   "execution_count": 158,
   "metadata": {},
   "outputs": [
    {
     "name": "stderr",
     "output_type": "stream",
     "text": [
      "WARNING:root:Requests made without an app_token will be subject to strict throttling limits.\n"
     ]
    },
    {
     "name": "stdout",
     "output_type": "stream",
     "text": [
      "shape of data: (0, 0)\n"
     ]
    },
    {
     "data": {
      "text/html": [
       "<div>\n",
       "<style scoped>\n",
       "    .dataframe tbody tr th:only-of-type {\n",
       "        vertical-align: middle;\n",
       "    }\n",
       "\n",
       "    .dataframe tbody tr th {\n",
       "        vertical-align: top;\n",
       "    }\n",
       "\n",
       "    .dataframe thead th {\n",
       "        text-align: right;\n",
       "    }\n",
       "</style>\n",
       "<table border=\"1\" class=\"dataframe\">\n",
       "  <thead>\n",
       "    <tr style=\"text-align: right;\">\n",
       "      <th></th>\n",
       "    </tr>\n",
       "  </thead>\n",
       "  <tbody>\n",
       "  </tbody>\n",
       "</table>\n",
       "</div>"
      ],
      "text/plain": [
       "Empty DataFrame\n",
       "Columns: []\n",
       "Index: []"
      ]
     },
     "execution_count": 158,
     "metadata": {},
     "output_type": "execute_result"
    }
   ],
   "source": [
    "# Source domain for NYC Open Data on Socrata\n",
    "socrata_domain = 'data.cityofnewyork.us'\n",
    "\n",
    "# Data set id for NYC 311 on NYC Open Data on Socrata\n",
    "socrata_dataset_identifier = 'erm2-nwe9'\n",
    "\n",
    "# Socrata - The main class that interacts with the SODA API. We pass the source domain value\n",
    "# of NYC Open data, the app token as 'None', and set the timeout parameter for '1,000 seconds'\n",
    "client = Socrata(socrata_domain, None, timeout=1000)\n",
    "\n",
    "# SoQL query string below:\n",
    "# Select complaint_type and count of complaint_type grouped by compaint_type,\n",
    "# where the word \"flood\" is in compplaint_type,\n",
    "# sort count in descending order and limit our records to 1,000.\n",
    "\n",
    "query = \"\"\"\n",
    "SELECT \n",
    "    complaint_type, \n",
    "    count(complaint_type) AS count\n",
    "WHERE \n",
    "    LOWER(complaint_type) LIKE '%flood%'\n",
    "GROUP BY \n",
    "    complaint_type\n",
    "ORDER BY \n",
    "    count(descriptor) DESC\n",
    "LIMIT \n",
    "    1000\n",
    "\"\"\"\n",
    "\n",
    "# Returned as JSON from API / converted to Python list of\n",
    "# dictionaries by sodapy.\n",
    "results = client.get(socrata_dataset_identifier, query=query)\n",
    "\n",
    "# Convert to pandas DataFrame\n",
    "results_df = pd.DataFrame.from_records(results)\n",
    "\n",
    "print('shape of data:', results_df.shape)\n",
    "results_df"
   ]
  },
  {
   "cell_type": "markdown",
   "metadata": {},
   "source": [
    "### Searching the data set for the word \"flood\" in the descriptor field"
   ]
  },
  {
   "cell_type": "code",
   "execution_count": null,
   "metadata": {},
   "outputs": [
    {
     "name": "stderr",
     "output_type": "stream",
     "text": [
      "WARNING:root:Requests made without an app_token will be subject to strict throttling limits.\n"
     ]
    }
   ],
   "source": [
    "# Source domain for NYC Open Data on Socrata\n",
    "socrata_domain = 'data.cityofnewyork.us'\n",
    "\n",
    "# Data set id for NYC 311 on NYC Open Data on Socrata\n",
    "socrata_dataset_identifier = 'erm2-nwe9'\n",
    "\n",
    "# Socrata - The main class that interacts with the SODA API. We pass the source domain value\n",
    "# of NYC Open data, the app token as 'None', and set the timeout parameter for '1,000 seconds'\n",
    "client = Socrata(socrata_domain, None, timeout=1000)\n",
    "\n",
    "# SoQL query string below:\n",
    "# Select complaint_type and count of complaint_type grouped by compaint_type,\n",
    "# where the word \"flood\" is in descriptor,\n",
    "# sort count in descending order and limit our records to 1,000.\n",
    "\n",
    "query = \"\"\"\n",
    "SELECT \n",
    "    complaint_type, \n",
    "    count(complaint_type) AS count\n",
    "WHERE \n",
    "    LOWER(descriptor) LIKE '%flood%'\n",
    "GROUP BY \n",
    "    complaint_type\n",
    "ORDER BY \n",
    "    count(descriptor) DESC\n",
    "LIMIT \n",
    "    1000\n",
    "\"\"\"\n",
    "\n",
    "# Returned as JSON from API / converted to Python list of\n",
    "# dictionaries by sodapy.\n",
    "results = client.get(socrata_dataset_identifier, query=query)\n",
    "\n",
    "# Convert to pandas DataFrame\n",
    "results_df = pd.DataFrame.from_records(results)\n",
    "\n",
    "print('shape of data:', results_df.shape)\n",
    "results_df"
   ]
  },
  {
   "cell_type": "markdown",
   "metadata": {},
   "source": [
    "### Searching the data set where complaint_type field = 'Sewer'"
   ]
  },
  {
   "cell_type": "code",
   "execution_count": null,
   "metadata": {},
   "outputs": [],
   "source": [
    "# Source domain for NYC Open Data on Socrata\n",
    "socrata_domain = 'data.cityofnewyork.us'\n",
    "\n",
    "# Data set id for NYC 311 on NYC Open Data on Socrata\n",
    "socrata_dataset_identifier = 'erm2-nwe9'\n",
    "\n",
    "# Socrata - The main class that interacts with the SODA API. We pass the source domain value\n",
    "# of NYC Open data, the app token as 'None', and set the timeout parameter for '1,000 seconds'\n",
    "client = Socrata(socrata_domain, None, timeout=1000)\n",
    "\n",
    "# SoQL query string below:\n",
    "# Select descriptor and count of descriptor grouped by descriptor,\n",
    "# where complaint_type = 'Sewer',\n",
    "# sort count in descending order and limit our records to 1,000.\n",
    "\n",
    "query = \"\"\"\n",
    "SELECT \n",
    "    descriptor, \n",
    "    count(descriptor)\n",
    "WHERE \n",
    "    complaint_type='Sewer'\n",
    "GROUP BY \n",
    "    descriptor\n",
    "ORDER BY \n",
    "    count(descriptor) DESC\n",
    "LIMIT 1000\n",
    "\"\"\"\n",
    "\n",
    "# First 1000 results, returned as JSON from API / converted to Python list of\n",
    "# dictionaries by sodapy.\n",
    "results = client.get(socrata_dataset_identifier, query=query)\n",
    "\n",
    "# Convert to pandas DataFrame\n",
    "results_df = pd.DataFrame.from_records(results)\n",
    "\n",
    "print('shape of data:', results_df.shape)\n",
    "results_df.head(len(results_df))"
   ]
  },
  {
   "cell_type": "markdown",
   "metadata": {},
   "source": [
    "### Searching the data set where the word \"flood\" is in the descriptor field"
   ]
  },
  {
   "cell_type": "code",
   "execution_count": null,
   "metadata": {},
   "outputs": [],
   "source": [
    "# Source domain for NYC Open Data on Socrata\n",
    "socrata_domain = 'data.cityofnewyork.us'\n",
    "\n",
    "# Data set id for NYC 311 on NYC Open Data on Socrata\n",
    "socrata_dataset_identifier = 'erm2-nwe9'\n",
    "\n",
    "# Socrata - The main class that interacts with the SODA API. We pass the source domain value\n",
    "# of NYC Open data, the app token as 'None', and set the timeout parameter for '1,000 seconds'\n",
    "client = Socrata(socrata_domain, None, timeout=1000)\n",
    "\n",
    "# SoQL query string below:\n",
    "# Select descriptor and count of descriptor grouped by descriptor,\n",
    "# where the word \"flood\" is in descriptor,\n",
    "# sort count in descending order and limit our records to 1,000.\n",
    "\n",
    "query = \"\"\"\n",
    "SELECT \n",
    "    descriptor, \n",
    "    count(descriptor) AS count\n",
    "WHERE \n",
    "    LOWER(descriptor) LIKE '%flood%'\n",
    "GROUP BY \n",
    "    descriptor\n",
    "ORDER BY \n",
    "    count(descriptor) DESC\n",
    "LIMIT \n",
    "    1000\n",
    "\"\"\"\n",
    "\n",
    "# Returned as JSON from API / converted to Python list of\n",
    "# dictionaries by sodapy.\n",
    "results = client.get(socrata_dataset_identifier, query=query)\n",
    "\n",
    "# Convert to pandas DataFrame\n",
    "results_df = pd.DataFrame.from_records(results)\n",
    "\n",
    "print('shape of data:', results_df.shape)\n",
    "results_df"
   ]
  },
  {
   "cell_type": "markdown",
   "metadata": {},
   "source": [
    "### Displaying the highest number of street flooding complaints by day"
   ]
  },
  {
   "cell_type": "code",
   "execution_count": null,
   "metadata": {},
   "outputs": [],
   "source": [
    "# Source domain for NYC Open Data on Socrata\n",
    "socrata_domain = 'data.cityofnewyork.us'\n",
    "\n",
    "# Data set id for NYC 311 on NYC Open Data on Socrata\n",
    "socrata_dataset_identifier = 'erm2-nwe9'\n",
    "\n",
    "# Socrata - The main class that interacts with the SODA API. We pass the source domain value\n",
    "# of NYC Open data, the app token as 'None', and set the timeout parameter for '1,000 seconds'\n",
    "client = Socrata(socrata_domain, None, timeout=1000)\n",
    "\n",
    "# SoQL query string below:\n",
    "# Select the day and the count day columns grouped by day,\n",
    "# where the descriptor is Street Flooding (SJ),\n",
    "# sort the count in descending order and limit our records to 1,000.\n",
    "\n",
    "query = \"\"\"\n",
    "SELECT \n",
    "    date_trunc_ymd(created_date) as day, \n",
    "    count(created_date) AS count\n",
    "WHERE \n",
    "    descriptor == 'Street Flooding (SJ)'\n",
    "GROUP BY \n",
    "    day\n",
    "ORDER BY \n",
    "    count DESC\n",
    "LIMIT \n",
    "    1000\n",
    "\"\"\"\n",
    "\n",
    "# Returned as JSON from API / converted to Python list of\n",
    "# dictionaries by sodapy.\n",
    "results = client.get(socrata_dataset_identifier, query=query)\n",
    "\n",
    "# Convert to pandas DataFrame\n",
    "results_df = pd.DataFrame.from_records(results)\n",
    "\n",
    "print('shape of data:', results_df.shape)\n",
    "\n",
    "results_df.head(10)"
   ]
  },
  {
   "cell_type": "markdown",
   "metadata": {},
   "source": [
    "### Selecting all the rows and columns where the descriptor field = 'Street Flooding'"
   ]
  },
  {
   "cell_type": "code",
   "execution_count": null,
   "metadata": {},
   "outputs": [],
   "source": [
    "# Source domain for NYC Open Data on Socrata\n",
    "socrata_domain = 'data.cityofnewyork.us'\n",
    "\n",
    "# Data set id for NYC 311 on NYC Open Data on Socrata\n",
    "socrata_dataset_identifier = 'erm2-nwe9'\n",
    "\n",
    "# Socrata - The main class that interacts with the SODA API. We pass the source domain value\n",
    "# of NYC Open data, the app token as 'None', and set the timeout parameter for '1,000 seconds'\n",
    "client = Socrata(socrata_domain, None, timeout=1000)\n",
    "\n",
    "# SoQL query string below:\n",
    "# Select all columns where the descriptor is Street Flooding(SJ),\n",
    "# sort the created date field in descending order and limit our records to 1,000.\n",
    "\n",
    "query = \"\"\"\n",
    "SELECT \n",
    "    *\n",
    "WHERE \n",
    "    descriptor == 'Street Flooding (SJ)'\n",
    "ORDER BY \n",
    "    created_date DESC\n",
    "LIMIT \n",
    "    1000\n",
    "\"\"\"\n",
    "\n",
    "# Requesting data from the NYC 311 data set\n",
    "# and passing our query as a full SoQL query string\n",
    "results = client.get(socrata_dataset_identifier, query=query)\n",
    "\n",
    "# results is returned as JSON from API and converted to Python list of\n",
    "# dictionaries by sodapy\n",
    "print(type(results), 'Returned a list from our request.\\n')\n",
    "\n",
    "# Identifying type of first element of our results list\n",
    "print(type(results[0]), 'However, request is actually a list of dictionaries.\\n')\n",
    "\n",
    "# Convert list of dictionaries to a pandas DataFrame\n",
    "results_df = pd.DataFrame.from_records(results)\n",
    "\n",
    "print(type(results_df), 'Convert list of dictionaries to DataFrame.')\n",
    "print('Rows and columns of data:', results_df.shape)\n",
    "\n",
    "# Writing out sample data as a csv\n",
    "results_df.to_csv('sample_data_street_flooding.csv', index=False)\n",
    "\n",
    "# Previewing the first five rows of our DataFrame\n",
    "results_df.head()"
   ]
  },
  {
   "cell_type": "markdown",
   "metadata": {},
   "source": [
    "## Analyzing NYC 311 Data Sets with the Most Downloads"
   ]
  },
  {
   "cell_type": "code",
   "execution_count": null,
   "metadata": {},
   "outputs": [],
   "source": [
    "type(client)"
   ]
  },
  {
   "cell_type": "code",
   "execution_count": null,
   "metadata": {},
   "outputs": [],
   "source": [
    "type(client.datasets())"
   ]
  },
  {
   "cell_type": "code",
   "execution_count": null,
   "metadata": {},
   "outputs": [],
   "source": [
    "type(client.datasets()[0])"
   ]
  },
  {
   "cell_type": "code",
   "execution_count": null,
   "metadata": {},
   "outputs": [],
   "source": [
    "len(client.datasets())"
   ]
  },
  {
   "cell_type": "code",
   "execution_count": null,
   "metadata": {},
   "outputs": [],
   "source": [
    "# Reading in a list of dictionaries of our data into a pandas DataFrame\n",
    "df = pd.DataFrame.from_records(client.datasets())\n",
    "\n",
    "df.head()"
   ]
  },
  {
   "cell_type": "code",
   "execution_count": null,
   "metadata": {},
   "outputs": [],
   "source": [
    "# Only saving the dictionary in the resource column\n",
    "df = df.resource\n",
    "\n",
    "# Reading the dictionary in the resource column into a pandas DataFrame\n",
    "df = pd.DataFrame.from_records(df)\n",
    "\n",
    "df.head()"
   ]
  },
  {
   "cell_type": "code",
   "execution_count": null,
   "metadata": {},
   "outputs": [],
   "source": [
    "len(df)"
   ]
  },
  {
   "cell_type": "code",
   "execution_count": null,
   "metadata": {},
   "outputs": [],
   "source": [
    "# Sorting the data sets by download_count\n",
    "df[['name', 'download_count']].sort_values(by='download_count', ascending=False).head()"
   ]
  },
  {
   "cell_type": "code",
   "execution_count": null,
   "metadata": {},
   "outputs": [],
   "source": [
    "highest_downloaded = df[['name', 'download_count']].sort_values(by='download_count', ascending=False)\n",
    "\n",
    "print('The data set {}'.format(highest_downloaded['name'].iloc[0]), \\\n",
    "     'has {} downloads'.format(f\"{highest_downloaded['download_count'].iloc[0]:,.0f}\"), \\\n",
    "     'and is the most downloaded data set on NYC Open Data.')"
   ]
  },
  {
   "cell_type": "code",
   "execution_count": null,
   "metadata": {},
   "outputs": [],
   "source": []
  },
  {
   "cell_type": "code",
   "execution_count": null,
   "metadata": {},
   "outputs": [],
   "source": []
  }
 ],
 "metadata": {
  "kernelspec": {
   "display_name": "Python 3",
   "language": "python",
   "name": "python3"
  },
  "language_info": {
   "codemirror_mode": {
    "name": "ipython",
    "version": 3
   },
   "file_extension": ".py",
   "mimetype": "text/x-python",
   "name": "python",
   "nbconvert_exporter": "python",
   "pygments_lexer": "ipython3",
   "version": "3.7.1"
  }
 },
 "nbformat": 4,
 "nbformat_minor": 4
}
