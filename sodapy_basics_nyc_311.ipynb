{
 "cells": [
  {
   "cell_type": "markdown",
   "metadata": {},
   "source": [
    "# sodapy tutorial using NYC Open Data \n",
    "Mark Bauer"
   ]
  },
  {
   "cell_type": "markdown",
   "metadata": {},
   "source": [
    "# Introduction  \n",
    "This notebook demonstrates how to use sodapy, the python client for the Socrata Open Data API, with NYC Open Data. Examples of popular methods are included, as well as basic queries using SoQL, the Socrata Query Language. "
   ]
  },
  {
   "cell_type": "markdown",
   "metadata": {},
   "source": [
    "# sodapy\n",
    "sodapy is a python client for the Socrata Open Data API."
   ]
  },
  {
   "cell_type": "markdown",
   "metadata": {},
   "source": [
    "# Information about sodapy\n",
    " \n",
    "**Installing**: https://pypi.org/project/sodapy/  \n",
    "**GitHub**: https://github.com/xmunoz/sodapy\n",
    "\n",
    "**The official Socrata Open Data API (SODA) docs**  \n",
    "https://dev.socrata.com/\n",
    "\n",
    "**Queries using SODA**  \n",
    "https://dev.socrata.com/docs/queries/\n",
    "\n",
    "**Inspiration for this notebook**  \n",
    "https://github.com/xmunoz/sodapy/blob/master/examples/soql_queries.ipynb"
   ]
  },
  {
   "cell_type": "markdown",
   "metadata": {},
   "source": [
    "# Importing Libraries"
   ]
  },
  {
   "cell_type": "code",
   "execution_count": 1,
   "metadata": {},
   "outputs": [],
   "source": [
    "# importing libraries\n",
    "import pandas as pd\n",
    "from sodapy import Socrata\n",
    "import itertools "
   ]
  },
  {
   "cell_type": "code",
   "execution_count": 2,
   "metadata": {},
   "outputs": [],
   "source": [
    "%reload_ext watermark"
   ]
  },
  {
   "cell_type": "code",
   "execution_count": 3,
   "metadata": {},
   "outputs": [
    {
     "name": "stdout",
     "output_type": "stream",
     "text": [
      "Mark Bauer \n",
      "last updated: 2021-01-25 16:00:54 \n",
      "\n",
      "CPython 3.7.1\n",
      "IPython 7.18.1\n",
      "\n",
      "pandas 1.0.0\n",
      "sodapy 2.0.0\n",
      "itertools unknown\n"
     ]
    }
   ],
   "source": [
    "%watermark -a \"Mark Bauer\" -u -t -d -v -p pandas,sodapy,itertools"
   ]
  },
  {
   "cell_type": "markdown",
   "metadata": {},
   "source": [
    "Documention for installing watermark: https://github.com/rasbt/watermark"
   ]
  },
  {
   "cell_type": "markdown",
   "metadata": {},
   "source": [
    "# Using sodapy"
   ]
  },
  {
   "cell_type": "markdown",
   "metadata": {},
   "source": [
    "In order for a user to use sodapy, they need to retrieve a source domain (i.e. the open data source you are trying to connect to). Additionally, if a user wants to query a specific data set, then the data set identifier (i.e. the data set id on the given source domain) needs to be identified as well. Below, we identify NYC Open Data's source domain: `data.cityofnewyork.us` and the data set identifier for the NYC 311 data set: `erm2-nwe9`."
   ]
  },
  {
   "cell_type": "markdown",
   "metadata": {},
   "source": [
    "![nyc-311-api-docs](nyc-311-api-docs.png)  \n",
    "\n",
    "source: https://dev.socrata.com/foundry/data.cityofnewyork.us/erm2-nwe9"
   ]
  },
  {
   "cell_type": "markdown",
   "metadata": {},
   "source": [
    "We save this information as variables below."
   ]
  },
  {
   "cell_type": "code",
   "execution_count": 4,
   "metadata": {},
   "outputs": [],
   "source": [
    "socrata_domain = 'data.cityofnewyork.us'\n",
    "socrata_dataset_identifier = 'erm2-nwe9'"
   ]
  },
  {
   "cell_type": "markdown",
   "metadata": {},
   "source": [
    "# Socrata class in sodapy"
   ]
  },
  {
   "cell_type": "code",
   "execution_count": 5,
   "metadata": {},
   "outputs": [
    {
     "name": "stderr",
     "output_type": "stream",
     "text": [
      "WARNING:root:Requests made without an app_token will be subject to strict throttling limits.\n"
     ]
    }
   ],
   "source": [
    "# The main class that interacts with the SODA API.\n",
    "\n",
    "# The required arguments are:\n",
    "#     domain: the domain you wish you to access\n",
    "#     app_token: your Socrata application token\n",
    "# Simple requests are possible without an app_token, though these\n",
    "# requests will be rate-limited.\n",
    "\n",
    "client = Socrata(socrata_domain, None, timeout=1000)"
   ]
  },
  {
   "cell_type": "code",
   "execution_count": 6,
   "metadata": {},
   "outputs": [
    {
     "data": {
      "text/plain": [
       "sodapy.Socrata"
      ]
     },
     "execution_count": 6,
     "metadata": {},
     "output_type": "execute_result"
    }
   ],
   "source": [
    "type(client)"
   ]
  },
  {
   "cell_type": "markdown",
   "metadata": {},
   "source": [
    "Socrata Methods"
   ]
  },
  {
   "cell_type": "markdown",
   "metadata": {},
   "source": [
    "![socrata-methods](socrata-methods.png)\n",
    "\n",
    "source: https://github.com/xmunoz/sodapy#datasetslimit0-offset0"
   ]
  },
  {
   "cell_type": "markdown",
   "metadata": {},
   "source": [
    "We will review a few of the popular methods in this tutorial."
   ]
  },
  {
   "cell_type": "markdown",
   "metadata": {},
   "source": [
    "# Socrata Methods"
   ]
  },
  {
   "cell_type": "markdown",
   "metadata": {},
   "source": [
    "## `.datasets()`"
   ]
  },
  {
   "cell_type": "markdown",
   "metadata": {},
   "source": [
    "`datasets` method: Returns the list of datasets associated with a particular domain.\n",
    "WARNING: Large limits (>1000) will return megabytes of data,\n",
    "which can be slow on low-bandwidth networks, and is also a lot of\n",
    "data to hold in memory."
   ]
  },
  {
   "cell_type": "code",
   "execution_count": 7,
   "metadata": {},
   "outputs": [
    {
     "name": "stdout",
     "output_type": "stream",
     "text": [
      "<class 'list'>\n"
     ]
    }
   ],
   "source": [
    "print(type(client.datasets()))"
   ]
  },
  {
   "cell_type": "code",
   "execution_count": 8,
   "metadata": {
    "scrolled": false
   },
   "outputs": [
    {
     "name": "stdout",
     "output_type": "stream",
     "text": [
      "<class 'dict'>\n"
     ]
    }
   ],
   "source": [
    "print(type(client.datasets()[0]))"
   ]
  },
  {
   "cell_type": "code",
   "execution_count": 9,
   "metadata": {},
   "outputs": [
    {
     "data": {
      "text/plain": [
       "dict_keys(['resource', 'classification', 'metadata', 'permalink', 'link', 'owner', 'creator'])"
      ]
     },
     "execution_count": 9,
     "metadata": {},
     "output_type": "execute_result"
    }
   ],
   "source": [
    "client.datasets()[0].keys()"
   ]
  },
  {
   "cell_type": "code",
   "execution_count": 10,
   "metadata": {
    "scrolled": false
   },
   "outputs": [
    {
     "data": {
      "text/plain": [
       "{'name': 'DOB Job Application Filings',\n",
       " 'id': 'ic3t-wcy2',\n",
       " 'parent_fxf': [],\n",
       " 'description': 'This dataset contains all job applications submitted through the Borough Offices, through eFiling, or through the HUB, which have a \"Latest Action Date\" since January 1, 2000. This dataset does not include jobs submitted through DOB NOW. See the DOB NOW: Build – Job Application Filings dataset for DOB NOW jobs.',\n",
       " 'attribution': 'Department of Buildings (DOB)'}"
      ]
     },
     "execution_count": 10,
     "metadata": {},
     "output_type": "execute_result"
    }
   ],
   "source": [
    "# Viewing the resource dictionary in the first item of the datasets list. From there, \n",
    "# we view the first five items under the resource dictionary.\n",
    "\n",
    "limit = 5\n",
    "\n",
    "dict(itertools.islice(client.datasets()[0]['resource'].items(), limit))"
   ]
  },
  {
   "cell_type": "code",
   "execution_count": 11,
   "metadata": {
    "scrolled": false
   },
   "outputs": [
    {
     "name": "stdout",
     "output_type": "stream",
     "text": [
      "311 Service Requests from 2010 to Present \n",
      "index: 5\n"
     ]
    }
   ],
   "source": [
    "# Once we've identified the structure of the dictionary, we try to \n",
    "# find the 311 data set and identify its position in the datasets list.\n",
    "\n",
    "idx = 0\n",
    "\n",
    "for dataset_id in client.datasets():\n",
    "    if client.datasets()[idx]['resource']['id'] == 'erm2-nwe9':\n",
    "        print(client.datasets()[idx]['resource']['name'], \\\n",
    "              '\\nindex:', idx)\n",
    "        break\n",
    "    else:\n",
    "        idx += 1    "
   ]
  },
  {
   "cell_type": "code",
   "execution_count": 12,
   "metadata": {
    "scrolled": false
   },
   "outputs": [
    {
     "name": "stdout",
     "output_type": "stream",
     "text": [
      "5\n"
     ]
    },
    {
     "data": {
      "text/plain": [
       "{'resource': {'name': '311 Service Requests from 2010 to Present',\n",
       "  'id': 'erm2-nwe9',\n",
       "  'parent_fxf': [],\n",
       "  'description': '<b>NOTE: This data does not present a full picture of 311 calls or service requests, in part because of operational and system complexities associated with remote call taking necessitated by the unprecedented volume 311 is handling during the Covid-19 crisis. The City is working to address this issue. </b>\\r\\n\\r\\nAll 311 Service Requests from 2010 to present. This information is automatically updated daily.',\n",
       "  'attribution': '311, DoITT',\n",
       "  'attribution_link': None,\n",
       "  'contact_email': None,\n",
       "  'type': 'dataset',\n",
       "  'updatedAt': '2021-01-25T02:41:21.000Z',\n",
       "  'createdAt': '2011-10-10T05:52:17.000Z',\n",
       "  'metadata_updated_at': '2020-04-22T20:18:38.000Z',\n",
       "  'data_updated_at': '2021-01-25T02:41:21.000Z',\n",
       "  'page_views': {'page_views_last_week': 1294,\n",
       "   'page_views_last_month': 4868,\n",
       "   'page_views_total': 438194,\n",
       "   'page_views_last_week_log': 10.338736382573916,\n",
       "   'page_views_last_month_log': 12.249409785269128,\n",
       "   'page_views_total_log': 18.741213497066273},\n",
       "  'columns_name': ['Open Data Channel Type',\n",
       "   'Bridge Highway Direction',\n",
       "   'Bridge Highway Segment',\n",
       "   'City',\n",
       "   'Street Name',\n",
       "   'Incident Address',\n",
       "   'Descriptor',\n",
       "   'Complaint Type',\n",
       "   'Agency Name',\n",
       "   'Agency',\n",
       "   'Cross Street 2',\n",
       "   'Landmark',\n",
       "   'Closed Date',\n",
       "   'Created Date',\n",
       "   'Location',\n",
       "   'Longitude',\n",
       "   'Status',\n",
       "   'Park Facility Name',\n",
       "   'Due Date',\n",
       "   'Location Type',\n",
       "   'Location (city)',\n",
       "   'BBL',\n",
       "   'Address Type',\n",
       "   'Latitude',\n",
       "   'Vehicle Type',\n",
       "   'Location (zip)',\n",
       "   'Borough',\n",
       "   'Intersection Street 2',\n",
       "   'Incident Zip',\n",
       "   'Cross Street 1',\n",
       "   'Taxi Company Borough',\n",
       "   'Road Ramp',\n",
       "   'Resolution Action Updated Date',\n",
       "   'Community Board',\n",
       "   'X Coordinate (State Plane)',\n",
       "   'Y Coordinate (State Plane)',\n",
       "   'Park Borough',\n",
       "   'Bridge Highway Name',\n",
       "   'Unique Key',\n",
       "   'Resolution Description',\n",
       "   'Facility Type',\n",
       "   'Intersection Street 1',\n",
       "   'Taxi Pick Up Location',\n",
       "   'Location (state)',\n",
       "   'Location (address)',\n",
       "   'Police Precincts',\n",
       "   'City Council Districts',\n",
       "   'Borough Boundaries',\n",
       "   'Community Districts',\n",
       "   'Zip Codes'],\n",
       "  'columns_field_name': ['open_data_channel_type',\n",
       "   'bridge_highway_direction',\n",
       "   'bridge_highway_segment',\n",
       "   'city',\n",
       "   'street_name',\n",
       "   'incident_address',\n",
       "   'descriptor',\n",
       "   'complaint_type',\n",
       "   'agency_name',\n",
       "   'agency',\n",
       "   'cross_street_2',\n",
       "   'landmark',\n",
       "   'closed_date',\n",
       "   'created_date',\n",
       "   'location',\n",
       "   'longitude',\n",
       "   'status',\n",
       "   'park_facility_name',\n",
       "   'due_date',\n",
       "   'location_type',\n",
       "   'location_city',\n",
       "   'bbl',\n",
       "   'address_type',\n",
       "   'latitude',\n",
       "   'vehicle_type',\n",
       "   'location_zip',\n",
       "   'borough',\n",
       "   'intersection_street_2',\n",
       "   'incident_zip',\n",
       "   'cross_street_1',\n",
       "   'taxi_company_borough',\n",
       "   'road_ramp',\n",
       "   'resolution_action_updated_date',\n",
       "   'community_board',\n",
       "   'x_coordinate_state_plane',\n",
       "   'y_coordinate_state_plane',\n",
       "   'park_borough',\n",
       "   'bridge_highway_name',\n",
       "   'unique_key',\n",
       "   'resolution_description',\n",
       "   'facility_type',\n",
       "   'intersection_street_1',\n",
       "   'taxi_pick_up_location',\n",
       "   'location_state',\n",
       "   'location_address',\n",
       "   ':@computed_region_sbqj_enih',\n",
       "   ':@computed_region_92fq_4b7q',\n",
       "   ':@computed_region_yeji_bk3q',\n",
       "   ':@computed_region_f5dn_yrer',\n",
       "   ':@computed_region_efsh_h5xi'],\n",
       "  'columns_datatype': ['Text',\n",
       "   'Text',\n",
       "   'Text',\n",
       "   'Text',\n",
       "   'Text',\n",
       "   'Text',\n",
       "   'Text',\n",
       "   'Text',\n",
       "   'Text',\n",
       "   'Text',\n",
       "   'Text',\n",
       "   'Text',\n",
       "   'Calendar date',\n",
       "   'Calendar date',\n",
       "   'Point',\n",
       "   'Number',\n",
       "   'Text',\n",
       "   'Text',\n",
       "   'Calendar date',\n",
       "   'Text',\n",
       "   'Text',\n",
       "   'Text',\n",
       "   'Text',\n",
       "   'Number',\n",
       "   'Text',\n",
       "   'Text',\n",
       "   'Text',\n",
       "   'Text',\n",
       "   'Text',\n",
       "   'Text',\n",
       "   'Text',\n",
       "   'Text',\n",
       "   'Calendar date',\n",
       "   'Text',\n",
       "   'Number',\n",
       "   'Number',\n",
       "   'Text',\n",
       "   'Text',\n",
       "   'Text',\n",
       "   'Text',\n",
       "   'Text',\n",
       "   'Text',\n",
       "   'Text',\n",
       "   'Text',\n",
       "   'Text',\n",
       "   'Number',\n",
       "   'Number',\n",
       "   'Number',\n",
       "   'Number',\n",
       "   'Number'],\n",
       "  'columns_description': ['Indicates how the SR was submitted to 311.  i.e. By Phone, Online, Mobile, Other or Unknown.',\n",
       "   'If the incident is identified as a Bridge/Highway, the direction where the issue took place would be displayed here.\\n',\n",
       "   'Additional information on the section of the Bridge/Highway were the incident took place.\\n',\n",
       "   'City of the incident location provided by geovalidation.\\n',\n",
       "   'Street name of incident address provided by the submitter\\n',\n",
       "   'House number of incident address provided by submitter.\\n',\n",
       "   'This is  associated to the Complaint Type, and provides further detail on the incident or condition. Descriptor values are dependent on the Complaint Type, and are not always required in SR. \\n',\n",
       "   'This is the first level of a hierarchy identifying the topic of the incident or condition. Complaint Type may have a corresponding Descriptor (below) or may stand alone.',\n",
       "   'Full Agency name of responding City Government Agency',\n",
       "   'Acronym of responding City Government Agency\\n',\n",
       "   'Second Cross Street based on the geo validated incident location\\n',\n",
       "   'If the incident location is identified as a Landmark the name of the landmark will display here\\n',\n",
       "   'Date SR was closed by responding agency\\n',\n",
       "   'Date SR  was created\\n',\n",
       "   'Combination of the geo based lat & long of the incident location\\n',\n",
       "   'Geo based Long of the incident location\\n',\n",
       "   'Status of SR submitted \\n',\n",
       "   'If the incident location is a Parks Dept facility, the Name of the facility will appear here\\n',\n",
       "   'Date when responding agency is expected to update the SR.  This is based on the Complaint Type and internal Service Level Agreements (SLAs).\\n',\n",
       "   'Describes the type of location used in the address information \\n',\n",
       "   '',\n",
       "   'Borough Block and Lot, provided by geovalidation. Parcel number to identify the location of location of buildings and properties in NYC.',\n",
       "   'Type of incident location information available.\\n',\n",
       "   'Geo based Lat of the incident location\\n',\n",
       "   'If the incident is a taxi, this field describes the type of TLC vehicle. \\n',\n",
       "   '',\n",
       "   'Provided by the submitter and confirmed by geovalidation.\\n',\n",
       "   'Second intersecting street based on geo validated incident location\\n',\n",
       "   'Incident location zip code, provided by geo validation.\\n',\n",
       "   'First Cross street based on the geo validated incident location\\n',\n",
       "   'If the incident is identified as a taxi, this field will display the borough of the taxi company. \\n',\n",
       "   'If the incident location was Bridge/Highway this column differentiates if the issue was on the Road or the Ramp.\\n',\n",
       "   'Date when responding agency last updated the SR.\\n',\n",
       "   'Provided by geovalidation.\\n',\n",
       "   'Geo validated, X coordinate of the incident location. \\n',\n",
       "   'Geo validated,  Y coordinate of the incident location. \\n',\n",
       "   'The borough of incident if it is a Parks Dept facility\\n',\n",
       "   'If the incident is identified as a Bridge/Highway, the name will be displayed here.\\n',\n",
       "   'Unique identifier of a Service Request (SR) in the open data set\\n',\n",
       "   'Describes the last action taken on the SR by the responding agency.  May describe next or future steps. \\n',\n",
       "   'If available, this field describes the type of city facility associated to the SR\\n',\n",
       "   'First intersecting street based on geo validated incident location\\n',\n",
       "   'If the incident is identified as a taxi, this field displays the taxi pick up location\\n',\n",
       "   '',\n",
       "   '',\n",
       "   '',\n",
       "   '',\n",
       "   '',\n",
       "   '',\n",
       "   ''],\n",
       "  'columns_format': [{'displayStyle': 'plain', 'align': 'left'},\n",
       "   {'displayStyle': 'plain', 'align': 'left'},\n",
       "   {'displayStyle': 'plain', 'align': 'left'},\n",
       "   {'displayStyle': 'plain', 'align': 'left'},\n",
       "   {},\n",
       "   {},\n",
       "   {},\n",
       "   {'displayStyle': 'plain', 'align': 'left'},\n",
       "   {'displayStyle': 'plain', 'align': 'left'},\n",
       "   {},\n",
       "   {},\n",
       "   {'displayStyle': 'plain', 'align': 'left'},\n",
       "   {'view': 'date_time', 'align': 'left'},\n",
       "   {'view': 'date_time', 'align': 'left'},\n",
       "   {'view': 'coords', 'align': 'left'},\n",
       "   {'precisionStyle': 'standard', 'noCommas': 'false', 'align': 'right'},\n",
       "   {},\n",
       "   {'displayStyle': 'plain', 'align': 'left'},\n",
       "   {'view': 'date_time', 'align': 'left'},\n",
       "   {},\n",
       "   {},\n",
       "   {'displayStyle': 'plain', 'align': 'left'},\n",
       "   {},\n",
       "   {'precisionStyle': 'standard', 'noCommas': 'false', 'align': 'right'},\n",
       "   {'displayStyle': 'plain', 'align': 'left'},\n",
       "   {},\n",
       "   {'displayStyle': 'plain', 'align': 'left'},\n",
       "   {},\n",
       "   {},\n",
       "   {},\n",
       "   {'displayStyle': 'plain', 'align': 'left'},\n",
       "   {'displayStyle': 'plain', 'align': 'left'},\n",
       "   {'view': 'date_time', 'align': 'left'},\n",
       "   {'displayStyle': 'plain', 'align': 'left'},\n",
       "   {'precisionStyle': 'standard', 'noCommas': 'false', 'align': 'right'},\n",
       "   {'precisionStyle': 'standard', 'noCommas': 'false', 'align': 'right'},\n",
       "   {'displayStyle': 'plain', 'align': 'left'},\n",
       "   {'displayStyle': 'plain', 'align': 'left'},\n",
       "   {},\n",
       "   {'displayStyle': 'plain', 'align': 'left'},\n",
       "   {'displayStyle': 'plain', 'align': 'left'},\n",
       "   {},\n",
       "   {'displayStyle': 'plain', 'align': 'left'},\n",
       "   {},\n",
       "   {},\n",
       "   {},\n",
       "   {},\n",
       "   {},\n",
       "   {},\n",
       "   {}],\n",
       "  'download_count': 398215,\n",
       "  'provenance': 'official',\n",
       "  'lens_view_type': 'tabular',\n",
       "  'blob_mime_type': None,\n",
       "  'hide_from_data_json': False,\n",
       "  'publication_date': '2018-04-20T03:03:18.000Z'},\n",
       " 'classification': {'categories': ['public safety',\n",
       "   'transportation',\n",
       "   'recreation'],\n",
       "  'tags': [],\n",
       "  'domain_category': 'Social Services',\n",
       "  'domain_tags': ['pothole',\n",
       "   'bike',\n",
       "   'rat',\n",
       "   'rodent',\n",
       "   '2018od4a-report',\n",
       "   'all service requests',\n",
       "   'service request status',\n",
       "   '2012',\n",
       "   '2011',\n",
       "   '2010',\n",
       "   'socialservices',\n",
       "   'city government',\n",
       "   '311 service requests',\n",
       "   '311'],\n",
       "  'domain_metadata': [{'key': 'Update_Automation', 'value': 'Yes'},\n",
       "   {'key': 'Update_Date-Made-Public', 'value': '10/18/2011'},\n",
       "   {'key': 'Update_Update-Frequency', 'value': 'Daily'},\n",
       "   {'key': 'Dataset-Information_Agency', 'value': '311'}]},\n",
       " 'metadata': {'domain': 'data.cityofnewyork.us'},\n",
       " 'permalink': 'https://data.cityofnewyork.us/d/erm2-nwe9',\n",
       " 'link': 'https://data.cityofnewyork.us/Social-Services/311-Service-Requests-from-2010-to-Present/erm2-nwe9',\n",
       " 'owner': {'id': '5fuc-pqz2',\n",
       "  'user_type': 'interactive',\n",
       "  'display_name': 'NYC OpenData'},\n",
       " 'creator': {'id': '5fuc-pqz2',\n",
       "  'user_type': 'interactive',\n",
       "  'display_name': 'NYC OpenData'}}"
      ]
     },
     "execution_count": 12,
     "metadata": {},
     "output_type": "execute_result"
    }
   ],
   "source": [
    "# Previewing information about the 311 data set from the datasets method.\n",
    "# Note: Information is quite long.\n",
    "\n",
    "idx_311 = idx\n",
    "print(idx_311)\n",
    "\n",
    "client.datasets()[idx_311]"
   ]
  },
  {
   "cell_type": "code",
   "execution_count": 13,
   "metadata": {},
   "outputs": [
    {
     "name": "stdout",
     "output_type": "stream",
     "text": [
      "['name', 'id', 'parent_fxf', 'description', 'attribution', 'attribution_link', 'contact_email', 'type', 'updatedAt', 'createdAt', 'metadata_updated_at', 'data_updated_at', 'page_views', 'columns_name', 'columns_field_name', 'columns_datatype', 'columns_description', 'columns_format', 'download_count', 'provenance', 'lens_view_type', 'blob_mime_type', 'hide_from_data_json', 'publication_date']\n"
     ]
    }
   ],
   "source": [
    "# Since the datasets method is long, let's see if we can identify specific keys we want to preview\n",
    "# in the resource dictionary.\n",
    "\n",
    "lst_of_keys = list(client.datasets()[idx_311]['resource'].keys())\n",
    "\n",
    "print(lst_of_keys)"
   ]
  },
  {
   "cell_type": "code",
   "execution_count": 14,
   "metadata": {
    "scrolled": false
   },
   "outputs": [
    {
     "name": "stdout",
     "output_type": "stream",
     "text": [
      "name: 311 Service Requests from 2010 to Present \n",
      "\n",
      "id: erm2-nwe9 \n",
      "\n",
      "parent_fxf: [] \n",
      "\n",
      "description: <b>NOTE: This data does not present a full picture of 311 calls or service requests, in part because of operational and system complexities associated with remote call taking necessitated by the unprecedented volume 311 is handling during the Covid-19 crisis. The City is working to address this issue. </b>\n",
      "\n",
      "All 311 Service Requests from 2010 to present. This information is automatically updated daily. \n",
      "\n",
      "attribution: 311, DoITT \n",
      "\n",
      "attribution_link: None \n",
      "\n",
      "contact_email: None \n",
      "\n",
      "type: dataset \n",
      "\n",
      "updatedAt: 2021-01-25T02:41:21.000Z \n",
      "\n",
      "createdAt: 2011-10-10T05:52:17.000Z \n",
      "\n",
      "metadata_updated_at: 2020-04-22T20:18:38.000Z \n",
      "\n",
      "data_updated_at: 2021-01-25T02:41:21.000Z \n",
      "\n",
      "page_views: {'page_views_last_week': 1294, 'page_views_last_month': 4868, 'page_views_total': 438194, 'page_views_last_week_log': 10.338736382573916, 'page_views_last_month_log': 12.249409785269128, 'page_views_total_log': 18.741213497066273} \n",
      "\n",
      "columns_name: ['Open Data Channel Type', 'Bridge Highway Direction', 'Bridge Highway Segment', 'City', 'Street Name', 'Incident Address', 'Descriptor', 'Complaint Type', 'Agency Name', 'Agency', 'Cross Street 2', 'Landmark', 'Closed Date', 'Created Date', 'Location', 'Longitude', 'Status', 'Park Facility Name', 'Due Date', 'Location Type', 'Location (city)', 'BBL', 'Address Type', 'Latitude', 'Vehicle Type', 'Location (zip)', 'Borough', 'Intersection Street 2', 'Incident Zip', 'Cross Street 1', 'Taxi Company Borough', 'Road Ramp', 'Resolution Action Updated Date', 'Community Board', 'X Coordinate (State Plane)', 'Y Coordinate (State Plane)', 'Park Borough', 'Bridge Highway Name', 'Unique Key', 'Resolution Description', 'Facility Type', 'Intersection Street 1', 'Taxi Pick Up Location', 'Location (state)', 'Location (address)', 'Police Precincts', 'City Council Districts', 'Borough Boundaries', 'Community Districts', 'Zip Codes'] \n",
      "\n",
      "columns_field_name: ['open_data_channel_type', 'bridge_highway_direction', 'bridge_highway_segment', 'city', 'street_name', 'incident_address', 'descriptor', 'complaint_type', 'agency_name', 'agency', 'cross_street_2', 'landmark', 'closed_date', 'created_date', 'location', 'longitude', 'status', 'park_facility_name', 'due_date', 'location_type', 'location_city', 'bbl', 'address_type', 'latitude', 'vehicle_type', 'location_zip', 'borough', 'intersection_street_2', 'incident_zip', 'cross_street_1', 'taxi_company_borough', 'road_ramp', 'resolution_action_updated_date', 'community_board', 'x_coordinate_state_plane', 'y_coordinate_state_plane', 'park_borough', 'bridge_highway_name', 'unique_key', 'resolution_description', 'facility_type', 'intersection_street_1', 'taxi_pick_up_location', 'location_state', 'location_address', ':@computed_region_sbqj_enih', ':@computed_region_92fq_4b7q', ':@computed_region_yeji_bk3q', ':@computed_region_f5dn_yrer', ':@computed_region_efsh_h5xi'] \n",
      "\n",
      "columns_datatype: ['Text', 'Text', 'Text', 'Text', 'Text', 'Text', 'Text', 'Text', 'Text', 'Text', 'Text', 'Text', 'Calendar date', 'Calendar date', 'Point', 'Number', 'Text', 'Text', 'Calendar date', 'Text', 'Text', 'Text', 'Text', 'Number', 'Text', 'Text', 'Text', 'Text', 'Text', 'Text', 'Text', 'Text', 'Calendar date', 'Text', 'Number', 'Number', 'Text', 'Text', 'Text', 'Text', 'Text', 'Text', 'Text', 'Text', 'Text', 'Number', 'Number', 'Number', 'Number', 'Number'] \n",
      "\n",
      "columns_description: ['Indicates how the SR was submitted to 311.  i.e. By Phone, Online, Mobile, Other or Unknown.', 'If the incident is identified as a Bridge/Highway, the direction where the issue took place would be displayed here.\\n', 'Additional information on the section of the Bridge/Highway were the incident took place.\\n', 'City of the incident location provided by geovalidation.\\n', 'Street name of incident address provided by the submitter\\n', 'House number of incident address provided by submitter.\\n', 'This is  associated to the Complaint Type, and provides further detail on the incident or condition. Descriptor values are dependent on the Complaint Type, and are not always required in SR. \\n', 'This is the first level of a hierarchy identifying the topic of the incident or condition. Complaint Type may have a corresponding Descriptor (below) or may stand alone.', 'Full Agency name of responding City Government Agency', 'Acronym of responding City Government Agency\\n', 'Second Cross Street based on the geo validated incident location\\n', 'If the incident location is identified as a Landmark the name of the landmark will display here\\n', 'Date SR was closed by responding agency\\n', 'Date SR  was created\\n', 'Combination of the geo based lat & long of the incident location\\n', 'Geo based Long of the incident location\\n', 'Status of SR submitted \\n', 'If the incident location is a Parks Dept facility, the Name of the facility will appear here\\n', 'Date when responding agency is expected to update the SR.  This is based on the Complaint Type and internal Service Level Agreements (SLAs).\\n', 'Describes the type of location used in the address information \\n', '', 'Borough Block and Lot, provided by geovalidation. Parcel number to identify the location of location of buildings and properties in NYC.', 'Type of incident location information available.\\n', 'Geo based Lat of the incident location\\n', 'If the incident is a taxi, this field describes the type of TLC vehicle. \\n', '', 'Provided by the submitter and confirmed by geovalidation.\\n', 'Second intersecting street based on geo validated incident location\\n', 'Incident location zip code, provided by geo validation.\\n', 'First Cross street based on the geo validated incident location\\n', 'If the incident is identified as a taxi, this field will display the borough of the taxi company. \\n', 'If the incident location was Bridge/Highway this column differentiates if the issue was on the Road or the Ramp.\\n', 'Date when responding agency last updated the SR.\\n', 'Provided by geovalidation.\\n', 'Geo validated, X coordinate of the incident location. \\n', 'Geo validated,  Y coordinate of the incident location. \\n', 'The borough of incident if it is a Parks Dept facility\\n', 'If the incident is identified as a Bridge/Highway, the name will be displayed here.\\n', 'Unique identifier of a Service Request (SR) in the open data set\\n', 'Describes the last action taken on the SR by the responding agency.  May describe next or future steps. \\n', 'If available, this field describes the type of city facility associated to the SR\\n', 'First intersecting street based on geo validated incident location\\n', 'If the incident is identified as a taxi, this field displays the taxi pick up location\\n', '', '', '', '', '', '', ''] \n",
      "\n",
      "columns_format: [{'displayStyle': 'plain', 'align': 'left'}, {'displayStyle': 'plain', 'align': 'left'}, {'displayStyle': 'plain', 'align': 'left'}, {'displayStyle': 'plain', 'align': 'left'}, {}, {}, {}, {'displayStyle': 'plain', 'align': 'left'}, {'displayStyle': 'plain', 'align': 'left'}, {}, {}, {'displayStyle': 'plain', 'align': 'left'}, {'view': 'date_time', 'align': 'left'}, {'view': 'date_time', 'align': 'left'}, {'view': 'coords', 'align': 'left'}, {'precisionStyle': 'standard', 'noCommas': 'false', 'align': 'right'}, {}, {'displayStyle': 'plain', 'align': 'left'}, {'view': 'date_time', 'align': 'left'}, {}, {}, {'displayStyle': 'plain', 'align': 'left'}, {}, {'precisionStyle': 'standard', 'noCommas': 'false', 'align': 'right'}, {'displayStyle': 'plain', 'align': 'left'}, {}, {'displayStyle': 'plain', 'align': 'left'}, {}, {}, {}, {'displayStyle': 'plain', 'align': 'left'}, {'displayStyle': 'plain', 'align': 'left'}, {'view': 'date_time', 'align': 'left'}, {'displayStyle': 'plain', 'align': 'left'}, {'precisionStyle': 'standard', 'noCommas': 'false', 'align': 'right'}, {'precisionStyle': 'standard', 'noCommas': 'false', 'align': 'right'}, {'displayStyle': 'plain', 'align': 'left'}, {'displayStyle': 'plain', 'align': 'left'}, {}, {'displayStyle': 'plain', 'align': 'left'}, {'displayStyle': 'plain', 'align': 'left'}, {}, {'displayStyle': 'plain', 'align': 'left'}, {}, {}, {}, {}, {}, {}, {}] \n",
      "\n",
      "download_count: 398215 \n",
      "\n",
      "provenance: official \n",
      "\n"
     ]
    },
    {
     "name": "stdout",
     "output_type": "stream",
     "text": [
      "lens_view_type: tabular \n",
      "\n",
      "blob_mime_type: None \n",
      "\n",
      "hide_from_data_json: False \n",
      "\n",
      "publication_date: 2018-04-20T03:03:18.000Z \n",
      "\n"
     ]
    }
   ],
   "source": [
    "# Previewing keys, values in the resource dictionary.\n",
    "\n",
    "for item in lst_of_keys:\n",
    "    print(item + ':', client.datasets()[idx_311]['resource'][item], '\\n')"
   ]
  },
  {
   "cell_type": "markdown",
   "metadata": {},
   "source": [
    "## `.get()`"
   ]
  },
  {
   "cell_type": "markdown",
   "metadata": {},
   "source": [
    "`get` method: Read data from the requested resource. Options for content_type are json,\n",
    "csv, and xml."
   ]
  },
  {
   "cell_type": "code",
   "execution_count": 15,
   "metadata": {},
   "outputs": [
    {
     "name": "stderr",
     "output_type": "stream",
     "text": [
      "WARNING:root:Requests made without an app_token will be subject to strict throttling limits.\n"
     ]
    }
   ],
   "source": [
    "client = Socrata(socrata_domain, None, timeout=100)"
   ]
  },
  {
   "cell_type": "code",
   "execution_count": 16,
   "metadata": {
    "scrolled": false
   },
   "outputs": [
    {
     "name": "stdout",
     "output_type": "stream",
     "text": [
      "timeout error. skipping.\n"
     ]
    }
   ],
   "source": [
    "# Using try and except statements because these requests are large and may timeout.\n",
    "# If the request timesout, we skip it. \n",
    "\n",
    "try:\n",
    "    print(type(client.get(socrata_dataset_identifier)))\n",
    "except:\n",
    "    print('timeout error. skipping.')\n",
    "    pass  "
   ]
  },
  {
   "cell_type": "code",
   "execution_count": 17,
   "metadata": {},
   "outputs": [
    {
     "name": "stdout",
     "output_type": "stream",
     "text": [
      "timeout error. skipping.\n"
     ]
    }
   ],
   "source": [
    "# Using try and except statements because these requests are large and may timeout.\n",
    "# If the request timesout, we skip it. \n",
    "\n",
    "try:\n",
    "    print(client.get(socrata_dataset_identifier)[0].keys())\n",
    "except:\n",
    "    print('timeout error. skipping.')\n",
    "    pass"
   ]
  },
  {
   "cell_type": "code",
   "execution_count": 18,
   "metadata": {},
   "outputs": [
    {
     "name": "stdout",
     "output_type": "stream",
     "text": [
      "timeout error. skipping.\n"
     ]
    }
   ],
   "source": [
    "# Using try and except statements because these requests are large and may timeout.\n",
    "# If the request timesout, we skip it. \n",
    "\n",
    "try:\n",
    "    print(client.get(socrata_dataset_identifier, select='*')[0])\n",
    "except:\n",
    "    print('timeout error. skipping.')\n",
    "    pass"
   ]
  },
  {
   "cell_type": "markdown",
   "metadata": {},
   "source": [
    "## `.get_metadata()`"
   ]
  },
  {
   "cell_type": "markdown",
   "metadata": {},
   "source": [
    "`get_metadata` method: Retrieve the metadata for a particular dataset."
   ]
  },
  {
   "cell_type": "code",
   "execution_count": 19,
   "metadata": {},
   "outputs": [
    {
     "name": "stderr",
     "output_type": "stream",
     "text": [
      "WARNING:root:Requests made without an app_token will be subject to strict throttling limits.\n"
     ]
    }
   ],
   "source": [
    "client = Socrata(socrata_domain, None, timeout=1000)"
   ]
  },
  {
   "cell_type": "code",
   "execution_count": 20,
   "metadata": {},
   "outputs": [
    {
     "data": {
      "text/plain": [
       "dict"
      ]
     },
     "execution_count": 20,
     "metadata": {},
     "output_type": "execute_result"
    }
   ],
   "source": [
    "type(client.get_metadata(socrata_dataset_identifier))"
   ]
  },
  {
   "cell_type": "code",
   "execution_count": 21,
   "metadata": {
    "scrolled": false
   },
   "outputs": [
    {
     "data": {
      "text/plain": [
       "dict_keys(['id', 'name', 'assetType', 'attribution', 'averageRating', 'category', 'createdAt', 'description', 'displayType', 'downloadCount', 'hideFromCatalog', 'hideFromDataJson', 'indexUpdatedAt', 'newBackend', 'numberOfComments', 'oid', 'provenance', 'publicationAppendEnabled', 'publicationDate', 'publicationGroup', 'publicationStage', 'rowClass', 'rowIdentifierColumnId', 'rowsUpdatedAt', 'rowsUpdatedBy', 'tableId', 'totalTimesRated', 'viewCount', 'viewLastModified', 'viewType', 'approvals', 'columns', 'grants', 'metadata', 'owner', 'query', 'rights', 'tableAuthor', 'tags', 'flags'])"
      ]
     },
     "execution_count": 21,
     "metadata": {},
     "output_type": "execute_result"
    }
   ],
   "source": [
    "# Previewing keys in dictionary\n",
    "client.get_metadata(socrata_dataset_identifier).keys()"
   ]
  },
  {
   "cell_type": "code",
   "execution_count": 22,
   "metadata": {},
   "outputs": [
    {
     "name": "stdout",
     "output_type": "stream",
     "text": [
      "id\n",
      "name\n",
      "assetType\n",
      "attribution\n",
      "averageRating\n",
      "category\n",
      "createdAt\n",
      "description\n",
      "displayType\n",
      "downloadCount\n",
      "hideFromCatalog\n",
      "hideFromDataJson\n",
      "indexUpdatedAt\n",
      "newBackend\n",
      "numberOfComments\n",
      "oid\n",
      "provenance\n",
      "publicationAppendEnabled\n",
      "publicationDate\n",
      "publicationGroup\n",
      "publicationStage\n",
      "rowClass\n",
      "rowIdentifierColumnId\n",
      "rowsUpdatedAt\n",
      "rowsUpdatedBy\n",
      "tableId\n",
      "totalTimesRated\n",
      "viewCount\n",
      "viewLastModified\n",
      "viewType\n",
      "approvals\n",
      "columns\n",
      "grants\n",
      "metadata\n",
      "owner\n",
      "query\n",
      "rights\n",
      "tableAuthor\n",
      "tags\n",
      "flags\n"
     ]
    }
   ],
   "source": [
    "# Previewing keys vertically.\n",
    "keys = client.get_metadata(socrata_dataset_identifier).keys()\n",
    "for key in keys:\n",
    "    print(key)"
   ]
  },
  {
   "cell_type": "code",
   "execution_count": 23,
   "metadata": {},
   "outputs": [
    {
     "name": "stdout",
     "output_type": "stream",
     "text": [
      "id and name of dataset\n",
      "------------------------------\n",
      "id: erm2-nwe9 \n",
      "name: 311 Service Requests from 2010 to Present\n"
     ]
    }
   ],
   "source": [
    "# Previewing the id and name of the data set.\n",
    "print('id and name of dataset\\n' + \\\n",
    "      '-' * 30 + \\\n",
    "      '\\nid:', client.get_metadata(socrata_dataset_identifier)['id'], \\\n",
    "      '\\nname:', client.get_metadata(socrata_dataset_identifier)['name'])"
   ]
  },
  {
   "cell_type": "code",
   "execution_count": 24,
   "metadata": {
    "scrolled": false
   },
   "outputs": [
    {
     "name": "stdout",
     "output_type": "stream",
     "text": [
      "<class 'dict'> \n",
      "\n",
      "id: erm2-nwe9\n",
      "name: 311 Service Requests from 2010 to Present\n",
      "assetType: dataset\n",
      "attribution: 311, DoITT\n",
      "averageRating: 0\n",
      "category: Social Services\n",
      "createdAt: 1318225937\n",
      "description: <b>NOTE: This data does not present a full picture of 311 calls or service requests, in part because of operational and system complexities associated with remote call taking necessitated by the unprecedented volume 311 is handling during the Covid-19 crisis. The City is working to address this issue. </b>\r\n",
      "\r\n",
      "All 311 Service Requests from 2010 to present. This information is automatically updated daily.\n",
      "displayType: table\n",
      "downloadCount: 398217\n",
      "hideFromCatalog: False\n",
      "hideFromDataJson: False\n",
      "indexUpdatedAt: 1571326778\n",
      "newBackend: True\n",
      "numberOfComments: 19\n",
      "oid: 28506835\n",
      "provenance: official\n",
      "publicationAppendEnabled: False\n",
      "publicationDate: 1524193398\n",
      "publicationGroup: 244403\n",
      "publicationStage: published\n",
      "rowClass: \n",
      "rowIdentifierColumnId: 354922030\n",
      "rowsUpdatedAt: 1611542481\n",
      "rowsUpdatedBy: 5fuc-pqz2\n",
      "tableId: 15047182\n",
      "totalTimesRated: 0\n",
      "viewCount: 438235\n",
      "viewLastModified: 1587586718\n",
      "viewType: tabular\n"
     ]
    }
   ],
   "source": [
    "# Previewing the first 30 keys, values of the dictionary.\n",
    "metadata = client.get_metadata(socrata_dataset_identifier)\n",
    "\n",
    "limit = 30\n",
    "out = dict(itertools.islice(metadata.items(), limit))\n",
    "print(type(out), '\\n')\n",
    "\n",
    "for key, value in out.items():\n",
    "    print(key + ':',  value)"
   ]
  },
  {
   "cell_type": "code",
   "execution_count": 25,
   "metadata": {},
   "outputs": [
    {
     "name": "stdout",
     "output_type": "stream",
     "text": [
      "<class 'dict'>\n",
      "<class 'list'> , length: 46\n",
      "unique_key\n",
      "created_date\n",
      "closed_date\n",
      "agency\n",
      "agency_name\n",
      "complaint_type\n",
      "descriptor\n",
      "location_type\n",
      "incident_zip\n",
      "incident_address\n",
      "street_name\n",
      "cross_street_1\n",
      "cross_street_2\n",
      "intersection_street_1\n",
      "intersection_street_2\n",
      "address_type\n",
      "city\n",
      "landmark\n",
      "facility_type\n",
      "status\n",
      "due_date\n",
      "resolution_description\n",
      "resolution_action_updated_date\n",
      "community_board\n",
      "bbl\n",
      "borough\n",
      "x_coordinate_state_plane\n",
      "y_coordinate_state_plane\n",
      "open_data_channel_type\n",
      "park_facility_name\n",
      "park_borough\n",
      "vehicle_type\n",
      "taxi_company_borough\n",
      "taxi_pick_up_location\n",
      "bridge_highway_name\n",
      "bridge_highway_direction\n",
      "road_ramp\n",
      "bridge_highway_segment\n",
      "latitude\n",
      "longitude\n",
      "location\n",
      ":@computed_region_efsh_h5xi\n",
      ":@computed_region_f5dn_yrer\n",
      ":@computed_region_yeji_bk3q\n",
      ":@computed_region_92fq_4b7q\n",
      ":@computed_region_sbqj_enih\n"
     ]
    }
   ],
   "source": [
    "# Saving metadata dictionary as 'metadata'\n",
    "metadata = client.get_metadata(socrata_dataset_identifier)\n",
    "print(type(metadata))\n",
    "\n",
    "# Previewing the datatype of columns\n",
    "print(type(metadata['columns']), ', length:', len(metadata['columns']))\n",
    "\n",
    "# Previewing the field names for each element in our columns list\n",
    "for x in metadata['columns']:\n",
    "    print(x['fieldName'])"
   ]
  },
  {
   "cell_type": "code",
   "execution_count": 26,
   "metadata": {},
   "outputs": [
    {
     "data": {
      "text/plain": [
       "{'id': 354922030,\n",
       " 'name': 'Unique Key',\n",
       " 'dataTypeName': 'text',\n",
       " 'description': 'Unique identifier of a Service Request (SR) in the open data set\\n',\n",
       " 'fieldName': 'unique_key',\n",
       " 'position': 1,\n",
       " 'renderTypeName': 'text',\n",
       " 'tableColumnId': 1567787,\n",
       " 'width': 220,\n",
       " 'cachedContents': {'largest': '49608994',\n",
       "  'non_null': '24796821',\n",
       "  'null': '0',\n",
       "  'top': [{'item': '10693408', 'count': '1'},\n",
       "   {'item': '10836749', 'count': '1'},\n",
       "   {'item': '10836967', 'count': '1'},\n",
       "   {'item': '11051177', 'count': '1'},\n",
       "   {'item': '11413576', 'count': '1'},\n",
       "   {'item': '11463895', 'count': '1'},\n",
       "   {'item': '11463896', 'count': '1'},\n",
       "   {'item': '11464334', 'count': '1'},\n",
       "   {'item': '11464394', 'count': '1'},\n",
       "   {'item': '11464467', 'count': '1'},\n",
       "   {'item': '11464508', 'count': '1'},\n",
       "   {'item': '11464509', 'count': '1'},\n",
       "   {'item': '11464521', 'count': '1'},\n",
       "   {'item': '11464567', 'count': '1'},\n",
       "   {'item': '11464572', 'count': '1'},\n",
       "   {'item': '11464639', 'count': '1'},\n",
       "   {'item': '11464846', 'count': '1'},\n",
       "   {'item': '11464850', 'count': '1'},\n",
       "   {'item': '11464938', 'count': '1'},\n",
       "   {'item': '11465153', 'count': '1'}],\n",
       "  'smallest': '10564222',\n",
       "  'not_null': '21933957',\n",
       "  'cardinality': '24796821'},\n",
       " 'format': {}}"
      ]
     },
     "execution_count": 26,
     "metadata": {},
     "output_type": "execute_result"
    }
   ],
   "source": [
    "metadata = client.get_metadata(socrata_dataset_identifier)\n",
    "\n",
    "# Previewing the first element in our columns list\n",
    "metadata['columns'][0]"
   ]
  },
  {
   "cell_type": "code",
   "execution_count": 27,
   "metadata": {},
   "outputs": [
    {
     "data": {
      "text/plain": [
       "{'id': 354922031,\n",
       " 'name': 'Created Date',\n",
       " 'dataTypeName': 'calendar_date',\n",
       " 'description': 'Date SR  was created\\n',\n",
       " 'fieldName': 'created_date',\n",
       " 'position': 2,\n",
       " 'renderTypeName': 'calendar_date',\n",
       " 'tableColumnId': 1567788,\n",
       " 'width': 244,\n",
       " 'cachedContents': {'largest': '2021-01-24T02:04:05.000',\n",
       "  'non_null': '24796821',\n",
       "  'null': '0',\n",
       "  'top': [{'item': '2013-01-24T00:00:00.000', 'count': '7650'},\n",
       "   {'item': '2015-01-08T00:00:00.000', 'count': '7242'},\n",
       "   {'item': '2014-01-07T00:00:00.000', 'count': '7030'},\n",
       "   {'item': '2015-02-16T00:00:00.000', 'count': '6430'},\n",
       "   {'item': '2014-01-08T00:00:00.000', 'count': '6197'},\n",
       "   {'item': '2012-01-04T00:00:00.000', 'count': '5933'},\n",
       "   {'item': '2013-11-25T00:00:00.000', 'count': '5909'},\n",
       "   {'item': '2014-01-23T00:00:00.000', 'count': '5782'},\n",
       "   {'item': '2014-01-22T00:00:00.000', 'count': '5497'},\n",
       "   {'item': '2015-01-07T00:00:00.000', 'count': '5432'},\n",
       "   {'item': '2011-01-24T00:00:00.000', 'count': '5380'},\n",
       "   {'item': '2011-10-28T00:00:00.000', 'count': '5275'},\n",
       "   {'item': '2010-01-04T00:00:00.000', 'count': '5130'},\n",
       "   {'item': '2014-01-24T00:00:00.000', 'count': '5113'},\n",
       "   {'item': '2010-12-14T00:00:00.000', 'count': '5102'},\n",
       "   {'item': '2014-11-18T00:00:00.000', 'count': '5029'},\n",
       "   {'item': '2010-12-15T00:00:00.000', 'count': '5021'},\n",
       "   {'item': '2014-11-19T00:00:00.000', 'count': '5006'},\n",
       "   {'item': '2013-01-25T00:00:00.000', 'count': '4959'},\n",
       "   {'item': '2010-12-06T00:00:00.000', 'count': '4880'}],\n",
       "  'smallest': '2010-01-01T00:00:00.000',\n",
       "  'not_null': '21933957',\n",
       "  'cardinality': '16862517'},\n",
       " 'format': {'view': 'date_time', 'align': 'left'}}"
      ]
     },
     "execution_count": 27,
     "metadata": {},
     "output_type": "execute_result"
    }
   ],
   "source": [
    "metadata = client.get_metadata(socrata_dataset_identifier)\n",
    "\n",
    "# Identifying our columns list\n",
    "cols = metadata['columns']\n",
    "\n",
    "# Previewing first position in our columns list\n",
    "cols[1]"
   ]
  },
  {
   "cell_type": "code",
   "execution_count": 28,
   "metadata": {},
   "outputs": [
    {
     "name": "stdout",
     "output_type": "stream",
     "text": [
      "unique_key\n",
      "created_date\n",
      "closed_date\n",
      "agency\n",
      "agency_name\n",
      "complaint_type\n",
      "descriptor\n",
      "location_type\n",
      "incident_zip\n",
      "incident_address\n",
      "street_name\n",
      "cross_street_1\n",
      "cross_street_2\n",
      "intersection_street_1\n",
      "intersection_street_2\n",
      "address_type\n",
      "city\n",
      "landmark\n",
      "facility_type\n",
      "status\n",
      "due_date\n",
      "resolution_description\n",
      "resolution_action_updated_date\n",
      "community_board\n",
      "bbl\n",
      "borough\n",
      "x_coordinate_state_plane\n",
      "y_coordinate_state_plane\n",
      "open_data_channel_type\n",
      "park_facility_name\n",
      "park_borough\n",
      "vehicle_type\n",
      "taxi_company_borough\n",
      "taxi_pick_up_location\n",
      "bridge_highway_name\n",
      "bridge_highway_direction\n",
      "road_ramp\n",
      "bridge_highway_segment\n",
      "latitude\n",
      "longitude\n",
      "location\n",
      ":@computed_region_efsh_h5xi\n",
      ":@computed_region_f5dn_yrer\n",
      ":@computed_region_yeji_bk3q\n",
      ":@computed_region_92fq_4b7q\n",
      ":@computed_region_sbqj_enih\n"
     ]
    }
   ],
   "source": [
    "# Creating a fieldName dictionary for every element in our column list\n",
    "fieldName = {x['fieldName']: x for x in cols}\n",
    "\n",
    "# Previewing the field names (values) in our fieldName dictionary\n",
    "for key in fieldName.keys():\n",
    "    print(key)"
   ]
  },
  {
   "cell_type": "code",
   "execution_count": 29,
   "metadata": {},
   "outputs": [
    {
     "data": {
      "text/plain": [
       "['unique_key',\n",
       " 'created_date',\n",
       " 'closed_date',\n",
       " 'agency',\n",
       " 'agency_name',\n",
       " 'complaint_type',\n",
       " 'descriptor',\n",
       " 'location_type',\n",
       " 'incident_zip',\n",
       " 'incident_address',\n",
       " 'street_name',\n",
       " 'cross_street_1',\n",
       " 'cross_street_2',\n",
       " 'intersection_street_1',\n",
       " 'intersection_street_2',\n",
       " 'address_type',\n",
       " 'city',\n",
       " 'landmark',\n",
       " 'facility_type',\n",
       " 'status',\n",
       " 'due_date',\n",
       " 'resolution_description',\n",
       " 'resolution_action_updated_date',\n",
       " 'community_board',\n",
       " 'bbl',\n",
       " 'borough',\n",
       " 'x_coordinate_state_plane',\n",
       " 'y_coordinate_state_plane',\n",
       " 'open_data_channel_type',\n",
       " 'park_facility_name',\n",
       " 'park_borough',\n",
       " 'vehicle_type',\n",
       " 'taxi_company_borough',\n",
       " 'taxi_pick_up_location',\n",
       " 'bridge_highway_name',\n",
       " 'bridge_highway_direction',\n",
       " 'road_ramp',\n",
       " 'bridge_highway_segment',\n",
       " 'latitude',\n",
       " 'longitude',\n",
       " 'location']"
      ]
     },
     "execution_count": 29,
     "metadata": {},
     "output_type": "execute_result"
    }
   ],
   "source": [
    "# Removing the last five field names\n",
    "list(fieldName.keys())[:-5]"
   ]
  },
  {
   "cell_type": "code",
   "execution_count": 30,
   "metadata": {},
   "outputs": [
    {
     "data": {
      "text/plain": [
       "['unique_key',\n",
       " 'created_date',\n",
       " 'closed_date',\n",
       " 'agency',\n",
       " 'agency_name',\n",
       " 'complaint_type',\n",
       " 'descriptor',\n",
       " 'location_type',\n",
       " 'incident_zip',\n",
       " 'incident_address',\n",
       " 'street_name',\n",
       " 'cross_street_1',\n",
       " 'cross_street_2',\n",
       " 'intersection_street_1',\n",
       " 'intersection_street_2',\n",
       " 'address_type',\n",
       " 'city',\n",
       " 'landmark',\n",
       " 'facility_type',\n",
       " 'status',\n",
       " 'due_date',\n",
       " 'resolution_description',\n",
       " 'resolution_action_updated_date',\n",
       " 'community_board',\n",
       " 'bbl',\n",
       " 'borough',\n",
       " 'x_coordinate_state_plane',\n",
       " 'y_coordinate_state_plane',\n",
       " 'open_data_channel_type',\n",
       " 'park_facility_name',\n",
       " 'park_borough',\n",
       " 'vehicle_type',\n",
       " 'taxi_company_borough',\n",
       " 'taxi_pick_up_location',\n",
       " 'bridge_highway_name',\n",
       " 'bridge_highway_direction',\n",
       " 'road_ramp',\n",
       " 'bridge_highway_segment',\n",
       " 'latitude',\n",
       " 'longitude',\n",
       " 'location']"
      ]
     },
     "execution_count": 30,
     "metadata": {},
     "output_type": "execute_result"
    }
   ],
   "source": [
    "# Removing the last five field names\n",
    "cols_as_list = list(fieldName.keys())[:-5]\n",
    "\n",
    "cols_as_list"
   ]
  },
  {
   "cell_type": "markdown",
   "metadata": {},
   "source": [
    "# Socrata Query Language (SoQL) - Analyzing NYC 311 Complaints"
   ]
  },
  {
   "cell_type": "markdown",
   "metadata": {},
   "source": [
    "## Most NYC 311 Complaints by Complaint Type"
   ]
  },
  {
   "cell_type": "code",
   "execution_count": 31,
   "metadata": {},
   "outputs": [
    {
     "name": "stderr",
     "output_type": "stream",
     "text": [
      "WARNING:root:Requests made without an app_token will be subject to strict throttling limits.\n"
     ]
    },
    {
     "name": "stdout",
     "output_type": "stream",
     "text": [
      "<class 'list'> Returned a list from our request.\n",
      "\n",
      "<class 'dict'> However, request is actually a list of dictionaries.\n",
      "\n",
      "<class 'pandas.core.frame.DataFrame'> Convert list of dictionaries to DataFrame.\n",
      "Rows and columns of data: (445, 2)\n"
     ]
    },
    {
     "data": {
      "text/html": [
       "<div>\n",
       "<style scoped>\n",
       "    .dataframe tbody tr th:only-of-type {\n",
       "        vertical-align: middle;\n",
       "    }\n",
       "\n",
       "    .dataframe tbody tr th {\n",
       "        vertical-align: top;\n",
       "    }\n",
       "\n",
       "    .dataframe thead th {\n",
       "        text-align: right;\n",
       "    }\n",
       "</style>\n",
       "<table border=\"1\" class=\"dataframe\">\n",
       "  <thead>\n",
       "    <tr style=\"text-align: right;\">\n",
       "      <th></th>\n",
       "      <th>complaint_type</th>\n",
       "      <th>count</th>\n",
       "    </tr>\n",
       "  </thead>\n",
       "  <tbody>\n",
       "    <tr>\n",
       "      <th>0</th>\n",
       "      <td>Noise - Residential</td>\n",
       "      <td>2236002</td>\n",
       "    </tr>\n",
       "    <tr>\n",
       "      <th>1</th>\n",
       "      <td>HEAT/HOT WATER</td>\n",
       "      <td>1418669</td>\n",
       "    </tr>\n",
       "    <tr>\n",
       "      <th>2</th>\n",
       "      <td>Illegal Parking</td>\n",
       "      <td>1124210</td>\n",
       "    </tr>\n",
       "    <tr>\n",
       "      <th>3</th>\n",
       "      <td>Blocked Driveway</td>\n",
       "      <td>1044959</td>\n",
       "    </tr>\n",
       "    <tr>\n",
       "      <th>4</th>\n",
       "      <td>Street Condition</td>\n",
       "      <td>1020518</td>\n",
       "    </tr>\n",
       "    <tr>\n",
       "      <th>5</th>\n",
       "      <td>Street Light Condition</td>\n",
       "      <td>983562</td>\n",
       "    </tr>\n",
       "    <tr>\n",
       "      <th>6</th>\n",
       "      <td>HEATING</td>\n",
       "      <td>887869</td>\n",
       "    </tr>\n",
       "    <tr>\n",
       "      <th>7</th>\n",
       "      <td>PLUMBING</td>\n",
       "      <td>747458</td>\n",
       "    </tr>\n",
       "    <tr>\n",
       "      <th>8</th>\n",
       "      <td>Water System</td>\n",
       "      <td>686847</td>\n",
       "    </tr>\n",
       "    <tr>\n",
       "      <th>9</th>\n",
       "      <td>Noise - Street/Sidewalk</td>\n",
       "      <td>682283</td>\n",
       "    </tr>\n",
       "  </tbody>\n",
       "</table>\n",
       "</div>"
      ],
      "text/plain": [
       "            complaint_type    count\n",
       "0      Noise - Residential  2236002\n",
       "1           HEAT/HOT WATER  1418669\n",
       "2          Illegal Parking  1124210\n",
       "3         Blocked Driveway  1044959\n",
       "4         Street Condition  1020518\n",
       "5   Street Light Condition   983562\n",
       "6                  HEATING   887869\n",
       "7                 PLUMBING   747458\n",
       "8             Water System   686847\n",
       "9  Noise - Street/Sidewalk   682283"
      ]
     },
     "execution_count": 31,
     "metadata": {},
     "output_type": "execute_result"
    }
   ],
   "source": [
    "# Source domain for NYC Open Data on Socrata\n",
    "socrata_domain = 'data.cityofnewyork.us'\n",
    "\n",
    "# Data set id for NYC 311 on NYC Open Data on Socrata\n",
    "socrata_dataset_identifier = 'erm2-nwe9'\n",
    "\n",
    "# Socrata - The main class that interacts with the SODA API. We pass the source domain value\n",
    "# of NYC Open data, the app token as 'None', and set the timeout parameter for '1,000 seconds'\n",
    "client = Socrata(socrata_domain, None, timeout=1000)\n",
    "\n",
    "# SoQL query string below:\n",
    "# Select the complaint_type and the count of complaint_type columns \n",
    "# grouped by complaint_type, sorted by the count of complaint_type in descending order\n",
    "# and limit our records to 1,000.\n",
    "\n",
    "query = \"\"\"\n",
    "SELECT \n",
    "    complaint_type, \n",
    "    count(complaint_type) AS count\n",
    "GROUP BY \n",
    "    complaint_type\n",
    "ORDER BY \n",
    "    count(complaint_type) DESC\n",
    "LIMIT \n",
    "    1000\n",
    "\"\"\"\n",
    "\n",
    "# Requesting data from the NYC 311 data set\n",
    "# and passing our query as a full SoQL query string\n",
    "results = client.get(socrata_dataset_identifier, query=query)\n",
    "\n",
    "# results is returned as JSON from API and converted to Python list of\n",
    "# dictionaries by sodapy\n",
    "print(type(results), 'Returned a list from our request.\\n')\n",
    "\n",
    "# Identifying type of first element of our results list\n",
    "print(type(results[0]), 'However, request is actually a list of dictionaries.\\n')\n",
    "\n",
    "# Convert list of dictionaries to a pandas DataFrame\n",
    "results_df = pd.DataFrame.from_records(results)\n",
    "\n",
    "print(type(results_df), 'Convert list of dictionaries to DataFrame.')\n",
    "print('Rows and columns of data:', results_df.shape)\n",
    "\n",
    "results_df.head(10)"
   ]
  },
  {
   "cell_type": "markdown",
   "metadata": {},
   "source": [
    "## Most NYC 311 Complaints by Descriptor"
   ]
  },
  {
   "cell_type": "code",
   "execution_count": 32,
   "metadata": {},
   "outputs": [
    {
     "name": "stderr",
     "output_type": "stream",
     "text": [
      "WARNING:root:Requests made without an app_token will be subject to strict throttling limits.\n"
     ]
    },
    {
     "name": "stdout",
     "output_type": "stream",
     "text": [
      "Rows and columns of data: (1000, 2)\n"
     ]
    },
    {
     "data": {
      "text/html": [
       "<div>\n",
       "<style scoped>\n",
       "    .dataframe tbody tr th:only-of-type {\n",
       "        vertical-align: middle;\n",
       "    }\n",
       "\n",
       "    .dataframe tbody tr th {\n",
       "        vertical-align: top;\n",
       "    }\n",
       "\n",
       "    .dataframe thead th {\n",
       "        text-align: right;\n",
       "    }\n",
       "</style>\n",
       "<table border=\"1\" class=\"dataframe\">\n",
       "  <thead>\n",
       "    <tr style=\"text-align: right;\">\n",
       "      <th></th>\n",
       "      <th>descriptor</th>\n",
       "      <th>count</th>\n",
       "    </tr>\n",
       "  </thead>\n",
       "  <tbody>\n",
       "    <tr>\n",
       "      <th>0</th>\n",
       "      <td>Loud Music/Party</td>\n",
       "      <td>2335159</td>\n",
       "    </tr>\n",
       "    <tr>\n",
       "      <th>1</th>\n",
       "      <td>ENTIRE BUILDING</td>\n",
       "      <td>923819</td>\n",
       "    </tr>\n",
       "    <tr>\n",
       "      <th>2</th>\n",
       "      <td>HEAT</td>\n",
       "      <td>871935</td>\n",
       "    </tr>\n",
       "    <tr>\n",
       "      <th>3</th>\n",
       "      <td>No Access</td>\n",
       "      <td>778060</td>\n",
       "    </tr>\n",
       "    <tr>\n",
       "      <th>4</th>\n",
       "      <td>Street Light Out</td>\n",
       "      <td>729234</td>\n",
       "    </tr>\n",
       "    <tr>\n",
       "      <th>5</th>\n",
       "      <td>Pothole</td>\n",
       "      <td>617633</td>\n",
       "    </tr>\n",
       "    <tr>\n",
       "      <th>6</th>\n",
       "      <td>Banging/Pounding</td>\n",
       "      <td>612473</td>\n",
       "    </tr>\n",
       "    <tr>\n",
       "      <th>7</th>\n",
       "      <td>APARTMENT ONLY</td>\n",
       "      <td>494850</td>\n",
       "    </tr>\n",
       "    <tr>\n",
       "      <th>8</th>\n",
       "      <td>Loud Talking</td>\n",
       "      <td>358823</td>\n",
       "    </tr>\n",
       "    <tr>\n",
       "      <th>9</th>\n",
       "      <td>CEILING</td>\n",
       "      <td>358776</td>\n",
       "    </tr>\n",
       "  </tbody>\n",
       "</table>\n",
       "</div>"
      ],
      "text/plain": [
       "         descriptor    count\n",
       "0  Loud Music/Party  2335159\n",
       "1   ENTIRE BUILDING   923819\n",
       "2              HEAT   871935\n",
       "3         No Access   778060\n",
       "4  Street Light Out   729234\n",
       "5           Pothole   617633\n",
       "6  Banging/Pounding   612473\n",
       "7    APARTMENT ONLY   494850\n",
       "8      Loud Talking   358823\n",
       "9           CEILING   358776"
      ]
     },
     "execution_count": 32,
     "metadata": {},
     "output_type": "execute_result"
    }
   ],
   "source": [
    "# Source domain for NYC Open Data on Socrata\n",
    "socrata_domain = 'data.cityofnewyork.us'\n",
    "\n",
    "# Data set id for NYC 311 on NYC Open Data on Socrata\n",
    "socrata_dataset_identifier = 'erm2-nwe9'\n",
    "\n",
    "# Socrata - The main class that interacts with the SODA API. We pass the source domain value\n",
    "# of NYC Open data, the app token as 'None', and set the timeout parameter for '1,000 seconds'\n",
    "client = Socrata(socrata_domain, None, timeout=1000)\n",
    "\n",
    "# SoQL query string below:\n",
    "# Select the descriptor and count of descriptor columns grouped by descriptor,\n",
    "# sort by the count in descending order and limit our records to 1,000.\n",
    "\n",
    "query = \"\"\"\n",
    "SELECT \n",
    "    descriptor, \n",
    "    count(descriptor) AS count\n",
    "GROUP BY \n",
    "    descriptor\n",
    "ORDER BY \n",
    "    count DESC\n",
    "LIMIT \n",
    "    1000\n",
    "\"\"\"\n",
    "\n",
    "# Requesting data from the NYC 311 data set\n",
    "# and passing our query as a full SoQL query string\n",
    "results = client.get(socrata_dataset_identifier, query=query)\n",
    "\n",
    "# Convert list of dictionaries to a pandas DataFrame\n",
    "results_df = pd.DataFrame.from_records(results)\n",
    "\n",
    "print('Rows and columns of data:', results_df.shape)\n",
    "\n",
    "results_df.head(10)"
   ]
  },
  {
   "cell_type": "markdown",
   "metadata": {},
   "source": [
    "## Most NYC 311 Complaints by Day"
   ]
  },
  {
   "cell_type": "code",
   "execution_count": 33,
   "metadata": {},
   "outputs": [
    {
     "name": "stderr",
     "output_type": "stream",
     "text": [
      "WARNING:root:Requests made without an app_token will be subject to strict throttling limits.\n"
     ]
    },
    {
     "name": "stdout",
     "output_type": "stream",
     "text": [
      "Rows and columns of data: (1000, 2)\n"
     ]
    },
    {
     "data": {
      "text/html": [
       "<div>\n",
       "<style scoped>\n",
       "    .dataframe tbody tr th:only-of-type {\n",
       "        vertical-align: middle;\n",
       "    }\n",
       "\n",
       "    .dataframe tbody tr th {\n",
       "        vertical-align: top;\n",
       "    }\n",
       "\n",
       "    .dataframe thead th {\n",
       "        text-align: right;\n",
       "    }\n",
       "</style>\n",
       "<table border=\"1\" class=\"dataframe\">\n",
       "  <thead>\n",
       "    <tr style=\"text-align: right;\">\n",
       "      <th></th>\n",
       "      <th>day</th>\n",
       "      <th>count</th>\n",
       "    </tr>\n",
       "  </thead>\n",
       "  <tbody>\n",
       "    <tr>\n",
       "      <th>0</th>\n",
       "      <td>2020-08-04T00:00:00.000</td>\n",
       "      <td>23314</td>\n",
       "    </tr>\n",
       "    <tr>\n",
       "      <th>1</th>\n",
       "      <td>2020-08-05T00:00:00.000</td>\n",
       "      <td>18305</td>\n",
       "    </tr>\n",
       "    <tr>\n",
       "      <th>2</th>\n",
       "      <td>2020-07-05T00:00:00.000</td>\n",
       "      <td>16014</td>\n",
       "    </tr>\n",
       "    <tr>\n",
       "      <th>3</th>\n",
       "      <td>2020-07-04T00:00:00.000</td>\n",
       "      <td>15365</td>\n",
       "    </tr>\n",
       "    <tr>\n",
       "      <th>4</th>\n",
       "      <td>2020-06-20T00:00:00.000</td>\n",
       "      <td>15098</td>\n",
       "    </tr>\n",
       "    <tr>\n",
       "      <th>5</th>\n",
       "      <td>2020-06-21T00:00:00.000</td>\n",
       "      <td>14965</td>\n",
       "    </tr>\n",
       "    <tr>\n",
       "      <th>6</th>\n",
       "      <td>2020-06-28T00:00:00.000</td>\n",
       "      <td>12899</td>\n",
       "    </tr>\n",
       "    <tr>\n",
       "      <th>7</th>\n",
       "      <td>2020-06-27T00:00:00.000</td>\n",
       "      <td>12074</td>\n",
       "    </tr>\n",
       "    <tr>\n",
       "      <th>8</th>\n",
       "      <td>2020-08-09T00:00:00.000</td>\n",
       "      <td>12057</td>\n",
       "    </tr>\n",
       "    <tr>\n",
       "      <th>9</th>\n",
       "      <td>2020-08-06T00:00:00.000</td>\n",
       "      <td>12043</td>\n",
       "    </tr>\n",
       "  </tbody>\n",
       "</table>\n",
       "</div>"
      ],
      "text/plain": [
       "                       day  count\n",
       "0  2020-08-04T00:00:00.000  23314\n",
       "1  2020-08-05T00:00:00.000  18305\n",
       "2  2020-07-05T00:00:00.000  16014\n",
       "3  2020-07-04T00:00:00.000  15365\n",
       "4  2020-06-20T00:00:00.000  15098\n",
       "5  2020-06-21T00:00:00.000  14965\n",
       "6  2020-06-28T00:00:00.000  12899\n",
       "7  2020-06-27T00:00:00.000  12074\n",
       "8  2020-08-09T00:00:00.000  12057\n",
       "9  2020-08-06T00:00:00.000  12043"
      ]
     },
     "execution_count": 33,
     "metadata": {},
     "output_type": "execute_result"
    }
   ],
   "source": [
    "# Source domain for NYC Open Data on Socrata\n",
    "socrata_domain = 'data.cityofnewyork.us'\n",
    "\n",
    "# Data set id for NYC 311 on NYC Open Data on Socrata\n",
    "socrata_dataset_identifier = 'erm2-nwe9'\n",
    "\n",
    "# Socrata - The main class that interacts with the SODA API. We pass the source domain value\n",
    "# of NYC Open data, the app token as 'None', and set the timeout parameter for '1,000 seconds'\n",
    "client = Socrata(socrata_domain, None, timeout=1000)\n",
    "\n",
    "# SoQL query string below:\n",
    "# Select the day and count day grouped by day,\n",
    "# sort by count in descending order and limit our records to 1,000.\n",
    "\n",
    "query = \"\"\"\n",
    "SELECT \n",
    "    date_trunc_ymd(created_date) AS day, \n",
    "    count(day) AS count\n",
    "GROUP BY \n",
    "    day\n",
    "ORDER BY \n",
    "    count DESC\n",
    "LIMIT \n",
    "    1000\n",
    "\"\"\"\n",
    "\n",
    "# Requesting data from the NYC 311 data set\n",
    "# and passing our query as a full SoQL query string\n",
    "results = client.get(socrata_dataset_identifier, query=query)\n",
    "\n",
    "# Convert list of dictionaries to a pandas DataFrame\n",
    "results_df = pd.DataFrame.from_records(results)\n",
    "\n",
    "print('Rows and columns of data:', results_df.shape)\n",
    "\n",
    "results_df.head(10)"
   ]
  },
  {
   "cell_type": "markdown",
   "metadata": {},
   "source": [
    "## Displaying the difference between the date (timestamp) and day (date_trunc_ymd) columns"
   ]
  },
  {
   "cell_type": "code",
   "execution_count": 34,
   "metadata": {},
   "outputs": [
    {
     "name": "stderr",
     "output_type": "stream",
     "text": [
      "WARNING:root:Requests made without an app_token will be subject to strict throttling limits.\n"
     ]
    },
    {
     "name": "stdout",
     "output_type": "stream",
     "text": [
      "Rows and columns of data: (1000, 3)\n"
     ]
    },
    {
     "data": {
      "text/html": [
       "<div>\n",
       "<style scoped>\n",
       "    .dataframe tbody tr th:only-of-type {\n",
       "        vertical-align: middle;\n",
       "    }\n",
       "\n",
       "    .dataframe tbody tr th {\n",
       "        vertical-align: top;\n",
       "    }\n",
       "\n",
       "    .dataframe thead th {\n",
       "        text-align: right;\n",
       "    }\n",
       "</style>\n",
       "<table border=\"1\" class=\"dataframe\">\n",
       "  <thead>\n",
       "    <tr style=\"text-align: right;\">\n",
       "      <th></th>\n",
       "      <th>timestamp</th>\n",
       "      <th>day</th>\n",
       "      <th>count</th>\n",
       "    </tr>\n",
       "  </thead>\n",
       "  <tbody>\n",
       "    <tr>\n",
       "      <th>0</th>\n",
       "      <td>2010-01-01T15:48:17.000</td>\n",
       "      <td>2010-01-01T00:00:00.000</td>\n",
       "      <td>1</td>\n",
       "    </tr>\n",
       "    <tr>\n",
       "      <th>1</th>\n",
       "      <td>2010-01-01T16:01:57.000</td>\n",
       "      <td>2010-01-01T00:00:00.000</td>\n",
       "      <td>1</td>\n",
       "    </tr>\n",
       "    <tr>\n",
       "      <th>2</th>\n",
       "      <td>2010-01-01T15:40:55.000</td>\n",
       "      <td>2010-01-01T00:00:00.000</td>\n",
       "      <td>1</td>\n",
       "    </tr>\n",
       "    <tr>\n",
       "      <th>3</th>\n",
       "      <td>2010-01-01T15:48:01.000</td>\n",
       "      <td>2010-01-01T00:00:00.000</td>\n",
       "      <td>1</td>\n",
       "    </tr>\n",
       "    <tr>\n",
       "      <th>4</th>\n",
       "      <td>2010-01-01T15:57:07.000</td>\n",
       "      <td>2010-01-01T00:00:00.000</td>\n",
       "      <td>1</td>\n",
       "    </tr>\n",
       "    <tr>\n",
       "      <th>5</th>\n",
       "      <td>2010-01-01T16:01:43.000</td>\n",
       "      <td>2010-01-01T00:00:00.000</td>\n",
       "      <td>1</td>\n",
       "    </tr>\n",
       "    <tr>\n",
       "      <th>6</th>\n",
       "      <td>2010-01-01T15:35:00.000</td>\n",
       "      <td>2010-01-01T00:00:00.000</td>\n",
       "      <td>1</td>\n",
       "    </tr>\n",
       "    <tr>\n",
       "      <th>7</th>\n",
       "      <td>2010-01-01T15:39:32.000</td>\n",
       "      <td>2010-01-01T00:00:00.000</td>\n",
       "      <td>1</td>\n",
       "    </tr>\n",
       "    <tr>\n",
       "      <th>8</th>\n",
       "      <td>2010-01-01T15:45:00.000</td>\n",
       "      <td>2010-01-01T00:00:00.000</td>\n",
       "      <td>1</td>\n",
       "    </tr>\n",
       "    <tr>\n",
       "      <th>9</th>\n",
       "      <td>2010-01-01T15:48:00.000</td>\n",
       "      <td>2010-01-01T00:00:00.000</td>\n",
       "      <td>1</td>\n",
       "    </tr>\n",
       "  </tbody>\n",
       "</table>\n",
       "</div>"
      ],
      "text/plain": [
       "                 timestamp                      day count\n",
       "0  2010-01-01T15:48:17.000  2010-01-01T00:00:00.000     1\n",
       "1  2010-01-01T16:01:57.000  2010-01-01T00:00:00.000     1\n",
       "2  2010-01-01T15:40:55.000  2010-01-01T00:00:00.000     1\n",
       "3  2010-01-01T15:48:01.000  2010-01-01T00:00:00.000     1\n",
       "4  2010-01-01T15:57:07.000  2010-01-01T00:00:00.000     1\n",
       "5  2010-01-01T16:01:43.000  2010-01-01T00:00:00.000     1\n",
       "6  2010-01-01T15:35:00.000  2010-01-01T00:00:00.000     1\n",
       "7  2010-01-01T15:39:32.000  2010-01-01T00:00:00.000     1\n",
       "8  2010-01-01T15:45:00.000  2010-01-01T00:00:00.000     1\n",
       "9  2010-01-01T15:48:00.000  2010-01-01T00:00:00.000     1"
      ]
     },
     "execution_count": 34,
     "metadata": {},
     "output_type": "execute_result"
    }
   ],
   "source": [
    "# Source domain for NYC Open Data on Socrata\n",
    "socrata_domain = 'data.cityofnewyork.us'\n",
    "\n",
    "# Data set id for NYC 311 on NYC Open Data on Socrata\n",
    "socrata_dataset_identifier = 'erm2-nwe9'\n",
    "\n",
    "# Socrata - The main class that interacts with the SODA API. We pass the source domain value\n",
    "# of NYC Open data, the app token as 'None', and set the timeout parameter for '1,000 seconds'\n",
    "client = Socrata(socrata_domain, None, timeout=1000)\n",
    "\n",
    "# SoQL query string below:\n",
    "# Select the timestamp, day and count timestamp grouped by timestamp,\n",
    "# sort by count in descending order and limit our records to 1,000.\n",
    "\n",
    "query = \"\"\"\n",
    "SELECT \n",
    "    created_date as timestamp, \n",
    "    date_trunc_ymd(created_date) as day, \n",
    "    count(timestamp) AS count\n",
    "GROUP BY \n",
    "    timestamp\n",
    "ORDER BY \n",
    "    count ASC\n",
    "LIMIT \n",
    "    1000\n",
    "\"\"\"\n",
    "\n",
    "# Requesting data from the NYC 311 data set\n",
    "# and passing our query as a full SoQL query string\n",
    "results = client.get(socrata_dataset_identifier, query=query)\n",
    "\n",
    "# Convert list of dictionaries to a pandas DataFrame\n",
    "results_df = pd.DataFrame.from_records(results)\n",
    "\n",
    "print('Rows and columns of data:', results_df.shape)\n",
    "\n",
    "results_df.head(10)"
   ]
  },
  {
   "cell_type": "markdown",
   "metadata": {},
   "source": [
    "## Analyzing NYC 311 Street Flooding Complaints"
   ]
  },
  {
   "cell_type": "markdown",
   "metadata": {},
   "source": [
    "### Searching the data set for the word \"flood\" in the complaint_type field"
   ]
  },
  {
   "cell_type": "code",
   "execution_count": 37,
   "metadata": {},
   "outputs": [
    {
     "name": "stderr",
     "output_type": "stream",
     "text": [
      "WARNING:root:Requests made without an app_token will be subject to strict throttling limits.\n"
     ]
    },
    {
     "name": "stdout",
     "output_type": "stream",
     "text": [
      "shape of data: (0, 0)\n"
     ]
    },
    {
     "data": {
      "text/html": [
       "<div>\n",
       "<style scoped>\n",
       "    .dataframe tbody tr th:only-of-type {\n",
       "        vertical-align: middle;\n",
       "    }\n",
       "\n",
       "    .dataframe tbody tr th {\n",
       "        vertical-align: top;\n",
       "    }\n",
       "\n",
       "    .dataframe thead th {\n",
       "        text-align: right;\n",
       "    }\n",
       "</style>\n",
       "<table border=\"1\" class=\"dataframe\">\n",
       "  <thead>\n",
       "    <tr style=\"text-align: right;\">\n",
       "      <th></th>\n",
       "    </tr>\n",
       "  </thead>\n",
       "  <tbody>\n",
       "  </tbody>\n",
       "</table>\n",
       "</div>"
      ],
      "text/plain": [
       "Empty DataFrame\n",
       "Columns: []\n",
       "Index: []"
      ]
     },
     "execution_count": 37,
     "metadata": {},
     "output_type": "execute_result"
    }
   ],
   "source": [
    "# Source domain for NYC Open Data on Socrata\n",
    "socrata_domain = 'data.cityofnewyork.us'\n",
    "\n",
    "# Data set id for NYC 311 on NYC Open Data on Socrata\n",
    "socrata_dataset_identifier = 'erm2-nwe9'\n",
    "\n",
    "# Socrata - The main class that interacts with the SODA API. We pass the source domain value\n",
    "# of NYC Open data, the app token as 'None', and set the timeout parameter for '1,000 seconds'\n",
    "client = Socrata(socrata_domain, None, timeout=1000)\n",
    "\n",
    "# SoQL query string below:\n",
    "# Select complaint_type and count of complaint_type grouped by compaint_type,\n",
    "# where the word \"flood\" is in compplaint_type,\n",
    "# sort count in descending order and limit our records to 1,000.\n",
    "\n",
    "query = \"\"\"\n",
    "SELECT \n",
    "    complaint_type, \n",
    "    count(complaint_type) AS count\n",
    "WHERE \n",
    "    LOWER(complaint_type) LIKE '%flood%'\n",
    "GROUP BY \n",
    "    complaint_type\n",
    "ORDER BY \n",
    "    count(descriptor) DESC\n",
    "LIMIT \n",
    "    1000\n",
    "\"\"\"\n",
    "\n",
    "# Returned as JSON from API / converted to Python list of\n",
    "# dictionaries by sodapy.\n",
    "results = client.get(socrata_dataset_identifier, query=query)\n",
    "\n",
    "# Convert to pandas DataFrame\n",
    "results_df = pd.DataFrame.from_records(results)\n",
    "\n",
    "print('shape of data:', results_df.shape)\n",
    "results_df"
   ]
  },
  {
   "cell_type": "markdown",
   "metadata": {},
   "source": [
    "### Searching the data set for the word \"flood\" in the descriptor field"
   ]
  },
  {
   "cell_type": "code",
   "execution_count": 38,
   "metadata": {},
   "outputs": [
    {
     "name": "stderr",
     "output_type": "stream",
     "text": [
      "WARNING:root:Requests made without an app_token will be subject to strict throttling limits.\n"
     ]
    },
    {
     "name": "stdout",
     "output_type": "stream",
     "text": [
      "shape of data: (4, 2)\n"
     ]
    },
    {
     "data": {
      "text/html": [
       "<div>\n",
       "<style scoped>\n",
       "    .dataframe tbody tr th:only-of-type {\n",
       "        vertical-align: middle;\n",
       "    }\n",
       "\n",
       "    .dataframe tbody tr th {\n",
       "        vertical-align: top;\n",
       "    }\n",
       "\n",
       "    .dataframe thead th {\n",
       "        text-align: right;\n",
       "    }\n",
       "</style>\n",
       "<table border=\"1\" class=\"dataframe\">\n",
       "  <thead>\n",
       "    <tr style=\"text-align: right;\">\n",
       "      <th></th>\n",
       "      <th>complaint_type</th>\n",
       "      <th>count</th>\n",
       "    </tr>\n",
       "  </thead>\n",
       "  <tbody>\n",
       "    <tr>\n",
       "      <th>0</th>\n",
       "      <td>Sewer</td>\n",
       "      <td>120262</td>\n",
       "    </tr>\n",
       "    <tr>\n",
       "      <th>1</th>\n",
       "      <td>Street Light Condition</td>\n",
       "      <td>9046</td>\n",
       "    </tr>\n",
       "    <tr>\n",
       "      <th>2</th>\n",
       "      <td>OEM Literature Request</td>\n",
       "      <td>271</td>\n",
       "    </tr>\n",
       "    <tr>\n",
       "      <th>3</th>\n",
       "      <td>Public Toilet</td>\n",
       "      <td>48</td>\n",
       "    </tr>\n",
       "  </tbody>\n",
       "</table>\n",
       "</div>"
      ],
      "text/plain": [
       "           complaint_type   count\n",
       "0                   Sewer  120262\n",
       "1  Street Light Condition    9046\n",
       "2  OEM Literature Request     271\n",
       "3           Public Toilet      48"
      ]
     },
     "execution_count": 38,
     "metadata": {},
     "output_type": "execute_result"
    }
   ],
   "source": [
    "# Source domain for NYC Open Data on Socrata\n",
    "socrata_domain = 'data.cityofnewyork.us'\n",
    "\n",
    "# Data set id for NYC 311 on NYC Open Data on Socrata\n",
    "socrata_dataset_identifier = 'erm2-nwe9'\n",
    "\n",
    "# Socrata - The main class that interacts with the SODA API. We pass the source domain value\n",
    "# of NYC Open data, the app token as 'None', and set the timeout parameter for '1,000 seconds'\n",
    "client = Socrata(socrata_domain, None, timeout=1000)\n",
    "\n",
    "# SoQL query string below:\n",
    "# Select complaint_type and count of complaint_type grouped by compaint_type,\n",
    "# where the word \"flood\" is in descriptor,\n",
    "# sort count in descending order and limit our records to 1,000.\n",
    "\n",
    "query = \"\"\"\n",
    "SELECT \n",
    "    complaint_type, \n",
    "    count(complaint_type) AS count\n",
    "WHERE \n",
    "    LOWER(descriptor) LIKE '%flood%'\n",
    "GROUP BY \n",
    "    complaint_type\n",
    "ORDER BY \n",
    "    count(descriptor) DESC\n",
    "LIMIT \n",
    "    1000\n",
    "\"\"\"\n",
    "\n",
    "# Returned as JSON from API / converted to Python list of\n",
    "# dictionaries by sodapy.\n",
    "results = client.get(socrata_dataset_identifier, query=query)\n",
    "\n",
    "# Convert to pandas DataFrame\n",
    "results_df = pd.DataFrame.from_records(results)\n",
    "\n",
    "print('shape of data:', results_df.shape)\n",
    "results_df"
   ]
  },
  {
   "cell_type": "markdown",
   "metadata": {},
   "source": [
    "### Searching the data set where complaint_type field = 'Sewer'"
   ]
  },
  {
   "cell_type": "code",
   "execution_count": 39,
   "metadata": {},
   "outputs": [
    {
     "name": "stderr",
     "output_type": "stream",
     "text": [
      "WARNING:root:Requests made without an app_token will be subject to strict throttling limits.\n"
     ]
    },
    {
     "name": "stdout",
     "output_type": "stream",
     "text": [
      "shape of data: (27, 2)\n"
     ]
    },
    {
     "data": {
      "text/html": [
       "<div>\n",
       "<style scoped>\n",
       "    .dataframe tbody tr th:only-of-type {\n",
       "        vertical-align: middle;\n",
       "    }\n",
       "\n",
       "    .dataframe tbody tr th {\n",
       "        vertical-align: top;\n",
       "    }\n",
       "\n",
       "    .dataframe thead th {\n",
       "        text-align: right;\n",
       "    }\n",
       "</style>\n",
       "<table border=\"1\" class=\"dataframe\">\n",
       "  <thead>\n",
       "    <tr style=\"text-align: right;\">\n",
       "      <th></th>\n",
       "      <th>descriptor</th>\n",
       "      <th>count_descriptor</th>\n",
       "    </tr>\n",
       "  </thead>\n",
       "  <tbody>\n",
       "    <tr>\n",
       "      <th>0</th>\n",
       "      <td>Sewer Backup (Use Comments) (SA)</td>\n",
       "      <td>148597</td>\n",
       "    </tr>\n",
       "    <tr>\n",
       "      <th>1</th>\n",
       "      <td>Catch Basin Clogged/Flooding (Use Comments) (SC)</td>\n",
       "      <td>89834</td>\n",
       "    </tr>\n",
       "    <tr>\n",
       "      <th>2</th>\n",
       "      <td>Catch Basin Sunken/Damaged/Raised (SC1)</td>\n",
       "      <td>28517</td>\n",
       "    </tr>\n",
       "    <tr>\n",
       "      <th>3</th>\n",
       "      <td>Street Flooding (SJ)</td>\n",
       "      <td>27516</td>\n",
       "    </tr>\n",
       "    <tr>\n",
       "      <th>4</th>\n",
       "      <td>Manhole Cover Broken/Making Noise (SB)</td>\n",
       "      <td>19778</td>\n",
       "    </tr>\n",
       "    <tr>\n",
       "      <th>5</th>\n",
       "      <td>Manhole Cover Missing (Emergency) (SA3)</td>\n",
       "      <td>17428</td>\n",
       "    </tr>\n",
       "    <tr>\n",
       "      <th>6</th>\n",
       "      <td>Sewer Odor (SA2)</td>\n",
       "      <td>15343</td>\n",
       "    </tr>\n",
       "    <tr>\n",
       "      <th>7</th>\n",
       "      <td>Defective/Missing Curb Piece (SC4)</td>\n",
       "      <td>8485</td>\n",
       "    </tr>\n",
       "    <tr>\n",
       "      <th>8</th>\n",
       "      <td>Manhole Overflow (Use Comments) (SA1)</td>\n",
       "      <td>6839</td>\n",
       "    </tr>\n",
       "    <tr>\n",
       "      <th>9</th>\n",
       "      <td>Catch Basin Search (SC2)</td>\n",
       "      <td>4153</td>\n",
       "    </tr>\n",
       "    <tr>\n",
       "      <th>10</th>\n",
       "      <td>Catch Basin Grating Missing (SA4)</td>\n",
       "      <td>3751</td>\n",
       "    </tr>\n",
       "    <tr>\n",
       "      <th>11</th>\n",
       "      <td>Manhole Sunken/Damaged/Raised (SB1)</td>\n",
       "      <td>3418</td>\n",
       "    </tr>\n",
       "    <tr>\n",
       "      <th>12</th>\n",
       "      <td>Highway Flooding (SH)</td>\n",
       "      <td>2834</td>\n",
       "    </tr>\n",
       "    <tr>\n",
       "      <th>13</th>\n",
       "      <td>Culvert Blocked/Needs Cleaning (SE)</td>\n",
       "      <td>2205</td>\n",
       "    </tr>\n",
       "    <tr>\n",
       "      <th>14</th>\n",
       "      <td>Other Sewer Problem (Use Comments) (SZZ)</td>\n",
       "      <td>1241</td>\n",
       "    </tr>\n",
       "    <tr>\n",
       "      <th>15</th>\n",
       "      <td>Sewer Break (SBR)</td>\n",
       "      <td>1033</td>\n",
       "    </tr>\n",
       "    <tr>\n",
       "      <th>16</th>\n",
       "      <td>Plate Noisy/Sunken/Raised (SB5)</td>\n",
       "      <td>874</td>\n",
       "    </tr>\n",
       "    <tr>\n",
       "      <th>17</th>\n",
       "      <td>Plate Missing/Moved-Exposing Hole (SB4)</td>\n",
       "      <td>645</td>\n",
       "    </tr>\n",
       "    <tr>\n",
       "      <th>18</th>\n",
       "      <td>RAIN GARDEN DEBRIS (SRGDBR)</td>\n",
       "      <td>368</td>\n",
       "    </tr>\n",
       "    <tr>\n",
       "      <th>19</th>\n",
       "      <td>Street Cave-In / Depression (SG)</td>\n",
       "      <td>302</td>\n",
       "    </tr>\n",
       "    <tr>\n",
       "      <th>20</th>\n",
       "      <td>Trench (SZZ1)</td>\n",
       "      <td>192</td>\n",
       "    </tr>\n",
       "    <tr>\n",
       "      <th>21</th>\n",
       "      <td>RAIN GARDEN FLOODING (SRGFLD)</td>\n",
       "      <td>78</td>\n",
       "    </tr>\n",
       "    <tr>\n",
       "      <th>22</th>\n",
       "      <td>DAMAGE STRUCTURE/RAILING (SRGDM)</td>\n",
       "      <td>49</td>\n",
       "    </tr>\n",
       "    <tr>\n",
       "      <th>23</th>\n",
       "      <td>Recurring after SOAP *FOR DEP INTERNAL USE ONL...</td>\n",
       "      <td>29</td>\n",
       "    </tr>\n",
       "    <tr>\n",
       "      <th>24</th>\n",
       "      <td>Street Cave-In *Dep Internal Use Only* (SG1)</td>\n",
       "      <td>27</td>\n",
       "    </tr>\n",
       "    <tr>\n",
       "      <th>25</th>\n",
       "      <td>Catch Basin Connection Broken *Dep Internal Us...</td>\n",
       "      <td>15</td>\n",
       "    </tr>\n",
       "    <tr>\n",
       "      <th>26</th>\n",
       "      <td>SOAP segment *FOR DEP INTERNAL USE ONLY* (SOAP...</td>\n",
       "      <td>1</td>\n",
       "    </tr>\n",
       "  </tbody>\n",
       "</table>\n",
       "</div>"
      ],
      "text/plain": [
       "                                           descriptor count_descriptor\n",
       "0                    Sewer Backup (Use Comments) (SA)           148597\n",
       "1    Catch Basin Clogged/Flooding (Use Comments) (SC)            89834\n",
       "2             Catch Basin Sunken/Damaged/Raised (SC1)            28517\n",
       "3                                Street Flooding (SJ)            27516\n",
       "4              Manhole Cover Broken/Making Noise (SB)            19778\n",
       "5             Manhole Cover Missing (Emergency) (SA3)            17428\n",
       "6                                    Sewer Odor (SA2)            15343\n",
       "7                  Defective/Missing Curb Piece (SC4)             8485\n",
       "8               Manhole Overflow (Use Comments) (SA1)             6839\n",
       "9                            Catch Basin Search (SC2)             4153\n",
       "10                  Catch Basin Grating Missing (SA4)             3751\n",
       "11                Manhole Sunken/Damaged/Raised (SB1)             3418\n",
       "12                              Highway Flooding (SH)             2834\n",
       "13                Culvert Blocked/Needs Cleaning (SE)             2205\n",
       "14           Other Sewer Problem (Use Comments) (SZZ)             1241\n",
       "15                                  Sewer Break (SBR)             1033\n",
       "16                    Plate Noisy/Sunken/Raised (SB5)              874\n",
       "17            Plate Missing/Moved-Exposing Hole (SB4)              645\n",
       "18                        RAIN GARDEN DEBRIS (SRGDBR)              368\n",
       "19                   Street Cave-In / Depression (SG)              302\n",
       "20                                      Trench (SZZ1)              192\n",
       "21                      RAIN GARDEN FLOODING (SRGFLD)               78\n",
       "22                   DAMAGE STRUCTURE/RAILING (SRGDM)               49\n",
       "23  Recurring after SOAP *FOR DEP INTERNAL USE ONL...               29\n",
       "24       Street Cave-In *Dep Internal Use Only* (SG1)               27\n",
       "25  Catch Basin Connection Broken *Dep Internal Us...               15\n",
       "26  SOAP segment *FOR DEP INTERNAL USE ONLY* (SOAP...                1"
      ]
     },
     "execution_count": 39,
     "metadata": {},
     "output_type": "execute_result"
    }
   ],
   "source": [
    "# Source domain for NYC Open Data on Socrata\n",
    "socrata_domain = 'data.cityofnewyork.us'\n",
    "\n",
    "# Data set id for NYC 311 on NYC Open Data on Socrata\n",
    "socrata_dataset_identifier = 'erm2-nwe9'\n",
    "\n",
    "# Socrata - The main class that interacts with the SODA API. We pass the source domain value\n",
    "# of NYC Open data, the app token as 'None', and set the timeout parameter for '1,000 seconds'\n",
    "client = Socrata(socrata_domain, None, timeout=1000)\n",
    "\n",
    "# SoQL query string below:\n",
    "# Select descriptor and count of descriptor grouped by descriptor,\n",
    "# where complaint_type = 'Sewer',\n",
    "# sort count in descending order and limit our records to 1,000.\n",
    "\n",
    "query = \"\"\"\n",
    "SELECT \n",
    "    descriptor, \n",
    "    count(descriptor)\n",
    "WHERE \n",
    "    complaint_type='Sewer'\n",
    "GROUP BY \n",
    "    descriptor\n",
    "ORDER BY \n",
    "    count(descriptor) DESC\n",
    "LIMIT 1000\n",
    "\"\"\"\n",
    "\n",
    "# First 1000 results, returned as JSON from API / converted to Python list of\n",
    "# dictionaries by sodapy.\n",
    "results = client.get(socrata_dataset_identifier, query=query)\n",
    "\n",
    "# Convert to pandas DataFrame\n",
    "results_df = pd.DataFrame.from_records(results)\n",
    "\n",
    "print('shape of data:', results_df.shape)\n",
    "results_df.head(len(results_df))"
   ]
  },
  {
   "cell_type": "markdown",
   "metadata": {},
   "source": [
    "### Searching the data set where the word \"flood\" is in the descriptor field"
   ]
  },
  {
   "cell_type": "code",
   "execution_count": 40,
   "metadata": {},
   "outputs": [
    {
     "name": "stderr",
     "output_type": "stream",
     "text": [
      "WARNING:root:Requests made without an app_token will be subject to strict throttling limits.\n"
     ]
    },
    {
     "name": "stdout",
     "output_type": "stream",
     "text": [
      "shape of data: (11, 2)\n"
     ]
    },
    {
     "data": {
      "text/html": [
       "<div>\n",
       "<style scoped>\n",
       "    .dataframe tbody tr th:only-of-type {\n",
       "        vertical-align: middle;\n",
       "    }\n",
       "\n",
       "    .dataframe tbody tr th {\n",
       "        vertical-align: top;\n",
       "    }\n",
       "\n",
       "    .dataframe thead th {\n",
       "        text-align: right;\n",
       "    }\n",
       "</style>\n",
       "<table border=\"1\" class=\"dataframe\">\n",
       "  <thead>\n",
       "    <tr style=\"text-align: right;\">\n",
       "      <th></th>\n",
       "      <th>descriptor</th>\n",
       "      <th>count</th>\n",
       "    </tr>\n",
       "  </thead>\n",
       "  <tbody>\n",
       "    <tr>\n",
       "      <th>0</th>\n",
       "      <td>Catch Basin Clogged/Flooding (Use Comments) (SC)</td>\n",
       "      <td>89834</td>\n",
       "    </tr>\n",
       "    <tr>\n",
       "      <th>1</th>\n",
       "      <td>Street Flooding (SJ)</td>\n",
       "      <td>27516</td>\n",
       "    </tr>\n",
       "    <tr>\n",
       "      <th>2</th>\n",
       "      <td>Flood Light Lamp Out</td>\n",
       "      <td>5963</td>\n",
       "    </tr>\n",
       "    <tr>\n",
       "      <th>3</th>\n",
       "      <td>Highway Flooding (SH)</td>\n",
       "      <td>2834</td>\n",
       "    </tr>\n",
       "    <tr>\n",
       "      <th>4</th>\n",
       "      <td>Flood Light Lamp Cycling</td>\n",
       "      <td>2511</td>\n",
       "    </tr>\n",
       "    <tr>\n",
       "      <th>5</th>\n",
       "      <td>Ready NY - Flooding</td>\n",
       "      <td>271</td>\n",
       "    </tr>\n",
       "    <tr>\n",
       "      <th>6</th>\n",
       "      <td>Flood Light Lamp Dayburning</td>\n",
       "      <td>205</td>\n",
       "    </tr>\n",
       "    <tr>\n",
       "      <th>7</th>\n",
       "      <td>Flood Light Lamp Missing</td>\n",
       "      <td>190</td>\n",
       "    </tr>\n",
       "    <tr>\n",
       "      <th>8</th>\n",
       "      <td>Flood Light Lamp Dim</td>\n",
       "      <td>177</td>\n",
       "    </tr>\n",
       "    <tr>\n",
       "      <th>9</th>\n",
       "      <td>RAIN GARDEN FLOODING (SRGFLD)</td>\n",
       "      <td>78</td>\n",
       "    </tr>\n",
       "    <tr>\n",
       "      <th>10</th>\n",
       "      <td>Flooded</td>\n",
       "      <td>48</td>\n",
       "    </tr>\n",
       "  </tbody>\n",
       "</table>\n",
       "</div>"
      ],
      "text/plain": [
       "                                          descriptor  count\n",
       "0   Catch Basin Clogged/Flooding (Use Comments) (SC)  89834\n",
       "1                               Street Flooding (SJ)  27516\n",
       "2                               Flood Light Lamp Out   5963\n",
       "3                              Highway Flooding (SH)   2834\n",
       "4                           Flood Light Lamp Cycling   2511\n",
       "5                                Ready NY - Flooding    271\n",
       "6                        Flood Light Lamp Dayburning    205\n",
       "7                           Flood Light Lamp Missing    190\n",
       "8                               Flood Light Lamp Dim    177\n",
       "9                      RAIN GARDEN FLOODING (SRGFLD)     78\n",
       "10                                           Flooded     48"
      ]
     },
     "execution_count": 40,
     "metadata": {},
     "output_type": "execute_result"
    }
   ],
   "source": [
    "# Source domain for NYC Open Data on Socrata\n",
    "socrata_domain = 'data.cityofnewyork.us'\n",
    "\n",
    "# Data set id for NYC 311 on NYC Open Data on Socrata\n",
    "socrata_dataset_identifier = 'erm2-nwe9'\n",
    "\n",
    "# Socrata - The main class that interacts with the SODA API. We pass the source domain value\n",
    "# of NYC Open data, the app token as 'None', and set the timeout parameter for '1,000 seconds'\n",
    "client = Socrata(socrata_domain, None, timeout=1000)\n",
    "\n",
    "# SoQL query string below:\n",
    "# Select descriptor and count of descriptor grouped by descriptor,\n",
    "# where the word \"flood\" is in descriptor,\n",
    "# sort count in descending order and limit our records to 1,000.\n",
    "\n",
    "query = \"\"\"\n",
    "SELECT \n",
    "    descriptor, \n",
    "    count(descriptor) AS count\n",
    "WHERE \n",
    "    LOWER(descriptor) LIKE '%flood%'\n",
    "GROUP BY \n",
    "    descriptor\n",
    "ORDER BY \n",
    "    count(descriptor) DESC\n",
    "LIMIT \n",
    "    1000\n",
    "\"\"\"\n",
    "\n",
    "# Returned as JSON from API / converted to Python list of\n",
    "# dictionaries by sodapy.\n",
    "results = client.get(socrata_dataset_identifier, query=query)\n",
    "\n",
    "# Convert to pandas DataFrame\n",
    "results_df = pd.DataFrame.from_records(results)\n",
    "\n",
    "print('shape of data:', results_df.shape)\n",
    "results_df"
   ]
  },
  {
   "cell_type": "markdown",
   "metadata": {},
   "source": [
    "### Displaying the highest number of street flooding complaints by day"
   ]
  },
  {
   "cell_type": "code",
   "execution_count": 41,
   "metadata": {},
   "outputs": [
    {
     "name": "stderr",
     "output_type": "stream",
     "text": [
      "WARNING:root:Requests made without an app_token will be subject to strict throttling limits.\n"
     ]
    },
    {
     "name": "stdout",
     "output_type": "stream",
     "text": [
      "shape of data: (1000, 2)\n"
     ]
    },
    {
     "data": {
      "text/html": [
       "<div>\n",
       "<style scoped>\n",
       "    .dataframe tbody tr th:only-of-type {\n",
       "        vertical-align: middle;\n",
       "    }\n",
       "\n",
       "    .dataframe tbody tr th {\n",
       "        vertical-align: top;\n",
       "    }\n",
       "\n",
       "    .dataframe thead th {\n",
       "        text-align: right;\n",
       "    }\n",
       "</style>\n",
       "<table border=\"1\" class=\"dataframe\">\n",
       "  <thead>\n",
       "    <tr style=\"text-align: right;\">\n",
       "      <th></th>\n",
       "      <th>day</th>\n",
       "      <th>count</th>\n",
       "    </tr>\n",
       "  </thead>\n",
       "  <tbody>\n",
       "    <tr>\n",
       "      <th>0</th>\n",
       "      <td>2017-05-05T00:00:00.000</td>\n",
       "      <td>247</td>\n",
       "    </tr>\n",
       "    <tr>\n",
       "      <th>1</th>\n",
       "      <td>2014-12-09T00:00:00.000</td>\n",
       "      <td>226</td>\n",
       "    </tr>\n",
       "    <tr>\n",
       "      <th>2</th>\n",
       "      <td>2014-04-30T00:00:00.000</td>\n",
       "      <td>189</td>\n",
       "    </tr>\n",
       "    <tr>\n",
       "      <th>3</th>\n",
       "      <td>2018-04-16T00:00:00.000</td>\n",
       "      <td>163</td>\n",
       "    </tr>\n",
       "    <tr>\n",
       "      <th>4</th>\n",
       "      <td>2013-05-08T00:00:00.000</td>\n",
       "      <td>162</td>\n",
       "    </tr>\n",
       "    <tr>\n",
       "      <th>5</th>\n",
       "      <td>2016-11-15T00:00:00.000</td>\n",
       "      <td>151</td>\n",
       "    </tr>\n",
       "    <tr>\n",
       "      <th>6</th>\n",
       "      <td>2016-02-08T00:00:00.000</td>\n",
       "      <td>150</td>\n",
       "    </tr>\n",
       "    <tr>\n",
       "      <th>7</th>\n",
       "      <td>2018-11-25T00:00:00.000</td>\n",
       "      <td>142</td>\n",
       "    </tr>\n",
       "    <tr>\n",
       "      <th>8</th>\n",
       "      <td>2020-07-10T00:00:00.000</td>\n",
       "      <td>131</td>\n",
       "    </tr>\n",
       "    <tr>\n",
       "      <th>9</th>\n",
       "      <td>2010-10-01T00:00:00.000</td>\n",
       "      <td>130</td>\n",
       "    </tr>\n",
       "  </tbody>\n",
       "</table>\n",
       "</div>"
      ],
      "text/plain": [
       "                       day count\n",
       "0  2017-05-05T00:00:00.000   247\n",
       "1  2014-12-09T00:00:00.000   226\n",
       "2  2014-04-30T00:00:00.000   189\n",
       "3  2018-04-16T00:00:00.000   163\n",
       "4  2013-05-08T00:00:00.000   162\n",
       "5  2016-11-15T00:00:00.000   151\n",
       "6  2016-02-08T00:00:00.000   150\n",
       "7  2018-11-25T00:00:00.000   142\n",
       "8  2020-07-10T00:00:00.000   131\n",
       "9  2010-10-01T00:00:00.000   130"
      ]
     },
     "execution_count": 41,
     "metadata": {},
     "output_type": "execute_result"
    }
   ],
   "source": [
    "# Source domain for NYC Open Data on Socrata\n",
    "socrata_domain = 'data.cityofnewyork.us'\n",
    "\n",
    "# Data set id for NYC 311 on NYC Open Data on Socrata\n",
    "socrata_dataset_identifier = 'erm2-nwe9'\n",
    "\n",
    "# Socrata - The main class that interacts with the SODA API. We pass the source domain value\n",
    "# of NYC Open data, the app token as 'None', and set the timeout parameter for '1,000 seconds'\n",
    "client = Socrata(socrata_domain, None, timeout=1000)\n",
    "\n",
    "# SoQL query string below:\n",
    "# Select the day and the count day columns grouped by day,\n",
    "# where the descriptor is Street Flooding (SJ),\n",
    "# sort the count in descending order and limit our records to 1,000.\n",
    "\n",
    "query = \"\"\"\n",
    "SELECT \n",
    "    date_trunc_ymd(created_date) as day, \n",
    "    count(created_date) AS count\n",
    "WHERE \n",
    "    descriptor == 'Street Flooding (SJ)'\n",
    "GROUP BY \n",
    "    day\n",
    "ORDER BY \n",
    "    count DESC\n",
    "LIMIT \n",
    "    1000\n",
    "\"\"\"\n",
    "\n",
    "# Returned as JSON from API / converted to Python list of\n",
    "# dictionaries by sodapy.\n",
    "results = client.get(socrata_dataset_identifier, query=query)\n",
    "\n",
    "# Convert to pandas DataFrame\n",
    "results_df = pd.DataFrame.from_records(results)\n",
    "\n",
    "print('shape of data:', results_df.shape)\n",
    "\n",
    "results_df.head(10)"
   ]
  },
  {
   "cell_type": "markdown",
   "metadata": {},
   "source": [
    "### Selecting all the rows and columns where the descriptor field = 'Street Flooding'"
   ]
  },
  {
   "cell_type": "code",
   "execution_count": 42,
   "metadata": {},
   "outputs": [
    {
     "name": "stderr",
     "output_type": "stream",
     "text": [
      "WARNING:root:Requests made without an app_token will be subject to strict throttling limits.\n"
     ]
    },
    {
     "name": "stdout",
     "output_type": "stream",
     "text": [
      "<class 'list'> Returned a list from our request.\n",
      "\n",
      "<class 'dict'> However, request is actually a list of dictionaries.\n",
      "\n",
      "<class 'pandas.core.frame.DataFrame'> Convert list of dictionaries to DataFrame.\n",
      "Rows and columns of data: (1000, 30)\n"
     ]
    },
    {
     "data": {
      "text/html": [
       "<div>\n",
       "<style scoped>\n",
       "    .dataframe tbody tr th:only-of-type {\n",
       "        vertical-align: middle;\n",
       "    }\n",
       "\n",
       "    .dataframe tbody tr th {\n",
       "        vertical-align: top;\n",
       "    }\n",
       "\n",
       "    .dataframe thead th {\n",
       "        text-align: right;\n",
       "    }\n",
       "</style>\n",
       "<table border=\"1\" class=\"dataframe\">\n",
       "  <thead>\n",
       "    <tr style=\"text-align: right;\">\n",
       "      <th></th>\n",
       "      <th>unique_key</th>\n",
       "      <th>created_date</th>\n",
       "      <th>closed_date</th>\n",
       "      <th>agency</th>\n",
       "      <th>agency_name</th>\n",
       "      <th>complaint_type</th>\n",
       "      <th>descriptor</th>\n",
       "      <th>incident_zip</th>\n",
       "      <th>incident_address</th>\n",
       "      <th>street_name</th>\n",
       "      <th>...</th>\n",
       "      <th>x_coordinate_state_plane</th>\n",
       "      <th>y_coordinate_state_plane</th>\n",
       "      <th>open_data_channel_type</th>\n",
       "      <th>park_facility_name</th>\n",
       "      <th>park_borough</th>\n",
       "      <th>latitude</th>\n",
       "      <th>longitude</th>\n",
       "      <th>location</th>\n",
       "      <th>intersection_street_1</th>\n",
       "      <th>intersection_street_2</th>\n",
       "    </tr>\n",
       "  </thead>\n",
       "  <tbody>\n",
       "    <tr>\n",
       "      <th>0</th>\n",
       "      <td>49604481</td>\n",
       "      <td>2021-01-23T12:08:00.000</td>\n",
       "      <td>2021-01-23T13:15:00.000</td>\n",
       "      <td>DEP</td>\n",
       "      <td>Department of Environmental Protection</td>\n",
       "      <td>Sewer</td>\n",
       "      <td>Street Flooding (SJ)</td>\n",
       "      <td>11436</td>\n",
       "      <td>145-02 123 AVENUE</td>\n",
       "      <td>123 AVENUE</td>\n",
       "      <td>...</td>\n",
       "      <td>1041381</td>\n",
       "      <td>185295</td>\n",
       "      <td>PHONE</td>\n",
       "      <td>Unspecified</td>\n",
       "      <td>QUEENS</td>\n",
       "      <td>40.675084373851774</td>\n",
       "      <td>-73.79403657456889</td>\n",
       "      <td>{'latitude': '40.675084373851774', 'longitude'...</td>\n",
       "      <td>NaN</td>\n",
       "      <td>NaN</td>\n",
       "    </tr>\n",
       "    <tr>\n",
       "      <th>1</th>\n",
       "      <td>49606303</td>\n",
       "      <td>2021-01-23T06:19:00.000</td>\n",
       "      <td>NaN</td>\n",
       "      <td>DEP</td>\n",
       "      <td>Department of Environmental Protection</td>\n",
       "      <td>Sewer</td>\n",
       "      <td>Street Flooding (SJ)</td>\n",
       "      <td>10309</td>\n",
       "      <td>4500 ARTHUR KILL ROAD</td>\n",
       "      <td>ARTHUR KILL ROAD</td>\n",
       "      <td>...</td>\n",
       "      <td>918022</td>\n",
       "      <td>133544</td>\n",
       "      <td>PHONE</td>\n",
       "      <td>Unspecified</td>\n",
       "      <td>STATEN ISLAND</td>\n",
       "      <td>40.53297560051577</td>\n",
       "      <td>-74.2382515060485</td>\n",
       "      <td>{'latitude': '40.53297560051577', 'longitude':...</td>\n",
       "      <td>NaN</td>\n",
       "      <td>NaN</td>\n",
       "    </tr>\n",
       "    <tr>\n",
       "      <th>2</th>\n",
       "      <td>49596869</td>\n",
       "      <td>2021-01-22T19:24:00.000</td>\n",
       "      <td>2021-01-23T08:45:00.000</td>\n",
       "      <td>DEP</td>\n",
       "      <td>Department of Environmental Protection</td>\n",
       "      <td>Sewer</td>\n",
       "      <td>Street Flooding (SJ)</td>\n",
       "      <td>10016</td>\n",
       "      <td>201 EAST   33 STREET</td>\n",
       "      <td>EAST   33 STREET</td>\n",
       "      <td>...</td>\n",
       "      <td>990273</td>\n",
       "      <td>210672</td>\n",
       "      <td>PHONE</td>\n",
       "      <td>Unspecified</td>\n",
       "      <td>MANHATTAN</td>\n",
       "      <td>40.74492051459423</td>\n",
       "      <td>-73.9782636934084</td>\n",
       "      <td>{'latitude': '40.74492051459423', 'longitude':...</td>\n",
       "      <td>NaN</td>\n",
       "      <td>NaN</td>\n",
       "    </tr>\n",
       "    <tr>\n",
       "      <th>3</th>\n",
       "      <td>49596600</td>\n",
       "      <td>2021-01-22T16:01:00.000</td>\n",
       "      <td>NaN</td>\n",
       "      <td>DEP</td>\n",
       "      <td>Department of Environmental Protection</td>\n",
       "      <td>Sewer</td>\n",
       "      <td>Street Flooding (SJ)</td>\n",
       "      <td>11226</td>\n",
       "      <td>2902 BEVERLEY ROAD</td>\n",
       "      <td>BEVERLEY ROAD</td>\n",
       "      <td>...</td>\n",
       "      <td>998177</td>\n",
       "      <td>174298</td>\n",
       "      <td>PHONE</td>\n",
       "      <td>Unspecified</td>\n",
       "      <td>BROOKLYN</td>\n",
       "      <td>40.64507343391906</td>\n",
       "      <td>-73.94981428723014</td>\n",
       "      <td>{'latitude': '40.64507343391906', 'longitude':...</td>\n",
       "      <td>NaN</td>\n",
       "      <td>NaN</td>\n",
       "    </tr>\n",
       "    <tr>\n",
       "      <th>4</th>\n",
       "      <td>49590021</td>\n",
       "      <td>2021-01-21T19:33:00.000</td>\n",
       "      <td>2021-01-22T11:20:00.000</td>\n",
       "      <td>DEP</td>\n",
       "      <td>Department of Environmental Protection</td>\n",
       "      <td>Sewer</td>\n",
       "      <td>Street Flooding (SJ)</td>\n",
       "      <td>11427</td>\n",
       "      <td>88-01 LYMAN STREET</td>\n",
       "      <td>LYMAN STREET</td>\n",
       "      <td>...</td>\n",
       "      <td>1058588</td>\n",
       "      <td>205393</td>\n",
       "      <td>PHONE</td>\n",
       "      <td>Unspecified</td>\n",
       "      <td>QUEENS</td>\n",
       "      <td>40.73012063798075</td>\n",
       "      <td>-73.73178196964847</td>\n",
       "      <td>{'latitude': '40.73012063798075', 'longitude':...</td>\n",
       "      <td>NaN</td>\n",
       "      <td>NaN</td>\n",
       "    </tr>\n",
       "  </tbody>\n",
       "</table>\n",
       "<p>5 rows × 30 columns</p>\n",
       "</div>"
      ],
      "text/plain": [
       "  unique_key             created_date              closed_date agency  \\\n",
       "0   49604481  2021-01-23T12:08:00.000  2021-01-23T13:15:00.000    DEP   \n",
       "1   49606303  2021-01-23T06:19:00.000                      NaN    DEP   \n",
       "2   49596869  2021-01-22T19:24:00.000  2021-01-23T08:45:00.000    DEP   \n",
       "3   49596600  2021-01-22T16:01:00.000                      NaN    DEP   \n",
       "4   49590021  2021-01-21T19:33:00.000  2021-01-22T11:20:00.000    DEP   \n",
       "\n",
       "                              agency_name complaint_type  \\\n",
       "0  Department of Environmental Protection          Sewer   \n",
       "1  Department of Environmental Protection          Sewer   \n",
       "2  Department of Environmental Protection          Sewer   \n",
       "3  Department of Environmental Protection          Sewer   \n",
       "4  Department of Environmental Protection          Sewer   \n",
       "\n",
       "             descriptor incident_zip       incident_address       street_name  \\\n",
       "0  Street Flooding (SJ)        11436      145-02 123 AVENUE        123 AVENUE   \n",
       "1  Street Flooding (SJ)        10309  4500 ARTHUR KILL ROAD  ARTHUR KILL ROAD   \n",
       "2  Street Flooding (SJ)        10016   201 EAST   33 STREET  EAST   33 STREET   \n",
       "3  Street Flooding (SJ)        11226     2902 BEVERLEY ROAD     BEVERLEY ROAD   \n",
       "4  Street Flooding (SJ)        11427     88-01 LYMAN STREET      LYMAN STREET   \n",
       "\n",
       "   ... x_coordinate_state_plane y_coordinate_state_plane  \\\n",
       "0  ...                  1041381                   185295   \n",
       "1  ...                   918022                   133544   \n",
       "2  ...                   990273                   210672   \n",
       "3  ...                   998177                   174298   \n",
       "4  ...                  1058588                   205393   \n",
       "\n",
       "  open_data_channel_type park_facility_name   park_borough  \\\n",
       "0                  PHONE        Unspecified         QUEENS   \n",
       "1                  PHONE        Unspecified  STATEN ISLAND   \n",
       "2                  PHONE        Unspecified      MANHATTAN   \n",
       "3                  PHONE        Unspecified       BROOKLYN   \n",
       "4                  PHONE        Unspecified         QUEENS   \n",
       "\n",
       "             latitude           longitude  \\\n",
       "0  40.675084373851774  -73.79403657456889   \n",
       "1   40.53297560051577   -74.2382515060485   \n",
       "2   40.74492051459423   -73.9782636934084   \n",
       "3   40.64507343391906  -73.94981428723014   \n",
       "4   40.73012063798075  -73.73178196964847   \n",
       "\n",
       "                                            location intersection_street_1  \\\n",
       "0  {'latitude': '40.675084373851774', 'longitude'...                   NaN   \n",
       "1  {'latitude': '40.53297560051577', 'longitude':...                   NaN   \n",
       "2  {'latitude': '40.74492051459423', 'longitude':...                   NaN   \n",
       "3  {'latitude': '40.64507343391906', 'longitude':...                   NaN   \n",
       "4  {'latitude': '40.73012063798075', 'longitude':...                   NaN   \n",
       "\n",
       "  intersection_street_2  \n",
       "0                   NaN  \n",
       "1                   NaN  \n",
       "2                   NaN  \n",
       "3                   NaN  \n",
       "4                   NaN  \n",
       "\n",
       "[5 rows x 30 columns]"
      ]
     },
     "execution_count": 42,
     "metadata": {},
     "output_type": "execute_result"
    }
   ],
   "source": [
    "# Source domain for NYC Open Data on Socrata\n",
    "socrata_domain = 'data.cityofnewyork.us'\n",
    "\n",
    "# Data set id for NYC 311 on NYC Open Data on Socrata\n",
    "socrata_dataset_identifier = 'erm2-nwe9'\n",
    "\n",
    "# Socrata - The main class that interacts with the SODA API. We pass the source domain value\n",
    "# of NYC Open data, the app token as 'None', and set the timeout parameter for '1,000 seconds'\n",
    "client = Socrata(socrata_domain, None, timeout=1000)\n",
    "\n",
    "# SoQL query string below:\n",
    "# Select all columns where the descriptor is Street Flooding(SJ),\n",
    "# sort the created date field in descending order and limit our records to 1,000.\n",
    "\n",
    "query = \"\"\"\n",
    "SELECT \n",
    "    *\n",
    "WHERE \n",
    "    descriptor == 'Street Flooding (SJ)'\n",
    "ORDER BY \n",
    "    created_date DESC\n",
    "LIMIT \n",
    "    1000\n",
    "\"\"\"\n",
    "\n",
    "# Requesting data from the NYC 311 data set\n",
    "# and passing our query as a full SoQL query string\n",
    "results = client.get(socrata_dataset_identifier, query=query)\n",
    "\n",
    "# results is returned as JSON from API and converted to Python list of\n",
    "# dictionaries by sodapy\n",
    "print(type(results), 'Returned a list from our request.\\n')\n",
    "\n",
    "# Identifying type of first element of our results list\n",
    "print(type(results[0]), 'However, request is actually a list of dictionaries.\\n')\n",
    "\n",
    "# Convert list of dictionaries to a pandas DataFrame\n",
    "results_df = pd.DataFrame.from_records(results)\n",
    "\n",
    "print(type(results_df), 'Convert list of dictionaries to DataFrame.')\n",
    "print('Rows and columns of data:', results_df.shape)\n",
    "\n",
    "# Writing out sample data as a csv\n",
    "results_df.to_csv('sample_data_street_flooding.csv', index=False)\n",
    "\n",
    "# Previewing the first five rows of our DataFrame\n",
    "results_df.head()"
   ]
  },
  {
   "cell_type": "markdown",
   "metadata": {},
   "source": [
    "## Analyzing NYC 311 Data Sets with the Most Downloads"
   ]
  },
  {
   "cell_type": "code",
   "execution_count": 43,
   "metadata": {},
   "outputs": [
    {
     "data": {
      "text/plain": [
       "sodapy.Socrata"
      ]
     },
     "execution_count": 43,
     "metadata": {},
     "output_type": "execute_result"
    }
   ],
   "source": [
    "type(client)"
   ]
  },
  {
   "cell_type": "code",
   "execution_count": 44,
   "metadata": {},
   "outputs": [
    {
     "data": {
      "text/plain": [
       "list"
      ]
     },
     "execution_count": 44,
     "metadata": {},
     "output_type": "execute_result"
    }
   ],
   "source": [
    "type(client.datasets())"
   ]
  },
  {
   "cell_type": "code",
   "execution_count": 45,
   "metadata": {},
   "outputs": [
    {
     "data": {
      "text/plain": [
       "dict"
      ]
     },
     "execution_count": 45,
     "metadata": {},
     "output_type": "execute_result"
    }
   ],
   "source": [
    "type(client.datasets()[0])"
   ]
  },
  {
   "cell_type": "code",
   "execution_count": 46,
   "metadata": {},
   "outputs": [
    {
     "data": {
      "text/plain": [
       "3141"
      ]
     },
     "execution_count": 46,
     "metadata": {},
     "output_type": "execute_result"
    }
   ],
   "source": [
    "len(client.datasets())"
   ]
  },
  {
   "cell_type": "code",
   "execution_count": 47,
   "metadata": {},
   "outputs": [
    {
     "data": {
      "text/html": [
       "<div>\n",
       "<style scoped>\n",
       "    .dataframe tbody tr th:only-of-type {\n",
       "        vertical-align: middle;\n",
       "    }\n",
       "\n",
       "    .dataframe tbody tr th {\n",
       "        vertical-align: top;\n",
       "    }\n",
       "\n",
       "    .dataframe thead th {\n",
       "        text-align: right;\n",
       "    }\n",
       "</style>\n",
       "<table border=\"1\" class=\"dataframe\">\n",
       "  <thead>\n",
       "    <tr style=\"text-align: right;\">\n",
       "      <th></th>\n",
       "      <th>resource</th>\n",
       "      <th>classification</th>\n",
       "      <th>metadata</th>\n",
       "      <th>permalink</th>\n",
       "      <th>link</th>\n",
       "      <th>owner</th>\n",
       "      <th>creator</th>\n",
       "      <th>preview_image_url</th>\n",
       "    </tr>\n",
       "  </thead>\n",
       "  <tbody>\n",
       "    <tr>\n",
       "      <th>0</th>\n",
       "      <td>{'name': 'DOB Job Application Filings', 'id': ...</td>\n",
       "      <td>{'categories': ['economy', 'environment', 'hou...</td>\n",
       "      <td>{'domain': 'data.cityofnewyork.us'}</td>\n",
       "      <td>https://data.cityofnewyork.us/d/ic3t-wcy2</td>\n",
       "      <td>https://data.cityofnewyork.us/Housing-Developm...</td>\n",
       "      <td>{'id': '5fuc-pqz2', 'user_type': 'interactive'...</td>\n",
       "      <td>{'id': '5fuc-pqz2', 'user_type': 'interactive'...</td>\n",
       "      <td>NaN</td>\n",
       "    </tr>\n",
       "    <tr>\n",
       "      <th>1</th>\n",
       "      <td>{'name': 'Civil Service List (Active)', 'id': ...</td>\n",
       "      <td>{'categories': [], 'tags': [], 'domain_categor...</td>\n",
       "      <td>{'domain': 'data.cityofnewyork.us'}</td>\n",
       "      <td>https://data.cityofnewyork.us/d/vx8i-nprf</td>\n",
       "      <td>https://data.cityofnewyork.us/City-Government/...</td>\n",
       "      <td>{'id': '5fuc-pqz2', 'user_type': 'interactive'...</td>\n",
       "      <td>{'id': '5fuc-pqz2', 'user_type': 'interactive'...</td>\n",
       "      <td>NaN</td>\n",
       "    </tr>\n",
       "    <tr>\n",
       "      <th>2</th>\n",
       "      <td>{'name': 'TLC New Driver Application Status', ...</td>\n",
       "      <td>{'categories': ['transportation', 'environment...</td>\n",
       "      <td>{'domain': 'data.cityofnewyork.us'}</td>\n",
       "      <td>https://data.cityofnewyork.us/d/dpec-ucu7</td>\n",
       "      <td>https://data.cityofnewyork.us/Transportation/T...</td>\n",
       "      <td>{'id': '5fuc-pqz2', 'user_type': 'interactive'...</td>\n",
       "      <td>{'id': '5fuc-pqz2', 'user_type': 'interactive'...</td>\n",
       "      <td>NaN</td>\n",
       "    </tr>\n",
       "    <tr>\n",
       "      <th>3</th>\n",
       "      <td>{'name': 'For Hire Vehicles (FHV) - Active', '...</td>\n",
       "      <td>{'categories': [], 'tags': [], 'domain_categor...</td>\n",
       "      <td>{'domain': 'data.cityofnewyork.us'}</td>\n",
       "      <td>https://data.cityofnewyork.us/d/8wbx-tsch</td>\n",
       "      <td>https://data.cityofnewyork.us/Transportation/F...</td>\n",
       "      <td>{'id': '5fuc-pqz2', 'user_type': 'interactive'...</td>\n",
       "      <td>{'id': '5fuc-pqz2', 'user_type': 'interactive'...</td>\n",
       "      <td>NaN</td>\n",
       "    </tr>\n",
       "    <tr>\n",
       "      <th>4</th>\n",
       "      <td>{'name': 'For Hire Vehicles (FHV) - Active Dri...</td>\n",
       "      <td>{'categories': [], 'tags': [], 'domain_categor...</td>\n",
       "      <td>{'domain': 'data.cityofnewyork.us'}</td>\n",
       "      <td>https://data.cityofnewyork.us/d/xjfq-wh2d</td>\n",
       "      <td>https://data.cityofnewyork.us/Transportation/F...</td>\n",
       "      <td>{'id': '5fuc-pqz2', 'user_type': 'interactive'...</td>\n",
       "      <td>{'id': '5fuc-pqz2', 'user_type': 'interactive'...</td>\n",
       "      <td>NaN</td>\n",
       "    </tr>\n",
       "  </tbody>\n",
       "</table>\n",
       "</div>"
      ],
      "text/plain": [
       "                                            resource  \\\n",
       "0  {'name': 'DOB Job Application Filings', 'id': ...   \n",
       "1  {'name': 'Civil Service List (Active)', 'id': ...   \n",
       "2  {'name': 'TLC New Driver Application Status', ...   \n",
       "3  {'name': 'For Hire Vehicles (FHV) - Active', '...   \n",
       "4  {'name': 'For Hire Vehicles (FHV) - Active Dri...   \n",
       "\n",
       "                                      classification  \\\n",
       "0  {'categories': ['economy', 'environment', 'hou...   \n",
       "1  {'categories': [], 'tags': [], 'domain_categor...   \n",
       "2  {'categories': ['transportation', 'environment...   \n",
       "3  {'categories': [], 'tags': [], 'domain_categor...   \n",
       "4  {'categories': [], 'tags': [], 'domain_categor...   \n",
       "\n",
       "                              metadata  \\\n",
       "0  {'domain': 'data.cityofnewyork.us'}   \n",
       "1  {'domain': 'data.cityofnewyork.us'}   \n",
       "2  {'domain': 'data.cityofnewyork.us'}   \n",
       "3  {'domain': 'data.cityofnewyork.us'}   \n",
       "4  {'domain': 'data.cityofnewyork.us'}   \n",
       "\n",
       "                                   permalink  \\\n",
       "0  https://data.cityofnewyork.us/d/ic3t-wcy2   \n",
       "1  https://data.cityofnewyork.us/d/vx8i-nprf   \n",
       "2  https://data.cityofnewyork.us/d/dpec-ucu7   \n",
       "3  https://data.cityofnewyork.us/d/8wbx-tsch   \n",
       "4  https://data.cityofnewyork.us/d/xjfq-wh2d   \n",
       "\n",
       "                                                link  \\\n",
       "0  https://data.cityofnewyork.us/Housing-Developm...   \n",
       "1  https://data.cityofnewyork.us/City-Government/...   \n",
       "2  https://data.cityofnewyork.us/Transportation/T...   \n",
       "3  https://data.cityofnewyork.us/Transportation/F...   \n",
       "4  https://data.cityofnewyork.us/Transportation/F...   \n",
       "\n",
       "                                               owner  \\\n",
       "0  {'id': '5fuc-pqz2', 'user_type': 'interactive'...   \n",
       "1  {'id': '5fuc-pqz2', 'user_type': 'interactive'...   \n",
       "2  {'id': '5fuc-pqz2', 'user_type': 'interactive'...   \n",
       "3  {'id': '5fuc-pqz2', 'user_type': 'interactive'...   \n",
       "4  {'id': '5fuc-pqz2', 'user_type': 'interactive'...   \n",
       "\n",
       "                                             creator preview_image_url  \n",
       "0  {'id': '5fuc-pqz2', 'user_type': 'interactive'...               NaN  \n",
       "1  {'id': '5fuc-pqz2', 'user_type': 'interactive'...               NaN  \n",
       "2  {'id': '5fuc-pqz2', 'user_type': 'interactive'...               NaN  \n",
       "3  {'id': '5fuc-pqz2', 'user_type': 'interactive'...               NaN  \n",
       "4  {'id': '5fuc-pqz2', 'user_type': 'interactive'...               NaN  "
      ]
     },
     "execution_count": 47,
     "metadata": {},
     "output_type": "execute_result"
    }
   ],
   "source": [
    "# Reading in a list of dictionaries of our data into a pandas DataFrame\n",
    "df = pd.DataFrame.from_records(client.datasets())\n",
    "\n",
    "df.head()"
   ]
  },
  {
   "cell_type": "code",
   "execution_count": 48,
   "metadata": {},
   "outputs": [
    {
     "data": {
      "text/html": [
       "<div>\n",
       "<style scoped>\n",
       "    .dataframe tbody tr th:only-of-type {\n",
       "        vertical-align: middle;\n",
       "    }\n",
       "\n",
       "    .dataframe tbody tr th {\n",
       "        vertical-align: top;\n",
       "    }\n",
       "\n",
       "    .dataframe thead th {\n",
       "        text-align: right;\n",
       "    }\n",
       "</style>\n",
       "<table border=\"1\" class=\"dataframe\">\n",
       "  <thead>\n",
       "    <tr style=\"text-align: right;\">\n",
       "      <th></th>\n",
       "      <th>name</th>\n",
       "      <th>id</th>\n",
       "      <th>parent_fxf</th>\n",
       "      <th>description</th>\n",
       "      <th>attribution</th>\n",
       "      <th>attribution_link</th>\n",
       "      <th>contact_email</th>\n",
       "      <th>type</th>\n",
       "      <th>updatedAt</th>\n",
       "      <th>createdAt</th>\n",
       "      <th>...</th>\n",
       "      <th>columns_field_name</th>\n",
       "      <th>columns_datatype</th>\n",
       "      <th>columns_description</th>\n",
       "      <th>columns_format</th>\n",
       "      <th>download_count</th>\n",
       "      <th>provenance</th>\n",
       "      <th>lens_view_type</th>\n",
       "      <th>blob_mime_type</th>\n",
       "      <th>hide_from_data_json</th>\n",
       "      <th>publication_date</th>\n",
       "    </tr>\n",
       "  </thead>\n",
       "  <tbody>\n",
       "    <tr>\n",
       "      <th>0</th>\n",
       "      <td>DOB Job Application Filings</td>\n",
       "      <td>ic3t-wcy2</td>\n",
       "      <td>[]</td>\n",
       "      <td>This dataset contains all job applications sub...</td>\n",
       "      <td>Department of Buildings (DOB)</td>\n",
       "      <td>None</td>\n",
       "      <td>None</td>\n",
       "      <td>dataset</td>\n",
       "      <td>2021-01-24T21:13:00.000Z</td>\n",
       "      <td>2013-04-18T15:18:56.000Z</td>\n",
       "      <td>...</td>\n",
       "      <td>[job_status_descrp, standpipe, job_status, fir...</td>\n",
       "      <td>[Text, Text, Text, Text, Text, Text, Text, Tex...</td>\n",
       "      <td>[Status code description, Standpipe Work Type?...</td>\n",
       "      <td>[{'align': 'right'}, {'align': 'right'}, {'ali...</td>\n",
       "      <td>36818.0</td>\n",
       "      <td>official</td>\n",
       "      <td>tabular</td>\n",
       "      <td>None</td>\n",
       "      <td>False</td>\n",
       "      <td>2020-06-22T18:23:35.000Z</td>\n",
       "    </tr>\n",
       "    <tr>\n",
       "      <th>1</th>\n",
       "      <td>Civil Service List (Active)</td>\n",
       "      <td>vx8i-nprf</td>\n",
       "      <td>[]</td>\n",
       "      <td>A Civil Service List consists of all candidate...</td>\n",
       "      <td>Department of Citywide Administrative Services...</td>\n",
       "      <td>None</td>\n",
       "      <td>None</td>\n",
       "      <td>dataset</td>\n",
       "      <td>2021-01-25T14:54:14.000Z</td>\n",
       "      <td>2016-06-14T21:12:15.000Z</td>\n",
       "      <td>...</td>\n",
       "      <td>[exam_no, list_no, first_name, mi, last_name, ...</td>\n",
       "      <td>[text, number, text, text, text, number, text,...</td>\n",
       "      <td>[A four (4) digit number that identifies a civ...</td>\n",
       "      <td>[{'displayStyle': 'plain', 'align': 'left'}, {...</td>\n",
       "      <td>34199.0</td>\n",
       "      <td>official</td>\n",
       "      <td>tabular</td>\n",
       "      <td>None</td>\n",
       "      <td>False</td>\n",
       "      <td>2021-01-25T14:54:14.000Z</td>\n",
       "    </tr>\n",
       "    <tr>\n",
       "      <th>2</th>\n",
       "      <td>TLC New Driver Application Status</td>\n",
       "      <td>dpec-ucu7</td>\n",
       "      <td>[]</td>\n",
       "      <td>THIS DATASET IS UPDATED SEVERAL TIMES PER DAY....</td>\n",
       "      <td>Taxi and Limousine Commission (TLC)</td>\n",
       "      <td>None</td>\n",
       "      <td>None</td>\n",
       "      <td>dataset</td>\n",
       "      <td>2021-01-25T17:01:51.000Z</td>\n",
       "      <td>2016-05-17T18:43:43.000Z</td>\n",
       "      <td>...</td>\n",
       "      <td>[driver_exam, medical_clearance_form, app_date...</td>\n",
       "      <td>[Text, Text, Calendar date, Text, Text, Text, ...</td>\n",
       "      <td>[Upon Completion of TLC Driver Training (Taxi ...</td>\n",
       "      <td>[{'displayStyle': 'plain', 'align': 'left'}, {...</td>\n",
       "      <td>35345.0</td>\n",
       "      <td>official</td>\n",
       "      <td>tabular</td>\n",
       "      <td>None</td>\n",
       "      <td>False</td>\n",
       "      <td>2019-12-17T18:44:57.000Z</td>\n",
       "    </tr>\n",
       "    <tr>\n",
       "      <th>3</th>\n",
       "      <td>For Hire Vehicles (FHV) - Active</td>\n",
       "      <td>8wbx-tsch</td>\n",
       "      <td>[]</td>\n",
       "      <td>&lt;b&gt;PLEASE NOTE:&lt;/b&gt; This dataset, which includ...</td>\n",
       "      <td>Taxi and Limousine Commission (TLC)</td>\n",
       "      <td>None</td>\n",
       "      <td>None</td>\n",
       "      <td>dataset</td>\n",
       "      <td>2021-01-25T20:32:54.000Z</td>\n",
       "      <td>2015-07-16T17:33:32.000Z</td>\n",
       "      <td>...</td>\n",
       "      <td>[active, vehicle_license_number, name, license...</td>\n",
       "      <td>[text, text, text, text, calendar_date, text, ...</td>\n",
       "      <td>[Permit active or not\\n, FHV Vehicle License N...</td>\n",
       "      <td>[{'displayStyle': 'plain', 'align': 'left'}, {...</td>\n",
       "      <td>253906.0</td>\n",
       "      <td>official</td>\n",
       "      <td>tabular</td>\n",
       "      <td>None</td>\n",
       "      <td>False</td>\n",
       "      <td>2021-01-25T20:32:54.000Z</td>\n",
       "    </tr>\n",
       "    <tr>\n",
       "      <th>4</th>\n",
       "      <td>For Hire Vehicles (FHV) - Active Drivers</td>\n",
       "      <td>xjfq-wh2d</td>\n",
       "      <td>[]</td>\n",
       "      <td>&lt;b&gt;PLEASE NOTE:&lt;/b&gt; This dataset, which includ...</td>\n",
       "      <td>Taxi and Limousine Commission (TLC)</td>\n",
       "      <td>None</td>\n",
       "      <td>None</td>\n",
       "      <td>dataset</td>\n",
       "      <td>2021-01-25T20:08:15.000Z</td>\n",
       "      <td>2015-07-16T17:24:02.000Z</td>\n",
       "      <td>...</td>\n",
       "      <td>[license_number, name, type, expiration_date, ...</td>\n",
       "      <td>[number, text, text, calendar_date, text, cale...</td>\n",
       "      <td>[FHV License Number\\n, Driver Name\\n\\n, Type o...</td>\n",
       "      <td>[{'precisionStyle': 'standard', 'noCommas': 't...</td>\n",
       "      <td>221826.0</td>\n",
       "      <td>official</td>\n",
       "      <td>tabular</td>\n",
       "      <td>None</td>\n",
       "      <td>False</td>\n",
       "      <td>2021-01-25T20:08:15.000Z</td>\n",
       "    </tr>\n",
       "  </tbody>\n",
       "</table>\n",
       "<p>5 rows × 24 columns</p>\n",
       "</div>"
      ],
      "text/plain": [
       "                                       name         id parent_fxf  \\\n",
       "0               DOB Job Application Filings  ic3t-wcy2         []   \n",
       "1               Civil Service List (Active)  vx8i-nprf         []   \n",
       "2         TLC New Driver Application Status  dpec-ucu7         []   \n",
       "3          For Hire Vehicles (FHV) - Active  8wbx-tsch         []   \n",
       "4  For Hire Vehicles (FHV) - Active Drivers  xjfq-wh2d         []   \n",
       "\n",
       "                                         description  \\\n",
       "0  This dataset contains all job applications sub...   \n",
       "1  A Civil Service List consists of all candidate...   \n",
       "2  THIS DATASET IS UPDATED SEVERAL TIMES PER DAY....   \n",
       "3  <b>PLEASE NOTE:</b> This dataset, which includ...   \n",
       "4  <b>PLEASE NOTE:</b> This dataset, which includ...   \n",
       "\n",
       "                                         attribution attribution_link  \\\n",
       "0                      Department of Buildings (DOB)             None   \n",
       "1  Department of Citywide Administrative Services...             None   \n",
       "2                Taxi and Limousine Commission (TLC)             None   \n",
       "3                Taxi and Limousine Commission (TLC)             None   \n",
       "4                Taxi and Limousine Commission (TLC)             None   \n",
       "\n",
       "  contact_email     type                 updatedAt                 createdAt  \\\n",
       "0          None  dataset  2021-01-24T21:13:00.000Z  2013-04-18T15:18:56.000Z   \n",
       "1          None  dataset  2021-01-25T14:54:14.000Z  2016-06-14T21:12:15.000Z   \n",
       "2          None  dataset  2021-01-25T17:01:51.000Z  2016-05-17T18:43:43.000Z   \n",
       "3          None  dataset  2021-01-25T20:32:54.000Z  2015-07-16T17:33:32.000Z   \n",
       "4          None  dataset  2021-01-25T20:08:15.000Z  2015-07-16T17:24:02.000Z   \n",
       "\n",
       "   ...                                 columns_field_name  \\\n",
       "0  ...  [job_status_descrp, standpipe, job_status, fir...   \n",
       "1  ...  [exam_no, list_no, first_name, mi, last_name, ...   \n",
       "2  ...  [driver_exam, medical_clearance_form, app_date...   \n",
       "3  ...  [active, vehicle_license_number, name, license...   \n",
       "4  ...  [license_number, name, type, expiration_date, ...   \n",
       "\n",
       "                                    columns_datatype  \\\n",
       "0  [Text, Text, Text, Text, Text, Text, Text, Tex...   \n",
       "1  [text, number, text, text, text, number, text,...   \n",
       "2  [Text, Text, Calendar date, Text, Text, Text, ...   \n",
       "3  [text, text, text, text, calendar_date, text, ...   \n",
       "4  [number, text, text, calendar_date, text, cale...   \n",
       "\n",
       "                                 columns_description  \\\n",
       "0  [Status code description, Standpipe Work Type?...   \n",
       "1  [A four (4) digit number that identifies a civ...   \n",
       "2  [Upon Completion of TLC Driver Training (Taxi ...   \n",
       "3  [Permit active or not\\n, FHV Vehicle License N...   \n",
       "4  [FHV License Number\\n, Driver Name\\n\\n, Type o...   \n",
       "\n",
       "                                      columns_format download_count  \\\n",
       "0  [{'align': 'right'}, {'align': 'right'}, {'ali...        36818.0   \n",
       "1  [{'displayStyle': 'plain', 'align': 'left'}, {...        34199.0   \n",
       "2  [{'displayStyle': 'plain', 'align': 'left'}, {...        35345.0   \n",
       "3  [{'displayStyle': 'plain', 'align': 'left'}, {...       253906.0   \n",
       "4  [{'precisionStyle': 'standard', 'noCommas': 't...       221826.0   \n",
       "\n",
       "  provenance lens_view_type blob_mime_type  hide_from_data_json  \\\n",
       "0   official        tabular           None                False   \n",
       "1   official        tabular           None                False   \n",
       "2   official        tabular           None                False   \n",
       "3   official        tabular           None                False   \n",
       "4   official        tabular           None                False   \n",
       "\n",
       "           publication_date  \n",
       "0  2020-06-22T18:23:35.000Z  \n",
       "1  2021-01-25T14:54:14.000Z  \n",
       "2  2019-12-17T18:44:57.000Z  \n",
       "3  2021-01-25T20:32:54.000Z  \n",
       "4  2021-01-25T20:08:15.000Z  \n",
       "\n",
       "[5 rows x 24 columns]"
      ]
     },
     "execution_count": 48,
     "metadata": {},
     "output_type": "execute_result"
    }
   ],
   "source": [
    "# Only saving the dictionary in the resource column\n",
    "df = df.resource\n",
    "\n",
    "# Reading the dictionary in the resource column into a pandas DataFrame\n",
    "df = pd.DataFrame.from_records(df)\n",
    "\n",
    "df.head()"
   ]
  },
  {
   "cell_type": "code",
   "execution_count": 49,
   "metadata": {},
   "outputs": [
    {
     "data": {
      "text/plain": [
       "3141"
      ]
     },
     "execution_count": 49,
     "metadata": {},
     "output_type": "execute_result"
    }
   ],
   "source": [
    "len(df)"
   ]
  },
  {
   "cell_type": "code",
   "execution_count": 50,
   "metadata": {},
   "outputs": [
    {
     "data": {
      "text/html": [
       "<div>\n",
       "<style scoped>\n",
       "    .dataframe tbody tr th:only-of-type {\n",
       "        vertical-align: middle;\n",
       "    }\n",
       "\n",
       "    .dataframe tbody tr th {\n",
       "        vertical-align: top;\n",
       "    }\n",
       "\n",
       "    .dataframe thead th {\n",
       "        text-align: right;\n",
       "    }\n",
       "</style>\n",
       "<table border=\"1\" class=\"dataframe\">\n",
       "  <thead>\n",
       "    <tr style=\"text-align: right;\">\n",
       "      <th></th>\n",
       "      <th>name</th>\n",
       "      <th>download_count</th>\n",
       "    </tr>\n",
       "  </thead>\n",
       "  <tbody>\n",
       "    <tr>\n",
       "      <th>33</th>\n",
       "      <td>Demographic Statistics By Zip Code</td>\n",
       "      <td>1013453.0</td>\n",
       "    </tr>\n",
       "    <tr>\n",
       "      <th>1239</th>\n",
       "      <td>Overhead Electronic Signs</td>\n",
       "      <td>429382.0</td>\n",
       "    </tr>\n",
       "    <tr>\n",
       "      <th>5</th>\n",
       "      <td>311 Service Requests from 2010 to Present</td>\n",
       "      <td>398215.0</td>\n",
       "    </tr>\n",
       "    <tr>\n",
       "      <th>10</th>\n",
       "      <td>Medallion Drivers - Active</td>\n",
       "      <td>287817.0</td>\n",
       "    </tr>\n",
       "    <tr>\n",
       "      <th>3</th>\n",
       "      <td>For Hire Vehicles (FHV) - Active</td>\n",
       "      <td>253906.0</td>\n",
       "    </tr>\n",
       "  </tbody>\n",
       "</table>\n",
       "</div>"
      ],
      "text/plain": [
       "                                           name  download_count\n",
       "33           Demographic Statistics By Zip Code       1013453.0\n",
       "1239                  Overhead Electronic Signs        429382.0\n",
       "5     311 Service Requests from 2010 to Present        398215.0\n",
       "10                   Medallion Drivers - Active        287817.0\n",
       "3              For Hire Vehicles (FHV) - Active        253906.0"
      ]
     },
     "execution_count": 50,
     "metadata": {},
     "output_type": "execute_result"
    }
   ],
   "source": [
    "# Sorting the data sets by download_count\n",
    "df[['name', 'download_count']].sort_values(by='download_count', ascending=False).head()"
   ]
  },
  {
   "cell_type": "code",
   "execution_count": 51,
   "metadata": {},
   "outputs": [
    {
     "name": "stdout",
     "output_type": "stream",
     "text": [
      "The data set Demographic Statistics By Zip Code has 1,013,453 downloads and is the most downloaded data set on NYC Open Data.\n"
     ]
    }
   ],
   "source": [
    "highest_downloaded = df[['name', 'download_count']].sort_values(by='download_count', ascending=False)\n",
    "\n",
    "print('The data set {}'.format(highest_downloaded['name'].iloc[0]), \\\n",
    "     'has {} downloads'.format(f\"{highest_downloaded['download_count'].iloc[0]:,.0f}\"), \\\n",
    "     'and is the most downloaded data set on NYC Open Data.')"
   ]
  },
  {
   "cell_type": "code",
   "execution_count": null,
   "metadata": {},
   "outputs": [],
   "source": []
  },
  {
   "cell_type": "code",
   "execution_count": null,
   "metadata": {},
   "outputs": [],
   "source": []
  }
 ],
 "metadata": {
  "kernelspec": {
   "display_name": "Python 3",
   "language": "python",
   "name": "python3"
  },
  "language_info": {
   "codemirror_mode": {
    "name": "ipython",
    "version": 3
   },
   "file_extension": ".py",
   "mimetype": "text/x-python",
   "name": "python",
   "nbconvert_exporter": "python",
   "pygments_lexer": "ipython3",
   "version": "3.7.1"
  }
 },
 "nbformat": 4,
 "nbformat_minor": 4
}
